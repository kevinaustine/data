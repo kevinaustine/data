{
 "cells": [
  {
   "cell_type": "code",
   "execution_count": 1,
   "id": "d9890c8b-6c55-44f0-88e4-020bbee6f21d",
   "metadata": {
    "tags": []
   },
   "outputs": [],
   "source": [
    "from pyspark.sql import SparkSession"
   ]
  },
  {
   "cell_type": "code",
   "execution_count": 2,
   "id": "0b660e7a-d95a-47ba-936f-d6415df64237",
   "metadata": {
    "tags": []
   },
   "outputs": [
    {
     "name": "stderr",
     "output_type": "stream",
     "text": [
      "Setting default log level to \"WARN\".\n",
      "To adjust logging level use sc.setLogLevel(newLevel). For SparkR, use setLogLevel(newLevel).\n"
     ]
    }
   ],
   "source": [
    "spark = SparkSession.\\\n",
    "    builder.\\\n",
    "    enableHiveSupport().\\\n",
    "    appName(\"Spark SQL -Windowing Functions\").\\\n",
    "    master(\"yarn\").\\\n",
    "    getOrCreate()"
   ]
  },
  {
   "cell_type": "code",
   "execution_count": 3,
   "id": "399dd9ce-e2d2-47e8-accb-d5489c0855bb",
   "metadata": {
    "tags": []
   },
   "outputs": [],
   "source": [
    "%colors LightBG"
   ]
  },
  {
   "cell_type": "code",
   "execution_count": 4,
   "id": "5f6b67be-d320-4cf2-a7d0-7113d7dc5a21",
   "metadata": {
    "tags": []
   },
   "outputs": [],
   "source": [
    "%load_ext sparksql_magic"
   ]
  },
  {
   "cell_type": "code",
   "execution_count": 5,
   "id": "60feb136-30d8-41c7-acda-84a5ad3e59d8",
   "metadata": {
    "tags": []
   },
   "outputs": [],
   "source": [
    "%load_ext sql"
   ]
  },
  {
   "cell_type": "code",
   "execution_count": 5,
   "id": "65f89186-83cf-4f9a-a9c0-b3d6242c780a",
   "metadata": {
    "tags": []
   },
   "outputs": [
    {
     "data": {
      "text/html": [
       "<table><tr style=\"border-bottom: 1px solid\"></tr></table>"
      ],
      "text/plain": [
       "<IPython.core.display.HTML object>"
      ]
     },
     "execution_count": 5,
     "metadata": {},
     "output_type": "execute_result"
    }
   ],
   "source": [
    "%%sparksql\n",
    "\n",
    "DROP DATABASE if exists kevin_hr CASCADE"
   ]
  },
  {
   "cell_type": "code",
   "execution_count": 6,
   "id": "35e6a7df-4864-4eac-a071-437d161dedb3",
   "metadata": {
    "tags": []
   },
   "outputs": [
    {
     "data": {
      "text/html": [
       "<table><tr style=\"border-bottom: 1px solid\"></tr></table>"
      ],
      "text/plain": [
       "<IPython.core.display.HTML object>"
      ]
     },
     "execution_count": 6,
     "metadata": {},
     "output_type": "execute_result"
    }
   ],
   "source": [
    "%%sparksql\n",
    "\n",
    "CREATE DATABASE if not exists kevin_hr"
   ]
  },
  {
   "cell_type": "code",
   "execution_count": 6,
   "id": "d332d89e-1d4f-4173-ac54-1c6e2d14c35c",
   "metadata": {
    "tags": []
   },
   "outputs": [
    {
     "data": {
      "text/html": [
       "<table><tr style=\"border-bottom: 1px solid\"></tr></table>"
      ],
      "text/plain": [
       "<IPython.core.display.HTML object>"
      ]
     },
     "execution_count": 6,
     "metadata": {},
     "output_type": "execute_result"
    }
   ],
   "source": [
    "%%sparksql\n",
    "\n",
    "USE kevin_hr"
   ]
  },
  {
   "cell_type": "code",
   "execution_count": 7,
   "id": "7e783439-d391-40c7-a606-cd914fced877",
   "metadata": {
    "tags": []
   },
   "outputs": [
    {
     "name": "stderr",
     "output_type": "stream",
     "text": [
      "                                                                                \r"
     ]
    },
    {
     "data": {
      "text/html": [
       "<table><tr style=\"border-bottom: 1px solid\"><td style=\"font-weight: bold\">current_database()</td></tr><tr><td>kevin_hr</td></tr></table>"
      ],
      "text/plain": [
       "<IPython.core.display.HTML object>"
      ]
     },
     "execution_count": 7,
     "metadata": {},
     "output_type": "execute_result"
    }
   ],
   "source": [
    "%%sparksql\n",
    "\n",
    "select current_database()"
   ]
  },
  {
   "cell_type": "code",
   "execution_count": 9,
   "id": "736b167b-6838-4f29-823e-e557f8f1c587",
   "metadata": {
    "tags": []
   },
   "outputs": [
    {
     "data": {
      "text/html": [
       "<table><tr style=\"border-bottom: 1px solid\"></tr></table>"
      ],
      "text/plain": [
       "<IPython.core.display.HTML object>"
      ]
     },
     "execution_count": 9,
     "metadata": {},
     "output_type": "execute_result"
    }
   ],
   "source": [
    "%%sparksql\n",
    "CREATE TABLE employees (\n",
    "  employee_id     int,\n",
    "  first_name      varchar(20),\n",
    "  last_name       varchar(25),\n",
    "  email           varchar(25),\n",
    "  phone_number    varchar(20),\n",
    "  hire_date       date,\n",
    "  job_id          varchar(10),\n",
    "  salary          decimal(8,2),\n",
    "  commission_pct  decimal(2,2),\n",
    "  manager_id      int,\n",
    "  department_id   int\n",
    ") ROW FORMAT DELIMITED FIELDS TERMINATED BY '\\t'"
   ]
  },
  {
   "cell_type": "code",
   "execution_count": 10,
   "id": "78d612a6-e9cf-485c-ba6b-afd61f245026",
   "metadata": {
    "tags": []
   },
   "outputs": [
    {
     "data": {
      "text/html": [
       "<table><tr style=\"border-bottom: 1px solid\"></tr></table>"
      ],
      "text/plain": [
       "<IPython.core.display.HTML object>"
      ]
     },
     "execution_count": 10,
     "metadata": {},
     "output_type": "execute_result"
    }
   ],
   "source": [
    "%%sparksql\n",
    "\n",
    "LOAD DATA LOCAL INPATH '/home/hadoop/data/data/hr_db/employees' \n",
    "INTO TABLE employees"
   ]
  },
  {
   "cell_type": "code",
   "execution_count": 11,
   "id": "3e2a61b5-29d8-4be1-92bb-5fdb084eaef5",
   "metadata": {
    "tags": []
   },
   "outputs": [
    {
     "data": {
      "text/html": [
       "<table><tr style=\"border-bottom: 1px solid\"><td style=\"font-weight: bold\">employee_id</td><td style=\"font-weight: bold\">first_name</td><td style=\"font-weight: bold\">last_name</td><td style=\"font-weight: bold\">email</td><td style=\"font-weight: bold\">phone_number</td><td style=\"font-weight: bold\">hire_date</td><td style=\"font-weight: bold\">job_id</td><td style=\"font-weight: bold\">salary</td><td style=\"font-weight: bold\">commission_pct</td><td style=\"font-weight: bold\">manager_id</td><td style=\"font-weight: bold\">department_id</td></tr><tr><td>100</td><td>Steven</td><td>King</td><td>SKING</td><td>515.123.4567</td><td>1987-06-17</td><td>AD_PRES</td><td>24000.00</td><td>null</td><td>null</td><td>90</td></tr><tr><td>101</td><td>Neena</td><td>Kochhar</td><td>NKOCHHAR</td><td>515.123.4568</td><td>1989-09-21</td><td>AD_VP</td><td>17000.00</td><td>null</td><td>100</td><td>90</td></tr><tr><td>102</td><td>Lex</td><td>De Haan</td><td>LDEHAAN</td><td>515.123.4569</td><td>1993-01-13</td><td>AD_VP</td><td>17000.00</td><td>null</td><td>100</td><td>90</td></tr><tr><td>103</td><td>Alexander</td><td>Hunold</td><td>AHUNOLD</td><td>590.423.4567</td><td>1990-01-03</td><td>IT_PROG</td><td>9000.00</td><td>null</td><td>102</td><td>60</td></tr><tr><td>104</td><td>Bruce</td><td>Ernst</td><td>BERNST</td><td>590.423.4568</td><td>1991-05-21</td><td>IT_PROG</td><td>6000.00</td><td>null</td><td>103</td><td>60</td></tr></table>"
      ],
      "text/plain": [
       "<IPython.core.display.HTML object>"
      ]
     },
     "execution_count": 11,
     "metadata": {},
     "output_type": "execute_result"
    }
   ],
   "source": [
    "%%sparksql\n",
    "\n",
    "SELECT * FROM employees LIMIT 5"
   ]
  },
  {
   "cell_type": "code",
   "execution_count": 12,
   "id": "d1f73431-dd41-4336-becb-c0bec13739cd",
   "metadata": {
    "tags": []
   },
   "outputs": [
    {
     "data": {
      "text/html": [
       "<table><tr style=\"border-bottom: 1px solid\"><td style=\"font-weight: bold\">employee_id</td><td style=\"font-weight: bold\">department_id</td><td style=\"font-weight: bold\">salary</td></tr><tr><td>100</td><td>90</td><td>24000.00</td></tr><tr><td>101</td><td>90</td><td>17000.00</td></tr><tr><td>102</td><td>90</td><td>17000.00</td></tr><tr><td>103</td><td>60</td><td>9000.00</td></tr><tr><td>104</td><td>60</td><td>6000.00</td></tr></table>"
      ],
      "text/plain": [
       "<IPython.core.display.HTML object>"
      ]
     },
     "execution_count": 12,
     "metadata": {},
     "output_type": "execute_result"
    }
   ],
   "source": [
    "%%sparksql\n",
    "\n",
    "SELECT employee_id, department_id, salary FROM employees LIMIT 5"
   ]
  },
  {
   "cell_type": "code",
   "execution_count": 13,
   "id": "6b35c479-c249-414a-aa69-333a71288bcf",
   "metadata": {
    "tags": []
   },
   "outputs": [
    {
     "data": {
      "text/html": [
       "<table><tr style=\"border-bottom: 1px solid\"><td style=\"font-weight: bold\">count(1)</td></tr><tr><td>107</td></tr></table>"
      ],
      "text/plain": [
       "<IPython.core.display.HTML object>"
      ]
     },
     "execution_count": 13,
     "metadata": {},
     "output_type": "execute_result"
    }
   ],
   "source": [
    "%%sparksql\n",
    "\n",
    "SELECT count(1) FROM employees"
   ]
  },
  {
   "cell_type": "markdown",
   "id": "b061893c-043c-4bbf-89c3-e12d4350b772",
   "metadata": {
    "tags": []
   },
   "source": [
    "### Overview of Windowing Functions\n",
    "\n",
    "These are also known as Analytic Functions in Databases like Oracle.\n",
    "\n",
    "- Aggregate Functions **(sum, min, max, avg)**\n",
    "- Window Functions **(lead, lag, first_value, last_value)**\n",
    "- Rank Functions **(rank, dense_rank, row_number etc)**\n",
    "- For all the functions we use **OVER** clause.\n",
    "- For aggregate functions we typically use **PARTITION BY**\n",
    "- For ranking and windowing functions we might use **ORDER BY** sorting_column or **PARTITION BY** partition_column **ORDER BY** sorting_column.\n",
    "\n",
    "With LAG(), you must specify an ORDER BY in the OVER clause, with a column or a list of columns by which the rows should be sorted.\n"
   ]
  },
  {
   "cell_type": "code",
   "execution_count": 14,
   "id": "ebf0c460-5942-4b49-90e7-bee8c7e2cde1",
   "metadata": {
    "tags": []
   },
   "outputs": [
    {
     "data": {
      "text/html": [
       "<table><tr style=\"border-bottom: 1px solid\"><td style=\"font-weight: bold\">employee_id</td><td style=\"font-weight: bold\">department_id</td><td style=\"font-weight: bold\">salary</td></tr><tr><td>100</td><td>90</td><td>24000.00</td></tr><tr><td>101</td><td>90</td><td>17000.00</td></tr><tr><td>102</td><td>90</td><td>17000.00</td></tr><tr><td>103</td><td>60</td><td>9000.00</td></tr><tr><td>104</td><td>60</td><td>6000.00</td></tr></table>"
      ],
      "text/plain": [
       "<IPython.core.display.HTML object>"
      ]
     },
     "execution_count": 14,
     "metadata": {},
     "output_type": "execute_result"
    }
   ],
   "source": [
    "%%sparksql\n",
    "\n",
    "SELECT employee_id, department_id, salary FROM employees LIMIT 5"
   ]
  },
  {
   "cell_type": "code",
   "execution_count": 16,
   "id": "2a1a0bbd-2f2c-45b4-b87e-d3deb4dc5127",
   "metadata": {
    "tags": []
   },
   "outputs": [
    {
     "data": {
      "text/html": [
       "<table><tr style=\"border-bottom: 1px solid\"><td style=\"font-weight: bold\">employee_id</td><td style=\"font-weight: bold\">department_id</td><td style=\"font-weight: bold\">salary</td><td style=\"font-weight: bold\">employee_count</td><td style=\"font-weight: bold\">rnk</td><td style=\"font-weight: bold\">lead_emp_id</td><td style=\"font-weight: bold\">lead_emp_sal</td></tr><tr><td>100</td><td>90</td><td>24000.00</td><td>3</td><td>1</td><td>101</td><td>17000.00</td></tr><tr><td>101</td><td>90</td><td>17000.00</td><td>3</td><td>2</td><td>102</td><td>17000.00</td></tr><tr><td>102</td><td>90</td><td>17000.00</td><td>3</td><td>2</td><td>null</td><td>null</td></tr><tr><td>103</td><td>60</td><td>9000.00</td><td>5</td><td>24</td><td>104</td><td>6000.00</td></tr><tr><td>104</td><td>60</td><td>6000.00</td><td>5</td><td>56</td><td>105</td><td>4800.00</td></tr><tr><td>105</td><td>60</td><td>4800.00</td><td>5</td><td>59</td><td>106</td><td>4800.00</td></tr><tr><td>106</td><td>60</td><td>4800.00</td><td>5</td><td>59</td><td>107</td><td>4200.00</td></tr><tr><td>107</td><td>60</td><td>4200.00</td><td>5</td><td>62</td><td>null</td><td>null</td></tr><tr><td>108</td><td>100</td><td>12000.00</td><td>6</td><td>7</td><td>109</td><td>9000.00</td></tr><tr><td>109</td><td>100</td><td>9000.00</td><td>6</td><td>24</td><td>110</td><td>8200.00</td></tr></table>"
      ],
      "text/plain": [
       "<IPython.core.display.HTML object>"
      ]
     },
     "execution_count": 16,
     "metadata": {},
     "output_type": "execute_result"
    }
   ],
   "source": [
    "%%sparksql\n",
    "\n",
    "SELECT employee_id, department_id, salary,\n",
    "    count(1) OVER (PARTITION BY department_id) AS employee_count,\n",
    "    rank() OVER (ORDER BY salary DESC) AS rnk,\n",
    "    lead(employee_id) OVER (PARTITION BY department_id ORDER BY salary DESC) AS lead_emp_id,\n",
    "    lead(salary) OVER (PARTITION BY department_id ORDER BY salary DESC) AS lead_emp_sal\n",
    "FROM employees\n",
    "ORDER BY employee_id\n",
    "limit 10"
   ]
  },
  {
   "cell_type": "markdown",
   "id": "061ac838-70ef-46ff-ae87-08edde9a2083",
   "metadata": {
    "tags": []
   },
   "source": [
    "### Aggregations using Windowing Functions\n",
    "Aggregations with in a partition or group using Windowing/Analytics Functions.\n",
    "\n",
    "- For simple aggregations where we have to get grouping key and aggregated results we can use **GROUP BY**.\n",
    "- If we want to get the raw data along with aggregated results, then using *GROUP BY* is not possible or overly complicated.\n",
    "- Using aggregate functions with **OVER** Clause not only simplifies the process of writing query, but also better with respect to performance.\n",
    "- Let us take an example of getting employee salary percentage when compared to department salary expense.\n"
   ]
  },
  {
   "cell_type": "markdown",
   "id": "00a7d91e-9a2e-4102-8965-ffdbf6364261",
   "metadata": {},
   "source": [
    ">getting individual employee salary"
   ]
  },
  {
   "cell_type": "code",
   "execution_count": 17,
   "id": "6d202701-7503-4d42-8d21-300f0ad0eef8",
   "metadata": {
    "tags": []
   },
   "outputs": [
    {
     "data": {
      "text/html": [
       "<table><tr style=\"border-bottom: 1px solid\"><td style=\"font-weight: bold\">employee_id</td><td style=\"font-weight: bold\">department_id</td><td style=\"font-weight: bold\">salary</td></tr><tr><td>178</td><td>null</td><td>7000.00</td></tr><tr><td>200</td><td>10</td><td>4400.00</td></tr><tr><td>202</td><td>20</td><td>6000.00</td></tr><tr><td>201</td><td>20</td><td>13000.00</td></tr><tr><td>119</td><td>30</td><td>2500.00</td></tr><tr><td>118</td><td>30</td><td>2600.00</td></tr><tr><td>117</td><td>30</td><td>2800.00</td></tr><tr><td>116</td><td>30</td><td>2900.00</td></tr><tr><td>115</td><td>30</td><td>3100.00</td></tr><tr><td>114</td><td>30</td><td>11000.00</td></tr></table>"
      ],
      "text/plain": [
       "<IPython.core.display.HTML object>"
      ]
     },
     "execution_count": 17,
     "metadata": {},
     "output_type": "execute_result"
    }
   ],
   "source": [
    "%%sparksql\n",
    "\n",
    "SELECT employee_id, department_id, salary \n",
    "FROM employees \n",
    "ORDER BY department_id, salary\n",
    "LIMIT 10"
   ]
  },
  {
   "cell_type": "code",
   "execution_count": 22,
   "id": "dbc3e713-ece0-4634-a716-9cd95ad83374",
   "metadata": {
    "tags": []
   },
   "outputs": [
    {
     "data": {
      "text/html": [
       "<table><tr style=\"border-bottom: 1px solid\"><td style=\"font-weight: bold\">count(employee_id)</td><td style=\"font-weight: bold\">department_id</td><td style=\"font-weight: bold\">department_salary_expense</td><td style=\"font-weight: bold\">department_avg_salary</td></tr><tr><td>1</td><td>null</td><td>7000.00</td><td>7000.00</td></tr><tr><td>1</td><td>10</td><td>4400.00</td><td>4400.00</td></tr><tr><td>2</td><td>20</td><td>19000.00</td><td>9500.00</td></tr><tr><td>6</td><td>30</td><td>24900.00</td><td>4150.00</td></tr><tr><td>1</td><td>40</td><td>6500.00</td><td>6500.00</td></tr><tr><td>45</td><td>50</td><td>156400.00</td><td>3475.56</td></tr><tr><td>5</td><td>60</td><td>28800.00</td><td>5760.00</td></tr><tr><td>1</td><td>70</td><td>10000.00</td><td>10000.00</td></tr><tr><td>34</td><td>80</td><td>304500.00</td><td>8955.88</td></tr><tr><td>3</td><td>90</td><td>58000.00</td><td>19333.33</td></tr><tr><td>6</td><td>100</td><td>51600.00</td><td>8600.00</td></tr><tr><td>2</td><td>110</td><td>20300.00</td><td>10150.00</td></tr></table>"
      ],
      "text/plain": [
       "<IPython.core.display.HTML object>"
      ]
     },
     "execution_count": 22,
     "metadata": {},
     "output_type": "execute_result"
    }
   ],
   "source": [
    "%%sparksql\n",
    "\n",
    "SELECT count(employee_id),department_id,\n",
    "       sum(salary) AS department_salary_expense,\n",
    "        round(avg(salary),2) AS department_avg_salary\n",
    "FROM employees\n",
    "GROUP BY department_id\n",
    "ORDER BY department_id"
   ]
  },
  {
   "cell_type": "markdown",
   "id": "00390238-7784-4f5e-8d7e-f2d8989ef152",
   "metadata": {},
   "source": [
    "Below **self-join** to get individual salaries along with departmentwise expense"
   ]
  },
  {
   "cell_type": "code",
   "execution_count": 10,
   "id": "addc5f03-a4b7-4187-8fbc-e84e1399439f",
   "metadata": {
    "tags": []
   },
   "outputs": [
    {
     "name": "stdout",
     "output_type": "stream",
     "text": [
      "CPU times: user 0 ns, sys: 19.8 ms, total: 19.8 ms\n",
      "Wall time: 2.03 s\n"
     ]
    },
    {
     "data": {
      "text/html": [
       "<table><tr style=\"border-bottom: 1px solid\"><td style=\"font-weight: bold\">employee_id</td><td style=\"font-weight: bold\">department_id</td><td style=\"font-weight: bold\">salary</td><td style=\"font-weight: bold\">department_salary_expense</td><td style=\"font-weight: bold\">avg_salary_expense</td></tr><tr><td>200</td><td>10</td><td>4400.00</td><td>4400.00</td><td>4400.00</td></tr><tr><td>202</td><td>20</td><td>6000.00</td><td>19000.00</td><td>9500.00</td></tr><tr><td>201</td><td>20</td><td>13000.00</td><td>19000.00</td><td>9500.00</td></tr><tr><td>119</td><td>30</td><td>2500.00</td><td>24900.00</td><td>4150.00</td></tr><tr><td>118</td><td>30</td><td>2600.00</td><td>24900.00</td><td>4150.00</td></tr></table>"
      ],
      "text/plain": [
       "<IPython.core.display.HTML object>"
      ]
     },
     "execution_count": 10,
     "metadata": {},
     "output_type": "execute_result"
    }
   ],
   "source": [
    "%%time\n",
    "%%sparksql\n",
    "\n",
    "SELECT e.employee_id, e.department_id, e.salary,\n",
    "       ae.department_salary_expense,\n",
    "       ae.avg_salary_expense\n",
    "FROM employees e JOIN (\n",
    "     SELECT department_id, \n",
    "            sum(salary) AS department_salary_expense,\n",
    "            round(avg(salary),2) AS avg_salary_expense\n",
    "     FROM employees\n",
    "     GROUP BY department_id\n",
    ") ae\n",
    "ON e.department_id = ae.department_id\n",
    "ORDER BY department_id, salary\n",
    "limit 5"
   ]
  },
  {
   "cell_type": "markdown",
   "id": "cbb11b25-50f2-452e-9790-911d49801dd4",
   "metadata": {},
   "source": [
    ">Let us see how we can get above using Analytics/Windowing Functions.\n",
    ">We can use all standard aggregate functions such as **count, sum, min, max, avg etc.**\n"
   ]
  },
  {
   "cell_type": "code",
   "execution_count": 29,
   "id": "d0ac9334-2da0-4f02-9d9a-7f57fae81bff",
   "metadata": {
    "tags": []
   },
   "outputs": [
    {
     "name": "stdout",
     "output_type": "stream",
     "text": [
      "CPU times: user 3.68 ms, sys: 15.2 ms, total: 18.9 ms\n",
      "Wall time: 1.27 s\n"
     ]
    },
    {
     "data": {
      "text/html": [
       "<table><tr style=\"border-bottom: 1px solid\"><td style=\"font-weight: bold\">employee_id</td><td style=\"font-weight: bold\">department_id</td><td style=\"font-weight: bold\">salary</td><td style=\"font-weight: bold\">department_salary_expense</td><td style=\"font-weight: bold\">av_salary_de</td></tr><tr><td>178</td><td>null</td><td>7000.00</td><td>7000.00</td><td>7000.00</td></tr><tr><td>200</td><td>10</td><td>4400.00</td><td>4400.00</td><td>4400.00</td></tr><tr><td>201</td><td>20</td><td>13000.00</td><td>19000.00</td><td>9500.00</td></tr><tr><td>202</td><td>20</td><td>6000.00</td><td>19000.00</td><td>9500.00</td></tr><tr><td>114</td><td>30</td><td>11000.00</td><td>24900.00</td><td>4150.00</td></tr></table>"
      ],
      "text/plain": [
       "<IPython.core.display.HTML object>"
      ]
     },
     "execution_count": 29,
     "metadata": {},
     "output_type": "execute_result"
    }
   ],
   "source": [
    "%%time\n",
    "%%sparksql\n",
    "\n",
    "\n",
    "SELECT e.employee_id, e.department_id, e.salary,\n",
    "       sum(e.salary) OVER (PARTITION BY e.department_id) AS department_salary_expense,\n",
    "       round(avg(e.salary)  OVER(PARTITION BY e.department_id),2) as av_salary_de\n",
    "        \n",
    "FROM employees e\n",
    "ORDER BY e.department_id\n",
    "limit 5"
   ]
  },
  {
   "cell_type": "code",
   "execution_count": 31,
   "id": "e4c4d411-5722-4c20-ba9a-3a7e5b0f01b5",
   "metadata": {},
   "outputs": [
    {
     "name": "stdout",
     "output_type": "stream",
     "text": [
      "only showing top 20 row(s)\n"
     ]
    },
    {
     "data": {
      "text/html": [
       "<table><tr style=\"border-bottom: 1px solid\"><td style=\"font-weight: bold\">employee_id</td><td style=\"font-weight: bold\">department_id</td><td style=\"font-weight: bold\">salary</td><td style=\"font-weight: bold\">sum_sal_expense</td><td style=\"font-weight: bold\">avg_sal_expense</td><td style=\"font-weight: bold\">min_sal_expense</td><td style=\"font-weight: bold\">max_sal_expense</td><td style=\"font-weight: bold\">cnt_sal_expense</td></tr><tr><td>178</td><td>null</td><td>7000.00</td><td>7000.00</td><td>7000.00</td><td>7000.00</td><td>7000.00</td><td>1</td></tr><tr><td>200</td><td>10</td><td>4400.00</td><td>4400.00</td><td>4400.00</td><td>4400.00</td><td>4400.00</td><td>1</td></tr><tr><td>201</td><td>20</td><td>13000.00</td><td>19000.00</td><td>9500.00</td><td>6000.00</td><td>13000.00</td><td>2</td></tr><tr><td>202</td><td>20</td><td>6000.00</td><td>19000.00</td><td>9500.00</td><td>6000.00</td><td>13000.00</td><td>2</td></tr><tr><td>114</td><td>30</td><td>11000.00</td><td>24900.00</td><td>4150.00</td><td>2500.00</td><td>11000.00</td><td>6</td></tr><tr><td>119</td><td>30</td><td>2500.00</td><td>24900.00</td><td>4150.00</td><td>2500.00</td><td>11000.00</td><td>6</td></tr><tr><td>115</td><td>30</td><td>3100.00</td><td>24900.00</td><td>4150.00</td><td>2500.00</td><td>11000.00</td><td>6</td></tr><tr><td>116</td><td>30</td><td>2900.00</td><td>24900.00</td><td>4150.00</td><td>2500.00</td><td>11000.00</td><td>6</td></tr><tr><td>118</td><td>30</td><td>2600.00</td><td>24900.00</td><td>4150.00</td><td>2500.00</td><td>11000.00</td><td>6</td></tr><tr><td>117</td><td>30</td><td>2800.00</td><td>24900.00</td><td>4150.00</td><td>2500.00</td><td>11000.00</td><td>6</td></tr><tr><td>203</td><td>40</td><td>6500.00</td><td>6500.00</td><td>6500.00</td><td>6500.00</td><td>6500.00</td><td>1</td></tr><tr><td>180</td><td>50</td><td>3200.00</td><td>156400.00</td><td>3475.56</td><td>2100.00</td><td>8200.00</td><td>45</td></tr><tr><td>184</td><td>50</td><td>4200.00</td><td>156400.00</td><td>3475.56</td><td>2100.00</td><td>8200.00</td><td>45</td></tr><tr><td>181</td><td>50</td><td>3100.00</td><td>156400.00</td><td>3475.56</td><td>2100.00</td><td>8200.00</td><td>45</td></tr><tr><td>185</td><td>50</td><td>4100.00</td><td>156400.00</td><td>3475.56</td><td>2100.00</td><td>8200.00</td><td>45</td></tr><tr><td>188</td><td>50</td><td>3800.00</td><td>156400.00</td><td>3475.56</td><td>2100.00</td><td>8200.00</td><td>45</td></tr><tr><td>182</td><td>50</td><td>2500.00</td><td>156400.00</td><td>3475.56</td><td>2100.00</td><td>8200.00</td><td>45</td></tr><tr><td>186</td><td>50</td><td>3400.00</td><td>156400.00</td><td>3475.56</td><td>2100.00</td><td>8200.00</td><td>45</td></tr><tr><td>189</td><td>50</td><td>3600.00</td><td>156400.00</td><td>3475.56</td><td>2100.00</td><td>8200.00</td><td>45</td></tr><tr><td>183</td><td>50</td><td>2800.00</td><td>156400.00</td><td>3475.56</td><td>2100.00</td><td>8200.00</td><td>45</td></tr></table>"
      ],
      "text/plain": [
       "<IPython.core.display.HTML object>"
      ]
     },
     "execution_count": 31,
     "metadata": {},
     "output_type": "execute_result"
    }
   ],
   "source": [
    "%%sparksql\n",
    "\n",
    "SELECT e.employee_id, e.department_id, e.salary,\n",
    "    sum(e.salary) OVER (PARTITION BY e.department_id) AS sum_sal_expense,\n",
    "    round(avg(e.salary) OVER (PARTITION BY e.department_id),2) AS avg_sal_expense,\n",
    "    min(e.salary) OVER (PARTITION BY e.department_id) AS min_sal_expense,\n",
    "    max(e.salary) OVER (PARTITION BY e.department_id) AS max_sal_expense,\n",
    "    count(e.salary) OVER (PARTITION BY e.department_id) AS cnt_sal_expense\n",
    "FROM employees e\n",
    "ORDER BY e.department_id"
   ]
  },
  {
   "cell_type": "markdown",
   "id": "f562ddfd-be71-4e97-9aa8-c6628a644ae2",
   "metadata": {},
   "source": [
    "### Create tables to get daily revenue\n",
    "\n",
    "- We have ORDERS and ORDER_ITEMS tables.\n",
    "- Let us take care of computing daily revenue as well as daily product revenue.\n",
    "- As we will be using same data set several times, let us create the tables to pre compute the data.\n",
    "- daily_revenue will have the order_date and revenue, where data is aggregated using order_date as partition key.\n",
    "- daily_product_revenue will have order_date, order_item_product_id and revenue. In this case data is aggregated using order_date and order_item_product_id as partition keys.\n"
   ]
  },
  {
   "cell_type": "code",
   "execution_count": 5,
   "id": "a851286f-e4cc-4722-82a5-bffe996edd14",
   "metadata": {
    "tags": []
   },
   "outputs": [
    {
     "data": {
      "text/html": [
       "<table><tr style=\"border-bottom: 1px solid\"></tr></table>"
      ],
      "text/plain": [
       "<IPython.core.display.HTML object>"
      ]
     },
     "execution_count": 5,
     "metadata": {},
     "output_type": "execute_result"
    }
   ],
   "source": [
    "%%sparksql\n",
    "\n",
    "USE kevin_retail"
   ]
  },
  {
   "cell_type": "code",
   "execution_count": 6,
   "id": "027477ea-234b-4ca8-a24a-38f545703f4f",
   "metadata": {
    "tags": []
   },
   "outputs": [
    {
     "data": {
      "text/html": [
       "<table><tr style=\"border-bottom: 1px solid\"><td style=\"font-weight: bold\">namespace</td><td style=\"font-weight: bold\">tableName</td><td style=\"font-weight: bold\">isTemporary</td></tr><tr><td>kevin_retail</td><td>daily_product_revenue</td><td>False</td></tr><tr><td>kevin_retail</td><td>daily_revenue</td><td>False</td></tr><tr><td>kevin_retail</td><td>dual</td><td>False</td></tr><tr><td>kevin_retail</td><td>order_items</td><td>False</td></tr><tr><td>kevin_retail</td><td>order_items_stage</td><td>False</td></tr><tr><td>kevin_retail</td><td>orders</td><td>False</td></tr><tr><td>kevin_retail</td><td>orders_part</td><td>False</td></tr><tr><td>kevin_retail</td><td>orders_single_column</td><td>False</td></tr><tr><td>kevin_retail</td><td>sales</td><td>False</td></tr></table>"
      ],
      "text/plain": [
       "<IPython.core.display.HTML object>"
      ]
     },
     "execution_count": 6,
     "metadata": {},
     "output_type": "execute_result"
    }
   ],
   "source": [
    "%%sparksql\n",
    "show tables"
   ]
  },
  {
   "cell_type": "code",
   "execution_count": 35,
   "id": "07973b7c-7fa6-41dd-8393-27ecd9cd9d84",
   "metadata": {
    "tags": []
   },
   "outputs": [
    {
     "data": {
      "text/html": [
       "<table><tr style=\"border-bottom: 1px solid\"></tr></table>"
      ],
      "text/plain": [
       "<IPython.core.display.HTML object>"
      ]
     },
     "execution_count": 35,
     "metadata": {},
     "output_type": "execute_result"
    }
   ],
   "source": [
    "%%sparksql\n",
    "\n",
    "DROP TABLE IF EXISTS daily_revenue"
   ]
  },
  {
   "cell_type": "code",
   "execution_count": 40,
   "id": "309e276f-cac8-4696-bc3b-f7198484003a",
   "metadata": {
    "tags": []
   },
   "outputs": [],
   "source": [
    "##%%sparksql\n",
    "##describe order_items"
   ]
  },
  {
   "cell_type": "markdown",
   "id": "a5a87393-47d1-43aa-9b21-c276c41e823a",
   "metadata": {},
   "source": [
    "Creating table to compute daily revenue"
   ]
  },
  {
   "cell_type": "code",
   "execution_count": 36,
   "id": "406d91ba-fd98-46b1-8e05-5264da6fe497",
   "metadata": {
    "tags": []
   },
   "outputs": [
    {
     "name": "stderr",
     "output_type": "stream",
     "text": [
      "                                                                                \r"
     ]
    },
    {
     "data": {
      "text/html": [
       "<table><tr style=\"border-bottom: 1px solid\"></tr></table>"
      ],
      "text/plain": [
       "<IPython.core.display.HTML object>"
      ]
     },
     "execution_count": 36,
     "metadata": {},
     "output_type": "execute_result"
    }
   ],
   "source": [
    "%%sparksql\n",
    "\n",
    "CREATE TABLE daily_revenue\n",
    "AS\n",
    "SELECT o.order_date,\n",
    "       round(sum(oi.order_item_subtotal), 2) AS revenue\n",
    "FROM orders o JOIN order_items oi\n",
    "ON o.order_id = oi.order_item_order_id\n",
    "WHERE o.order_status IN ('COMPLETE', 'CLOSED')\n",
    "GROUP BY o.order_date"
   ]
  },
  {
   "cell_type": "code",
   "execution_count": 7,
   "id": "9f2efe7c-4482-488a-bfc2-d112d0fc3059",
   "metadata": {
    "tags": []
   },
   "outputs": [
    {
     "data": {
      "text/html": [
       "<table><tr style=\"border-bottom: 1px solid\"><td style=\"font-weight: bold\">order_date</td><td style=\"font-weight: bold\">revenue</td></tr><tr><td>2013-07-25 00:00:00.0</td><td>31547.23</td></tr><tr><td>2013-07-26 00:00:00.0</td><td>54713.23</td></tr><tr><td>2013-07-27 00:00:00.0</td><td>48411.48</td></tr><tr><td>2013-07-28 00:00:00.0</td><td>35672.03</td></tr><tr><td>2013-07-29 00:00:00.0</td><td>54579.7</td></tr></table>"
      ],
      "text/plain": [
       "<IPython.core.display.HTML object>"
      ]
     },
     "execution_count": 7,
     "metadata": {},
     "output_type": "execute_result"
    }
   ],
   "source": [
    "%%sparksql\n",
    "\n",
    "SELECT * \n",
    "FROM daily_revenue\n",
    "ORDER BY order_date\n",
    "LIMIT 5"
   ]
  },
  {
   "cell_type": "markdown",
   "id": "1d63cdcc-72ef-4a6b-8c3a-fa35c75ce29f",
   "metadata": {},
   "source": [
    " create table to compute daily product revenue"
   ]
  },
  {
   "cell_type": "code",
   "execution_count": 41,
   "id": "ac8585e0-f97e-4d9f-925a-a133df3f53c4",
   "metadata": {
    "tags": []
   },
   "outputs": [
    {
     "data": {
      "text/html": [
       "<table><tr style=\"border-bottom: 1px solid\"></tr></table>"
      ],
      "text/plain": [
       "<IPython.core.display.HTML object>"
      ]
     },
     "execution_count": 41,
     "metadata": {},
     "output_type": "execute_result"
    }
   ],
   "source": [
    "%%sparksql\n",
    "\n",
    "DROP TABLE IF EXISTS daily_product_revenue"
   ]
  },
  {
   "cell_type": "code",
   "execution_count": 42,
   "id": "684e79cc-b767-4510-bcbc-f12588d873d9",
   "metadata": {
    "tags": []
   },
   "outputs": [
    {
     "name": "stderr",
     "output_type": "stream",
     "text": [
      "                                                                                \r"
     ]
    },
    {
     "data": {
      "text/html": [
       "<table><tr style=\"border-bottom: 1px solid\"></tr></table>"
      ],
      "text/plain": [
       "<IPython.core.display.HTML object>"
      ]
     },
     "execution_count": 42,
     "metadata": {},
     "output_type": "execute_result"
    }
   ],
   "source": [
    "%%sparksql\n",
    "\n",
    "CREATE TABLE daily_product_revenue\n",
    "AS\n",
    "SELECT o.order_date, oi.order_item_product_id,\n",
    "       round(sum(oi.order_item_subtotal), 2) AS revenue\n",
    "    \n",
    "FROM orders o JOIN order_items oi\n",
    "ON o.order_id = oi.order_item_order_id\n",
    "WHERE o.order_status IN ('COMPLETE', 'CLOSED')\n",
    "GROUP BY o.order_date, oi.order_item_product_id"
   ]
  },
  {
   "cell_type": "code",
   "execution_count": 43,
   "id": "cf29e354-5a53-48aa-803e-75281f5fcbd5",
   "metadata": {
    "tags": []
   },
   "outputs": [
    {
     "data": {
      "text/html": [
       "<table><tr style=\"border-bottom: 1px solid\"><td style=\"font-weight: bold\">order_date</td><td style=\"font-weight: bold\">order_item_product_id</td><td style=\"font-weight: bold\">revenue</td></tr><tr><td>2013-07-25 00:00:00.0</td><td>24</td><td>319.96</td></tr><tr><td>2013-07-25 00:00:00.0</td><td>93</td><td>74.97</td></tr><tr><td>2013-07-25 00:00:00.0</td><td>134</td><td>100.0</td></tr><tr><td>2013-07-25 00:00:00.0</td><td>191</td><td>5099.49</td></tr><tr><td>2013-07-25 00:00:00.0</td><td>226</td><td>599.99</td></tr></table>"
      ],
      "text/plain": [
       "<IPython.core.display.HTML object>"
      ]
     },
     "execution_count": 43,
     "metadata": {},
     "output_type": "execute_result"
    }
   ],
   "source": [
    "%%sparksql\n",
    "\n",
    "SELECT * \n",
    "FROM daily_product_revenue\n",
    "ORDER BY order_date, order_item_product_id\n",
    "LIMIT 5"
   ]
  },
  {
   "cell_type": "markdown",
   "id": "a7fe110b-7cb9-43ef-bc6c-c8acbe196c72",
   "metadata": {},
   "source": [
    "### Getting LEAD and LAG values"
   ]
  },
  {
   "cell_type": "code",
   "execution_count": 44,
   "id": "77cb7d9a-97c2-4c98-b2d5-83849851fc13",
   "metadata": {
    "tags": []
   },
   "outputs": [
    {
     "data": {
      "text/html": [
       "<table><tr style=\"border-bottom: 1px solid\"><td style=\"font-weight: bold\">order_date</td><td style=\"font-weight: bold\">revenue</td></tr><tr><td>2014-07-24 00:00:00.0</td><td>50885.19</td></tr><tr><td>2014-07-23 00:00:00.0</td><td>38795.23</td></tr><tr><td>2014-07-22 00:00:00.0</td><td>36717.24</td></tr><tr><td>2014-07-21 00:00:00.0</td><td>51427.7</td></tr><tr><td>2014-07-20 00:00:00.0</td><td>60047.45</td></tr></table>"
      ],
      "text/plain": [
       "<IPython.core.display.HTML object>"
      ]
     },
     "execution_count": 44,
     "metadata": {},
     "output_type": "execute_result"
    }
   ],
   "source": [
    "%%sparksql\n",
    "\n",
    "SELECT * FROM daily_revenue\n",
    "ORDER BY order_date DESC\n",
    "LIMIT 5"
   ]
  },
  {
   "cell_type": "code",
   "execution_count": 45,
   "id": "dad128c7-99bd-47c6-ae49-45135ac4d9bf",
   "metadata": {
    "tags": []
   },
   "outputs": [
    {
     "name": "stderr",
     "output_type": "stream",
     "text": [
      "                                                                                \r"
     ]
    },
    {
     "data": {
      "text/html": [
       "<table><tr style=\"border-bottom: 1px solid\"><td style=\"font-weight: bold\">order_date</td><td style=\"font-weight: bold\">revenue</td><td style=\"font-weight: bold\">prior_date</td><td style=\"font-weight: bold\">prior_revenue</td></tr><tr><td>2014-07-24 00:00:00.0</td><td>50885.19</td><td>2014-07-23 00:00:00.0</td><td>38795.23</td></tr><tr><td>2014-07-23 00:00:00.0</td><td>38795.23</td><td>2014-07-22 00:00:00.0</td><td>36717.24</td></tr><tr><td>2014-07-22 00:00:00.0</td><td>36717.24</td><td>2014-07-21 00:00:00.0</td><td>51427.7</td></tr><tr><td>2014-07-21 00:00:00.0</td><td>51427.7</td><td>2014-07-20 00:00:00.0</td><td>60047.45</td></tr><tr><td>2014-07-20 00:00:00.0</td><td>60047.45</td><td>2014-07-19 00:00:00.0</td><td>38420.99</td></tr><tr><td>2014-07-19 00:00:00.0</td><td>38420.99</td><td>2014-07-18 00:00:00.0</td><td>43856.6</td></tr><tr><td>2014-07-18 00:00:00.0</td><td>43856.6</td><td>2014-07-17 00:00:00.0</td><td>36384.77</td></tr><tr><td>2014-07-17 00:00:00.0</td><td>36384.77</td><td>2014-07-16 00:00:00.0</td><td>43011.92</td></tr><tr><td>2014-07-16 00:00:00.0</td><td>43011.92</td><td>2014-07-15 00:00:00.0</td><td>53480.23</td></tr><tr><td>2014-07-15 00:00:00.0</td><td>53480.23</td><td>2014-07-14 00:00:00.0</td><td>29937.52</td></tr></table>"
      ],
      "text/plain": [
       "<IPython.core.display.HTML object>"
      ]
     },
     "execution_count": 45,
     "metadata": {},
     "output_type": "execute_result"
    }
   ],
   "source": [
    "%%sparksql\n",
    "\n",
    "SELECT t.*,\n",
    "  lead(order_date) OVER (ORDER BY order_date DESC) AS prior_date,\n",
    "  lead(revenue) OVER (ORDER BY order_date DESC) AS prior_revenue\n",
    "FROM daily_revenue t\n",
    "ORDER BY order_date DESC\n",
    "LIMIT 10"
   ]
  },
  {
   "cell_type": "markdown",
   "id": "0167a112-4706-4ead-81f4-e2743fb27652",
   "metadata": {},
   "source": [
    "passing number of rows as well as default values for nulls as arguments."
   ]
  },
  {
   "cell_type": "code",
   "execution_count": 46,
   "id": "c33e4d9f-4019-496d-93e2-3815172035b1",
   "metadata": {
    "tags": []
   },
   "outputs": [
    {
     "data": {
      "text/html": [
       "<table><tr style=\"border-bottom: 1px solid\"><td style=\"font-weight: bold\">order_date</td><td style=\"font-weight: bold\">revenue</td><td style=\"font-weight: bold\">prior_date</td><td style=\"font-weight: bold\">prior_revenue</td></tr><tr><td>2014-07-24 00:00:00.0</td><td>50885.19</td><td>2014-07-17 00:00:00.0</td><td>36384.77</td></tr><tr><td>2014-07-23 00:00:00.0</td><td>38795.23</td><td>2014-07-16 00:00:00.0</td><td>43011.92</td></tr><tr><td>2014-07-22 00:00:00.0</td><td>36717.24</td><td>2014-07-15 00:00:00.0</td><td>53480.23</td></tr><tr><td>2014-07-21 00:00:00.0</td><td>51427.7</td><td>2014-07-14 00:00:00.0</td><td>29937.52</td></tr><tr><td>2014-07-20 00:00:00.0</td><td>60047.45</td><td>2014-07-13 00:00:00.0</td><td>40410.99</td></tr><tr><td>2014-07-19 00:00:00.0</td><td>38420.99</td><td>2014-07-12 00:00:00.0</td><td>38449.77</td></tr><tr><td>2014-07-18 00:00:00.0</td><td>43856.6</td><td>2014-07-11 00:00:00.0</td><td>29596.32</td></tr><tr><td>2014-07-17 00:00:00.0</td><td>36384.77</td><td>2014-07-10 00:00:00.0</td><td>47826.02</td></tr><tr><td>2014-07-16 00:00:00.0</td><td>43011.92</td><td>2014-07-09 00:00:00.0</td><td>36929.91</td></tr><tr><td>2014-07-15 00:00:00.0</td><td>53480.23</td><td>2014-07-08 00:00:00.0</td><td>50434.81</td></tr></table>"
      ],
      "text/plain": [
       "<IPython.core.display.HTML object>"
      ]
     },
     "execution_count": 46,
     "metadata": {},
     "output_type": "execute_result"
    }
   ],
   "source": [
    "%%sparksql\n",
    "\n",
    "SELECT t.*,\n",
    "  lead(order_date, 7) OVER (ORDER BY order_date DESC) AS prior_date,\n",
    "  lead(revenue, 7) OVER (ORDER BY order_date DESC) AS prior_revenue\n",
    "\n",
    "FROM daily_revenue t\n",
    "ORDER BY order_date DESC\n",
    "LIMIT 10"
   ]
  },
  {
   "cell_type": "markdown",
   "id": "d9869edb-e584-4e1a-bbd8-94deea481513",
   "metadata": {},
   "source": [
    "Passing 0 where there is null and **nodate** where no date"
   ]
  },
  {
   "cell_type": "code",
   "execution_count": 48,
   "id": "09b46383-2b4f-4fa0-9a8d-c26686a2d733",
   "metadata": {
    "tags": []
   },
   "outputs": [
    {
     "data": {
      "text/html": [
       "<table><tr style=\"border-bottom: 1px solid\"><td style=\"font-weight: bold\">order_date</td><td style=\"font-weight: bold\">revenue</td><td style=\"font-weight: bold\">prior_date</td><td style=\"font-weight: bold\">prior_revenue</td></tr><tr><td>2013-07-25 00:00:00.0</td><td>31547.23</td><td>nodate</td><td>0.0</td></tr><tr><td>2013-07-26 00:00:00.0</td><td>54713.23</td><td>nodate</td><td>0.0</td></tr><tr><td>2013-07-27 00:00:00.0</td><td>48411.48</td><td>nodate</td><td>0.0</td></tr><tr><td>2013-07-28 00:00:00.0</td><td>35672.03</td><td>nodate</td><td>0.0</td></tr><tr><td>2013-07-29 00:00:00.0</td><td>54579.7</td><td>nodate</td><td>0.0</td></tr><tr><td>2013-07-30 00:00:00.0</td><td>49329.29</td><td>nodate</td><td>0.0</td></tr><tr><td>2013-07-31 00:00:00.0</td><td>59212.49</td><td>nodate</td><td>0.0</td></tr><tr><td>2013-08-01 00:00:00.0</td><td>49160.08</td><td>2013-07-25 00:00:00.0</td><td>31547.23</td></tr><tr><td>2013-08-02 00:00:00.0</td><td>50688.58</td><td>2013-07-26 00:00:00.0</td><td>54713.23</td></tr><tr><td>2013-08-03 00:00:00.0</td><td>43416.74</td><td>2013-07-27 00:00:00.0</td><td>48411.48</td></tr></table>"
      ],
      "text/plain": [
       "<IPython.core.display.HTML object>"
      ]
     },
     "execution_count": 48,
     "metadata": {},
     "output_type": "execute_result"
    }
   ],
   "source": [
    "%%sparksql\n",
    "\n",
    "SELECT t.*,\n",
    "\n",
    "  lead(order_date, 7, 'nodate') OVER (ORDER BY order_date DESC) AS prior_date,\n",
    "  lead(revenue, 7, 0) OVER (ORDER BY order_date DESC) AS prior_revenue\n",
    "\n",
    "FROM daily_revenue t\n",
    "ORDER BY order_date\n",
    "LIMIT 10"
   ]
  },
  {
   "cell_type": "markdown",
   "id": "f97d0d7e-ffc9-4120-ae13-feda34d47add",
   "metadata": {},
   "source": [
    ">get prior or following records with in a group based on particular order.\n",
    "\n",
    ">get prior or following records based on PARTITION BY and then ORDER BY Clause."
   ]
  },
  {
   "cell_type": "code",
   "execution_count": 50,
   "id": "2e55e7e2-4e8c-48f4-9e02-b5b39b0c66e8",
   "metadata": {
    "tags": []
   },
   "outputs": [
    {
     "data": {
      "text/html": [
       "<table><tr style=\"border-bottom: 1px solid\"><td style=\"font-weight: bold\">order_date</td><td style=\"font-weight: bold\">order_item_product_id</td><td style=\"font-weight: bold\">revenue</td></tr><tr><td>2014-03-28 00:00:00.0</td><td>793</td><td>59.96</td></tr><tr><td>2014-04-09 00:00:00.0</td><td>191</td><td>6599.34</td></tr><tr><td>2014-04-10 00:00:00.0</td><td>775</td><td>9.99</td></tr><tr><td>2014-04-15 00:00:00.0</td><td>116</td><td>404.91</td></tr><tr><td>2014-05-03 00:00:00.0</td><td>172</td><td>120.0</td></tr></table>"
      ],
      "text/plain": [
       "<IPython.core.display.HTML object>"
      ]
     },
     "execution_count": 50,
     "metadata": {},
     "output_type": "execute_result"
    }
   ],
   "source": [
    "%%sparksql\n",
    "SELECT * FROM daily_product_revenue LIMIT 5"
   ]
  },
  {
   "cell_type": "code",
   "execution_count": 9,
   "id": "cb1a0f21-dd01-44c4-b5fc-3362935479f6",
   "metadata": {
    "tags": []
   },
   "outputs": [
    {
     "data": {
      "text/html": [
       "<table><tr style=\"border-bottom: 1px solid\"><td style=\"font-weight: bold\">order_date</td><td style=\"font-weight: bold\">order_item_product_id</td><td style=\"font-weight: bold\">revenue</td><td style=\"font-weight: bold\">next_product_id</td><td style=\"font-weight: bold\">next_revenue</td></tr><tr><td>2013-07-25 00:00:00.0</td><td>1004</td><td>5599.72</td><td>191</td><td>5099.49</td></tr><tr><td>2013-07-25 00:00:00.0</td><td>191</td><td>5099.49</td><td>957</td><td>4499.7</td></tr><tr><td>2013-07-25 00:00:00.0</td><td>957</td><td>4499.7</td><td>365</td><td>3359.44</td></tr><tr><td>2013-07-25 00:00:00.0</td><td>365</td><td>3359.44</td><td>1073</td><td>2999.85</td></tr><tr><td>2013-07-25 00:00:00.0</td><td>1073</td><td>2999.85</td><td>1014</td><td>2798.88</td></tr><tr><td>2013-07-25 00:00:00.0</td><td>1014</td><td>2798.88</td><td>403</td><td>1949.85</td></tr><tr><td>2013-07-25 00:00:00.0</td><td>403</td><td>1949.85</td><td>502</td><td>1650.0</td></tr><tr><td>2013-07-25 00:00:00.0</td><td>502</td><td>1650.0</td><td>627</td><td>1079.73</td></tr><tr><td>2013-07-25 00:00:00.0</td><td>627</td><td>1079.73</td><td>226</td><td>599.99</td></tr><tr><td>2013-07-25 00:00:00.0</td><td>226</td><td>599.99</td><td>24</td><td>319.96</td></tr></table>"
      ],
      "text/plain": [
       "<IPython.core.display.HTML object>"
      ]
     },
     "execution_count": 9,
     "metadata": {},
     "output_type": "execute_result"
    }
   ],
   "source": [
    "%%sparksql\n",
    "\n",
    "SELECT t.*,\n",
    "  LEAD(order_item_product_id) OVER (PARTITION BY order_date ORDER BY revenue DESC) next_product_id,\n",
    "  LEAD(revenue) OVER (PARTITION BY order_date ORDER BY revenue DESC) next_revenue\n",
    "\n",
    "FROM daily_product_revenue t\n",
    "ORDER BY order_date, revenue DESC\n",
    "LIMIT 10"
   ]
  },
  {
   "cell_type": "markdown",
   "id": "3ee6d059-3c54-454b-82a5-61fd544e095a",
   "metadata": {},
   "source": [
    ">passing number of rows as well as default values for nulls as arguments."
   ]
  },
  {
   "cell_type": "code",
   "execution_count": 20,
   "id": "f9ee492b-4d2c-48d7-b204-a49791eaf310",
   "metadata": {
    "tags": []
   },
   "outputs": [
    {
     "data": {
      "text/html": [
       "<table><tr style=\"border-bottom: 1px solid\"><td style=\"font-weight: bold\">order_date</td><td style=\"font-weight: bold\">order_item_product_id</td><td style=\"font-weight: bold\">revenue</td><td style=\"font-weight: bold\">next_product_id</td><td style=\"font-weight: bold\">next_revenue</td></tr><tr><td>2013-07-25 00:00:00.0</td><td>1004</td><td>5599.72</td><td>191</td><td>5099.49</td></tr><tr><td>2013-07-25 00:00:00.0</td><td>191</td><td>5099.49</td><td>957</td><td>4499.7</td></tr><tr><td>2013-07-25 00:00:00.0</td><td>957</td><td>4499.7</td><td>365</td><td>3359.44</td></tr><tr><td>2013-07-25 00:00:00.0</td><td>365</td><td>3359.44</td><td>1073</td><td>2999.85</td></tr><tr><td>2013-07-25 00:00:00.0</td><td>1073</td><td>2999.85</td><td>1014</td><td>2798.88</td></tr><tr><td>2013-07-25 00:00:00.0</td><td>1014</td><td>2798.88</td><td>403</td><td>1949.85</td></tr><tr><td>2013-07-25 00:00:00.0</td><td>403</td><td>1949.85</td><td>502</td><td>1650.0</td></tr><tr><td>2013-07-25 00:00:00.0</td><td>502</td><td>1650.0</td><td>627</td><td>1079.73</td></tr><tr><td>2013-07-25 00:00:00.0</td><td>627</td><td>1079.73</td><td>226</td><td>599.99</td></tr><tr><td>2013-07-25 00:00:00.0</td><td>226</td><td>599.99</td><td>24</td><td>319.96</td></tr><tr><td>2013-07-25 00:00:00.0</td><td>24</td><td>319.96</td><td>821</td><td>207.96</td></tr><tr><td>2013-07-25 00:00:00.0</td><td>821</td><td>207.96</td><td>625</td><td>199.99</td></tr><tr><td>2013-07-25 00:00:00.0</td><td>625</td><td>199.99</td><td>705</td><td>119.99</td></tr><tr><td>2013-07-25 00:00:00.0</td><td>705</td><td>119.99</td><td>572</td><td>119.97</td></tr><tr><td>2013-07-25 00:00:00.0</td><td>572</td><td>119.97</td><td>666</td><td>109.99</td></tr><tr><td>2013-07-25 00:00:00.0</td><td>666</td><td>109.99</td><td>725</td><td>108.0</td></tr><tr><td>2013-07-25 00:00:00.0</td><td>725</td><td>108.0</td><td>134</td><td>100.0</td></tr><tr><td>2013-07-25 00:00:00.0</td><td>134</td><td>100.0</td><td>906</td><td>99.96</td></tr><tr><td>2013-07-25 00:00:00.0</td><td>906</td><td>99.96</td><td>828</td><td>95.97</td></tr><tr><td>2013-07-25 00:00:00.0</td><td>828</td><td>95.97</td><td>810</td><td>79.96</td></tr><tr><td>2013-07-25 00:00:00.0</td><td>810</td><td>79.96</td><td>924</td><td>79.95</td></tr><tr><td>2013-07-25 00:00:00.0</td><td>924</td><td>79.95</td><td>926</td><td>79.95</td></tr><tr><td>2013-07-25 00:00:00.0</td><td>926</td><td>79.95</td><td>93</td><td>74.97</td></tr><tr><td>2013-07-25 00:00:00.0</td><td>93</td><td>74.97</td><td>835</td><td>63.98</td></tr><tr><td>2013-07-25 00:00:00.0</td><td>835</td><td>63.98</td><td>897</td><td>49.98</td></tr><tr><td>2013-07-25 00:00:00.0</td><td>897</td><td>49.98</td><td>null</td><td>0.0</td></tr><tr><td>2013-07-26 00:00:00.0</td><td>1004</td><td>10799.46</td><td>365</td><td>7978.67</td></tr><tr><td>2013-07-26 00:00:00.0</td><td>365</td><td>7978.67</td><td>957</td><td>6899.54</td></tr><tr><td>2013-07-26 00:00:00.0</td><td>957</td><td>6899.54</td><td>191</td><td>6799.32</td></tr><tr><td>2013-07-26 00:00:00.0</td><td>191</td><td>6799.32</td><td>1014</td><td>4798.08</td></tr><tr><td>2013-07-26 00:00:00.0</td><td>1014</td><td>4798.08</td><td>502</td><td>4250.0</td></tr><tr><td>2013-07-26 00:00:00.0</td><td>502</td><td>4250.0</td><td>1073</td><td>3999.8</td></tr><tr><td>2013-07-26 00:00:00.0</td><td>1073</td><td>3999.8</td><td>403</td><td>3249.75</td></tr><tr><td>2013-07-26 00:00:00.0</td><td>403</td><td>3249.75</td><td>627</td><td>3039.24</td></tr><tr><td>2013-07-26 00:00:00.0</td><td>627</td><td>3039.24</td><td>691</td><td>399.95</td></tr><tr><td>2013-07-26 00:00:00.0</td><td>691</td><td>399.95</td><td>818</td><td>287.94</td></tr><tr><td>2013-07-26 00:00:00.0</td><td>818</td><td>287.94</td><td>565</td><td>280.0</td></tr><tr><td>2013-07-26 00:00:00.0</td><td>565</td><td>280.0</td><td>278</td><td>269.94</td></tr><tr><td>2013-07-26 00:00:00.0</td><td>278</td><td>269.94</td><td>822</td><td>239.95</td></tr><tr><td>2013-07-26 00:00:00.0</td><td>822</td><td>239.95</td><td>282</td><td>159.95</td></tr><tr><td>2013-07-26 00:00:00.0</td><td>282</td><td>159.95</td><td>804</td><td>159.92</td></tr><tr><td>2013-07-26 00:00:00.0</td><td>804</td><td>159.92</td><td>917</td><td>153.93</td></tr><tr><td>2013-07-26 00:00:00.0</td><td>917</td><td>153.93</td><td>982</td><td>149.99</td></tr><tr><td>2013-07-26 00:00:00.0</td><td>982</td><td>149.99</td><td>116</td><td>134.97</td></tr><tr><td>2013-07-26 00:00:00.0</td><td>116</td><td>134.97</td><td>828</td><td>127.96</td></tr><tr><td>2013-07-26 00:00:00.0</td><td>828</td><td>127.96</td><td>135</td><td>110.0</td></tr><tr><td>2013-07-26 00:00:00.0</td><td>135</td><td>110.0</td><td>134</td><td>100.0</td></tr><tr><td>2013-07-26 00:00:00.0</td><td>134</td><td>100.0</td><td>564</td><td>90.0</td></tr><tr><td>2013-07-26 00:00:00.0</td><td>564</td><td>90.0</td><td>792</td><td>89.94</td></tr><tr><td>2013-07-26 00:00:00.0</td><td>792</td><td>89.94</td><td>897</td><td>74.97</td></tr><tr><td>2013-07-26 00:00:00.0</td><td>897</td><td>74.97</td><td>775</td><td>39.96</td></tr><tr><td>2013-07-26 00:00:00.0</td><td>775</td><td>39.96</td><td>172</td><td>30.0</td></tr><tr><td>2013-07-26 00:00:00.0</td><td>172</td><td>30.0</td><td>null</td><td>0.0</td></tr><tr><td>2013-07-27 00:00:00.0</td><td>1004</td><td>9599.52</td><td>191</td><td>5999.4</td></tr><tr><td>2013-07-27 00:00:00.0</td><td>191</td><td>5999.4</td><td>957</td><td>5699.62</td></tr><tr><td>2013-07-27 00:00:00.0</td><td>957</td><td>5699.62</td><td>1073</td><td>5399.73</td></tr><tr><td>2013-07-27 00:00:00.0</td><td>1073</td><td>5399.73</td><td>365</td><td>5099.15</td></tr><tr><td>2013-07-27 00:00:00.0</td><td>365</td><td>5099.15</td><td>502</td><td>5050.0</td></tr><tr><td>2013-07-27 00:00:00.0</td><td>502</td><td>5050.0</td><td>1014</td><td>4498.2</td></tr><tr><td>2013-07-27 00:00:00.0</td><td>1014</td><td>4498.2</td><td>403</td><td>2469.81</td></tr><tr><td>2013-07-27 00:00:00.0</td><td>403</td><td>2469.81</td><td>627</td><td>2039.49</td></tr><tr><td>2013-07-27 00:00:00.0</td><td>627</td><td>2039.49</td><td>203</td><td>399.99</td></tr><tr><td>2013-07-27 00:00:00.0</td><td>203</td><td>399.99</td><td>728</td><td>390.0</td></tr><tr><td>2013-07-27 00:00:00.0</td><td>728</td><td>390.0</td><td>828</td><td>223.93</td></tr><tr><td>2013-07-27 00:00:00.0</td><td>828</td><td>223.93</td><td>771</td><td>199.95</td></tr><tr><td>2013-07-27 00:00:00.0</td><td>771</td><td>199.95</td><td>172</td><td>150.0</td></tr><tr><td>2013-07-27 00:00:00.0</td><td>172</td><td>150.0</td><td>647</td><td>134.99</td></tr><tr><td>2013-07-27 00:00:00.0</td><td>647</td><td>134.99</td><td>715</td><td>129.99</td></tr><tr><td>2013-07-27 00:00:00.0</td><td>715</td><td>129.99</td><td>567</td><td>125.0</td></tr><tr><td>2013-07-27 00:00:00.0</td><td>567</td><td>125.0</td><td>93</td><td>124.95</td></tr><tr><td>2013-07-27 00:00:00.0</td><td>93</td><td>124.95</td><td>135</td><td>110.0</td></tr><tr><td>2013-07-27 00:00:00.0</td><td>135</td><td>110.0</td><td>924</td><td>95.94</td></tr><tr><td>2013-07-27 00:00:00.0</td><td>924</td><td>95.94</td><td>886</td><td>74.97</td></tr><tr><td>2013-07-27 00:00:00.0</td><td>886</td><td>74.97</td><td>797</td><td>71.96</td></tr><tr><td>2013-07-27 00:00:00.0</td><td>797</td><td>71.96</td><td>564</td><td>60.0</td></tr><tr><td>2013-07-27 00:00:00.0</td><td>564</td><td>60.0</td><td>821</td><td>51.99</td></tr><tr><td>2013-07-27 00:00:00.0</td><td>821</td><td>51.99</td><td>906</td><td>49.98</td></tr><tr><td>2013-07-27 00:00:00.0</td><td>906</td><td>49.98</td><td>893</td><td>49.98</td></tr><tr><td>2013-07-27 00:00:00.0</td><td>893</td><td>49.98</td><td>792</td><td>44.97</td></tr><tr><td>2013-07-27 00:00:00.0</td><td>792</td><td>44.97</td><td>703</td><td>39.98</td></tr><tr><td>2013-07-27 00:00:00.0</td><td>703</td><td>39.98</td><td>273</td><td>27.99</td></tr><tr><td>2013-07-27 00:00:00.0</td><td>273</td><td>27.99</td><td>null</td><td>0.0</td></tr><tr><td>2013-07-28 00:00:00.0</td><td>1004</td><td>5599.72</td><td>957</td><td>5099.66</td></tr><tr><td>2013-07-28 00:00:00.0</td><td>957</td><td>5099.66</td><td>365</td><td>4799.2</td></tr><tr><td>2013-07-28 00:00:00.0</td><td>365</td><td>4799.2</td><td>403</td><td>4419.66</td></tr><tr><td>2013-07-28 00:00:00.0</td><td>403</td><td>4419.66</td><td>191</td><td>4299.57</td></tr><tr><td>2013-07-28 00:00:00.0</td><td>191</td><td>4299.57</td><td>502</td><td>3650.0</td></tr><tr><td>2013-07-28 00:00:00.0</td><td>502</td><td>3650.0</td><td>1014</td><td>2748.9</td></tr><tr><td>2013-07-28 00:00:00.0</td><td>1014</td><td>2748.9</td><td>1073</td><td>2399.88</td></tr><tr><td>2013-07-28 00:00:00.0</td><td>1073</td><td>2399.88</td><td>627</td><td>1119.72</td></tr><tr><td>2013-07-28 00:00:00.0</td><td>627</td><td>1119.72</td><td>564</td><td>300.0</td></tr><tr><td>2013-07-28 00:00:00.0</td><td>564</td><td>300.0</td><td>858</td><td>199.99</td></tr><tr><td>2013-07-28 00:00:00.0</td><td>858</td><td>199.99</td><td>728</td><td>195.0</td></tr><tr><td>2013-07-28 00:00:00.0</td><td>728</td><td>195.0</td><td>273</td><td>139.95</td></tr><tr><td>2013-07-28 00:00:00.0</td><td>273</td><td>139.95</td><td>567</td><td>125.0</td></tr><tr><td>2013-07-28 00:00:00.0</td><td>567</td><td>125.0</td><td>249</td><td>109.94</td></tr><tr><td>2013-07-28 00:00:00.0</td><td>249</td><td>109.94</td><td>917</td><td>87.96</td></tr><tr><td>2013-07-28 00:00:00.0</td><td>917</td><td>87.96</td><td>235</td><td>69.98</td></tr><tr><td>2013-07-28 00:00:00.0</td><td>235</td><td>69.98</td><td>835</td><td>63.98</td></tr><tr><td>2013-07-28 00:00:00.0</td><td>835</td><td>63.98</td><td>926</td><td>63.96</td></tr></table>"
      ],
      "text/plain": [
       "<IPython.core.display.HTML object>"
      ]
     },
     "execution_count": 20,
     "metadata": {},
     "output_type": "execute_result"
    }
   ],
   "source": [
    "%%sparksql\n",
    "\n",
    "SELECT t.*,\n",
    "  LEAD(order_item_product_id) OVER (PARTITION BY order_date ORDER BY revenue DESC) next_product_id,\n",
    "  LEAD(revenue, 1, 0) OVER (PARTITION BY order_date ORDER BY revenue DESC) next_revenue\n",
    "FROM daily_product_revenue t\n",
    "LIMIT 100"
   ]
  },
  {
   "cell_type": "code",
   "execution_count": 19,
   "id": "98458259-a1c5-4852-81e5-deef7d4f8bf0",
   "metadata": {
    "tags": []
   },
   "outputs": [
    {
     "data": {
      "text/plain": [
       "100"
      ]
     },
     "execution_count": 19,
     "metadata": {},
     "output_type": "execute_result"
    }
   ],
   "source": [
    "%config SparkSql.limit"
   ]
  },
  {
   "cell_type": "code",
   "execution_count": 18,
   "id": "335b7c30-a2fd-4acd-b483-12abe3bfec85",
   "metadata": {
    "tags": []
   },
   "outputs": [],
   "source": [
    "%config SparkSql.limit=100"
   ]
  },
  {
   "cell_type": "markdown",
   "id": "4ae27cf4-0611-48cc-b6c7-1d7459bcda37",
   "metadata": {
    "tags": []
   },
   "source": [
    "### Getting first and last values\n",
    ">get first and last value based on the criteria. We can also use min or max as well."
   ]
  },
  {
   "cell_type": "code",
   "execution_count": 23,
   "id": "30f1f0e7-68f0-4302-bd55-3c50e8f0cb1e",
   "metadata": {
    "tags": []
   },
   "outputs": [
    {
     "data": {
      "text/html": [
       "<table><tr style=\"border-bottom: 1px solid\"><td style=\"font-weight: bold\">current_database()</td></tr><tr><td>kevin_retail</td></tr></table>"
      ],
      "text/plain": [
       "<IPython.core.display.HTML object>"
      ]
     },
     "execution_count": 23,
     "metadata": {},
     "output_type": "execute_result"
    }
   ],
   "source": [
    "%%sparksql\n",
    "select current_database()"
   ]
  },
  {
   "cell_type": "code",
   "execution_count": 26,
   "id": "ba4bc20b-52c4-4c23-bf97-575aafa5ea6d",
   "metadata": {
    "tags": []
   },
   "outputs": [
    {
     "data": {
      "text/html": [
       "<table><tr style=\"border-bottom: 1px solid\"><td style=\"font-weight: bold\">order_date</td><td style=\"font-weight: bold\">order_item_product_id</td><td style=\"font-weight: bold\">revenue</td><td style=\"font-weight: bold\">first_product_id</td><td style=\"font-weight: bold\">first_revenue</td></tr><tr><td>2013-07-25 00:00:00.0</td><td>1004</td><td>5599.72</td><td>1004</td><td>5599.72</td></tr><tr><td>2013-07-25 00:00:00.0</td><td>191</td><td>5099.49</td><td>1004</td><td>5599.72</td></tr><tr><td>2013-07-25 00:00:00.0</td><td>957</td><td>4499.7</td><td>1004</td><td>5599.72</td></tr><tr><td>2013-07-25 00:00:00.0</td><td>365</td><td>3359.44</td><td>1004</td><td>5599.72</td></tr><tr><td>2013-07-25 00:00:00.0</td><td>1073</td><td>2999.85</td><td>1004</td><td>5599.72</td></tr><tr><td>2013-07-25 00:00:00.0</td><td>1014</td><td>2798.88</td><td>1004</td><td>5599.72</td></tr><tr><td>2013-07-25 00:00:00.0</td><td>403</td><td>1949.85</td><td>1004</td><td>5599.72</td></tr><tr><td>2013-07-25 00:00:00.0</td><td>502</td><td>1650.0</td><td>1004</td><td>5599.72</td></tr><tr><td>2013-07-25 00:00:00.0</td><td>627</td><td>1079.73</td><td>1004</td><td>5599.72</td></tr><tr><td>2013-07-25 00:00:00.0</td><td>226</td><td>599.99</td><td>1004</td><td>5599.72</td></tr><tr><td>2013-07-25 00:00:00.0</td><td>24</td><td>319.96</td><td>1004</td><td>5599.72</td></tr><tr><td>2013-07-25 00:00:00.0</td><td>821</td><td>207.96</td><td>1004</td><td>5599.72</td></tr><tr><td>2013-07-25 00:00:00.0</td><td>625</td><td>199.99</td><td>1004</td><td>5599.72</td></tr><tr><td>2013-07-25 00:00:00.0</td><td>705</td><td>119.99</td><td>1004</td><td>5599.72</td></tr><tr><td>2013-07-25 00:00:00.0</td><td>572</td><td>119.97</td><td>1004</td><td>5599.72</td></tr><tr><td>2013-07-25 00:00:00.0</td><td>666</td><td>109.99</td><td>1004</td><td>5599.72</td></tr><tr><td>2013-07-25 00:00:00.0</td><td>725</td><td>108.0</td><td>1004</td><td>5599.72</td></tr><tr><td>2013-07-25 00:00:00.0</td><td>134</td><td>100.0</td><td>1004</td><td>5599.72</td></tr><tr><td>2013-07-25 00:00:00.0</td><td>906</td><td>99.96</td><td>1004</td><td>5599.72</td></tr><tr><td>2013-07-25 00:00:00.0</td><td>828</td><td>95.97</td><td>1004</td><td>5599.72</td></tr><tr><td>2013-07-25 00:00:00.0</td><td>810</td><td>79.96</td><td>1004</td><td>5599.72</td></tr><tr><td>2013-07-25 00:00:00.0</td><td>924</td><td>79.95</td><td>1004</td><td>5599.72</td></tr><tr><td>2013-07-25 00:00:00.0</td><td>926</td><td>79.95</td><td>1004</td><td>5599.72</td></tr><tr><td>2013-07-25 00:00:00.0</td><td>93</td><td>74.97</td><td>1004</td><td>5599.72</td></tr><tr><td>2013-07-25 00:00:00.0</td><td>835</td><td>63.98</td><td>1004</td><td>5599.72</td></tr><tr><td>2013-07-25 00:00:00.0</td><td>897</td><td>49.98</td><td>1004</td><td>5599.72</td></tr><tr><td>2013-07-26 00:00:00.0</td><td>1004</td><td>10799.46</td><td>1004</td><td>10799.46</td></tr><tr><td>2013-07-26 00:00:00.0</td><td>365</td><td>7978.67</td><td>1004</td><td>10799.46</td></tr><tr><td>2013-07-26 00:00:00.0</td><td>957</td><td>6899.54</td><td>1004</td><td>10799.46</td></tr><tr><td>2013-07-26 00:00:00.0</td><td>191</td><td>6799.32</td><td>1004</td><td>10799.46</td></tr><tr><td>2013-07-26 00:00:00.0</td><td>1014</td><td>4798.08</td><td>1004</td><td>10799.46</td></tr><tr><td>2013-07-26 00:00:00.0</td><td>502</td><td>4250.0</td><td>1004</td><td>10799.46</td></tr><tr><td>2013-07-26 00:00:00.0</td><td>1073</td><td>3999.8</td><td>1004</td><td>10799.46</td></tr><tr><td>2013-07-26 00:00:00.0</td><td>403</td><td>3249.75</td><td>1004</td><td>10799.46</td></tr><tr><td>2013-07-26 00:00:00.0</td><td>627</td><td>3039.24</td><td>1004</td><td>10799.46</td></tr><tr><td>2013-07-26 00:00:00.0</td><td>691</td><td>399.95</td><td>1004</td><td>10799.46</td></tr><tr><td>2013-07-26 00:00:00.0</td><td>818</td><td>287.94</td><td>1004</td><td>10799.46</td></tr><tr><td>2013-07-26 00:00:00.0</td><td>565</td><td>280.0</td><td>1004</td><td>10799.46</td></tr><tr><td>2013-07-26 00:00:00.0</td><td>278</td><td>269.94</td><td>1004</td><td>10799.46</td></tr><tr><td>2013-07-26 00:00:00.0</td><td>822</td><td>239.95</td><td>1004</td><td>10799.46</td></tr><tr><td>2013-07-26 00:00:00.0</td><td>282</td><td>159.95</td><td>1004</td><td>10799.46</td></tr><tr><td>2013-07-26 00:00:00.0</td><td>804</td><td>159.92</td><td>1004</td><td>10799.46</td></tr><tr><td>2013-07-26 00:00:00.0</td><td>917</td><td>153.93</td><td>1004</td><td>10799.46</td></tr><tr><td>2013-07-26 00:00:00.0</td><td>982</td><td>149.99</td><td>1004</td><td>10799.46</td></tr><tr><td>2013-07-26 00:00:00.0</td><td>116</td><td>134.97</td><td>1004</td><td>10799.46</td></tr><tr><td>2013-07-26 00:00:00.0</td><td>828</td><td>127.96</td><td>1004</td><td>10799.46</td></tr><tr><td>2013-07-26 00:00:00.0</td><td>135</td><td>110.0</td><td>1004</td><td>10799.46</td></tr><tr><td>2013-07-26 00:00:00.0</td><td>134</td><td>100.0</td><td>1004</td><td>10799.46</td></tr><tr><td>2013-07-26 00:00:00.0</td><td>564</td><td>90.0</td><td>1004</td><td>10799.46</td></tr><tr><td>2013-07-26 00:00:00.0</td><td>792</td><td>89.94</td><td>1004</td><td>10799.46</td></tr><tr><td>2013-07-26 00:00:00.0</td><td>897</td><td>74.97</td><td>1004</td><td>10799.46</td></tr><tr><td>2013-07-26 00:00:00.0</td><td>775</td><td>39.96</td><td>1004</td><td>10799.46</td></tr><tr><td>2013-07-26 00:00:00.0</td><td>172</td><td>30.0</td><td>1004</td><td>10799.46</td></tr><tr><td>2013-07-27 00:00:00.0</td><td>1004</td><td>9599.52</td><td>1004</td><td>9599.52</td></tr><tr><td>2013-07-27 00:00:00.0</td><td>191</td><td>5999.4</td><td>1004</td><td>9599.52</td></tr><tr><td>2013-07-27 00:00:00.0</td><td>957</td><td>5699.62</td><td>1004</td><td>9599.52</td></tr><tr><td>2013-07-27 00:00:00.0</td><td>1073</td><td>5399.73</td><td>1004</td><td>9599.52</td></tr><tr><td>2013-07-27 00:00:00.0</td><td>365</td><td>5099.15</td><td>1004</td><td>9599.52</td></tr><tr><td>2013-07-27 00:00:00.0</td><td>502</td><td>5050.0</td><td>1004</td><td>9599.52</td></tr><tr><td>2013-07-27 00:00:00.0</td><td>1014</td><td>4498.2</td><td>1004</td><td>9599.52</td></tr><tr><td>2013-07-27 00:00:00.0</td><td>403</td><td>2469.81</td><td>1004</td><td>9599.52</td></tr><tr><td>2013-07-27 00:00:00.0</td><td>627</td><td>2039.49</td><td>1004</td><td>9599.52</td></tr><tr><td>2013-07-27 00:00:00.0</td><td>203</td><td>399.99</td><td>1004</td><td>9599.52</td></tr><tr><td>2013-07-27 00:00:00.0</td><td>728</td><td>390.0</td><td>1004</td><td>9599.52</td></tr><tr><td>2013-07-27 00:00:00.0</td><td>828</td><td>223.93</td><td>1004</td><td>9599.52</td></tr><tr><td>2013-07-27 00:00:00.0</td><td>771</td><td>199.95</td><td>1004</td><td>9599.52</td></tr><tr><td>2013-07-27 00:00:00.0</td><td>172</td><td>150.0</td><td>1004</td><td>9599.52</td></tr><tr><td>2013-07-27 00:00:00.0</td><td>647</td><td>134.99</td><td>1004</td><td>9599.52</td></tr><tr><td>2013-07-27 00:00:00.0</td><td>715</td><td>129.99</td><td>1004</td><td>9599.52</td></tr><tr><td>2013-07-27 00:00:00.0</td><td>567</td><td>125.0</td><td>1004</td><td>9599.52</td></tr><tr><td>2013-07-27 00:00:00.0</td><td>93</td><td>124.95</td><td>1004</td><td>9599.52</td></tr><tr><td>2013-07-27 00:00:00.0</td><td>135</td><td>110.0</td><td>1004</td><td>9599.52</td></tr><tr><td>2013-07-27 00:00:00.0</td><td>924</td><td>95.94</td><td>1004</td><td>9599.52</td></tr><tr><td>2013-07-27 00:00:00.0</td><td>886</td><td>74.97</td><td>1004</td><td>9599.52</td></tr><tr><td>2013-07-27 00:00:00.0</td><td>797</td><td>71.96</td><td>1004</td><td>9599.52</td></tr><tr><td>2013-07-27 00:00:00.0</td><td>564</td><td>60.0</td><td>1004</td><td>9599.52</td></tr><tr><td>2013-07-27 00:00:00.0</td><td>821</td><td>51.99</td><td>1004</td><td>9599.52</td></tr><tr><td>2013-07-27 00:00:00.0</td><td>906</td><td>49.98</td><td>1004</td><td>9599.52</td></tr><tr><td>2013-07-27 00:00:00.0</td><td>893</td><td>49.98</td><td>1004</td><td>9599.52</td></tr><tr><td>2013-07-27 00:00:00.0</td><td>792</td><td>44.97</td><td>1004</td><td>9599.52</td></tr><tr><td>2013-07-27 00:00:00.0</td><td>703</td><td>39.98</td><td>1004</td><td>9599.52</td></tr><tr><td>2013-07-27 00:00:00.0</td><td>273</td><td>27.99</td><td>1004</td><td>9599.52</td></tr><tr><td>2013-07-28 00:00:00.0</td><td>1004</td><td>5599.72</td><td>1004</td><td>5599.72</td></tr><tr><td>2013-07-28 00:00:00.0</td><td>957</td><td>5099.66</td><td>1004</td><td>5599.72</td></tr><tr><td>2013-07-28 00:00:00.0</td><td>365</td><td>4799.2</td><td>1004</td><td>5599.72</td></tr><tr><td>2013-07-28 00:00:00.0</td><td>403</td><td>4419.66</td><td>1004</td><td>5599.72</td></tr><tr><td>2013-07-28 00:00:00.0</td><td>191</td><td>4299.57</td><td>1004</td><td>5599.72</td></tr><tr><td>2013-07-28 00:00:00.0</td><td>502</td><td>3650.0</td><td>1004</td><td>5599.72</td></tr><tr><td>2013-07-28 00:00:00.0</td><td>1014</td><td>2748.9</td><td>1004</td><td>5599.72</td></tr><tr><td>2013-07-28 00:00:00.0</td><td>1073</td><td>2399.88</td><td>1004</td><td>5599.72</td></tr><tr><td>2013-07-28 00:00:00.0</td><td>627</td><td>1119.72</td><td>1004</td><td>5599.72</td></tr><tr><td>2013-07-28 00:00:00.0</td><td>564</td><td>300.0</td><td>1004</td><td>5599.72</td></tr><tr><td>2013-07-28 00:00:00.0</td><td>858</td><td>199.99</td><td>1004</td><td>5599.72</td></tr><tr><td>2013-07-28 00:00:00.0</td><td>728</td><td>195.0</td><td>1004</td><td>5599.72</td></tr><tr><td>2013-07-28 00:00:00.0</td><td>273</td><td>139.95</td><td>1004</td><td>5599.72</td></tr><tr><td>2013-07-28 00:00:00.0</td><td>567</td><td>125.0</td><td>1004</td><td>5599.72</td></tr><tr><td>2013-07-28 00:00:00.0</td><td>249</td><td>109.94</td><td>1004</td><td>5599.72</td></tr><tr><td>2013-07-28 00:00:00.0</td><td>917</td><td>87.96</td><td>1004</td><td>5599.72</td></tr><tr><td>2013-07-28 00:00:00.0</td><td>235</td><td>69.98</td><td>1004</td><td>5599.72</td></tr><tr><td>2013-07-28 00:00:00.0</td><td>835</td><td>63.98</td><td>1004</td><td>5599.72</td></tr></table>"
      ],
      "text/plain": [
       "<IPython.core.display.HTML object>"
      ]
     },
     "execution_count": 26,
     "metadata": {},
     "output_type": "execute_result"
    }
   ],
   "source": [
    "%%sparksql\n",
    "SELECT t.*,\n",
    "  first_value(order_item_product_id) OVER (PARTITION BY order_date ORDER BY revenue DESC) first_product_id,\n",
    "  first_value(revenue) OVER (PARTITION BY order_date ORDER BY revenue DESC) first_revenue\n",
    "FROM daily_product_revenue t\n",
    "ORDER BY order_date, revenue DESC\n",
    "LIMIT 100"
   ]
  },
  {
   "cell_type": "markdown",
   "id": "39a9e7cd-f0dc-4da8-9429-9cc5dd09c137",
   "metadata": {},
   "source": [
    ">While using last_value we need to specify ROWS BETWEEN CURRENT ROW AND UNBOUNDED FOLLOWING/PRECEEDING. "
   ]
  },
  {
   "cell_type": "code",
   "execution_count": 27,
   "id": "1b51babe-02f5-415f-a14e-e43a1ab56e7a",
   "metadata": {
    "tags": []
   },
   "outputs": [
    {
     "data": {
      "text/html": [
       "<table><tr style=\"border-bottom: 1px solid\"><td style=\"font-weight: bold\">order_date</td><td style=\"font-weight: bold\">order_item_product_id</td><td style=\"font-weight: bold\">revenue</td><td style=\"font-weight: bold\">last_product_id</td><td style=\"font-weight: bold\">last_revenue</td></tr><tr><td>2013-07-25 00:00:00.0</td><td>1004</td><td>5599.72</td><td>1004</td><td>5599.72</td></tr><tr><td>2013-07-25 00:00:00.0</td><td>191</td><td>5099.49</td><td>1004</td><td>5599.72</td></tr><tr><td>2013-07-25 00:00:00.0</td><td>957</td><td>4499.7</td><td>1004</td><td>5599.72</td></tr><tr><td>2013-07-25 00:00:00.0</td><td>365</td><td>3359.44</td><td>1004</td><td>5599.72</td></tr><tr><td>2013-07-25 00:00:00.0</td><td>1073</td><td>2999.85</td><td>1004</td><td>5599.72</td></tr><tr><td>2013-07-25 00:00:00.0</td><td>1014</td><td>2798.88</td><td>1004</td><td>5599.72</td></tr><tr><td>2013-07-25 00:00:00.0</td><td>403</td><td>1949.85</td><td>1004</td><td>5599.72</td></tr><tr><td>2013-07-25 00:00:00.0</td><td>502</td><td>1650.0</td><td>1004</td><td>5599.72</td></tr><tr><td>2013-07-25 00:00:00.0</td><td>627</td><td>1079.73</td><td>1004</td><td>5599.72</td></tr><tr><td>2013-07-25 00:00:00.0</td><td>226</td><td>599.99</td><td>1004</td><td>5599.72</td></tr><tr><td>2013-07-25 00:00:00.0</td><td>24</td><td>319.96</td><td>1004</td><td>5599.72</td></tr><tr><td>2013-07-25 00:00:00.0</td><td>821</td><td>207.96</td><td>1004</td><td>5599.72</td></tr><tr><td>2013-07-25 00:00:00.0</td><td>625</td><td>199.99</td><td>1004</td><td>5599.72</td></tr><tr><td>2013-07-25 00:00:00.0</td><td>705</td><td>119.99</td><td>1004</td><td>5599.72</td></tr><tr><td>2013-07-25 00:00:00.0</td><td>572</td><td>119.97</td><td>1004</td><td>5599.72</td></tr><tr><td>2013-07-25 00:00:00.0</td><td>666</td><td>109.99</td><td>1004</td><td>5599.72</td></tr><tr><td>2013-07-25 00:00:00.0</td><td>725</td><td>108.0</td><td>1004</td><td>5599.72</td></tr><tr><td>2013-07-25 00:00:00.0</td><td>134</td><td>100.0</td><td>1004</td><td>5599.72</td></tr><tr><td>2013-07-25 00:00:00.0</td><td>906</td><td>99.96</td><td>1004</td><td>5599.72</td></tr><tr><td>2013-07-25 00:00:00.0</td><td>828</td><td>95.97</td><td>1004</td><td>5599.72</td></tr><tr><td>2013-07-25 00:00:00.0</td><td>810</td><td>79.96</td><td>1004</td><td>5599.72</td></tr><tr><td>2013-07-25 00:00:00.0</td><td>924</td><td>79.95</td><td>1004</td><td>5599.72</td></tr><tr><td>2013-07-25 00:00:00.0</td><td>926</td><td>79.95</td><td>1004</td><td>5599.72</td></tr><tr><td>2013-07-25 00:00:00.0</td><td>93</td><td>74.97</td><td>1004</td><td>5599.72</td></tr><tr><td>2013-07-25 00:00:00.0</td><td>835</td><td>63.98</td><td>1004</td><td>5599.72</td></tr><tr><td>2013-07-25 00:00:00.0</td><td>897</td><td>49.98</td><td>1004</td><td>5599.72</td></tr><tr><td>2013-07-26 00:00:00.0</td><td>1004</td><td>10799.46</td><td>1004</td><td>10799.46</td></tr><tr><td>2013-07-26 00:00:00.0</td><td>365</td><td>7978.67</td><td>1004</td><td>10799.46</td></tr><tr><td>2013-07-26 00:00:00.0</td><td>957</td><td>6899.54</td><td>1004</td><td>10799.46</td></tr><tr><td>2013-07-26 00:00:00.0</td><td>191</td><td>6799.32</td><td>1004</td><td>10799.46</td></tr><tr><td>2013-07-26 00:00:00.0</td><td>1014</td><td>4798.08</td><td>1004</td><td>10799.46</td></tr><tr><td>2013-07-26 00:00:00.0</td><td>502</td><td>4250.0</td><td>1004</td><td>10799.46</td></tr><tr><td>2013-07-26 00:00:00.0</td><td>1073</td><td>3999.8</td><td>1004</td><td>10799.46</td></tr><tr><td>2013-07-26 00:00:00.0</td><td>403</td><td>3249.75</td><td>1004</td><td>10799.46</td></tr><tr><td>2013-07-26 00:00:00.0</td><td>627</td><td>3039.24</td><td>1004</td><td>10799.46</td></tr><tr><td>2013-07-26 00:00:00.0</td><td>691</td><td>399.95</td><td>1004</td><td>10799.46</td></tr><tr><td>2013-07-26 00:00:00.0</td><td>818</td><td>287.94</td><td>1004</td><td>10799.46</td></tr><tr><td>2013-07-26 00:00:00.0</td><td>565</td><td>280.0</td><td>1004</td><td>10799.46</td></tr><tr><td>2013-07-26 00:00:00.0</td><td>278</td><td>269.94</td><td>1004</td><td>10799.46</td></tr><tr><td>2013-07-26 00:00:00.0</td><td>822</td><td>239.95</td><td>1004</td><td>10799.46</td></tr><tr><td>2013-07-26 00:00:00.0</td><td>282</td><td>159.95</td><td>1004</td><td>10799.46</td></tr><tr><td>2013-07-26 00:00:00.0</td><td>804</td><td>159.92</td><td>1004</td><td>10799.46</td></tr><tr><td>2013-07-26 00:00:00.0</td><td>917</td><td>153.93</td><td>1004</td><td>10799.46</td></tr><tr><td>2013-07-26 00:00:00.0</td><td>982</td><td>149.99</td><td>1004</td><td>10799.46</td></tr><tr><td>2013-07-26 00:00:00.0</td><td>116</td><td>134.97</td><td>1004</td><td>10799.46</td></tr><tr><td>2013-07-26 00:00:00.0</td><td>828</td><td>127.96</td><td>1004</td><td>10799.46</td></tr><tr><td>2013-07-26 00:00:00.0</td><td>135</td><td>110.0</td><td>1004</td><td>10799.46</td></tr><tr><td>2013-07-26 00:00:00.0</td><td>134</td><td>100.0</td><td>1004</td><td>10799.46</td></tr><tr><td>2013-07-26 00:00:00.0</td><td>564</td><td>90.0</td><td>1004</td><td>10799.46</td></tr><tr><td>2013-07-26 00:00:00.0</td><td>792</td><td>89.94</td><td>1004</td><td>10799.46</td></tr><tr><td>2013-07-26 00:00:00.0</td><td>897</td><td>74.97</td><td>1004</td><td>10799.46</td></tr><tr><td>2013-07-26 00:00:00.0</td><td>775</td><td>39.96</td><td>1004</td><td>10799.46</td></tr><tr><td>2013-07-26 00:00:00.0</td><td>172</td><td>30.0</td><td>1004</td><td>10799.46</td></tr><tr><td>2013-07-27 00:00:00.0</td><td>1004</td><td>9599.52</td><td>1004</td><td>9599.52</td></tr><tr><td>2013-07-27 00:00:00.0</td><td>191</td><td>5999.4</td><td>1004</td><td>9599.52</td></tr><tr><td>2013-07-27 00:00:00.0</td><td>957</td><td>5699.62</td><td>1004</td><td>9599.52</td></tr><tr><td>2013-07-27 00:00:00.0</td><td>1073</td><td>5399.73</td><td>1004</td><td>9599.52</td></tr><tr><td>2013-07-27 00:00:00.0</td><td>365</td><td>5099.15</td><td>1004</td><td>9599.52</td></tr><tr><td>2013-07-27 00:00:00.0</td><td>502</td><td>5050.0</td><td>1004</td><td>9599.52</td></tr><tr><td>2013-07-27 00:00:00.0</td><td>1014</td><td>4498.2</td><td>1004</td><td>9599.52</td></tr><tr><td>2013-07-27 00:00:00.0</td><td>403</td><td>2469.81</td><td>1004</td><td>9599.52</td></tr><tr><td>2013-07-27 00:00:00.0</td><td>627</td><td>2039.49</td><td>1004</td><td>9599.52</td></tr><tr><td>2013-07-27 00:00:00.0</td><td>203</td><td>399.99</td><td>1004</td><td>9599.52</td></tr><tr><td>2013-07-27 00:00:00.0</td><td>728</td><td>390.0</td><td>1004</td><td>9599.52</td></tr><tr><td>2013-07-27 00:00:00.0</td><td>828</td><td>223.93</td><td>1004</td><td>9599.52</td></tr><tr><td>2013-07-27 00:00:00.0</td><td>771</td><td>199.95</td><td>1004</td><td>9599.52</td></tr><tr><td>2013-07-27 00:00:00.0</td><td>172</td><td>150.0</td><td>1004</td><td>9599.52</td></tr><tr><td>2013-07-27 00:00:00.0</td><td>647</td><td>134.99</td><td>1004</td><td>9599.52</td></tr><tr><td>2013-07-27 00:00:00.0</td><td>715</td><td>129.99</td><td>1004</td><td>9599.52</td></tr><tr><td>2013-07-27 00:00:00.0</td><td>567</td><td>125.0</td><td>1004</td><td>9599.52</td></tr><tr><td>2013-07-27 00:00:00.0</td><td>93</td><td>124.95</td><td>1004</td><td>9599.52</td></tr><tr><td>2013-07-27 00:00:00.0</td><td>135</td><td>110.0</td><td>1004</td><td>9599.52</td></tr><tr><td>2013-07-27 00:00:00.0</td><td>924</td><td>95.94</td><td>1004</td><td>9599.52</td></tr><tr><td>2013-07-27 00:00:00.0</td><td>886</td><td>74.97</td><td>1004</td><td>9599.52</td></tr><tr><td>2013-07-27 00:00:00.0</td><td>797</td><td>71.96</td><td>1004</td><td>9599.52</td></tr><tr><td>2013-07-27 00:00:00.0</td><td>564</td><td>60.0</td><td>1004</td><td>9599.52</td></tr><tr><td>2013-07-27 00:00:00.0</td><td>821</td><td>51.99</td><td>1004</td><td>9599.52</td></tr><tr><td>2013-07-27 00:00:00.0</td><td>906</td><td>49.98</td><td>1004</td><td>9599.52</td></tr><tr><td>2013-07-27 00:00:00.0</td><td>893</td><td>49.98</td><td>1004</td><td>9599.52</td></tr><tr><td>2013-07-27 00:00:00.0</td><td>792</td><td>44.97</td><td>1004</td><td>9599.52</td></tr><tr><td>2013-07-27 00:00:00.0</td><td>703</td><td>39.98</td><td>1004</td><td>9599.52</td></tr><tr><td>2013-07-27 00:00:00.0</td><td>273</td><td>27.99</td><td>1004</td><td>9599.52</td></tr><tr><td>2013-07-28 00:00:00.0</td><td>1004</td><td>5599.72</td><td>1004</td><td>5599.72</td></tr><tr><td>2013-07-28 00:00:00.0</td><td>957</td><td>5099.66</td><td>1004</td><td>5599.72</td></tr><tr><td>2013-07-28 00:00:00.0</td><td>365</td><td>4799.2</td><td>1004</td><td>5599.72</td></tr><tr><td>2013-07-28 00:00:00.0</td><td>403</td><td>4419.66</td><td>1004</td><td>5599.72</td></tr><tr><td>2013-07-28 00:00:00.0</td><td>191</td><td>4299.57</td><td>1004</td><td>5599.72</td></tr><tr><td>2013-07-28 00:00:00.0</td><td>502</td><td>3650.0</td><td>1004</td><td>5599.72</td></tr><tr><td>2013-07-28 00:00:00.0</td><td>1014</td><td>2748.9</td><td>1004</td><td>5599.72</td></tr><tr><td>2013-07-28 00:00:00.0</td><td>1073</td><td>2399.88</td><td>1004</td><td>5599.72</td></tr><tr><td>2013-07-28 00:00:00.0</td><td>627</td><td>1119.72</td><td>1004</td><td>5599.72</td></tr><tr><td>2013-07-28 00:00:00.0</td><td>564</td><td>300.0</td><td>1004</td><td>5599.72</td></tr><tr><td>2013-07-28 00:00:00.0</td><td>858</td><td>199.99</td><td>1004</td><td>5599.72</td></tr><tr><td>2013-07-28 00:00:00.0</td><td>728</td><td>195.0</td><td>1004</td><td>5599.72</td></tr><tr><td>2013-07-28 00:00:00.0</td><td>273</td><td>139.95</td><td>1004</td><td>5599.72</td></tr><tr><td>2013-07-28 00:00:00.0</td><td>567</td><td>125.0</td><td>1004</td><td>5599.72</td></tr><tr><td>2013-07-28 00:00:00.0</td><td>249</td><td>109.94</td><td>1004</td><td>5599.72</td></tr><tr><td>2013-07-28 00:00:00.0</td><td>917</td><td>87.96</td><td>1004</td><td>5599.72</td></tr><tr><td>2013-07-28 00:00:00.0</td><td>235</td><td>69.98</td><td>1004</td><td>5599.72</td></tr><tr><td>2013-07-28 00:00:00.0</td><td>835</td><td>63.98</td><td>1004</td><td>5599.72</td></tr></table>"
      ],
      "text/plain": [
       "<IPython.core.display.HTML object>"
      ]
     },
     "execution_count": 27,
     "metadata": {},
     "output_type": "execute_result"
    }
   ],
   "source": [
    "%%sparksql\n",
    "\n",
    "SELECT t.*,\n",
    "  last_value(order_item_product_id) OVER (PARTITION BY order_date ORDER BY revenue\n",
    "    ROWS BETWEEN CURRENT ROW AND UNBOUNDED FOLLOWING) last_product_id,\n",
    "  last_value(revenue) OVER (PARTITION BY order_date ORDER BY revenue\n",
    "    ROWS BETWEEN CURRENT ROW AND UNBOUNDED FOLLOWING)  last_revenue\n",
    "FROM daily_product_revenue AS t\n",
    "ORDER BY order_date, revenue DESC\n",
    "LIMIT 100"
   ]
  },
  {
   "cell_type": "markdown",
   "id": "440ceae6-cfcf-4c4b-974e-6a25fc747c22",
   "metadata": {},
   "source": [
    "### Ranking using Windowing Functions\n",
    "\n",
    "- If we have to get ranks globally, we just need to specify **ORDER BY**\n",
    "- If we have to get ranks with in a key then we need to specify **PARTITION BY** and then **ORDER BY**.\n",
    "- By default ***ORDER BY*** will sort the data in ascending order. We can change the order by passing ***DESC*** after ***order by***.\n"
   ]
  },
  {
   "cell_type": "code",
   "execution_count": 30,
   "id": "81c79484-02ce-46ff-bea8-4089fa3d46ac",
   "metadata": {
    "tags": []
   },
   "outputs": [
    {
     "data": {
      "text/html": [
       "<table><tr style=\"border-bottom: 1px solid\"><td style=\"font-weight: bold\">order_date</td><td style=\"font-weight: bold\">order_item_product_id</td><td style=\"font-weight: bold\">revenue</td><td style=\"font-weight: bold\">rnk</td></tr><tr><td>2013-07-25 00:00:00.0</td><td>1004</td><td>5599.72</td><td>1</td></tr><tr><td>2013-07-25 00:00:00.0</td><td>191</td><td>5099.49</td><td>2</td></tr><tr><td>2013-07-25 00:00:00.0</td><td>957</td><td>4499.7</td><td>3</td></tr><tr><td>2013-07-25 00:00:00.0</td><td>365</td><td>3359.44</td><td>4</td></tr><tr><td>2013-07-25 00:00:00.0</td><td>1073</td><td>2999.85</td><td>5</td></tr><tr><td>2013-07-25 00:00:00.0</td><td>1014</td><td>2798.88</td><td>6</td></tr><tr><td>2013-07-25 00:00:00.0</td><td>403</td><td>1949.85</td><td>7</td></tr><tr><td>2013-07-25 00:00:00.0</td><td>502</td><td>1650.0</td><td>8</td></tr><tr><td>2013-07-25 00:00:00.0</td><td>627</td><td>1079.73</td><td>9</td></tr><tr><td>2013-07-25 00:00:00.0</td><td>226</td><td>599.99</td><td>10</td></tr></table>"
      ],
      "text/plain": [
       "<IPython.core.display.HTML object>"
      ]
     },
     "execution_count": 30,
     "metadata": {},
     "output_type": "execute_result"
    }
   ],
   "source": [
    "%%sparksql\n",
    "\n",
    "SELECT t.*,\n",
    "  rank() OVER (PARTITION BY order_date ORDER BY revenue DESC) AS rnk\n",
    "FROM daily_product_revenue t\n",
    "ORDER BY order_date, revenue DESC\n",
    "LIMIT 10"
   ]
  },
  {
   "cell_type": "code",
   "execution_count": 6,
   "id": "9842d530-8cbc-45bb-bdf2-7e40e90d0569",
   "metadata": {
    "tags": []
   },
   "outputs": [
    {
     "data": {
      "text/html": [
       "<table><tr style=\"border-bottom: 1px solid\"></tr></table>"
      ],
      "text/plain": [
       "<IPython.core.display.HTML object>"
      ]
     },
     "execution_count": 6,
     "metadata": {},
     "output_type": "execute_result"
    }
   ],
   "source": [
    "%%sparksql\n",
    "use kevin_hr"
   ]
  },
  {
   "cell_type": "markdown",
   "id": "f2491ddd-e1b4-4632-8159-7e901b180af5",
   "metadata": {
    "tags": []
   },
   "source": [
    "#### Understand the difference between **rank**, **dense_rank** and **row_number**.\n",
    "\n",
    "- We can either of the functions to generate ranks when the rank field does not have duplicates.\n",
    "- When rank field have duplicates then row_number should not be used as it generate unique number for each record with in the partition.\n",
    "- rank will skip the ranks in between if multiple people get the same rank while dense_rank continue with the next number"
   ]
  },
  {
   "cell_type": "code",
   "execution_count": 7,
   "id": "990c5270-781f-4e7f-93c8-0d0ee981a997",
   "metadata": {
    "tags": []
   },
   "outputs": [
    {
     "name": "stderr",
     "output_type": "stream",
     "text": [
      "[Stage 2:>                                                          (0 + 1) / 1]\r"
     ]
    },
    {
     "name": "stdout",
     "output_type": "stream",
     "text": [
      "only showing top 20 row(s)\n"
     ]
    },
    {
     "name": "stderr",
     "output_type": "stream",
     "text": [
      "                                                                                \r"
     ]
    },
    {
     "data": {
      "text/html": [
       "<table><tr style=\"border-bottom: 1px solid\"><td style=\"font-weight: bold\">employee_id</td><td style=\"font-weight: bold\">department_id</td><td style=\"font-weight: bold\">salary</td><td style=\"font-weight: bold\">rnk</td><td style=\"font-weight: bold\">drnk</td><td style=\"font-weight: bold\">rn</td></tr><tr><td>178</td><td>null</td><td>7000.00</td><td>1</td><td>1</td><td>1</td></tr><tr><td>200</td><td>10</td><td>4400.00</td><td>1</td><td>1</td><td>1</td></tr><tr><td>201</td><td>20</td><td>13000.00</td><td>1</td><td>1</td><td>1</td></tr><tr><td>202</td><td>20</td><td>6000.00</td><td>2</td><td>2</td><td>2</td></tr><tr><td>114</td><td>30</td><td>11000.00</td><td>1</td><td>1</td><td>1</td></tr><tr><td>115</td><td>30</td><td>3100.00</td><td>2</td><td>2</td><td>2</td></tr><tr><td>116</td><td>30</td><td>2900.00</td><td>3</td><td>3</td><td>3</td></tr><tr><td>117</td><td>30</td><td>2800.00</td><td>4</td><td>4</td><td>4</td></tr><tr><td>118</td><td>30</td><td>2600.00</td><td>5</td><td>5</td><td>5</td></tr><tr><td>119</td><td>30</td><td>2500.00</td><td>6</td><td>6</td><td>6</td></tr><tr><td>203</td><td>40</td><td>6500.00</td><td>1</td><td>1</td><td>1</td></tr><tr><td>121</td><td>50</td><td>8200.00</td><td>1</td><td>1</td><td>1</td></tr><tr><td>120</td><td>50</td><td>8000.00</td><td>2</td><td>2</td><td>2</td></tr><tr><td>122</td><td>50</td><td>7900.00</td><td>3</td><td>3</td><td>3</td></tr><tr><td>123</td><td>50</td><td>6500.00</td><td>4</td><td>4</td><td>4</td></tr><tr><td>124</td><td>50</td><td>5800.00</td><td>5</td><td>5</td><td>5</td></tr><tr><td>184</td><td>50</td><td>4200.00</td><td>6</td><td>6</td><td>6</td></tr><tr><td>185</td><td>50</td><td>4100.00</td><td>7</td><td>7</td><td>7</td></tr><tr><td>192</td><td>50</td><td>4000.00</td><td>8</td><td>8</td><td>8</td></tr><tr><td>193</td><td>50</td><td>3900.00</td><td>9</td><td>9</td><td>9</td></tr></table>"
      ],
      "text/plain": [
       "<IPython.core.display.HTML object>"
      ]
     },
     "execution_count": 7,
     "metadata": {},
     "output_type": "execute_result"
    }
   ],
   "source": [
    "%%sparksql\n",
    "\n",
    "SELECT\n",
    "  employee_id,department_id,salary,\n",
    "  rank() OVER (PARTITION BY department_id ORDER BY salary DESC) rnk,\n",
    "  dense_rank() OVER (PARTITION BY department_id ORDER BY salary DESC) drnk,\n",
    "  row_number() OVER (PARTITION BY department_id ORDER BY salary DESC) rn\n",
    "FROM employees\n",
    "ORDER BY department_id, salary DESC"
   ]
  },
  {
   "cell_type": "markdown",
   "id": "0e1ff169-e5fe-408e-82e5-49df881ed8e8",
   "metadata": {},
   "source": [
    "### Understanding order of execution of SQL\n",
    "\n",
    "- order of writing the query.\n",
    "\n",
    ">SELECT\n",
    "\n",
    ">FROM\n",
    "\n",
    ">JOIN or OUTER JOIN with ON\n",
    "\n",
    ">WHERE\n",
    "\n",
    ">GROUP BY and optionally HAVING\n",
    "\n",
    ">ORDER BY\n",
    "\n",
    "\n",
    "- However order of execution is different.\n",
    "\n",
    "    FROM\n",
    "\n",
    "    JOIN or OUTER JOIN with ON\n",
    "\n",
    "    WHERE\n",
    "\n",
    "    GROUP BY and optionally HAVING\n",
    "\n",
    "    SELECT\n",
    "\n",
    "    ORDER BY\n",
    "\n",
    ">As SELECT is executed before ORDER BY Clause, we will not be able to refer the aliases in SELECT in other clauses except for ORDER BY.\n"
   ]
  },
  {
   "cell_type": "code",
   "execution_count": 8,
   "id": "1db3bf6d-9386-4507-9882-81a7dbd622eb",
   "metadata": {
    "tags": []
   },
   "outputs": [
    {
     "data": {
      "text/html": [
       "<table><tr style=\"border-bottom: 1px solid\"></tr></table>"
      ],
      "text/plain": [
       "<IPython.core.display.HTML object>"
      ]
     },
     "execution_count": 8,
     "metadata": {},
     "output_type": "execute_result"
    }
   ],
   "source": [
    "%%sparksql\n",
    "use  kevin_retail"
   ]
  },
  {
   "cell_type": "code",
   "execution_count": 9,
   "id": "4803aff8-ab4a-4115-bc09-6ad52370575e",
   "metadata": {
    "tags": []
   },
   "outputs": [
    {
     "name": "stderr",
     "output_type": "stream",
     "text": [
      "                                                                                \r"
     ]
    },
    {
     "data": {
      "text/html": [
       "<table><tr style=\"border-bottom: 1px solid\"><td style=\"font-weight: bold\">order_date</td><td style=\"font-weight: bold\">revenue</td></tr><tr><td>2013-07-25 00:00:00.0</td><td>3472888</td></tr><tr><td>2013-07-26 00:00:00.0</td><td>1798683</td></tr><tr><td>2013-07-27 00:00:00.0</td><td>3040190</td></tr><tr><td>2013-07-28 00:00:00.0</td><td>1128298</td></tr><tr><td>2013-07-29 00:00:00.0</td><td>2574603</td></tr><tr><td>2013-07-30 00:00:00.0</td><td>1849067</td></tr><tr><td>2013-07-31 00:00:00.0</td><td>3443867</td></tr><tr><td>2013-08-01 00:00:00.0</td><td>1128103</td></tr><tr><td>2013-08-02 00:00:00.0</td><td>1505612</td></tr><tr><td>2013-08-03 00:00:00.0</td><td>2248798</td></tr></table>"
      ],
      "text/plain": [
       "<IPython.core.display.HTML object>"
      ]
     },
     "execution_count": 9,
     "metadata": {},
     "output_type": "execute_result"
    }
   ],
   "source": [
    "%%sparksql\n",
    "\n",
    "SELECT o.order_date,round(sum(oi.order_item_order_id), 2) AS revenue\n",
    "FROM orders o JOIN order_items oi\n",
    "ON o.order_id = oi.order_item_order_id\n",
    "WHERE o.order_status IN ('COMPLETE', 'CLOSED')\n",
    "GROUP BY o.order_date\n",
    "ORDER BY o.order_date\n",
    "LIMIT 10"
   ]
  },
  {
   "cell_type": "code",
   "execution_count": 41,
   "id": "d39b824f-cc22-45e2-8d37-6627fa520bde",
   "metadata": {
    "tags": []
   },
   "outputs": [
    {
     "data": {
      "text/html": [
       "<table><tr style=\"border-bottom: 1px solid\"><td style=\"font-weight: bold\">order_date</td><td style=\"font-weight: bold\">revenue</td></tr><tr><td>2013-07-25 00:00:00.0</td><td>3472888</td></tr><tr><td>2013-07-27 00:00:00.0</td><td>3040190</td></tr><tr><td>2013-07-29 00:00:00.0</td><td>2574603</td></tr><tr><td>2013-07-31 00:00:00.0</td><td>3443867</td></tr><tr><td>2013-08-03 00:00:00.0</td><td>2248798</td></tr><tr><td>2013-08-04 00:00:00.0</td><td>2844419</td></tr><tr><td>2013-08-07 00:00:00.0</td><td>3403251</td></tr><tr><td>2013-08-08 00:00:00.0</td><td>2197269</td></tr><tr><td>2013-08-09 00:00:00.0</td><td>2219000</td></tr><tr><td>2013-08-10 00:00:00.0</td><td>3147168</td></tr></table>"
      ],
      "text/plain": [
       "<IPython.core.display.HTML object>"
      ]
     },
     "execution_count": 41,
     "metadata": {},
     "output_type": "execute_result"
    }
   ],
   "source": [
    "%%sparksql\n",
    "\n",
    "SELECT o.order_date,round(sum(oi.order_item_order_id), 2) AS revenue\n",
    "FROM orders o JOIN order_items oi\n",
    "ON o.order_id = oi.order_item_order_id\n",
    "WHERE o.order_status IN ('COMPLETE', 'CLOSED')\n",
    "GROUP BY o.order_date\n",
    "    HAVING revenue >= 2000000\n",
    "ORDER BY order_date\n",
    "LIMIT 10"
   ]
  },
  {
   "cell_type": "markdown",
   "id": "b7e8f738-ffd5-4272-b603-5a2c75186baa",
   "metadata": {},
   "source": [
    "### Overview of Nested Sub Queries\n",
    "\n",
    "- We typically have Nested Sub Queries in **FROM** Clause.\n",
    "- We need to provide **alias** to the Nested Sub Queries in **FROM** Clause in *Hive*.\n",
    "- We use nested queries quite often over queries using Analytics/Windowing Functions\n",
    "- We can achieve using HAVING clause (no need to be nested to filter)\n"
   ]
  },
  {
   "cell_type": "code",
   "execution_count": 10,
   "id": "acf06d86-b930-4348-9587-a7493f8a0285",
   "metadata": {
    "tags": []
   },
   "outputs": [
    {
     "data": {
      "text/html": [
       "<table><tr style=\"border-bottom: 1px solid\"><td style=\"font-weight: bold\">current_date()</td></tr><tr><td>2023-04-03</td></tr></table>"
      ],
      "text/plain": [
       "<IPython.core.display.HTML object>"
      ]
     },
     "execution_count": 10,
     "metadata": {},
     "output_type": "execute_result"
    }
   ],
   "source": [
    "%%sparksql\n",
    "\n",
    "SELECT * FROM (SELECT current_date) AS q"
   ]
  },
  {
   "cell_type": "code",
   "execution_count": 12,
   "id": "41f0c373-586a-4246-aaec-b63644438c8d",
   "metadata": {
    "tags": []
   },
   "outputs": [
    {
     "name": "stderr",
     "output_type": "stream",
     "text": [
      "                                                                                \r"
     ]
    },
    {
     "data": {
      "text/html": [
       "<table><tr style=\"border-bottom: 1px solid\"><td style=\"font-weight: bold\">order_date</td><td style=\"font-weight: bold\">order_count</td></tr><tr><td>2013-08-13 00:00:00.0</td><td>73</td></tr><tr><td>2014-03-19 00:00:00.0</td><td>130</td></tr><tr><td>2014-04-26 00:00:00.0</td><td>251</td></tr><tr><td>2013-10-12 00:00:00.0</td><td>162</td></tr><tr><td>2013-11-15 00:00:00.0</td><td>135</td></tr><tr><td>2013-09-16 00:00:00.0</td><td>121</td></tr><tr><td>2013-09-20 00:00:00.0</td><td>139</td></tr><tr><td>2013-12-31 00:00:00.0</td><td>266</td></tr><tr><td>2014-06-15 00:00:00.0</td><td>128</td></tr><tr><td>2013-09-06 00:00:00.0</td><td>276</td></tr></table>"
      ],
      "text/plain": [
       "<IPython.core.display.HTML object>"
      ]
     },
     "execution_count": 12,
     "metadata": {},
     "output_type": "execute_result"
    }
   ],
   "source": [
    "%%sparksql\n",
    "\n",
    "SELECT * FROM (\n",
    "  SELECT order_date, count(1) AS order_count\n",
    "  FROM orders\n",
    "  GROUP BY order_date\n",
    ") q\n",
    "LIMIT 10"
   ]
  },
  {
   "cell_type": "code",
   "execution_count": 18,
   "id": "6364332f-15a7-435f-bf46-61953cb7e272",
   "metadata": {
    "tags": []
   },
   "outputs": [
    {
     "data": {
      "text/html": [
       "<table><tr style=\"border-bottom: 1px solid\"><td style=\"font-weight: bold\">order_date</td><td style=\"font-weight: bold\">order_count</td></tr><tr><td>2013-08-13 00:00:00.0</td><td>73</td></tr><tr><td>2013-10-12 00:00:00.0</td><td>162</td></tr><tr><td>2013-11-15 00:00:00.0</td><td>135</td></tr><tr><td>2013-09-16 00:00:00.0</td><td>121</td></tr><tr><td>2013-09-20 00:00:00.0</td><td>139</td></tr></table>"
      ],
      "text/plain": [
       "<IPython.core.display.HTML object>"
      ]
     },
     "execution_count": 18,
     "metadata": {},
     "output_type": "execute_result"
    }
   ],
   "source": [
    "%%sparksql\n",
    "\n",
    "SELECT * FROM (\n",
    "  SELECT order_date, count(1) AS order_count\n",
    "  FROM orders\n",
    "  GROUP BY order_date\n",
    ") q\n",
    "WHERE q.order_count > 0\n",
    "limit 5"
   ]
  },
  {
   "cell_type": "markdown",
   "id": "ccd3bfe4-e474-4dc3-bf17-7fca8bfb1fdd",
   "metadata": {
    "tags": []
   },
   "source": [
    "### Filtering - Window Function Results\n",
    "\n",
    "- We can use *Window Functions* only in *SELECT* Clause.\n",
    "- If we have to filter based on Window Function results, then we need to use Nested Sub Queries.\n",
    "- Once the query is nested, we can apply filter using aliases of the Window Functions.\n"
   ]
  },
  {
   "cell_type": "code",
   "execution_count": 20,
   "id": "74ce3ac6-3780-4f6f-9700-522e93274f67",
   "metadata": {
    "tags": []
   },
   "outputs": [
    {
     "name": "stderr",
     "output_type": "stream",
     "text": [
      "[Stage 31:>                                                         (0 + 1) / 1]\r"
     ]
    },
    {
     "name": "stdout",
     "output_type": "stream",
     "text": [
      "only showing top 20 row(s)\n"
     ]
    },
    {
     "name": "stderr",
     "output_type": "stream",
     "text": [
      "                                                                                \r"
     ]
    },
    {
     "data": {
      "text/html": [
       "<table><tr style=\"border-bottom: 1px solid\"><td style=\"font-weight: bold\">order_date</td><td style=\"font-weight: bold\">order_item_product_id</td><td style=\"font-weight: bold\">revenue</td><td style=\"font-weight: bold\">drnk</td></tr><tr><td>2013-07-25 00:00:00.0</td><td>1004</td><td>5599.72</td><td>1</td></tr><tr><td>2013-07-25 00:00:00.0</td><td>191</td><td>5099.49</td><td>2</td></tr><tr><td>2013-07-25 00:00:00.0</td><td>957</td><td>4499.7</td><td>3</td></tr><tr><td>2013-07-25 00:00:00.0</td><td>365</td><td>3359.44</td><td>4</td></tr><tr><td>2013-07-25 00:00:00.0</td><td>1073</td><td>2999.85</td><td>5</td></tr><tr><td>2013-07-26 00:00:00.0</td><td>1004</td><td>10799.46</td><td>1</td></tr><tr><td>2013-07-26 00:00:00.0</td><td>365</td><td>7978.67</td><td>2</td></tr><tr><td>2013-07-26 00:00:00.0</td><td>957</td><td>6899.54</td><td>3</td></tr><tr><td>2013-07-26 00:00:00.0</td><td>191</td><td>6799.32</td><td>4</td></tr><tr><td>2013-07-26 00:00:00.0</td><td>1014</td><td>4798.08</td><td>5</td></tr><tr><td>2013-07-27 00:00:00.0</td><td>1004</td><td>9599.52</td><td>1</td></tr><tr><td>2013-07-27 00:00:00.0</td><td>191</td><td>5999.4</td><td>2</td></tr><tr><td>2013-07-27 00:00:00.0</td><td>957</td><td>5699.62</td><td>3</td></tr><tr><td>2013-07-27 00:00:00.0</td><td>1073</td><td>5399.73</td><td>4</td></tr><tr><td>2013-07-27 00:00:00.0</td><td>365</td><td>5099.15</td><td>5</td></tr><tr><td>2013-07-28 00:00:00.0</td><td>1004</td><td>5599.72</td><td>1</td></tr><tr><td>2013-07-28 00:00:00.0</td><td>957</td><td>5099.66</td><td>2</td></tr><tr><td>2013-07-28 00:00:00.0</td><td>365</td><td>4799.2</td><td>3</td></tr><tr><td>2013-07-28 00:00:00.0</td><td>403</td><td>4419.66</td><td>4</td></tr><tr><td>2013-07-28 00:00:00.0</td><td>191</td><td>4299.57</td><td>5</td></tr></table>"
      ],
      "text/plain": [
       "<IPython.core.display.HTML object>"
      ]
     },
     "execution_count": 20,
     "metadata": {},
     "output_type": "execute_result"
    }
   ],
   "source": [
    "%%sparksql\n",
    "\n",
    "SELECT * FROM (\n",
    "  SELECT t.*,\n",
    "    dense_rank() OVER (PARTITION BY order_date ORDER BY revenue DESC) AS drnk\n",
    "  FROM daily_product_revenue t\n",
    ") q\n",
    "WHERE drnk <= 5\n",
    "ORDER BY q.order_date, q.revenue DESC"
   ]
  },
  {
   "cell_type": "markdown",
   "id": "94c6d095-34fa-4151-80c0-f307811cf2f7",
   "metadata": {},
   "source": [
    "### Ranking and Filtering - Recap\n",
    "\n",
    "- We have our original data in orders and order_items\n",
    "- We can pre-compute the data or create a view with the logic to generate daily product revenue\n",
    "- Then, we have to use the view or table or even nested query to compute rank\n",
    "- Once the ranks are computed, we need to nest it to filter based up on our requirement.\n"
   ]
  },
  {
   "cell_type": "code",
   "execution_count": 21,
   "id": "ce887c7a-7a3b-426e-a92f-ec46df19dc66",
   "metadata": {
    "tags": []
   },
   "outputs": [
    {
     "data": {
      "text/html": [
       "<table><tr style=\"border-bottom: 1px solid\"></tr></table>"
      ],
      "text/plain": [
       "<IPython.core.display.HTML object>"
      ]
     },
     "execution_count": 21,
     "metadata": {},
     "output_type": "execute_result"
    }
   ],
   "source": [
    "%%sparksql\n",
    "\n",
    "USE kevin_retail"
   ]
  },
  {
   "cell_type": "code",
   "execution_count": 22,
   "id": "a607d1dd-ea58-430f-b8f1-1a6883221ce9",
   "metadata": {
    "tags": []
   },
   "outputs": [
    {
     "data": {
      "text/html": [
       "<table><tr style=\"border-bottom: 1px solid\"><td style=\"font-weight: bold\">col_name</td><td style=\"font-weight: bold\">data_type</td><td style=\"font-weight: bold\">comment</td></tr><tr><td>order_id</td><td>int</td><td>null</td></tr><tr><td>order_date</td><td>string</td><td>null</td></tr><tr><td>order_customer_id</td><td>int</td><td>null</td></tr><tr><td>order_status</td><td>string</td><td>null</td></tr></table>"
      ],
      "text/plain": [
       "<IPython.core.display.HTML object>"
      ]
     },
     "execution_count": 22,
     "metadata": {},
     "output_type": "execute_result"
    }
   ],
   "source": [
    "%%sparksql\n",
    "\n",
    "DESCRIBE orders"
   ]
  },
  {
   "cell_type": "code",
   "execution_count": 23,
   "id": "accd811a-1c51-4343-a9b7-57a418cbdf1d",
   "metadata": {
    "tags": []
   },
   "outputs": [
    {
     "data": {
      "text/html": [
       "<table><tr style=\"border-bottom: 1px solid\"><td style=\"font-weight: bold\">col_name</td><td style=\"font-weight: bold\">data_type</td><td style=\"font-weight: bold\">comment</td></tr><tr><td>order_item_id</td><td>int</td><td>null</td></tr><tr><td>order_item_order_id</td><td>int</td><td>null</td></tr><tr><td>order_item_product_id</td><td>int</td><td>null</td></tr><tr><td>order_item_quantity</td><td>int</td><td>null</td></tr><tr><td>order_item_subtotal</td><td>float</td><td>null</td></tr><tr><td>order_item_product_price</td><td>float</td><td>null</td></tr></table>"
      ],
      "text/plain": [
       "<IPython.core.display.HTML object>"
      ]
     },
     "execution_count": 23,
     "metadata": {},
     "output_type": "execute_result"
    }
   ],
   "source": [
    "%%sparksql\n",
    "\n",
    "DESCRIBE order_items"
   ]
  },
  {
   "cell_type": "markdown",
   "id": "b3f63003-1172-4947-8c5a-0e3249fc8645",
   "metadata": {},
   "source": [
    "the query to compute daily product revenue."
   ]
  },
  {
   "cell_type": "code",
   "execution_count": 24,
   "id": "f9213d2e-8336-4cbc-85ad-2d5d1ecef9b7",
   "metadata": {
    "tags": []
   },
   "outputs": [
    {
     "name": "stderr",
     "output_type": "stream",
     "text": [
      "[Stage 33:=============================>                            (1 + 1) / 2]\r"
     ]
    },
    {
     "name": "stdout",
     "output_type": "stream",
     "text": [
      "only showing top 20 row(s)\n"
     ]
    },
    {
     "name": "stderr",
     "output_type": "stream",
     "text": [
      "                                                                                \r"
     ]
    },
    {
     "data": {
      "text/html": [
       "<table><tr style=\"border-bottom: 1px solid\"><td style=\"font-weight: bold\">order_date</td><td style=\"font-weight: bold\">order_item_product_id</td><td style=\"font-weight: bold\">revenue</td></tr><tr><td>2013-07-25 00:00:00.0</td><td>1004</td><td>5599.72</td></tr><tr><td>2013-07-25 00:00:00.0</td><td>191</td><td>5099.49</td></tr><tr><td>2013-07-25 00:00:00.0</td><td>957</td><td>4499.7</td></tr><tr><td>2013-07-25 00:00:00.0</td><td>365</td><td>3359.44</td></tr><tr><td>2013-07-25 00:00:00.0</td><td>1073</td><td>2999.85</td></tr><tr><td>2013-07-25 00:00:00.0</td><td>1014</td><td>2798.88</td></tr><tr><td>2013-07-25 00:00:00.0</td><td>403</td><td>1949.85</td></tr><tr><td>2013-07-25 00:00:00.0</td><td>502</td><td>1650.0</td></tr><tr><td>2013-07-25 00:00:00.0</td><td>627</td><td>1079.73</td></tr><tr><td>2013-07-25 00:00:00.0</td><td>226</td><td>599.99</td></tr><tr><td>2013-07-25 00:00:00.0</td><td>24</td><td>319.96</td></tr><tr><td>2013-07-25 00:00:00.0</td><td>821</td><td>207.96</td></tr><tr><td>2013-07-25 00:00:00.0</td><td>625</td><td>199.99</td></tr><tr><td>2013-07-25 00:00:00.0</td><td>705</td><td>119.99</td></tr><tr><td>2013-07-25 00:00:00.0</td><td>572</td><td>119.97</td></tr><tr><td>2013-07-25 00:00:00.0</td><td>666</td><td>109.99</td></tr><tr><td>2013-07-25 00:00:00.0</td><td>725</td><td>108.0</td></tr><tr><td>2013-07-25 00:00:00.0</td><td>134</td><td>100.0</td></tr><tr><td>2013-07-25 00:00:00.0</td><td>906</td><td>99.96</td></tr><tr><td>2013-07-25 00:00:00.0</td><td>828</td><td>95.97</td></tr></table>"
      ],
      "text/plain": [
       "<IPython.core.display.HTML object>"
      ]
     },
     "execution_count": 24,
     "metadata": {},
     "output_type": "execute_result"
    }
   ],
   "source": [
    "%%sparksql\n",
    "\n",
    "SELECT o.order_date,oi.order_item_product_id,\n",
    "       round(sum(oi.order_item_subtotal), 2) AS revenue\n",
    "FROM orders o JOIN order_items oi\n",
    "ON o.order_id = oi.order_item_order_id\n",
    "WHERE o.order_status IN ('COMPLETE', 'CLOSED')\n",
    "GROUP BY o.order_date, oi.order_item_product_id\n",
    "ORDER BY o.order_date, revenue DESC\n",
    "LIMIT 100"
   ]
  },
  {
   "cell_type": "markdown",
   "id": "ae9a4c66-a2cd-4dd0-8004-b7e8162583f9",
   "metadata": {},
   "source": [
    "computing the rank for each product with in each date using revenue as criteria."
   ]
  },
  {
   "cell_type": "code",
   "execution_count": 25,
   "id": "56c9d98b-b796-445c-86b7-89bea18a7f85",
   "metadata": {
    "tags": []
   },
   "outputs": [
    {
     "name": "stderr",
     "output_type": "stream",
     "text": [
      "[Stage 39:>                                                         (0 + 1) / 1]\r"
     ]
    },
    {
     "name": "stdout",
     "output_type": "stream",
     "text": [
      "only showing top 20 row(s)\n"
     ]
    },
    {
     "name": "stderr",
     "output_type": "stream",
     "text": [
      "                                                                                \r"
     ]
    },
    {
     "data": {
      "text/html": [
       "<table><tr style=\"border-bottom: 1px solid\"><td style=\"font-weight: bold\">order_date</td><td style=\"font-weight: bold\">order_item_product_id</td><td style=\"font-weight: bold\">revenue</td><td style=\"font-weight: bold\">rnk</td></tr><tr><td>2013-07-25 00:00:00.0</td><td>1004</td><td>5599.72</td><td>1</td></tr><tr><td>2013-07-25 00:00:00.0</td><td>191</td><td>5099.49</td><td>2</td></tr><tr><td>2013-07-25 00:00:00.0</td><td>957</td><td>4499.7</td><td>3</td></tr><tr><td>2013-07-25 00:00:00.0</td><td>365</td><td>3359.44</td><td>4</td></tr><tr><td>2013-07-25 00:00:00.0</td><td>1073</td><td>2999.85</td><td>5</td></tr><tr><td>2013-07-25 00:00:00.0</td><td>1014</td><td>2798.88</td><td>6</td></tr><tr><td>2013-07-25 00:00:00.0</td><td>403</td><td>1949.85</td><td>7</td></tr><tr><td>2013-07-25 00:00:00.0</td><td>502</td><td>1650.0</td><td>8</td></tr><tr><td>2013-07-25 00:00:00.0</td><td>627</td><td>1079.73</td><td>9</td></tr><tr><td>2013-07-25 00:00:00.0</td><td>226</td><td>599.99</td><td>10</td></tr><tr><td>2013-07-25 00:00:00.0</td><td>24</td><td>319.96</td><td>11</td></tr><tr><td>2013-07-25 00:00:00.0</td><td>821</td><td>207.96</td><td>12</td></tr><tr><td>2013-07-25 00:00:00.0</td><td>625</td><td>199.99</td><td>13</td></tr><tr><td>2013-07-25 00:00:00.0</td><td>705</td><td>119.99</td><td>14</td></tr><tr><td>2013-07-25 00:00:00.0</td><td>572</td><td>119.97</td><td>15</td></tr><tr><td>2013-07-25 00:00:00.0</td><td>666</td><td>109.99</td><td>16</td></tr><tr><td>2013-07-25 00:00:00.0</td><td>725</td><td>108.0</td><td>17</td></tr><tr><td>2013-07-25 00:00:00.0</td><td>134</td><td>100.0</td><td>18</td></tr><tr><td>2013-07-25 00:00:00.0</td><td>906</td><td>99.96</td><td>19</td></tr><tr><td>2013-07-25 00:00:00.0</td><td>828</td><td>95.97</td><td>20</td></tr></table>"
      ],
      "text/plain": [
       "<IPython.core.display.HTML object>"
      ]
     },
     "execution_count": 25,
     "metadata": {},
     "output_type": "execute_result"
    }
   ],
   "source": [
    "%%sparksql\n",
    "\n",
    "SELECT q.*,\n",
    "  rank() OVER (PARTITION BY order_date ORDER BY revenue DESC) AS rnk\n",
    "FROM (SELECT o.order_date, oi.order_item_product_id,\n",
    "        round(sum(oi.order_item_subtotal), 2) AS revenue\n",
    "      FROM orders o JOIN order_items oi\n",
    "      ON o.order_id = oi.order_item_order_id\n",
    "      WHERE o.order_status IN ('COMPLETE', 'CLOSED')\n",
    "      GROUP BY o.order_date, oi.order_item_product_id) q\n",
    "ORDER BY order_date, revenue DESC\n",
    "LIMIT 35"
   ]
  },
  {
   "cell_type": "markdown",
   "id": "68317e81-c01d-494c-8842-3ffbe72fc18b",
   "metadata": {},
   "source": [
    "filtering the data."
   ]
  },
  {
   "cell_type": "code",
   "execution_count": 26,
   "id": "cf64b095-ccf1-4518-95c6-e45433cab62c",
   "metadata": {
    "tags": []
   },
   "outputs": [
    {
     "name": "stderr",
     "output_type": "stream",
     "text": [
      "[Stage 46:>                                                         (0 + 1) / 1]\r"
     ]
    },
    {
     "name": "stdout",
     "output_type": "stream",
     "text": [
      "only showing top 20 row(s)\n"
     ]
    },
    {
     "name": "stderr",
     "output_type": "stream",
     "text": [
      "                                                                                \r"
     ]
    },
    {
     "data": {
      "text/html": [
       "<table><tr style=\"border-bottom: 1px solid\"><td style=\"font-weight: bold\">order_date</td><td style=\"font-weight: bold\">order_item_product_id</td><td style=\"font-weight: bold\">revenue</td><td style=\"font-weight: bold\">drnk</td></tr><tr><td>2013-07-25 00:00:00.0</td><td>1004</td><td>5599.72</td><td>1</td></tr><tr><td>2013-07-25 00:00:00.0</td><td>191</td><td>5099.49</td><td>2</td></tr><tr><td>2013-07-25 00:00:00.0</td><td>957</td><td>4499.7</td><td>3</td></tr><tr><td>2013-07-25 00:00:00.0</td><td>365</td><td>3359.44</td><td>4</td></tr><tr><td>2013-07-25 00:00:00.0</td><td>1073</td><td>2999.85</td><td>5</td></tr><tr><td>2013-07-26 00:00:00.0</td><td>1004</td><td>10799.46</td><td>1</td></tr><tr><td>2013-07-26 00:00:00.0</td><td>365</td><td>7978.67</td><td>2</td></tr><tr><td>2013-07-26 00:00:00.0</td><td>957</td><td>6899.54</td><td>3</td></tr><tr><td>2013-07-26 00:00:00.0</td><td>191</td><td>6799.32</td><td>4</td></tr><tr><td>2013-07-26 00:00:00.0</td><td>1014</td><td>4798.08</td><td>5</td></tr><tr><td>2013-07-27 00:00:00.0</td><td>1004</td><td>9599.52</td><td>1</td></tr><tr><td>2013-07-27 00:00:00.0</td><td>191</td><td>5999.4</td><td>2</td></tr><tr><td>2013-07-27 00:00:00.0</td><td>957</td><td>5699.62</td><td>3</td></tr><tr><td>2013-07-27 00:00:00.0</td><td>1073</td><td>5399.73</td><td>4</td></tr><tr><td>2013-07-27 00:00:00.0</td><td>365</td><td>5099.15</td><td>5</td></tr><tr><td>2013-07-28 00:00:00.0</td><td>1004</td><td>5599.72</td><td>1</td></tr><tr><td>2013-07-28 00:00:00.0</td><td>957</td><td>5099.66</td><td>2</td></tr><tr><td>2013-07-28 00:00:00.0</td><td>365</td><td>4799.2</td><td>3</td></tr><tr><td>2013-07-28 00:00:00.0</td><td>403</td><td>4419.66</td><td>4</td></tr><tr><td>2013-07-28 00:00:00.0</td><td>191</td><td>4299.57</td><td>5</td></tr></table>"
      ],
      "text/plain": [
       "<IPython.core.display.HTML object>"
      ]
     },
     "execution_count": 26,
     "metadata": {},
     "output_type": "execute_result"
    }
   ],
   "source": [
    "%%sparksql\n",
    "\n",
    "SELECT * FROM (SELECT q.*,\n",
    "  dense_rank() OVER (PARTITION BY order_date ORDER BY revenue DESC) AS drnk\n",
    "FROM (SELECT o.order_date, oi.order_item_product_id,\n",
    "        round(sum(oi.order_item_subtotal), 2) AS revenue\n",
    "      FROM orders o JOIN order_items oi\n",
    "      ON o.order_id = oi.order_item_order_id\n",
    "      WHERE o.order_status IN ('COMPLETE', 'CLOSED')\n",
    "      GROUP BY o.order_date, oi.order_item_product_id) q) q1\n",
    "WHERE drnk <= 5\n",
    "ORDER BY order_date, revenue DESC\n",
    "LIMIT 35"
   ]
  },
  {
   "cell_type": "code",
   "execution_count": 27,
   "id": "ab0d37b7-b91a-4648-902a-0f2877762bf9",
   "metadata": {
    "tags": []
   },
   "outputs": [
    {
     "name": "stderr",
     "output_type": "stream",
     "text": [
      "[Stage 50:=============================>                            (1 + 1) / 2]\r"
     ]
    },
    {
     "name": "stdout",
     "output_type": "stream",
     "text": [
      "only showing top 20 row(s)\n"
     ]
    },
    {
     "name": "stderr",
     "output_type": "stream",
     "text": [
      "                                                                                \r"
     ]
    },
    {
     "data": {
      "text/html": [
       "<table><tr style=\"border-bottom: 1px solid\"><td style=\"font-weight: bold\">order_date</td><td style=\"font-weight: bold\">order_item_product_id</td><td style=\"font-weight: bold\">revenue</td><td style=\"font-weight: bold\">drnk</td></tr><tr><td>2013-07-25 00:00:00.0</td><td>1004</td><td>5599.72</td><td>1</td></tr><tr><td>2013-07-25 00:00:00.0</td><td>191</td><td>5099.49</td><td>2</td></tr><tr><td>2013-07-25 00:00:00.0</td><td>957</td><td>4499.7</td><td>3</td></tr><tr><td>2013-07-25 00:00:00.0</td><td>365</td><td>3359.44</td><td>4</td></tr><tr><td>2013-07-25 00:00:00.0</td><td>1073</td><td>2999.85</td><td>5</td></tr><tr><td>2013-07-26 00:00:00.0</td><td>1004</td><td>10799.46</td><td>1</td></tr><tr><td>2013-07-26 00:00:00.0</td><td>365</td><td>7978.67</td><td>2</td></tr><tr><td>2013-07-26 00:00:00.0</td><td>957</td><td>6899.54</td><td>3</td></tr><tr><td>2013-07-26 00:00:00.0</td><td>191</td><td>6799.32</td><td>4</td></tr><tr><td>2013-07-26 00:00:00.0</td><td>1014</td><td>4798.08</td><td>5</td></tr><tr><td>2013-07-27 00:00:00.0</td><td>1004</td><td>9599.52</td><td>1</td></tr><tr><td>2013-07-27 00:00:00.0</td><td>191</td><td>5999.4</td><td>2</td></tr><tr><td>2013-07-27 00:00:00.0</td><td>957</td><td>5699.62</td><td>3</td></tr><tr><td>2013-07-27 00:00:00.0</td><td>1073</td><td>5399.73</td><td>4</td></tr><tr><td>2013-07-27 00:00:00.0</td><td>365</td><td>5099.15</td><td>5</td></tr><tr><td>2013-07-28 00:00:00.0</td><td>1004</td><td>5599.72</td><td>1</td></tr><tr><td>2013-07-28 00:00:00.0</td><td>957</td><td>5099.66</td><td>2</td></tr><tr><td>2013-07-28 00:00:00.0</td><td>365</td><td>4799.2</td><td>3</td></tr><tr><td>2013-07-28 00:00:00.0</td><td>403</td><td>4419.66</td><td>4</td></tr><tr><td>2013-07-28 00:00:00.0</td><td>191</td><td>4299.57</td><td>5</td></tr></table>"
      ],
      "text/plain": [
       "<IPython.core.display.HTML object>"
      ]
     },
     "execution_count": 27,
     "metadata": {},
     "output_type": "execute_result"
    },
    {
     "name": "stderr",
     "output_type": "stream",
     "text": [
      "23/04/03 21:36:11 ERROR AsyncEventQueue: Listener EventLoggingListener threw an exception\n",
      "java.io.EOFException: End of File Exception between local host is: \"master/192.168.56.50\"; destination host is: \"master\":9000; : java.io.EOFException; For more details see:  http://wiki.apache.org/hadoop/EOFException\n",
      "\tat sun.reflect.NativeConstructorAccessorImpl.newInstance0(Native Method)\n",
      "\tat sun.reflect.NativeConstructorAccessorImpl.newInstance(NativeConstructorAccessorImpl.java:62)\n",
      "\tat sun.reflect.DelegatingConstructorAccessorImpl.newInstance(DelegatingConstructorAccessorImpl.java:45)\n",
      "\tat java.lang.reflect.Constructor.newInstance(Constructor.java:423)\n",
      "\tat org.apache.hadoop.net.NetUtils.wrapWithMessage(NetUtils.java:913)\n",
      "\tat org.apache.hadoop.net.NetUtils.wrapException(NetUtils.java:862)\n",
      "\tat org.apache.hadoop.ipc.Client.getRpcResponse(Client.java:1616)\n",
      "\tat org.apache.hadoop.ipc.Client.call(Client.java:1558)\n",
      "\tat org.apache.hadoop.ipc.Client.call(Client.java:1455)\n",
      "\tat org.apache.hadoop.ipc.ProtobufRpcEngine2$Invoker.invoke(ProtobufRpcEngine2.java:242)\n",
      "\tat org.apache.hadoop.ipc.ProtobufRpcEngine2$Invoker.invoke(ProtobufRpcEngine2.java:129)\n",
      "\tat com.sun.proxy.$Proxy33.updateBlockForPipeline(Unknown Source)\n",
      "\tat org.apache.hadoop.hdfs.protocolPB.ClientNamenodeProtocolTranslatorPB.updateBlockForPipeline(ClientNamenodeProtocolTranslatorPB.java:1101)\n",
      "\tat sun.reflect.NativeMethodAccessorImpl.invoke0(Native Method)\n",
      "\tat sun.reflect.NativeMethodAccessorImpl.invoke(NativeMethodAccessorImpl.java:62)\n",
      "\tat sun.reflect.DelegatingMethodAccessorImpl.invoke(DelegatingMethodAccessorImpl.java:43)\n",
      "\tat java.lang.reflect.Method.invoke(Method.java:498)\n",
      "\tat org.apache.hadoop.io.retry.RetryInvocationHandler.invokeMethod(RetryInvocationHandler.java:422)\n",
      "\tat org.apache.hadoop.io.retry.RetryInvocationHandler$Call.invokeMethod(RetryInvocationHandler.java:165)\n",
      "\tat org.apache.hadoop.io.retry.RetryInvocationHandler$Call.invoke(RetryInvocationHandler.java:157)\n",
      "\tat org.apache.hadoop.io.retry.RetryInvocationHandler$Call.invokeOnce(RetryInvocationHandler.java:95)\n",
      "\tat org.apache.hadoop.io.retry.RetryInvocationHandler.invoke(RetryInvocationHandler.java:359)\n",
      "\tat com.sun.proxy.$Proxy34.updateBlockForPipeline(Unknown Source)\n",
      "\tat org.apache.hadoop.hdfs.DataStreamer.updateBlockForPipeline(DataStreamer.java:1674)\n",
      "\tat org.apache.hadoop.hdfs.DataStreamer.setupPipelineInternal(DataStreamer.java:1550)\n",
      "\tat org.apache.hadoop.hdfs.DataStreamer.setupPipelineForAppendOrRecovery(DataStreamer.java:1529)\n",
      "\tat org.apache.hadoop.hdfs.DataStreamer.processDatanodeOrExternalError(DataStreamer.java:1305)\n",
      "\tat org.apache.hadoop.hdfs.DataStreamer.run(DataStreamer.java:668)\n",
      "Caused by: java.io.EOFException\n",
      "\tat java.io.DataInputStream.readInt(DataInputStream.java:392)\n",
      "\tat org.apache.hadoop.ipc.Client$IpcStreams.readResponse(Client.java:1922)\n",
      "\tat org.apache.hadoop.ipc.Client$Connection.receiveRpcResponse(Client.java:1238)\n",
      "\tat org.apache.hadoop.ipc.Client$Connection.run(Client.java:1134)\n",
      "23/04/03 21:36:11 ERROR TransportResponseHandler: Still have 1 requests outstanding when connection from /192.168.56.52:36448 is closed\n",
      "23/04/03 21:36:11 ERROR YarnScheduler: Lost executor 2 on slave2: Executor Process Lost\n",
      "23/04/03 21:36:11 ERROR TransportClient: Failed to send RPC RPC 8245218192325424821 to /192.168.56.52:36448: io.netty.channel.StacklessClosedChannelException\n",
      "io.netty.channel.StacklessClosedChannelException\n",
      "\tat io.netty.channel.AbstractChannel$AbstractUnsafe.write(Object, ChannelPromise)(Unknown Source)\n",
      "23/04/03 21:36:11 ERROR YarnScheduler: Lost executor 1 on slave1: Executor Process Lost\n",
      "23/04/03 21:36:11 ERROR AsyncEventQueue: Listener EventLoggingListener threw an exception\n",
      "java.io.EOFException: End of File Exception between local host is: \"master/192.168.56.50\"; destination host is: \"master\":9000; : java.io.EOFException; For more details see:  http://wiki.apache.org/hadoop/EOFException\n",
      "\tat sun.reflect.NativeConstructorAccessorImpl.newInstance0(Native Method)\n",
      "\tat sun.reflect.NativeConstructorAccessorImpl.newInstance(NativeConstructorAccessorImpl.java:62)\n",
      "\tat sun.reflect.DelegatingConstructorAccessorImpl.newInstance(DelegatingConstructorAccessorImpl.java:45)\n",
      "\tat java.lang.reflect.Constructor.newInstance(Constructor.java:423)\n",
      "\tat org.apache.hadoop.net.NetUtils.wrapWithMessage(NetUtils.java:913)\n",
      "\tat org.apache.hadoop.net.NetUtils.wrapException(NetUtils.java:862)\n",
      "\tat org.apache.hadoop.ipc.Client.getRpcResponse(Client.java:1616)\n",
      "\tat org.apache.hadoop.ipc.Client.call(Client.java:1558)\n",
      "\tat org.apache.hadoop.ipc.Client.call(Client.java:1455)\n",
      "\tat org.apache.hadoop.ipc.ProtobufRpcEngine2$Invoker.invoke(ProtobufRpcEngine2.java:242)\n",
      "\tat org.apache.hadoop.ipc.ProtobufRpcEngine2$Invoker.invoke(ProtobufRpcEngine2.java:129)\n",
      "\tat com.sun.proxy.$Proxy33.updateBlockForPipeline(Unknown Source)\n",
      "\tat org.apache.hadoop.hdfs.protocolPB.ClientNamenodeProtocolTranslatorPB.updateBlockForPipeline(ClientNamenodeProtocolTranslatorPB.java:1101)\n",
      "\tat sun.reflect.NativeMethodAccessorImpl.invoke0(Native Method)\n",
      "\tat sun.reflect.NativeMethodAccessorImpl.invoke(NativeMethodAccessorImpl.java:62)\n",
      "\tat sun.reflect.DelegatingMethodAccessorImpl.invoke(DelegatingMethodAccessorImpl.java:43)\n",
      "\tat java.lang.reflect.Method.invoke(Method.java:498)\n",
      "\tat org.apache.hadoop.io.retry.RetryInvocationHandler.invokeMethod(RetryInvocationHandler.java:422)\n",
      "\tat org.apache.hadoop.io.retry.RetryInvocationHandler$Call.invokeMethod(RetryInvocationHandler.java:165)\n",
      "\tat org.apache.hadoop.io.retry.RetryInvocationHandler$Call.invoke(RetryInvocationHandler.java:157)\n",
      "\tat org.apache.hadoop.io.retry.RetryInvocationHandler$Call.invokeOnce(RetryInvocationHandler.java:95)\n",
      "\tat org.apache.hadoop.io.retry.RetryInvocationHandler.invoke(RetryInvocationHandler.java:359)\n",
      "\tat com.sun.proxy.$Proxy34.updateBlockForPipeline(Unknown Source)\n",
      "\tat org.apache.hadoop.hdfs.DataStreamer.updateBlockForPipeline(DataStreamer.java:1674)\n",
      "\tat org.apache.hadoop.hdfs.DataStreamer.setupPipelineInternal(DataStreamer.java:1550)\n",
      "\tat org.apache.hadoop.hdfs.DataStreamer.setupPipelineForAppendOrRecovery(DataStreamer.java:1529)\n",
      "\tat org.apache.hadoop.hdfs.DataStreamer.processDatanodeOrExternalError(DataStreamer.java:1305)\n",
      "\tat org.apache.hadoop.hdfs.DataStreamer.run(DataStreamer.java:668)\n",
      "Caused by: java.io.EOFException\n",
      "\tat java.io.DataInputStream.readInt(DataInputStream.java:392)\n",
      "\tat org.apache.hadoop.ipc.Client$IpcStreams.readResponse(Client.java:1922)\n",
      "\tat org.apache.hadoop.ipc.Client$Connection.receiveRpcResponse(Client.java:1238)\n",
      "\tat org.apache.hadoop.ipc.Client$Connection.run(Client.java:1134)\n",
      "23/04/03 21:36:11 ERROR AsyncEventQueue: Listener EventLoggingListener threw an exception\n",
      "java.io.EOFException: End of File Exception between local host is: \"master/192.168.56.50\"; destination host is: \"master\":9000; : java.io.EOFException; For more details see:  http://wiki.apache.org/hadoop/EOFException\n",
      "\tat sun.reflect.NativeConstructorAccessorImpl.newInstance0(Native Method)\n",
      "\tat sun.reflect.NativeConstructorAccessorImpl.newInstance(NativeConstructorAccessorImpl.java:62)\n",
      "\tat sun.reflect.DelegatingConstructorAccessorImpl.newInstance(DelegatingConstructorAccessorImpl.java:45)\n",
      "\tat java.lang.reflect.Constructor.newInstance(Constructor.java:423)\n",
      "\tat org.apache.hadoop.net.NetUtils.wrapWithMessage(NetUtils.java:913)\n",
      "\tat org.apache.hadoop.net.NetUtils.wrapException(NetUtils.java:862)\n",
      "\tat org.apache.hadoop.ipc.Client.getRpcResponse(Client.java:1616)\n",
      "\tat org.apache.hadoop.ipc.Client.call(Client.java:1558)\n",
      "\tat org.apache.hadoop.ipc.Client.call(Client.java:1455)\n",
      "\tat org.apache.hadoop.ipc.ProtobufRpcEngine2$Invoker.invoke(ProtobufRpcEngine2.java:242)\n",
      "\tat org.apache.hadoop.ipc.ProtobufRpcEngine2$Invoker.invoke(ProtobufRpcEngine2.java:129)\n",
      "\tat com.sun.proxy.$Proxy33.updateBlockForPipeline(Unknown Source)\n",
      "\tat org.apache.hadoop.hdfs.protocolPB.ClientNamenodeProtocolTranslatorPB.updateBlockForPipeline(ClientNamenodeProtocolTranslatorPB.java:1101)\n",
      "\tat sun.reflect.NativeMethodAccessorImpl.invoke0(Native Method)\n",
      "\tat sun.reflect.NativeMethodAccessorImpl.invoke(NativeMethodAccessorImpl.java:62)\n",
      "\tat sun.reflect.DelegatingMethodAccessorImpl.invoke(DelegatingMethodAccessorImpl.java:43)\n",
      "\tat java.lang.reflect.Method.invoke(Method.java:498)\n",
      "\tat org.apache.hadoop.io.retry.RetryInvocationHandler.invokeMethod(RetryInvocationHandler.java:422)\n",
      "\tat org.apache.hadoop.io.retry.RetryInvocationHandler$Call.invokeMethod(RetryInvocationHandler.java:165)\n",
      "\tat org.apache.hadoop.io.retry.RetryInvocationHandler$Call.invoke(RetryInvocationHandler.java:157)\n",
      "\tat org.apache.hadoop.io.retry.RetryInvocationHandler$Call.invokeOnce(RetryInvocationHandler.java:95)\n",
      "\tat org.apache.hadoop.io.retry.RetryInvocationHandler.invoke(RetryInvocationHandler.java:359)\n",
      "\tat com.sun.proxy.$Proxy34.updateBlockForPipeline(Unknown Source)\n",
      "\tat org.apache.hadoop.hdfs.DataStreamer.updateBlockForPipeline(DataStreamer.java:1674)\n",
      "\tat org.apache.hadoop.hdfs.DataStreamer.setupPipelineInternal(DataStreamer.java:1550)\n",
      "\tat org.apache.hadoop.hdfs.DataStreamer.setupPipelineForAppendOrRecovery(DataStreamer.java:1529)\n",
      "\tat org.apache.hadoop.hdfs.DataStreamer.processDatanodeOrExternalError(DataStreamer.java:1305)\n",
      "\tat org.apache.hadoop.hdfs.DataStreamer.run(DataStreamer.java:668)\n",
      "Caused by: java.io.EOFException\n",
      "\tat java.io.DataInputStream.readInt(DataInputStream.java:392)\n",
      "\tat org.apache.hadoop.ipc.Client$IpcStreams.readResponse(Client.java:1922)\n",
      "\tat org.apache.hadoop.ipc.Client$Connection.receiveRpcResponse(Client.java:1238)\n",
      "\tat org.apache.hadoop.ipc.Client$Connection.run(Client.java:1134)\n",
      "23/04/03 21:36:11 ERROR AsyncEventQueue: Listener EventLoggingListener threw an exception\n",
      "java.io.EOFException: End of File Exception between local host is: \"master/192.168.56.50\"; destination host is: \"master\":9000; : java.io.EOFException; For more details see:  http://wiki.apache.org/hadoop/EOFException\n",
      "\tat sun.reflect.NativeConstructorAccessorImpl.newInstance0(Native Method)\n",
      "\tat sun.reflect.NativeConstructorAccessorImpl.newInstance(NativeConstructorAccessorImpl.java:62)\n",
      "\tat sun.reflect.DelegatingConstructorAccessorImpl.newInstance(DelegatingConstructorAccessorImpl.java:45)\n",
      "\tat java.lang.reflect.Constructor.newInstance(Constructor.java:423)\n",
      "\tat org.apache.hadoop.net.NetUtils.wrapWithMessage(NetUtils.java:913)\n",
      "\tat org.apache.hadoop.net.NetUtils.wrapException(NetUtils.java:862)\n",
      "\tat org.apache.hadoop.ipc.Client.getRpcResponse(Client.java:1616)\n",
      "\tat org.apache.hadoop.ipc.Client.call(Client.java:1558)\n",
      "\tat org.apache.hadoop.ipc.Client.call(Client.java:1455)\n",
      "\tat org.apache.hadoop.ipc.ProtobufRpcEngine2$Invoker.invoke(ProtobufRpcEngine2.java:242)\n",
      "\tat org.apache.hadoop.ipc.ProtobufRpcEngine2$Invoker.invoke(ProtobufRpcEngine2.java:129)\n",
      "\tat com.sun.proxy.$Proxy33.updateBlockForPipeline(Unknown Source)\n",
      "\tat org.apache.hadoop.hdfs.protocolPB.ClientNamenodeProtocolTranslatorPB.updateBlockForPipeline(ClientNamenodeProtocolTranslatorPB.java:1101)\n",
      "\tat sun.reflect.NativeMethodAccessorImpl.invoke0(Native Method)\n",
      "\tat sun.reflect.NativeMethodAccessorImpl.invoke(NativeMethodAccessorImpl.java:62)\n",
      "\tat sun.reflect.DelegatingMethodAccessorImpl.invoke(DelegatingMethodAccessorImpl.java:43)\n",
      "\tat java.lang.reflect.Method.invoke(Method.java:498)\n",
      "\tat org.apache.hadoop.io.retry.RetryInvocationHandler.invokeMethod(RetryInvocationHandler.java:422)\n",
      "\tat org.apache.hadoop.io.retry.RetryInvocationHandler$Call.invokeMethod(RetryInvocationHandler.java:165)\n",
      "\tat org.apache.hadoop.io.retry.RetryInvocationHandler$Call.invoke(RetryInvocationHandler.java:157)\n",
      "\tat org.apache.hadoop.io.retry.RetryInvocationHandler$Call.invokeOnce(RetryInvocationHandler.java:95)\n",
      "\tat org.apache.hadoop.io.retry.RetryInvocationHandler.invoke(RetryInvocationHandler.java:359)\n",
      "\tat com.sun.proxy.$Proxy34.updateBlockForPipeline(Unknown Source)\n",
      "\tat org.apache.hadoop.hdfs.DataStreamer.updateBlockForPipeline(DataStreamer.java:1674)\n",
      "\tat org.apache.hadoop.hdfs.DataStreamer.setupPipelineInternal(DataStreamer.java:1550)\n",
      "\tat org.apache.hadoop.hdfs.DataStreamer.setupPipelineForAppendOrRecovery(DataStreamer.java:1529)\n",
      "\tat org.apache.hadoop.hdfs.DataStreamer.processDatanodeOrExternalError(DataStreamer.java:1305)\n",
      "\tat org.apache.hadoop.hdfs.DataStreamer.run(DataStreamer.java:668)\n",
      "Caused by: java.io.EOFException\n",
      "\tat java.io.DataInputStream.readInt(DataInputStream.java:392)\n",
      "\tat org.apache.hadoop.ipc.Client$IpcStreams.readResponse(Client.java:1922)\n",
      "\tat org.apache.hadoop.ipc.Client$Connection.receiveRpcResponse(Client.java:1238)\n",
      "\tat org.apache.hadoop.ipc.Client$Connection.run(Client.java:1134)\n"
     ]
    }
   ],
   "source": [
    "%%sparksql\n",
    "\n",
    "SELECT * FROM (SELECT dpr.*,\n",
    "  dense_rank() OVER (PARTITION BY order_date ORDER BY revenue DESC) AS drnk\n",
    "FROM daily_product_revenue AS dpr)\n",
    "WHERE drnk <= 5\n",
    "ORDER BY order_date, revenue DESC\n",
    "LIMIT 35"
   ]
  },
  {
   "cell_type": "code",
   "execution_count": null,
   "id": "127c8674-3c1a-4268-b469-510b61817d62",
   "metadata": {},
   "outputs": [],
   "source": []
  }
 ],
 "metadata": {
  "kernelspec": {
   "display_name": "Pyspark 3",
   "language": "python",
   "name": "pyspark3"
  },
  "language_info": {
   "codemirror_mode": {
    "name": "ipython",
    "version": 3
   },
   "file_extension": ".py",
   "mimetype": "text/x-python",
   "name": "python",
   "nbconvert_exporter": "python",
   "pygments_lexer": "ipython3",
   "version": "3.8.10"
  }
 },
 "nbformat": 4,
 "nbformat_minor": 5
}
