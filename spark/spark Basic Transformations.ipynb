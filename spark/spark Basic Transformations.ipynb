{
 "cells": [
  {
   "cell_type": "code",
   "execution_count": 1,
   "id": "c988d9e9-c726-47b1-8957-889fc56edd69",
   "metadata": {
    "tags": []
   },
   "outputs": [],
   "source": [
    "from pyspark.sql import SparkSession"
   ]
  },
  {
   "cell_type": "code",
   "execution_count": 2,
   "id": "2889e9e7-da93-4f95-8103-f05682a97865",
   "metadata": {
    "tags": []
   },
   "outputs": [
    {
     "name": "stderr",
     "output_type": "stream",
     "text": [
      "Setting default log level to \"WARN\".\n",
      "To adjust logging level use sc.setLogLevel(newLevel). For SparkR, use setLogLevel(newLevel).\n"
     ]
    }
   ],
   "source": [
    "spark = SparkSession. \\\n",
    "    builder. \\\n",
    "    config('spark.ui.port', '0'). \\\n",
    "    enableHiveSupport(). \\\n",
    "    appName('Basic Transformations'). \\\n",
    "    getOrCreate()"
   ]
  },
  {
   "cell_type": "markdown",
   "id": "f04012ea-d83c-47d5-be25-6349f4600309",
   "metadata": {
    "tags": []
   },
   "source": [
    "### importing functions"
   ]
  },
  {
   "cell_type": "code",
   "execution_count": 147,
   "id": "b78772a9-3b8e-4575-8968-70bb45cd5b8e",
   "metadata": {
    "tags": []
   },
   "outputs": [],
   "source": [
    "from pyspark.sql.functions import col, lpad, concat,date_format,to_date,\\\n",
    "count,lit,countDistinct,coalesce,expr,sum,avg,round,min, max,month,year,when,upper"
   ]
  },
  {
   "cell_type": "markdown",
   "id": "7cd79007-df7b-432a-919b-d03d906b7012",
   "metadata": {},
   "source": [
    "# TASK\n",
    "1. Get total number of flights as well as number of flights which are delayed in departure and number of flights delayed in arrival.\n",
    "     - Output should contain 3 columns - **FlightCount, DepDelayedCount, ArrDelayedCount**\n",
    "2. Get number of flights which are delayed in departure and number of flights delayed in arrival for each day along with number of flights departed for each day.\n",
    "    - Output should contain 4 columns - **FlightDate, FlightCount, DepDelayedCount, ArrDelayedCount**\n",
    "    - FlightDate should be of **yyyy-MM-dd format**.\n",
    "    - Data should be **sorted** in ascending order by **flightDate**\n",
    "3. Get all the flights which are departed late but arrived early (**IsArrDelayed is NO**).\n",
    "    - Output should contain - **FlightCRSDepTime, UniqueCarrier, FlightNum, Origin, Dest, DepDelay, ArrDelay**\n",
    "    - **FlightCRSDepTime** need to be computed using **Year, Month, DayOfMonth, CRSDepTime**\n",
    "    - **FlightCRSDepTime** should be displayed using **yyyy-MM-dd HH:mm format**.\n",
    "    - Output should be **sorted** by **FlightCRSDepTime** and then by the difference between **DepDelay** and **ArrDelay**\n",
    "    - Also get the **count** of such flights\n"
   ]
  },
  {
   "cell_type": "markdown",
   "id": "022d4ecb-5efd-432c-ba85-deae666ff70b",
   "metadata": {
    "tags": []
   },
   "source": [
    " >Building the Data Frame to explore basic transformations. Creating data frame using air traffic data."
   ]
  },
  {
   "cell_type": "code",
   "execution_count": 4,
   "id": "6df64f41-8749-4653-af9b-28dfb5c68eb3",
   "metadata": {
    "tags": []
   },
   "outputs": [
    {
     "name": "stdout",
     "output_type": "stream",
     "text": [
      "Found 4 items\n",
      "-rw-rw-rw-   2 hadoop supergroup          0 2023-04-08 14:31 /workarea/airlines-part/_SUCCESS\n",
      "drwxrwxrwx   - hadoop supergroup          0 2023-04-08 14:31 /workarea/airlines-part/flightmonth=198710\n",
      "drwxrwxrwx   - hadoop supergroup          0 2023-04-08 14:31 /workarea/airlines-part/flightmonth=198711\n",
      "drwxrwxrwx   - hadoop supergroup          0 2023-04-08 14:31 /workarea/airlines-part/flightmonth=198712\n"
     ]
    }
   ],
   "source": [
    "!hdfs dfs -ls /workarea/airlines-part"
   ]
  },
  {
   "cell_type": "code",
   "execution_count": 5,
   "id": "0b3a9f31-cb70-488c-949f-02f6d088bbb1",
   "metadata": {
    "tags": []
   },
   "outputs": [],
   "source": [
    "airtraffic_path = \"/workarea/airlines-part/flightmonth=198710\""
   ]
  },
  {
   "cell_type": "code",
   "execution_count": 6,
   "id": "d1b4f2db-69b1-4a86-9385-e7aabfb3f04c",
   "metadata": {
    "tags": []
   },
   "outputs": [
    {
     "name": "stderr",
     "output_type": "stream",
     "text": [
      "                                                                                \r"
     ]
    }
   ],
   "source": [
    "airtraffic = spark. \\\n",
    "    read. \\\n",
    "    parquet(airtraffic_path)"
   ]
  },
  {
   "cell_type": "code",
   "execution_count": 7,
   "id": "802f0081-0ee8-4198-b887-86b58bae3976",
   "metadata": {
    "tags": []
   },
   "outputs": [
    {
     "name": "stdout",
     "output_type": "stream",
     "text": [
      "root\n",
      " |-- Year: integer (nullable = true)\n",
      " |-- Month: integer (nullable = true)\n",
      " |-- DayofMonth: integer (nullable = true)\n",
      " |-- DayOfWeek: integer (nullable = true)\n",
      " |-- DepTime: string (nullable = true)\n",
      " |-- CRSDepTime: integer (nullable = true)\n",
      " |-- ArrTime: string (nullable = true)\n",
      " |-- CRSArrTime: integer (nullable = true)\n",
      " |-- UniqueCarrier: string (nullable = true)\n",
      " |-- FlightNum: integer (nullable = true)\n",
      " |-- TailNum: string (nullable = true)\n",
      " |-- ActualElapsedTime: string (nullable = true)\n",
      " |-- CRSElapsedTime: integer (nullable = true)\n",
      " |-- AirTime: string (nullable = true)\n",
      " |-- ArrDelay: string (nullable = true)\n",
      " |-- DepDelay: string (nullable = true)\n",
      " |-- Origin: string (nullable = true)\n",
      " |-- Dest: string (nullable = true)\n",
      " |-- Distance: string (nullable = true)\n",
      " |-- TaxiIn: string (nullable = true)\n",
      " |-- TaxiOut: string (nullable = true)\n",
      " |-- Cancelled: integer (nullable = true)\n",
      " |-- CancellationCode: string (nullable = true)\n",
      " |-- Diverted: integer (nullable = true)\n",
      " |-- CarrierDelay: string (nullable = true)\n",
      " |-- WeatherDelay: string (nullable = true)\n",
      " |-- NASDelay: string (nullable = true)\n",
      " |-- SecurityDelay: string (nullable = true)\n",
      " |-- LateAircraftDelay: string (nullable = true)\n",
      " |-- IsArrDelayed: string (nullable = true)\n",
      " |-- IsDepDelayed: string (nullable = true)\n",
      "\n"
     ]
    }
   ],
   "source": [
    "airtraffic.printSchema()"
   ]
  },
  {
   "cell_type": "code",
   "execution_count": 8,
   "id": "626362af-fd1d-4b77-9826-bfb37d001235",
   "metadata": {
    "tags": []
   },
   "outputs": [
    {
     "name": "stderr",
     "output_type": "stream",
     "text": [
      "                                                                                \r"
     ]
    },
    {
     "name": "stdout",
     "output_type": "stream",
     "text": [
      "+----+-----+----------+\n",
      "|Year|Month|DayOfMonth|\n",
      "+----+-----+----------+\n",
      "|1987|   10|         3|\n",
      "|1987|   10|         6|\n",
      "|1987|   10|        18|\n",
      "|1987|   10|         4|\n",
      "|1987|   10|        26|\n",
      "+----+-----+----------+\n",
      "only showing top 5 rows\n",
      "\n"
     ]
    }
   ],
   "source": [
    "airtraffic.select('Year', 'Month', 'DayOfMonth').distinct().show(5)"
   ]
  },
  {
   "cell_type": "code",
   "execution_count": 9,
   "id": "25d98507-7dbf-4d5b-9789-bae88028d385",
   "metadata": {
    "tags": []
   },
   "outputs": [
    {
     "name": "stderr",
     "output_type": "stream",
     "text": [
      "                                                                                \r"
     ]
    },
    {
     "data": {
      "text/plain": [
       "31"
      ]
     },
     "execution_count": 9,
     "metadata": {},
     "output_type": "execute_result"
    }
   ],
   "source": [
    "airtraffic.select('Year', 'Month', 'DayOfMonth').distinct().count()"
   ]
  },
  {
   "cell_type": "code",
   "execution_count": 10,
   "id": "a474c5d6-74bd-4407-a1a9-a4447dad58eb",
   "metadata": {
    "tags": []
   },
   "outputs": [
    {
     "name": "stderr",
     "output_type": "stream",
     "text": [
      "                                                                                \r"
     ]
    },
    {
     "data": {
      "text/plain": [
       "448558"
      ]
     },
     "execution_count": 10,
     "metadata": {},
     "output_type": "execute_result"
    }
   ],
   "source": [
    "airtraffic.count()"
   ]
  },
  {
   "cell_type": "code",
   "execution_count": 11,
   "id": "254a4bf4-ea7b-4260-8b45-f8b205bf7347",
   "metadata": {
    "tags": []
   },
   "outputs": [
    {
     "name": "stderr",
     "output_type": "stream",
     "text": [
      "                                                                                \r"
     ]
    },
    {
     "name": "stdout",
     "output_type": "stream",
     "text": [
      "+----+-----+----------+---------+-------+----------+-------+----------+-------------+---------+-------+-----------------+--------------+-------+--------+--------+------+----+--------+------+-------+---------+----------------+--------+------------+------------+--------+-------------+-----------------+------------+------------+\n",
      "|Year|Month|DayofMonth|DayOfWeek|DepTime|CRSDepTime|ArrTime|CRSArrTime|UniqueCarrier|FlightNum|TailNum|ActualElapsedTime|CRSElapsedTime|AirTime|ArrDelay|DepDelay|Origin|Dest|Distance|TaxiIn|TaxiOut|Cancelled|CancellationCode|Diverted|CarrierDelay|WeatherDelay|NASDelay|SecurityDelay|LateAircraftDelay|IsArrDelayed|IsDepDelayed|\n",
      "+----+-----+----------+---------+-------+----------+-------+----------+-------------+---------+-------+-----------------+--------------+-------+--------+--------+------+----+--------+------+-------+---------+----------------+--------+------------+------------+--------+-------------+-----------------+------------+------------+\n",
      "|1987|   10|        27|        2|    916|       915|   1014|      1001|           PS|     1451|     NA|               58|            46|     NA|      13|       1|   SFO| RNO|     192|    NA|     NA|        0|              NA|       0|          NA|          NA|      NA|           NA|               NA|         YES|         YES|\n",
      "|1987|   10|         8|        4|   1310|      1310|   1442|      1424|           PS|     1479|     NA|               92|            74|     NA|      18|       0|   SAN| OAK|     446|    NA|     NA|        0|              NA|       0|          NA|          NA|      NA|           NA|               NA|         YES|          NO|\n",
      "|1987|   10|        30|        5|   1931|      1915|   2100|      2033|           PS|     1480|     NA|               89|            78|     NA|      27|      16|   SFO| SAN|     447|    NA|     NA|        0|              NA|       0|          NA|          NA|      NA|           NA|               NA|         YES|         YES|\n",
      "|1987|   10|        14|        3|    824|       815|    948|       928|           PS|     1489|     NA|               84|            73|     NA|      20|       9|   SNA| OAK|     371|    NA|     NA|        0|              NA|       0|          NA|          NA|      NA|           NA|               NA|         YES|         YES|\n",
      "|1987|   10|        23|        5|   1807|      1745|   1924|      1855|           PS|     1500|     NA|               77|            70|     NA|      29|      22|   SMF| LAX|     373|    NA|     NA|        0|              NA|       0|          NA|          NA|      NA|           NA|               NA|         YES|         YES|\n",
      "|1987|   10|         9|        5|   1415|      1400|   1524|      1508|           PS|     1509|     NA|               69|            68|     NA|      16|      15|   SNA| SJC|     342|    NA|     NA|        0|              NA|       0|          NA|          NA|      NA|           NA|               NA|         YES|         YES|\n",
      "|1987|   10|        23|        5|    855|       842|   1053|      1030|           PS|     1517|     NA|              118|           108|     NA|      23|      13|   SFO| GEG|     733|    NA|     NA|        0|              NA|       0|          NA|          NA|      NA|           NA|               NA|         YES|         YES|\n",
      "|1987|   10|         6|        2|   1802|      1800|   1925|      1911|           PS|     1526|     NA|               83|            71|     NA|      14|       2|   SFO| LAX|     337|    NA|     NA|        0|              NA|       0|          NA|          NA|      NA|           NA|               NA|         YES|         YES|\n",
      "|1987|   10|        23|        5|    827|       825|    931|       928|           PS|     1548|     NA|               64|            63|     NA|       3|       2|   SMF| BUR|     358|    NA|     NA|        0|              NA|       0|          NA|          NA|      NA|           NA|               NA|         YES|         YES|\n",
      "|1987|   10|         3|        6|   1945|      1946|   2035|      2034|           PS|     1564|     NA|               50|            48|     NA|       1|      -1|   BUR| LAS|     223|    NA|     NA|        0|              NA|       0|          NA|          NA|      NA|           NA|               NA|         YES|          NO|\n",
      "|1987|   10|        30|        5|   1853|      1853|   2013|      2007|           PS|     1570|     NA|               80|            74|     NA|       6|       0|   SMF| SAN|     480|    NA|     NA|        0|              NA|       0|          NA|          NA|      NA|           NA|               NA|         YES|          NO|\n",
      "|1987|   10|         7|        3|    101|        45|    158|       144|           PS|     1578|     NA|               57|            59|     NA|      14|      16|   SFO| LAX|     337|    NA|     NA|        0|              NA|       0|          NA|          NA|      NA|           NA|               NA|         YES|         YES|\n",
      "|1987|   10|        30|        5|    119|        50|    225|       152|           PS|     1578|     NA|               66|            62|     NA|      33|      29|   SFO| LAX|     337|    NA|     NA|        0|              NA|       0|          NA|          NA|      NA|           NA|               NA|         YES|         YES|\n",
      "|1987|   10|        29|        4|   1508|      1442|   1603|      1535|           PS|     1585|     NA|               55|            53|     NA|      28|      26|   LAS| SAN|     258|    NA|     NA|        0|              NA|       0|          NA|          NA|      NA|           NA|               NA|         YES|         YES|\n",
      "|1987|   10|         3|        6|   1639|      1626|   1737|      1722|           PS|     1588|     NA|               58|            56|     NA|      15|      13|   SAN| LAS|     258|    NA|     NA|        0|              NA|       0|          NA|          NA|      NA|           NA|               NA|         YES|         YES|\n",
      "|1987|   10|         3|        6|   1721|      1700|   1840|      1803|           PS|     1637|     NA|               79|            63|     NA|      37|      21|   LAX| SFO|     337|    NA|     NA|        0|              NA|       0|          NA|          NA|      NA|           NA|               NA|         YES|         YES|\n",
      "|1987|   10|        11|        7|   1319|      1320|   1416|      1418|           PS|     1655|     NA|               57|            58|     NA|      -2|      -1|   BUR| SJC|     296|    NA|     NA|        0|              NA|       0|          NA|          NA|      NA|           NA|               NA|          NO|          NO|\n",
      "|1987|   10|        25|        7|   2047|      2040|   2153|      2145|           PS|     1658|     NA|               66|            65|     NA|       8|       7|   RNO| BUR|     374|    NA|     NA|        0|              NA|       0|          NA|          NA|      NA|           NA|               NA|         YES|         YES|\n",
      "|1987|   10|        10|        6|   1353|      1330|   1502|      1441|           PS|     1673|     NA|               69|            71|     NA|      21|      23|   SAN| SJC|     417|    NA|     NA|        0|              NA|       0|          NA|          NA|      NA|           NA|               NA|         YES|         YES|\n",
      "|1987|   10|        25|        7|   2058|      2045|   2233|      2201|           PS|     1690|     NA|               95|            76|     NA|      32|      13|   SFO| SAN|     447|    NA|     NA|        0|              NA|       0|          NA|          NA|      NA|           NA|               NA|         YES|         YES|\n",
      "+----+-----+----------+---------+-------+----------+-------+----------+-------------+---------+-------+-----------------+--------------+-------+--------+--------+------+----+--------+------+-------+---------+----------------+--------+------------+------------+--------+-------------+-----------------+------------+------------+\n",
      "only showing top 20 rows\n",
      "\n"
     ]
    }
   ],
   "source": [
    "airtraffic.show()"
   ]
  },
  {
   "cell_type": "markdown",
   "id": "7135b099-b2ee-46ff-8b56-ce10b6c69e98",
   "metadata": {},
   "source": [
    "Getting  count of cancelled flights using **filter**"
   ]
  },
  {
   "cell_type": "code",
   "execution_count": 12,
   "id": "e34dadf1-6d60-4639-9d4c-09329c2b2d3f",
   "metadata": {
    "tags": []
   },
   "outputs": [
    {
     "name": "stderr",
     "output_type": "stream",
     "text": [
      "[Stage 14:=============================>                            (1 + 1) / 2]\r"
     ]
    },
    {
     "name": "stdout",
     "output_type": "stream",
     "text": [
      "+---------+\n",
      "|Cancelled|\n",
      "+---------+\n",
      "|        1|\n",
      "|        0|\n",
      "+---------+\n",
      "\n"
     ]
    },
    {
     "name": "stderr",
     "output_type": "stream",
     "text": [
      "                                                                                \r"
     ]
    }
   ],
   "source": [
    "airtraffic.select('Cancelled').distinct().show()"
   ]
  },
  {
   "cell_type": "code",
   "execution_count": 13,
   "id": "c579a8bc-f4bc-4cef-baab-55466e60578a",
   "metadata": {
    "tags": []
   },
   "outputs": [
    {
     "name": "stderr",
     "output_type": "stream",
     "text": [
      "                                                                                \r"
     ]
    },
    {
     "data": {
      "text/plain": [
       "2998"
      ]
     },
     "execution_count": 13,
     "metadata": {},
     "output_type": "execute_result"
    }
   ],
   "source": [
    "airtraffic.filter('Cancelled = 1').count()"
   ]
  },
  {
   "cell_type": "code",
   "execution_count": 14,
   "id": "e0e8ca56-2b0f-4d4a-af7e-b5b104236b8e",
   "metadata": {
    "tags": []
   },
   "outputs": [
    {
     "name": "stderr",
     "output_type": "stream",
     "text": [
      "                                                                                \r"
     ]
    },
    {
     "data": {
      "text/plain": [
       "2998"
      ]
     },
     "execution_count": 14,
     "metadata": {},
     "output_type": "execute_result"
    }
   ],
   "source": [
    "#Alternative format\n",
    "airtraffic.filter(airtraffic['Cancelled'] == 1).count()"
   ]
  },
  {
   "cell_type": "code",
   "execution_count": 15,
   "id": "b3d510e0-6a66-4ad9-a7fd-9486a37bb53b",
   "metadata": {
    "tags": []
   },
   "outputs": [
    {
     "data": {
      "text/plain": [
       "2998"
      ]
     },
     "execution_count": 15,
     "metadata": {},
     "output_type": "execute_result"
    }
   ],
   "source": [
    "#Alternative format\n",
    "airtraffic.filter(airtraffic.Cancelled == 1).count()"
   ]
  },
  {
   "cell_type": "markdown",
   "id": "7b055478-5fb5-46d8-bd87-30bb54eb552a",
   "metadata": {},
   "source": [
    "Get number of flights scheduled for departure from SFO airport."
   ]
  },
  {
   "cell_type": "code",
   "execution_count": 16,
   "id": "05d3ede6-e6ba-4561-9a9f-bc6ccc12081b",
   "metadata": {
    "tags": []
   },
   "outputs": [
    {
     "name": "stderr",
     "output_type": "stream",
     "text": [
      "                                                                                \r"
     ]
    },
    {
     "data": {
      "text/plain": [
       "12195"
      ]
     },
     "execution_count": 16,
     "metadata": {},
     "output_type": "execute_result"
    }
   ],
   "source": [
    "airtraffic.filter(\"Origin = 'SFO'\").count()"
   ]
  },
  {
   "cell_type": "code",
   "execution_count": 17,
   "id": "21fb1395-923d-4e62-9407-a67cb4fccaf4",
   "metadata": {
    "tags": []
   },
   "outputs": [
    {
     "data": {
      "text/plain": [
       "12195"
      ]
     },
     "execution_count": 17,
     "metadata": {},
     "output_type": "execute_result"
    }
   ],
   "source": [
    "airtraffic.filter(airtraffic['Origin'] == 'SFO').count()"
   ]
  },
  {
   "cell_type": "code",
   "execution_count": 18,
   "id": "3edba7a5-2a73-463e-8623-48a43a0e4200",
   "metadata": {
    "tags": []
   },
   "outputs": [
    {
     "name": "stderr",
     "output_type": "stream",
     "text": [
      "                                                                                \r"
     ]
    },
    {
     "data": {
      "text/plain": [
       "12195"
      ]
     },
     "execution_count": 18,
     "metadata": {},
     "output_type": "execute_result"
    }
   ],
   "source": [
    "airtraffic.filter(airtraffic.Origin == 'SFO').count()"
   ]
  },
  {
   "cell_type": "markdown",
   "id": "2d2949f9-8f6b-4ace-bc2c-ec30381ed71d",
   "metadata": {},
   "source": [
    "Get number of flights that are departed from airport with out any delay."
   ]
  },
  {
   "cell_type": "code",
   "execution_count": 19,
   "id": "0bbbed2a-5add-495b-8231-529cc43d9f22",
   "metadata": {
    "tags": []
   },
   "outputs": [
    {
     "name": "stderr",
     "output_type": "stream",
     "text": [
      "[Stage 35:=============================>                            (1 + 1) / 2]\r"
     ]
    },
    {
     "name": "stdout",
     "output_type": "stream",
     "text": [
      "+------------+\n",
      "|IsDepDelayed|\n",
      "+------------+\n",
      "|         YES|\n",
      "|          NO|\n",
      "+------------+\n",
      "\n"
     ]
    },
    {
     "name": "stderr",
     "output_type": "stream",
     "text": [
      "                                                                                \r"
     ]
    }
   ],
   "source": [
    "airtraffic.select('IsDepDelayed').distinct().show()"
   ]
  },
  {
   "cell_type": "code",
   "execution_count": 20,
   "id": "28db3854-960d-4a02-9238-707d581fb7b8",
   "metadata": {
    "tags": []
   },
   "outputs": [
    {
     "name": "stderr",
     "output_type": "stream",
     "text": [
      "                                                                                \r"
     ]
    },
    {
     "data": {
      "text/plain": [
       "270019"
      ]
     },
     "execution_count": 20,
     "metadata": {},
     "output_type": "execute_result"
    }
   ],
   "source": [
    "airtraffic.filter(\"IsDepDelayed=='NO'\").count()"
   ]
  },
  {
   "cell_type": "code",
   "execution_count": 21,
   "id": "a4f10f89-f4f1-4865-9267-f1dff452a524",
   "metadata": {
    "tags": []
   },
   "outputs": [
    {
     "name": "stdout",
     "output_type": "stream",
     "text": [
      "+----+-----+----------+\n",
      "|Year|Month|DayOfMonth|\n",
      "+----+-----+----------+\n",
      "|1987|   10|        27|\n",
      "|1987|   10|         8|\n",
      "|1987|   10|        30|\n",
      "|1987|   10|        14|\n",
      "|1987|   10|        23|\n",
      "+----+-----+----------+\n",
      "only showing top 5 rows\n",
      "\n"
     ]
    }
   ],
   "source": [
    "airtraffic.select('Year', 'Month', 'DayOfMonth').show(5)"
   ]
  },
  {
   "cell_type": "code",
   "execution_count": 22,
   "id": "147aba50-6b3e-4b39-983e-c955eadb5097",
   "metadata": {
    "tags": []
   },
   "outputs": [
    {
     "name": "stdout",
     "output_type": "stream",
     "text": [
      "+----------+\n",
      "|FlightDate|\n",
      "+----------+\n",
      "|  19871027|\n",
      "|  19871008|\n",
      "|  19871030|\n",
      "|  19871014|\n",
      "|  19871023|\n",
      "+----------+\n",
      "only showing top 5 rows\n",
      "\n"
     ]
    }
   ],
   "source": [
    "airtraffic.select(\n",
    "    concat(\n",
    "        col(\"Year\"),\n",
    "        lpad(col(\"Month\"), 2, \"0\"),\n",
    "        lpad(col(\"DayOfMonth\"), 2, \"0\")\n",
    "    ).alias('FlightDate')\n",
    ").show(5)"
   ]
  },
  {
   "cell_type": "code",
   "execution_count": 23,
   "id": "4ec1e5d8-a47f-4a16-b43a-3b835e460926",
   "metadata": {
    "tags": []
   },
   "outputs": [
    {
     "name": "stdout",
     "output_type": "stream",
     "text": [
      "+----------+\n",
      "|FlightDate|\n",
      "+----------+\n",
      "|1987-10-27|\n",
      "|1987-10-08|\n",
      "|1987-10-30|\n",
      "|1987-10-14|\n",
      "|1987-10-23|\n",
      "+----------+\n",
      "only showing top 5 rows\n",
      "\n"
     ]
    },
    {
     "name": "stderr",
     "output_type": "stream",
     "text": [
      "                                                                                \r"
     ]
    }
   ],
   "source": [
    "airtraffic. \\\n",
    "    select(\n",
    "        concat(\n",
    "            col(\"Year\"),\n",
    "            lpad(col(\"Month\"), 2, \"0\"),\n",
    "            lpad(col(\"DayOfMonth\"), 2, \"0\")\n",
    "        ).alias('FlightDate')\n",
    "    ). \\\n",
    "    selectExpr(\"to_date(FlightDate, 'yyyyMMdd') AS FlightDate\"). \\\n",
    "    show(5)"
   ]
  },
  {
   "cell_type": "code",
   "execution_count": 24,
   "id": "b22726b1-c4cd-41bc-9314-425f3b397dce",
   "metadata": {
    "tags": []
   },
   "outputs": [
    {
     "name": "stdout",
     "output_type": "stream",
     "text": [
      "+---------+\n",
      "|FlightDay|\n",
      "+---------+\n",
      "|  Tuesday|\n",
      "| Thursday|\n",
      "|   Friday|\n",
      "|Wednesday|\n",
      "|   Friday|\n",
      "+---------+\n",
      "only showing top 5 rows\n",
      "\n"
     ]
    }
   ],
   "source": [
    "airtraffic. \\\n",
    "    select(\n",
    "        concat(\n",
    "            col(\"Year\"),\n",
    "            lpad(col(\"Month\"), 2, \"0\"),\n",
    "            lpad(col(\"DayOfMonth\"), 2, \"0\")\n",
    "        ).alias('FlightDate')\n",
    "    ). \\\n",
    "    selectExpr(\"date_format(to_date(FlightDate, 'yyyyMMdd'), 'EEEE') AS FlightDay\"). \\\n",
    "    show(5)"
   ]
  },
  {
   "cell_type": "code",
   "execution_count": 25,
   "id": "e52ad997-7818-4f67-a294-3b10a08ed756",
   "metadata": {
    "tags": []
   },
   "outputs": [
    {
     "name": "stdout",
     "output_type": "stream",
     "text": [
      "+---------+\n",
      "|FlightDay|\n",
      "+---------+\n",
      "|  Tuesday|\n",
      "| Thursday|\n",
      "|   Friday|\n",
      "|Wednesday|\n",
      "|   Friday|\n",
      "|   Friday|\n",
      "|   Friday|\n",
      "|  Tuesday|\n",
      "|   Friday|\n",
      "| Saturday|\n",
      "|   Friday|\n",
      "|Wednesday|\n",
      "|   Friday|\n",
      "| Thursday|\n",
      "| Saturday|\n",
      "| Saturday|\n",
      "|   Sunday|\n",
      "|   Sunday|\n",
      "| Saturday|\n",
      "|   Sunday|\n",
      "+---------+\n",
      "only showing top 20 rows\n",
      "\n"
     ]
    }
   ],
   "source": [
    "airtraffic. \\\n",
    "    select(\n",
    "        concat(\n",
    "            col(\"Year\"),\n",
    "            lpad(col(\"Month\"), 2, \"0\"),\n",
    "            lpad(col(\"DayOfMonth\"), 2, \"0\")\n",
    "        ).alias('FlightDate')\n",
    "    ). \\\n",
    "    select(date_format(to_date('FlightDate', 'yyyyMMdd'), 'EEEE').alias('FlightDay')). \\\n",
    "    show()"
   ]
  },
  {
   "cell_type": "code",
   "execution_count": 26,
   "id": "dc598d62-d52e-4c23-ad86-587f060792d6",
   "metadata": {
    "tags": []
   },
   "outputs": [
    {
     "name": "stderr",
     "output_type": "stream",
     "text": [
      "                                                                                \r"
     ]
    },
    {
     "data": {
      "text/plain": [
       "56120"
      ]
     },
     "execution_count": 26,
     "metadata": {},
     "output_type": "execute_result"
    }
   ],
   "source": [
    "airtraffic.withColumn(\"FlightDate\",\n",
    "               concat(col(\"Year\"),\n",
    "                      lpad(col(\"Month\"), 2, \"0\"),\n",
    "                      lpad(col(\"DayOfMonth\"), 2, \"0\")\n",
    "                     )\n",
    "              ).filter(\"\"\"\n",
    "           date_format(to_date(FlightDate, 'yyyyMMdd'), 'EEEE') = 'Sunday'\n",
    "           \"\"\").count()"
   ]
  },
  {
   "cell_type": "code",
   "execution_count": 27,
   "id": "db24d0b2-b982-4a92-bedd-5d962ae0d4df",
   "metadata": {
    "tags": []
   },
   "outputs": [
    {
     "name": "stderr",
     "output_type": "stream",
     "text": [
      "                                                                                \r"
     ]
    },
    {
     "data": {
      "text/plain": [
       "23552"
      ]
     },
     "execution_count": 27,
     "metadata": {},
     "output_type": "execute_result"
    }
   ],
   "source": [
    "airtraffic.withColumn(\"FlightDate\",\n",
    "               concat(col(\"Year\"),\n",
    "                      lpad(col(\"Month\"), 2, \"0\"),\n",
    "                      lpad(col(\"DayOfMonth\"), 2, \"0\")\n",
    "                     )\n",
    "              ).filter(\"\"\"IsDepDelayed = 'YES' AND \n",
    "           date_format(to_date(FlightDate, 'yyyyMMdd'), 'EEEE') = 'Sunday'\n",
    "           \"\"\").count()"
   ]
  },
  {
   "cell_type": "code",
   "execution_count": 28,
   "id": "b1e03dc5-e46e-41c2-9968-192b92c814ac",
   "metadata": {
    "tags": []
   },
   "outputs": [
    {
     "name": "stderr",
     "output_type": "stream",
     "text": [
      "                                                                                \r"
     ]
    },
    {
     "data": {
      "text/plain": [
       "23552"
      ]
     },
     "execution_count": 28,
     "metadata": {},
     "output_type": "execute_result"
    }
   ],
   "source": [
    "#API Style\n",
    "airtraffic.withColumn(\"FlightDate\",\n",
    "               concat(col(\"Year\"),\n",
    "                      lpad(col(\"Month\"), 2, \"0\"),\n",
    "                      lpad(col(\"DayOfMonth\"), 2, \"0\")\n",
    "                     )\n",
    "              ).filter((col(\"IsDepDelayed\") == \"YES\") &\n",
    "           (date_format(to_date(\"FlightDate\", \"yyyyMMdd\"), \"EEEE\") == \"Sunday\")\n",
    "          ).count()"
   ]
  },
  {
   "cell_type": "markdown",
   "id": "21a8ab99-58dd-4aae-892d-9ed9dc2c0e40",
   "metadata": {},
   "source": [
    "#### Boolean Operators filtering data in dataframes\n",
    "- Validating against multiple columns then we need to use boolean operations such as AND or OR or both."
   ]
  },
  {
   "cell_type": "markdown",
   "id": "62b71e4f-b7fb-460d-9853-2a6295861502",
   "metadata": {},
   "source": [
    ">## Task1: \n",
    "Get count of flights which are departed late at origin and reach destination early or on time."
   ]
  },
  {
   "cell_type": "code",
   "execution_count": 29,
   "id": "f0b58630-781f-4cbf-af2b-66ab977adfa6",
   "metadata": {
    "tags": []
   },
   "outputs": [],
   "source": [
    "#airtraffic.columns"
   ]
  },
  {
   "cell_type": "code",
   "execution_count": 30,
   "id": "60fc53e1-a54f-465f-89ee-1f3bb75bce3a",
   "metadata": {
    "tags": []
   },
   "outputs": [],
   "source": [
    "#airtraffic.select('ArrDelay').distinct().show()"
   ]
  },
  {
   "cell_type": "code",
   "execution_count": 31,
   "id": "fec1bfa8-ea3f-4325-8bc0-80e750e0fda2",
   "metadata": {
    "tags": []
   },
   "outputs": [
    {
     "data": {
      "text/plain": [
       "33488"
      ]
     },
     "execution_count": 31,
     "metadata": {},
     "output_type": "execute_result"
    }
   ],
   "source": [
    "airtraffic.filter((col(\"IsDepDelayed\") == \"YES\") & (col(\"IsArrDelayed\")=='NO')\\\n",
    "                  & (col(\"Cancelled\")==0)).count()"
   ]
  },
  {
   "cell_type": "code",
   "execution_count": 32,
   "id": "b26660f3-a7a6-49df-8f29-b8a812c63a6b",
   "metadata": {
    "tags": []
   },
   "outputs": [
    {
     "data": {
      "text/plain": [
       "33488"
      ]
     },
     "execution_count": 32,
     "metadata": {},
     "output_type": "execute_result"
    }
   ],
   "source": [
    "airtraffic. \\\n",
    "    filter(\"IsDepDelayed = 'YES' AND IsArrDelayed = 'NO' AND Cancelled = 0\").count()"
   ]
  },
  {
   "cell_type": "markdown",
   "id": "3f609feb-0d2d-4a4f-a35d-a896c56c125d",
   "metadata": {},
   "source": [
    ">## Task2: \n",
    "Get count of flights which are departed early or on time but arrive late by at least 15 minutes."
   ]
  },
  {
   "cell_type": "code",
   "execution_count": 33,
   "id": "91157f89-65cf-4c6c-8bb2-a153b749c479",
   "metadata": {
    "tags": []
   },
   "outputs": [
    {
     "data": {
      "text/plain": [
       "17472"
      ]
     },
     "execution_count": 33,
     "metadata": {},
     "output_type": "execute_result"
    }
   ],
   "source": [
    "airtraffic.filter((col(\"IsDepDelayed\") == 'NO') & (col(\"ArrDelay\") >=15)).count()"
   ]
  },
  {
   "cell_type": "markdown",
   "id": "a9876875-d309-4e39-a7f7-d1ecd37aee4f",
   "metadata": {},
   "source": [
    ">## Task3: \n",
    "Get number of flights which are departed late on Saturdays as well as on Sundays."
   ]
  },
  {
   "cell_type": "code",
   "execution_count": 34,
   "id": "9d254c2c-0921-4c07-918e-f8691e865cb4",
   "metadata": {
    "tags": []
   },
   "outputs": [
    {
     "name": "stderr",
     "output_type": "stream",
     "text": [
      "                                                                                \r"
     ]
    },
    {
     "data": {
      "text/plain": [
       "78404"
      ]
     },
     "execution_count": 34,
     "metadata": {},
     "output_type": "execute_result"
    }
   ],
   "source": [
    "airtraffic.withColumn(\"FlightDate\",\n",
    "               concat(col(\"Year\"),\n",
    "                      lpad(col(\"Month\"), 2, \"0\"),\n",
    "                      lpad(col(\"DayOfMonth\"), 2, \"0\")\n",
    "                     )\n",
    "              ).filter(\"\"\"IsDepDelayed = 'YES' AND Cancelled = 0  AND \n",
    "           date_format(to_date(FlightDate, 'yyyyMMdd'), 'EEEE') = 'Saturday' OR\n",
    "           date_format(to_date(FlightDate, 'yyyyMMdd'), 'EEEE') = 'Sunday'\n",
    "           \"\"\").count()"
   ]
  },
  {
   "cell_type": "code",
   "execution_count": 35,
   "id": "b5b76cab-70e3-4091-b427-3ce6ac5e4ea1",
   "metadata": {
    "tags": []
   },
   "outputs": [
    {
     "name": "stderr",
     "output_type": "stream",
     "text": [
      "                                                                                \r"
     ]
    },
    {
     "data": {
      "text/plain": [
       "56120"
      ]
     },
     "execution_count": 35,
     "metadata": {},
     "output_type": "execute_result"
    }
   ],
   "source": [
    "airtraffic.withColumn(\"FlightDate\",\n",
    "               concat(col(\"Year\"),\n",
    "                      lpad(col(\"Month\"), 2, \"0\"),\n",
    "                      lpad(col(\"DayOfMonth\"), 2, \"0\")\n",
    "                     )\n",
    "              ).filter((col(\"IsDepDelayed\") == \"YES\") & (col(\"Cancelled\") == 0) &\n",
    "           (date_format(to_date(\"FlightDate\", \"yyyyMMdd\"), \"EEEE\") == 'Satuday') | \\\n",
    "            (date_format(to_date(\"FlightDate\", \"yyyyMMdd\"), \"EEEE\") == 'Sunday')\n",
    "          ).count()"
   ]
  },
  {
   "cell_type": "markdown",
   "id": "cb42ea2b-8529-45f9-9294-7a841aadba87",
   "metadata": {},
   "source": [
    "## Using **IN** Operator or **isin** Function"
   ]
  },
  {
   "cell_type": "markdown",
   "id": "54b398e2-43cc-463e-b978-87f715a22caf",
   "metadata": {},
   "source": [
    ">## Task1:\n",
    "    Get count of flights departed from following major airports - ORD, DFW, ATL, LAX, SFO."
   ]
  },
  {
   "cell_type": "code",
   "execution_count": 36,
   "id": "b35c94c5-6eb8-4a35-9a24-86eea61e0a75",
   "metadata": {
    "tags": []
   },
   "outputs": [],
   "source": [
    "#airtraffic.select(\"origin\").distinct().show()"
   ]
  },
  {
   "cell_type": "code",
   "execution_count": 37,
   "id": "e6a52294-1e70-40ef-98dd-be224a329bdc",
   "metadata": {
    "tags": []
   },
   "outputs": [
    {
     "name": "stderr",
     "output_type": "stream",
     "text": [
      "                                                                                \r"
     ]
    },
    {
     "data": {
      "text/plain": [
       "90651"
      ]
     },
     "execution_count": 37,
     "metadata": {},
     "output_type": "execute_result"
    }
   ],
   "source": [
    "airtraffic. \\\n",
    "    filter(\"Origin IN ('ORD', 'DFW', 'ATL', 'LAX', 'SFO')\"). \\\n",
    "    count()"
   ]
  },
  {
   "cell_type": "code",
   "execution_count": 38,
   "id": "fb411eb8-9022-4c5a-985c-0fab9c2b80b2",
   "metadata": {
    "tags": []
   },
   "outputs": [],
   "source": [
    "#c = col('x')\n",
    "#help(c.isin)"
   ]
  },
  {
   "cell_type": "code",
   "execution_count": 39,
   "id": "b9550f1d-c0fc-47a6-800b-affadde73f5d",
   "metadata": {
    "tags": []
   },
   "outputs": [
    {
     "data": {
      "text/plain": [
       "90651"
      ]
     },
     "execution_count": 39,
     "metadata": {},
     "output_type": "execute_result"
    }
   ],
   "source": [
    "airtraffic. \\\n",
    "    filter(col(\"Origin\").isin(\"ORD\", \"DFW\", \"ATL\", \"LAX\", \"SFO\")). \\\n",
    "    count()"
   ]
  },
  {
   "cell_type": "code",
   "execution_count": null,
   "id": "19f32cb7-45a2-4a34-83a3-9d04a758630b",
   "metadata": {},
   "outputs": [],
   "source": []
  },
  {
   "cell_type": "code",
   "execution_count": 40,
   "id": "fb0af615-772f-40e7-8687-d814a592113f",
   "metadata": {
    "tags": []
   },
   "outputs": [
    {
     "data": {
      "text/plain": [
       "448558"
      ]
     },
     "execution_count": 40,
     "metadata": {},
     "output_type": "execute_result"
    }
   ],
   "source": [
    "airtraffic.select(col(\"Diverted\").isin([0,1])).count()"
   ]
  },
  {
   "cell_type": "code",
   "execution_count": 41,
   "id": "46922e6d-8dcd-489e-b2e7-b263c595cb70",
   "metadata": {
    "tags": []
   },
   "outputs": [
    {
     "data": {
      "text/plain": [
       "447719"
      ]
     },
     "execution_count": 41,
     "metadata": {},
     "output_type": "execute_result"
    }
   ],
   "source": [
    "airtraffic[airtraffic.Diverted.isin([0])].count()"
   ]
  },
  {
   "cell_type": "code",
   "execution_count": 42,
   "id": "93191b75-542b-4484-af06-e4a25260772a",
   "metadata": {
    "tags": []
   },
   "outputs": [
    {
     "data": {
      "text/plain": [
       "839"
      ]
     },
     "execution_count": 42,
     "metadata": {},
     "output_type": "execute_result"
    }
   ],
   "source": [
    "airtraffic[airtraffic.Diverted.isin([1])].count()"
   ]
  },
  {
   "cell_type": "code",
   "execution_count": 43,
   "id": "12b5eeeb-04f4-416e-b999-74fb3dede8ba",
   "metadata": {
    "tags": []
   },
   "outputs": [
    {
     "name": "stderr",
     "output_type": "stream",
     "text": [
      "                                                                                \r"
     ]
    },
    {
     "data": {
      "text/plain": [
       "90651"
      ]
     },
     "execution_count": 43,
     "metadata": {},
     "output_type": "execute_result"
    }
   ],
   "source": [
    "airtraffic. \\\n",
    "    filter(col(\"Origin\").isin(\"ORD\", \"DFW\", \"ATL\", \"LAX\", \"SFO\")). \\\n",
    "    count()"
   ]
  },
  {
   "cell_type": "markdown",
   "id": "a1d5ba70-170d-4416-bd2d-69eb0ff72711",
   "metadata": {},
   "source": [
    ">## Task2:\n",
    "Get number of flights departed late on Sundays as well as on Saturdays. We can solve such kind of problems using IN operator as well."
   ]
  },
  {
   "cell_type": "code",
   "execution_count": 44,
   "id": "187a8615-76de-4406-9922-651efee5f3f4",
   "metadata": {
    "tags": []
   },
   "outputs": [
    {
     "name": "stderr",
     "output_type": "stream",
     "text": [
      "[Stage 88:=============================>                            (1 + 1) / 2]\r"
     ]
    },
    {
     "data": {
      "text/plain": [
       "45514"
      ]
     },
     "execution_count": 44,
     "metadata": {},
     "output_type": "execute_result"
    },
    {
     "name": "stderr",
     "output_type": "stream",
     "text": [
      "                                                                                \r"
     ]
    }
   ],
   "source": [
    "airtraffic. \\\n",
    "    withColumn(\"FlightDate\",\n",
    "               concat(col(\"Year\"),\n",
    "                      lpad(col(\"Month\"), 2, \"0\"),\n",
    "                      lpad(col(\"DayOfMonth\"), 2, \"0\")\n",
    "                     )\n",
    "              ). \\\n",
    "    filter(\"\"\"\n",
    "           IsDepDelayed = 'YES' AND Cancelled = 0 AND\n",
    "           date_format(to_date(FlightDate, 'yyyyMMdd'), 'EEEE') IN\n",
    "               ('Saturday', 'Sunday')\n",
    "           \"\"\"). \\\n",
    "    count()"
   ]
  },
  {
   "cell_type": "code",
   "execution_count": 45,
   "id": "f40c8c31-0eb3-401b-b52d-4e887a087f12",
   "metadata": {
    "tags": []
   },
   "outputs": [
    {
     "name": "stderr",
     "output_type": "stream",
     "text": [
      "                                                                                \r"
     ]
    },
    {
     "data": {
      "text/plain": [
       "45514"
      ]
     },
     "execution_count": 45,
     "metadata": {},
     "output_type": "execute_result"
    }
   ],
   "source": [
    "airtraffic. \\\n",
    "    withColumn(\"FlightDate\",\n",
    "               concat(col(\"Year\"),\n",
    "                      lpad(col(\"Month\"), 2, \"0\"),\n",
    "                      lpad(col(\"DayOfMonth\"), 2, \"0\")\n",
    "                     )\n",
    "              ). \\\n",
    "    filter((col(\"IsDepDelayed\") == \"YES\") & (col(\"Cancelled\") == 0) &\n",
    "           (date_format(\n",
    "               to_date(\"FlightDate\", \"yyyyMMdd\"), \"EEEE\"\n",
    "           ).isin(\"Saturday\", \"Sunday\"))\n",
    "          ). \\\n",
    "    count()"
   ]
  },
  {
   "cell_type": "markdown",
   "id": "42f75e34-c68e-4317-9448-bfc82cdf82f9",
   "metadata": {},
   "source": [
    "## Using LIKE Operator or like Function\n",
    "- **like** is primarily used for partial comparison (e.g.: Search for names which starts with Sco).\n",
    "- We can use **like** to get results which starts with a pattern or ends with a pattern or contain the pattern.\n",
    "- We can also use negation with like.\n",
    "- Spark also provides **rlike** to take care of partial comparison using regular expression.\n"
   ]
  },
  {
   "cell_type": "code",
   "execution_count": 46,
   "id": "eae81727-8fa1-4e4f-b6de-c8ad00479d1d",
   "metadata": {
    "tags": []
   },
   "outputs": [
    {
     "name": "stderr",
     "output_type": "stream",
     "text": [
      "                                                                                \r"
     ]
    },
    {
     "name": "stdout",
     "output_type": "stream",
     "text": [
      "+-----------+----------+---------+------+-----+--------------+----------------+-----------+\n",
      "|employee_id|first_name|last_name|salary|bonus|   nationality|    phone_number|        ssn|\n",
      "+-----------+----------+---------+------+-----+--------------+----------------+-----------+\n",
      "|          1|     Scott|    Tiger|1000.0|   10| united states| +1 123 456 7890|123 45 6789|\n",
      "|          2|     Henry|     Ford|1250.0| null|         India|+91 234 567 8901|456 78 9123|\n",
      "|          3|      Nick|   Junior| 750.0|     |united KINGDOM|+44 111 111 1111|222 33 4444|\n",
      "|          4|      Bill|    Gomes|1500.0|   10|     AUSTRALIA|+61 987 654 3210|789 12 6118|\n",
      "+-----------+----------+---------+------+-----+--------------+----------------+-----------+\n",
      "\n"
     ]
    }
   ],
   "source": [
    "employees = [(1, \"Scott\", \"Tiger\", 1000.0, 10,\n",
    "                      \"united states\", \"+1 123 456 7890\", \"123 45 6789\"\n",
    "                     ),\n",
    "                     (2, \"Henry\", \"Ford\", 1250.0, None,\n",
    "                      \"India\", \"+91 234 567 8901\", \"456 78 9123\"\n",
    "                     ),\n",
    "                     (3, \"Nick\", \"Junior\", 750.0, '',\n",
    "                      \"united KINGDOM\", \"+44 111 111 1111\", \"222 33 4444\"\n",
    "                     ),\n",
    "                     (4, \"Bill\", \"Gomes\", 1500.0, 10,\n",
    "                      \"AUSTRALIA\", \"+61 987 654 3210\", \"789 12 6118\"\n",
    "                     )\n",
    "                ]\n",
    "employeesDF = spark. \\\n",
    "    createDataFrame(employees,\n",
    "                    schema=\"\"\"employee_id INT, first_name STRING, \n",
    "                    last_name STRING, salary FLOAT, bonus STRING, nationality STRING,\n",
    "                    phone_number STRING, ssn STRING\"\"\"\n",
    "                   )\n",
    "employeesDF.show()\n"
   ]
  },
  {
   "cell_type": "code",
   "execution_count": 47,
   "id": "e67ec43e-3622-4ec5-b2cd-457c963ac5e4",
   "metadata": {
    "tags": []
   },
   "outputs": [
    {
     "name": "stdout",
     "output_type": "stream",
     "text": [
      "+-----------+----------+---------+------+-----+-------------+---------------+-----------+\n",
      "|employee_id|first_name|last_name|salary|bonus|  nationality|   phone_number|        ssn|\n",
      "+-----------+----------+---------+------+-----+-------------+---------------+-----------+\n",
      "|          1|     Scott|    Tiger|1000.0|   10|united states|+1 123 456 7890|123 45 6789|\n",
      "+-----------+----------+---------+------+-----+-------------+---------------+-----------+\n",
      "\n"
     ]
    }
   ],
   "source": [
    "employeesDF.filter(\"first_name LIKE 'Sco%'\").show()"
   ]
  },
  {
   "cell_type": "code",
   "execution_count": 48,
   "id": "469a0936-2e9b-4f54-9e23-f89c94f1f22c",
   "metadata": {
    "tags": []
   },
   "outputs": [
    {
     "name": "stdout",
     "output_type": "stream",
     "text": [
      "+-----------+----------+---------+------+-----+-------------+---------------+-----------+\n",
      "|employee_id|first_name|last_name|salary|bonus|  nationality|   phone_number|        ssn|\n",
      "+-----------+----------+---------+------+-----+-------------+---------------+-----------+\n",
      "|          1|     Scott|    Tiger|1000.0|   10|united states|+1 123 456 7890|123 45 6789|\n",
      "+-----------+----------+---------+------+-----+-------------+---------------+-----------+\n",
      "\n"
     ]
    }
   ],
   "source": [
    "employeesDF.filter(col('first_name').like('Sco%')).show()"
   ]
  },
  {
   "cell_type": "markdown",
   "id": "962587a0-f12e-4236-83b8-24e10eeaff35",
   "metadata": {},
   "source": [
    "### Using BETWEEN Operator"
   ]
  },
  {
   "cell_type": "markdown",
   "id": "5f2786dc-7540-4426-801a-866af0d412be",
   "metadata": {},
   "source": [
    ">## Task1:\n",
    "    Get count of flights departed late between 1987 October 1st to October 9th using FlightDate."
   ]
  },
  {
   "cell_type": "code",
   "execution_count": 49,
   "id": "235aa290-dace-47e8-8e74-5188a4b7691f",
   "metadata": {
    "tags": []
   },
   "outputs": [
    {
     "name": "stdout",
     "output_type": "stream",
     "text": [
      "+----+-----+----------+---------+-------+-------------+---------+\n",
      "|Year|Month|DayofMonth|DayOfWeek|DepTime|UniqueCarrier|FlightNum|\n",
      "+----+-----+----------+---------+-------+-------------+---------+\n",
      "|1987|   10|        27|        2|    916|           PS|     1451|\n",
      "|1987|   10|         8|        4|   1310|           PS|     1479|\n",
      "|1987|   10|        30|        5|   1931|           PS|     1480|\n",
      "|1987|   10|        14|        3|    824|           PS|     1489|\n",
      "|1987|   10|        23|        5|   1807|           PS|     1500|\n",
      "|1987|   10|         9|        5|   1415|           PS|     1509|\n",
      "|1987|   10|        23|        5|    855|           PS|     1517|\n",
      "|1987|   10|         6|        2|   1802|           PS|     1526|\n",
      "|1987|   10|        23|        5|    827|           PS|     1548|\n",
      "|1987|   10|         3|        6|   1945|           PS|     1564|\n",
      "|1987|   10|        30|        5|   1853|           PS|     1570|\n",
      "|1987|   10|         7|        3|    101|           PS|     1578|\n",
      "|1987|   10|        30|        5|    119|           PS|     1578|\n",
      "|1987|   10|        29|        4|   1508|           PS|     1585|\n",
      "|1987|   10|         3|        6|   1639|           PS|     1588|\n",
      "|1987|   10|         3|        6|   1721|           PS|     1637|\n",
      "|1987|   10|        11|        7|   1319|           PS|     1655|\n",
      "|1987|   10|        25|        7|   2047|           PS|     1658|\n",
      "|1987|   10|        10|        6|   1353|           PS|     1673|\n",
      "|1987|   10|        25|        7|   2058|           PS|     1690|\n",
      "+----+-----+----------+---------+-------+-------------+---------+\n",
      "only showing top 20 rows\n",
      "\n"
     ]
    },
    {
     "name": "stderr",
     "output_type": "stream",
     "text": [
      "                                                                                \r"
     ]
    }
   ],
   "source": [
    "airtraffic.select(\"Year\",\"Month\",\"DayofMonth\",\"DayOfWeek\",\"DepTime\",\"UniqueCarrier\",\"FlightNum\").show()"
   ]
  },
  {
   "cell_type": "code",
   "execution_count": 50,
   "id": "1b05f860-92c1-4237-b2a7-604eb8bde0cf",
   "metadata": {
    "tags": []
   },
   "outputs": [
    {
     "name": "stderr",
     "output_type": "stream",
     "text": [
      "                                                                                \r"
     ]
    },
    {
     "data": {
      "text/plain": [
       "50675"
      ]
     },
     "execution_count": 50,
     "metadata": {},
     "output_type": "execute_result"
    }
   ],
   "source": [
    "airtraffic. \\\n",
    "    withColumn(\"FlightDate\",\n",
    "               concat(col(\"Year\"),\n",
    "                      lpad(col(\"Month\"), 2, \"0\"),\n",
    "                      lpad(col(\"DayOfMonth\"), 2, \"0\")\n",
    "                     )\n",
    "              ). \\\n",
    "    filter(\"\"\"\n",
    "           IsDepDelayed = 'YES' AND \n",
    "           Cancelled = 0 AND\n",
    "           FlightDate BETWEEN 19871001 AND 19871009\n",
    "          \"\"\"). \\\n",
    "    count()"
   ]
  },
  {
   "cell_type": "code",
   "execution_count": 51,
   "id": "f98f3660-3d21-425f-9563-f443752c5a17",
   "metadata": {
    "tags": []
   },
   "outputs": [
    {
     "name": "stderr",
     "output_type": "stream",
     "text": [
      "                                                                                \r"
     ]
    },
    {
     "data": {
      "text/plain": [
       "50675"
      ]
     },
     "execution_count": 51,
     "metadata": {},
     "output_type": "execute_result"
    }
   ],
   "source": [
    "#API format\n",
    "airtraffic. \\\n",
    "    withColumn(\"FlightDate\",\n",
    "               concat(col(\"Year\"),\n",
    "                      lpad(col(\"Month\"), 2, \"0\"),\n",
    "                      lpad(col(\"DayOfMonth\"), 2, \"0\")\n",
    "                     )\n",
    "              ). \\\n",
    "    filter((col(\"IsDepDelayed\") == \"YES\") & \n",
    "           (col(\"Cancelled\") == 0) &\n",
    "           (col(\"FlightDate\").between(19871001, 19871009))\n",
    "          ). \\\n",
    "    count()"
   ]
  },
  {
   "cell_type": "code",
   "execution_count": 52,
   "id": "4787724f-b315-453b-8522-94ce7baaa23a",
   "metadata": {
    "tags": []
   },
   "outputs": [
    {
     "name": "stderr",
     "output_type": "stream",
     "text": [
      "                                                                                \r"
     ]
    },
    {
     "data": {
      "text/plain": [
       "78051"
      ]
     },
     "execution_count": 52,
     "metadata": {},
     "output_type": "execute_result"
    }
   ],
   "source": [
    "airtraffic. \\\n",
    "    filter((col(\"ArrDelay\").between(15, 60))\n",
    "          ). \\\n",
    "    count()"
   ]
  },
  {
   "cell_type": "markdown",
   "id": "c86d54b6-cd09-42cc-a78c-0e5763952107",
   "metadata": {},
   "source": [
    "### Dealing with Nulls while Filtering"
   ]
  },
  {
   "cell_type": "code",
   "execution_count": 53,
   "id": "373b5eca-cc30-40a7-a586-ac7969cc00fb",
   "metadata": {
    "tags": []
   },
   "outputs": [
    {
     "name": "stdout",
     "output_type": "stream",
     "text": [
      "+-----------+----------+---------+------+-----+--------------+----------------+-----------+\n",
      "|employee_id|first_name|last_name|salary|bonus|   nationality|    phone_number|        ssn|\n",
      "+-----------+----------+---------+------+-----+--------------+----------------+-----------+\n",
      "|          1|     Scott|    Tiger|1000.0|   10| united states| +1 123 456 7890|123 45 6789|\n",
      "|          3|      Nick|   Junior| 750.0|     |united KINGDOM|+44 111 111 1111|222 33 4444|\n",
      "|          4|      Bill|    Gomes|1500.0|   10|     AUSTRALIA|+61 987 654 3210|789 12 6118|\n",
      "+-----------+----------+---------+------+-----+--------------+----------------+-----------+\n",
      "\n"
     ]
    }
   ],
   "source": [
    "employeesDF. \\\n",
    "    filter(\"bonus IS NOT NULL\"). \\\n",
    "    show()"
   ]
  },
  {
   "cell_type": "code",
   "execution_count": 54,
   "id": "dbf1ec87-74ea-40c2-83e2-846a27c213e9",
   "metadata": {
    "tags": []
   },
   "outputs": [
    {
     "name": "stdout",
     "output_type": "stream",
     "text": [
      "+-----------+----------+---------+------+-----+-------------+----------------+-----------+\n",
      "|employee_id|first_name|last_name|salary|bonus|  nationality|    phone_number|        ssn|\n",
      "+-----------+----------+---------+------+-----+-------------+----------------+-----------+\n",
      "|          1|     Scott|    Tiger|1000.0|   10|united states| +1 123 456 7890|123 45 6789|\n",
      "|          4|      Bill|    Gomes|1500.0|   10|    AUSTRALIA|+61 987 654 3210|789 12 6118|\n",
      "+-----------+----------+---------+------+-----+-------------+----------------+-----------+\n",
      "\n"
     ]
    }
   ],
   "source": [
    "employeesDF. \\\n",
    "    filter(\"bonus <> ''\"). \\\n",
    "    show()"
   ]
  },
  {
   "cell_type": "code",
   "execution_count": 55,
   "id": "68211ee5-12b7-4ca6-a8a3-0050032a0fd2",
   "metadata": {
    "tags": []
   },
   "outputs": [
    {
     "name": "stdout",
     "output_type": "stream",
     "text": [
      "+-----------+----------+---------+------+-----+-------------+----------------+-----------+\n",
      "|employee_id|first_name|last_name|salary|bonus|  nationality|    phone_number|        ssn|\n",
      "+-----------+----------+---------+------+-----+-------------+----------------+-----------+\n",
      "|          1|     Scott|    Tiger|1000.0|   10|united states| +1 123 456 7890|123 45 6789|\n",
      "|          4|      Bill|    Gomes|1500.0|   10|    AUSTRALIA|+61 987 654 3210|789 12 6118|\n",
      "+-----------+----------+---------+------+-----+-------------+----------------+-----------+\n",
      "\n"
     ]
    }
   ],
   "source": [
    "employeesDF. \\\n",
    "    filter(\"bonus IS NOT NULL AND bonus <> ''\"). \\\n",
    "    show()"
   ]
  },
  {
   "cell_type": "code",
   "execution_count": 56,
   "id": "bb14c495-d5d2-4007-a038-f02eab557991",
   "metadata": {
    "tags": []
   },
   "outputs": [
    {
     "name": "stdout",
     "output_type": "stream",
     "text": [
      "+-----------+----------+---------+------+-----+-------------+----------------+-----------+\n",
      "|employee_id|first_name|last_name|salary|bonus|  nationality|    phone_number|        ssn|\n",
      "+-----------+----------+---------+------+-----+-------------+----------------+-----------+\n",
      "|          1|     Scott|    Tiger|1000.0|   10|united states| +1 123 456 7890|123 45 6789|\n",
      "|          4|      Bill|    Gomes|1500.0|   10|    AUSTRALIA|+61 987 654 3210|789 12 6118|\n",
      "+-----------+----------+---------+------+-----+-------------+----------------+-----------+\n",
      "\n"
     ]
    }
   ],
   "source": [
    "employeesDF. \\\n",
    "    filter((col('bonus').isNotNull()) &\n",
    "           (col('bonus') != '')\n",
    "          ). \\\n",
    "    show()"
   ]
  },
  {
   "cell_type": "code",
   "execution_count": 57,
   "id": "a9ea53bb-0dc8-4bd0-8198-427c06984773",
   "metadata": {
    "tags": []
   },
   "outputs": [
    {
     "name": "stdout",
     "output_type": "stream",
     "text": [
      "+-----------+----------+---------+------+-----+-------------+----------------+-----------+\n",
      "|employee_id|first_name|last_name|salary|bonus|  nationality|    phone_number|        ssn|\n",
      "+-----------+----------+---------+------+-----+-------------+----------------+-----------+\n",
      "|          1|     Scott|    Tiger|1000.0|   10|united states| +1 123 456 7890|123 45 6789|\n",
      "|          4|      Bill|    Gomes|1500.0|   10|    AUSTRALIA|+61 987 654 3210|789 12 6118|\n",
      "+-----------+----------+---------+------+-----+-------------+----------------+-----------+\n",
      "\n"
     ]
    }
   ],
   "source": [
    "employeesDF. \\\n",
    "    filter((~ col('bonus').isNull()) &\n",
    "           (col('bonus') != '')\n",
    "          ). \\\n",
    "    show()"
   ]
  },
  {
   "cell_type": "code",
   "execution_count": 58,
   "id": "1eada0a2-4c7a-4b9f-8646-7b04c8937469",
   "metadata": {
    "tags": []
   },
   "outputs": [
    {
     "name": "stdout",
     "output_type": "stream",
     "text": [
      "+-----------+----------+---------+------+-----+-----------+----------------+-----------+\n",
      "|employee_id|first_name|last_name|salary|bonus|nationality|    phone_number|        ssn|\n",
      "+-----------+----------+---------+------+-----+-----------+----------------+-----------+\n",
      "|          2|     Henry|     Ford|1250.0| null|      India|+91 234 567 8901|456 78 9123|\n",
      "+-----------+----------+---------+------+-----+-----------+----------------+-----------+\n",
      "\n"
     ]
    }
   ],
   "source": [
    "employeesDF. \\\n",
    "    filter(\"bonus IS NULL\"). \\\n",
    "    show()"
   ]
  },
  {
   "cell_type": "markdown",
   "id": "248daa87-c53f-4c93-b011-540e3ac98658",
   "metadata": {
    "tags": []
   },
   "source": [
    "## Total Aggregations\n",
    "- We can perform total aggregations directly on Dataframe or we can perform aggregations after grouping by a key(s).\n",
    "- Here are the functions which we typically use to perform aggregations.\n",
    "    - count\n",
    "    - sum, avg\n",
    "    - min, max"
   ]
  },
  {
   "cell_type": "markdown",
   "id": "41318a4e-ca7e-4f19-9a02-916aadf32a6a",
   "metadata": {
    "tags": []
   },
   "source": [
    ">## Task1:Aggregations\n",
    "Get number of flights in the month of 1987 January."
   ]
  },
  {
   "cell_type": "code",
   "execution_count": 59,
   "id": "50ff06d1-d17f-4c26-a9d2-0500d39df6cc",
   "metadata": {
    "tags": []
   },
   "outputs": [
    {
     "data": {
      "text/plain": [
       "448558"
      ]
     },
     "execution_count": 59,
     "metadata": {},
     "output_type": "execute_result"
    }
   ],
   "source": [
    "airtraffic.count()"
   ]
  },
  {
   "cell_type": "code",
   "execution_count": 60,
   "id": "2cf92fb3-e226-477b-9524-e8a36b260070",
   "metadata": {
    "tags": []
   },
   "outputs": [
    {
     "name": "stdout",
     "output_type": "stream",
     "text": [
      "+------+\n",
      "| count|\n",
      "+------+\n",
      "|448558|\n",
      "+------+\n",
      "\n"
     ]
    }
   ],
   "source": [
    "airtraffic.select(count(lit(1)).alias('count')).show()"
   ]
  },
  {
   "cell_type": "code",
   "execution_count": 61,
   "id": "10156796-8818-4fb7-95b0-863d5eceec68",
   "metadata": {
    "tags": []
   },
   "outputs": [
    {
     "name": "stderr",
     "output_type": "stream",
     "text": [
      "                                                                                \r"
     ]
    },
    {
     "name": "stdout",
     "output_type": "stream",
     "text": [
      "+-------+------+------+------------------+\n",
      "|summary|  Year| Month|        DayOfMonth|\n",
      "+-------+------+------+------------------+\n",
      "|  count|448558|448558|            448558|\n",
      "|   mean|1987.0|  10.0|15.972980082843245|\n",
      "| stddev|   0.0|   0.0|  8.93199415439287|\n",
      "|    min|  1987|    10|                 1|\n",
      "|    max|  1987|    10|                31|\n",
      "+-------+------+------+------------------+\n",
      "\n"
     ]
    }
   ],
   "source": [
    "airtraffic. \\\n",
    "    select('Year', 'Month', 'DayOfMonth'). \\\n",
    "    describe(). \\\n",
    "    show()"
   ]
  },
  {
   "cell_type": "code",
   "execution_count": 62,
   "id": "82206e24-eb5c-4755-ad7f-b59775e7bfd9",
   "metadata": {
    "tags": []
   },
   "outputs": [
    {
     "name": "stderr",
     "output_type": "stream",
     "text": [
      "[Stage 133:>                                                        (0 + 1) / 1]\r"
     ]
    },
    {
     "name": "stdout",
     "output_type": "stream",
     "text": [
      "+-------+------+------+------------------+\n",
      "|summary|  Year| Month|        DayOfMonth|\n",
      "+-------+------+------+------------------+\n",
      "|  count|448558|448558|            448558|\n",
      "|   mean|1987.0|  10.0|15.972980082843245|\n",
      "| stddev|   0.0|   0.0|  8.93199415439287|\n",
      "|    min|  1987|    10|                 1|\n",
      "|    25%|  1987|    10|                 8|\n",
      "|    50%|  1987|    10|                16|\n",
      "|    75%|  1987|    10|                24|\n",
      "|    max|  1987|    10|                31|\n",
      "+-------+------+------+------------------+\n",
      "\n"
     ]
    },
    {
     "name": "stderr",
     "output_type": "stream",
     "text": [
      "                                                                                \r"
     ]
    }
   ],
   "source": [
    "airtraffic. \\\n",
    "    select('Year', 'Month', 'DayOfMonth'). \\\n",
    "    summary(). \\\n",
    "    show()"
   ]
  },
  {
   "cell_type": "markdown",
   "id": "557c4e79-aee8-4edb-b66b-d6fc14e97676",
   "metadata": {
    "tags": []
   },
   "source": [
    ">## Task2:Aggregations\n",
    "Get number of distinct dates from airtraffic data frame which is created using 1987 OCT data."
   ]
  },
  {
   "cell_type": "code",
   "execution_count": 63,
   "id": "d4d06d0e-057e-478d-a500-ae832bf1ab87",
   "metadata": {
    "tags": []
   },
   "outputs": [
    {
     "data": {
      "text/plain": [
       "31"
      ]
     },
     "execution_count": 63,
     "metadata": {},
     "output_type": "execute_result"
    }
   ],
   "source": [
    "airtraffic. \\\n",
    "    select('Year', 'Month', 'DayOfMonth'). \\\n",
    "    distinct(). \\\n",
    "    count()"
   ]
  },
  {
   "cell_type": "code",
   "execution_count": 64,
   "id": "a4917add-1c2c-44ee-a87a-790ba096dca8",
   "metadata": {
    "tags": []
   },
   "outputs": [
    {
     "name": "stdout",
     "output_type": "stream",
     "text": [
      "+-------------+\n",
      "|countDistinct|\n",
      "+-------------+\n",
      "|           31|\n",
      "+-------------+\n",
      "\n"
     ]
    }
   ],
   "source": [
    "airtraffic. \\\n",
    "    select(countDistinct('Year', 'Month', 'DayOfMonth').alias('countDistinct')). \\\n",
    "    show()"
   ]
  },
  {
   "cell_type": "code",
   "execution_count": 65,
   "id": "c6bd05b1-feba-4309-93e3-92a8f6d3cf98",
   "metadata": {
    "tags": []
   },
   "outputs": [
    {
     "name": "stdout",
     "output_type": "stream",
     "text": [
      "root\n",
      " |-- employee_id: integer (nullable = true)\n",
      " |-- first_name: string (nullable = true)\n",
      " |-- last_name: string (nullable = true)\n",
      " |-- salary: float (nullable = true)\n",
      " |-- bonus: string (nullable = true)\n",
      " |-- nationality: string (nullable = true)\n",
      " |-- phone_number: string (nullable = true)\n",
      " |-- ssn: string (nullable = true)\n",
      "\n"
     ]
    }
   ],
   "source": [
    "employeesDF.printSchema()"
   ]
  },
  {
   "cell_type": "code",
   "execution_count": 66,
   "id": "1e8bf270-0f66-48f6-bc71-aee89b00b6e7",
   "metadata": {
    "tags": []
   },
   "outputs": [
    {
     "name": "stdout",
     "output_type": "stream",
     "text": [
      "+-----------+\n",
      "|total_bonus|\n",
      "+-----------+\n",
      "|      100.0|\n",
      "|        0.0|\n",
      "|        0.0|\n",
      "|      150.0|\n",
      "+-----------+\n",
      "\n"
     ]
    }
   ],
   "source": [
    "employeesDF. \\\n",
    "    select((coalesce(col('bonus').cast('int'), lit(0)) * col('salary') / lit(100)).alias('total_bonus')). \\\n",
    "    show()"
   ]
  },
  {
   "cell_type": "code",
   "execution_count": 67,
   "id": "be02a2d4-2e8a-4b48-b633-a85fef81cd8b",
   "metadata": {
    "tags": []
   },
   "outputs": [
    {
     "name": "stdout",
     "output_type": "stream",
     "text": [
      "+-----------+\n",
      "|total_bonus|\n",
      "+-----------+\n",
      "|      250.0|\n",
      "+-----------+\n",
      "\n"
     ]
    }
   ],
   "source": [
    "employeesDF.select(((sum(coalesce(col('bonus').cast('int'),\\\n",
    "            lit(0)) * col('salary'))) / lit(100)).alias('total_bonus')). \\\n",
    "    show()"
   ]
  },
  {
   "cell_type": "markdown",
   "id": "92edd66c-31ce-4c2e-8c17-811dc67f0b7a",
   "metadata": {
    "tags": []
   },
   "source": [
    ">## Task3:Aggregations\n",
    "    Get revenue generated for a given order from order_items."
   ]
  },
  {
   "cell_type": "code",
   "execution_count": 68,
   "id": "9b2871f4-5fa8-44f1-99c5-dec0842f606d",
   "metadata": {
    "tags": []
   },
   "outputs": [
    {
     "name": "stderr",
     "output_type": "stream",
     "text": [
      "                                                                                \r"
     ]
    }
   ],
   "source": [
    "order_items = spark.read.json('/data/retail_db_json/order_items')"
   ]
  },
  {
   "cell_type": "code",
   "execution_count": 69,
   "id": "9f96cc03-4ee7-4895-8f46-d9f482dd95f7",
   "metadata": {
    "tags": []
   },
   "outputs": [
    {
     "name": "stdin",
     "output_type": "stream",
     "text": [
      "Enter order_id: 22\n"
     ]
    }
   ],
   "source": [
    "order_id = input('Enter order_id:')"
   ]
  },
  {
   "cell_type": "code",
   "execution_count": 70,
   "id": "4e45aea5-836b-482f-803e-229db0d0ed56",
   "metadata": {
    "tags": []
   },
   "outputs": [
    {
     "name": "stderr",
     "output_type": "stream",
     "text": [
      "                                                                                \r"
     ]
    },
    {
     "name": "stdout",
     "output_type": "stream",
     "text": [
      "+-------------+-------------------+---------------------+------------------------+-------------------+-------------------+\n",
      "|order_item_id|order_item_order_id|order_item_product_id|order_item_product_price|order_item_quantity|order_item_subtotal|\n",
      "+-------------+-------------------+---------------------+------------------------+-------------------+-------------------+\n",
      "+-------------+-------------------+---------------------+------------------------+-------------------+-------------------+\n",
      "\n"
     ]
    }
   ],
   "source": [
    "order_items. \\\n",
    "    filter(f'order_item_order_id = {int(order_id)}'). \\\n",
    "    show()"
   ]
  },
  {
   "cell_type": "code",
   "execution_count": 71,
   "id": "d3512a4f-2c60-4469-b07b-d645c6d35dd6",
   "metadata": {
    "tags": []
   },
   "outputs": [
    {
     "name": "stderr",
     "output_type": "stream",
     "text": [
      "[Stage 154:============================>                            (1 + 1) / 2]\r"
     ]
    },
    {
     "name": "stdout",
     "output_type": "stream",
     "text": [
      "+-------------+\n",
      "|order_revenue|\n",
      "+-------------+\n",
      "|         null|\n",
      "+-------------+\n",
      "\n"
     ]
    },
    {
     "name": "stderr",
     "output_type": "stream",
     "text": [
      "                                                                                \r"
     ]
    }
   ],
   "source": [
    "order_items. \\\n",
    "    filter(f'order_item_order_id = {int(order_id)}'). \\\n",
    "    select(sum('order_item_subtotal').alias('order_revenue')). \\\n",
    "    show()"
   ]
  },
  {
   "cell_type": "markdown",
   "id": "4c4a6fe0-50d1-4517-853e-b9129158abe5",
   "metadata": {},
   "source": [
    "#### Aggregate data using groupBy\n",
    "\n",
    "- APIs\n",
    "    1. groupBy\n",
    "    2. rollup\n",
    "    3. cube  \n",
    "- Functions:\n",
    "    - count\n",
    "    - sum, avg\n",
    "    - min, max\n",
    "\n"
   ]
  },
  {
   "cell_type": "code",
   "execution_count": 72,
   "id": "a27beb3b-eb67-4545-a329-b5eef21aa872",
   "metadata": {
    "tags": []
   },
   "outputs": [
    {
     "data": {
      "text/plain": [
       "448558"
      ]
     },
     "execution_count": 72,
     "metadata": {},
     "output_type": "execute_result"
    }
   ],
   "source": [
    "airtraffic.count()"
   ]
  },
  {
   "cell_type": "markdown",
   "id": "c3ab88cf-94ba-4fd3-b487-2d00692d8c4d",
   "metadata": {
    "tags": []
   },
   "source": [
    ">## Task1: Aggregations groupBy\n",
    "    Get number of flights scheduled each day for the month of OCT 1987"
   ]
  },
  {
   "cell_type": "code",
   "execution_count": 73,
   "id": "d8288538-45b0-4d77-a1a7-5a21b935968b",
   "metadata": {
    "tags": []
   },
   "outputs": [
    {
     "name": "stderr",
     "output_type": "stream",
     "text": [
      "[Stage 160:============================>                            (1 + 1) / 2]\r"
     ]
    },
    {
     "name": "stdout",
     "output_type": "stream",
     "text": [
      "+----------+-----+\n",
      "|FlightDate|count|\n",
      "+----------+-----+\n",
      "|  19871001|14747|\n",
      "|  19871030|14769|\n",
      "|  19871002|14748|\n",
      "|  19871018|14050|\n",
      "|  19871021|14703|\n",
      "|  19871029|14795|\n",
      "|  19871020|14744|\n",
      "|  19871019|14742|\n",
      "|  19871014|14806|\n",
      "|  19871006|14901|\n",
      "|  19871003|13537|\n",
      "|  19871013|14865|\n",
      "|  19871010|13421|\n",
      "|  19871022|14716|\n",
      "|  19871012|14795|\n",
      "|  19871004|14111|\n",
      "|  19871011|14020|\n",
      "|  19871025|13939|\n",
      "|  19871028|14756|\n",
      "|  19871007|14805|\n",
      "+----------+-----+\n",
      "only showing top 20 rows\n",
      "\n"
     ]
    },
    {
     "name": "stderr",
     "output_type": "stream",
     "text": [
      "                                                                                \r"
     ]
    }
   ],
   "source": [
    "airtraffic. \\\n",
    "    groupBy(concat(\"year\",\n",
    "                   lpad(\"Month\", 2, \"0\"),\n",
    "                   lpad(\"DayOfMonth\", 2, \"0\")\n",
    "                  ).alias(\"FlightDate\")\n",
    "           ). \\\n",
    "    count(). \\\n",
    "    show()"
   ]
  },
  {
   "cell_type": "code",
   "execution_count": 74,
   "id": "647318c6-8d52-42a3-a1b3-1224e7f351b9",
   "metadata": {
    "tags": []
   },
   "outputs": [
    {
     "name": "stderr",
     "output_type": "stream",
     "text": [
      "[Stage 163:============================>                            (1 + 1) / 2]\r"
     ]
    },
    {
     "name": "stdout",
     "output_type": "stream",
     "text": [
      "+----------+-----------+\n",
      "|FlightDate|FlightCount|\n",
      "+----------+-----------+\n",
      "|  19871001|      14747|\n",
      "|  19871030|      14769|\n",
      "|  19871002|      14748|\n",
      "|  19871018|      14050|\n",
      "|  19871021|      14703|\n",
      "|  19871029|      14795|\n",
      "|  19871020|      14744|\n",
      "|  19871019|      14742|\n",
      "|  19871014|      14806|\n",
      "|  19871006|      14901|\n",
      "|  19871003|      13537|\n",
      "|  19871013|      14865|\n",
      "|  19871010|      13421|\n",
      "|  19871022|      14716|\n",
      "|  19871012|      14795|\n",
      "|  19871004|      14111|\n",
      "|  19871011|      14020|\n",
      "|  19871025|      13939|\n",
      "|  19871028|      14756|\n",
      "|  19871007|      14805|\n",
      "+----------+-----------+\n",
      "only showing top 20 rows\n",
      "\n"
     ]
    },
    {
     "name": "stderr",
     "output_type": "stream",
     "text": [
      "                                                                                \r"
     ]
    }
   ],
   "source": [
    "airtraffic. \\\n",
    "    groupBy(concat(\"year\",\n",
    "                   lpad(\"Month\", 2, \"0\"),\n",
    "                   lpad(\"DayOfMonth\", 2, \"0\")\n",
    "                  ).alias(\"FlightDate\")\n",
    "           ). \\\n",
    "    agg(count(lit(1)).alias(\"FlightCount\")). \\\n",
    "    show()"
   ]
  },
  {
   "cell_type": "markdown",
   "id": "dd9c212a-a03b-4136-b275-68957842b3e4",
   "metadata": {
    "tags": []
   },
   "source": [
    ">## Task2: Aggregations groupBy\n",
    "Get count of flights departed, total departure delay and average departure delay for each day over the month of OCT 1987"
   ]
  },
  {
   "cell_type": "code",
   "execution_count": 75,
   "id": "fb1b8783-ee3e-41c8-b332-24870bf46fa4",
   "metadata": {
    "tags": []
   },
   "outputs": [
    {
     "name": "stderr",
     "output_type": "stream",
     "text": [
      "[Stage 166:============================>                            (1 + 1) / 2]\r"
     ]
    },
    {
     "name": "stdout",
     "output_type": "stream",
     "text": [
      "+----------+-----------+-------------+---------------+\n",
      "|FlightDate|FlightCount|TotalDepDelay|AverageDepDelay|\n",
      "+----------+-----------+-------------+---------------+\n",
      "|  19871001|      14594|      83842.0|           5.74|\n",
      "|  19871030|      14699|      63726.0|           4.34|\n",
      "|  19871002|      14672|      64590.0|            4.4|\n",
      "|  19871018|      13997|      85456.0|           6.11|\n",
      "|  19871021|      14613|      65676.0|           4.49|\n",
      "|  19871029|      14717|      84895.0|           5.77|\n",
      "|  19871020|      14612|      76144.0|           5.21|\n",
      "|  19871019|      14656|      74703.0|            5.1|\n",
      "|  19871014|      14739|      66810.0|           4.53|\n",
      "|  19871006|      14807|      60301.0|           4.07|\n",
      "|  19871003|      13447|      51141.0|            3.8|\n",
      "|  19871013|      14756|      68141.0|           4.62|\n",
      "|  19871010|      13354|      49686.0|           3.72|\n",
      "|  19871022|      14634|      97431.0|           6.66|\n",
      "|  19871012|      14431|      71423.0|           4.95|\n",
      "|  19871004|      14000|      65158.0|           4.65|\n",
      "|  19871011|      13975|      63063.0|           4.51|\n",
      "|  19871025|      13826|     102707.0|           7.43|\n",
      "|  19871028|      14582|     104854.0|           7.19|\n",
      "|  19871007|      14766|      64711.0|           4.38|\n",
      "|  19871017|      13455|      71268.0|            5.3|\n",
      "|  19871005|      14736|      46546.0|           3.16|\n",
      "|  19871016|      14753|     110603.0|            7.5|\n",
      "|  19871023|      14522|      94046.0|           6.48|\n",
      "|  19871027|      14620|      58523.0|            4.0|\n",
      "|  19871024|      13351|      48863.0|           3.66|\n",
      "|  19871031|      13190|      52803.0|            4.0|\n",
      "|  19871026|      14745|      49032.0|           3.33|\n",
      "|  19871009|      14725|      98760.0|           6.71|\n",
      "|  19871015|      14807|      80989.0|           5.47|\n",
      "|  19871008|      14779|      77683.0|           5.26|\n",
      "+----------+-----------+-------------+---------------+\n",
      "\n"
     ]
    },
    {
     "name": "stderr",
     "output_type": "stream",
     "text": [
      "                                                                                \r"
     ]
    }
   ],
   "source": [
    "airtraffic. \\\n",
    "    filter('Cancelled = 0'). \\\n",
    "    groupBy(concat(\"year\",\n",
    "                   lpad(\"Month\", 2, \"0\"),\n",
    "                   lpad(\"DayOfMonth\", 2, \"0\")\n",
    "                  ).alias(\"FlightDate\")\n",
    "           ). \\\n",
    "    agg(\n",
    "        count(lit(1)).alias(\"FlightCount\"),\n",
    "        sum('DepDelay').alias('TotalDepDelay'),\n",
    "        round(avg('DepDelay'),2).alias('AverageDepDelay')\n",
    "    ). \\\n",
    "    show(31)"
   ]
  },
  {
   "cell_type": "markdown",
   "id": "ef7c6dda-dd0f-4ad8-9d1e-a231021eb475",
   "metadata": {},
   "source": [
    ">## Task3: Aggregations groupBy\n",
    "Using order_items, get revenue for each order."
   ]
  },
  {
   "cell_type": "code",
   "execution_count": 76,
   "id": "74c163b9-0a47-4ecc-9a6b-5c9ae2583676",
   "metadata": {
    "tags": []
   },
   "outputs": [
    {
     "name": "stdout",
     "output_type": "stream",
     "text": [
      "root\n",
      " |-- order_item_id: long (nullable = true)\n",
      " |-- order_item_order_id: long (nullable = true)\n",
      " |-- order_item_product_id: long (nullable = true)\n",
      " |-- order_item_product_price: double (nullable = true)\n",
      " |-- order_item_quantity: long (nullable = true)\n",
      " |-- order_item_subtotal: double (nullable = true)\n",
      "\n"
     ]
    }
   ],
   "source": [
    "order_items.printSchema()"
   ]
  },
  {
   "cell_type": "code",
   "execution_count": 77,
   "id": "4119d14c-a17c-4772-b746-fea51a61bb98",
   "metadata": {
    "tags": []
   },
   "outputs": [
    {
     "name": "stderr",
     "output_type": "stream",
     "text": [
      "[Stage 169:>                                                        (0 + 2) / 2]\r"
     ]
    },
    {
     "name": "stdout",
     "output_type": "stream",
     "text": [
      "+-------------------+--------------+-----------------+\n",
      "|order_item_order_id|order subtotal|revenue_per_order|\n",
      "+-------------------+--------------+-----------------+\n",
      "|              39713|        599.97|           299.99|\n",
      "|              40395|        939.94|           187.99|\n",
      "|              40436|        229.98|           114.99|\n",
      "|              40557|        549.95|           137.49|\n",
      "|              40634|       1119.88|           223.98|\n",
      "|              41424|        829.95|           207.49|\n",
      "|              41895|         649.9|           129.98|\n",
      "|              41988|         669.9|            223.3|\n",
      "|              42126|        899.88|           299.96|\n",
      "|              42852|       1039.88|           207.98|\n",
      "|              42969|        561.96|           187.32|\n",
      "|              43367|       1079.87|           269.97|\n",
      "|              44134|        759.92|           253.31|\n",
      "|              44342|        119.98|           119.98|\n",
      "|              44901|       1129.87|           225.97|\n",
      "|              45166|        424.92|           106.23|\n",
      "|              45298|        759.93|           151.99|\n",
      "|              45726|       1149.88|           229.98|\n",
      "|              46044|        1159.9|           231.98|\n",
      "|              46424|        509.84|           127.46|\n",
      "+-------------------+--------------+-----------------+\n",
      "only showing top 20 rows\n",
      "\n"
     ]
    },
    {
     "name": "stderr",
     "output_type": "stream",
     "text": [
      "                                                                                \r"
     ]
    }
   ],
   "source": [
    "order_items. \\\n",
    "    groupBy('order_item_order_id').\\\n",
    "        agg(\n",
    "        round(sum('order_item_subtotal'),2).alias('order subtotal'), \\\n",
    "        round(avg('order_item_subtotal'),2).alias('revenue_per_order')).\\\n",
    "    show()"
   ]
  },
  {
   "cell_type": "markdown",
   "id": "0ec6b3ec-59e7-4300-a44c-f20c551f1d63",
   "metadata": {},
   "source": [
    ">## Task4: Aggregations groupBy\n",
    "Get min and max order_item_subtotal for each order id."
   ]
  },
  {
   "cell_type": "code",
   "execution_count": 78,
   "id": "949bef94-229b-4ab9-bb3d-b012ef4af128",
   "metadata": {
    "tags": []
   },
   "outputs": [
    {
     "name": "stderr",
     "output_type": "stream",
     "text": [
      "[Stage 172:============================>                            (1 + 1) / 2]\r"
     ]
    },
    {
     "name": "stdout",
     "output_type": "stream",
     "text": [
      "+-------------------+---------+---------+\n",
      "|order_item_order_id|Min Value|Max Value|\n",
      "+-------------------+---------+---------+\n",
      "|              39713|   199.99|   399.98|\n",
      "|              40395|     50.0|   399.98|\n",
      "|              40436|    99.99|   129.99|\n",
      "|              40557|     50.0|    200.0|\n",
      "|              40634|    99.99|   499.95|\n",
      "|              41424|   129.99|   299.98|\n",
      "|              41895|     50.0|   199.99|\n",
      "|              41988|   129.99|   299.95|\n",
      "|              42126|    249.9|   399.98|\n",
      "|              42852|   129.99|   399.98|\n",
      "|              42969|    31.99|   399.98|\n",
      "|              43367|   129.99|   399.98|\n",
      "|              44134|   119.98|   399.98|\n",
      "|              44342|   119.98|   119.98|\n",
      "|              44901|   129.99|   399.98|\n",
      "|              45166|     50.0|   129.99|\n",
      "|              45298|    79.98|   199.99|\n",
      "|              45726|   119.97|   399.98|\n",
      "|              46044|    39.98|   399.98|\n",
      "|              46424|   109.94|   149.94|\n",
      "+-------------------+---------+---------+\n",
      "only showing top 20 rows\n",
      "\n"
     ]
    },
    {
     "name": "stderr",
     "output_type": "stream",
     "text": [
      "                                                                                \r"
     ]
    }
   ],
   "source": [
    "order_items. \\\n",
    "    groupBy('order_item_order_id').\\\n",
    "        agg(\n",
    "        min('order_item_subtotal').alias('Min Value'), \\\n",
    "        max('order_item_subtotal').alias('Max Value')).\\\n",
    "    show()"
   ]
  },
  {
   "cell_type": "markdown",
   "id": "270eb30d-e13b-4499-a271-423945098ee2",
   "metadata": {},
   "source": [
    "#### Aggregate data using **rollup**"
   ]
  },
  {
   "cell_type": "code",
   "execution_count": 79,
   "id": "2e5f69c9-85bd-43e5-a105-616a1ffe24bf",
   "metadata": {
    "tags": []
   },
   "outputs": [
    {
     "name": "stderr",
     "output_type": "stream",
     "text": [
      "                                                                                \r"
     ]
    }
   ],
   "source": [
    "orders = spark.read.json('/data/retail_db_json/orders')"
   ]
  },
  {
   "cell_type": "code",
   "execution_count": 80,
   "id": "e2c2634a-4ac2-4ab9-9b43-abbf1433abda",
   "metadata": {},
   "outputs": [
    {
     "name": "stdout",
     "output_type": "stream",
     "text": [
      "root\n",
      " |-- order_customer_id: long (nullable = true)\n",
      " |-- order_date: string (nullable = true)\n",
      " |-- order_id: long (nullable = true)\n",
      " |-- order_status: string (nullable = true)\n",
      "\n"
     ]
    }
   ],
   "source": [
    "orders.printSchema()"
   ]
  },
  {
   "cell_type": "code",
   "execution_count": 81,
   "id": "0251044f-5918-4501-97da-9a0760287c8e",
   "metadata": {
    "tags": []
   },
   "outputs": [
    {
     "name": "stdout",
     "output_type": "stream",
     "text": [
      "+-----------------+--------------------+--------+---------------+\n",
      "|order_customer_id|          order_date|order_id|   order_status|\n",
      "+-----------------+--------------------+--------+---------------+\n",
      "|            11599|2013-07-25 00:00:...|       1|         CLOSED|\n",
      "|              256|2013-07-25 00:00:...|       2|PENDING_PAYMENT|\n",
      "|            12111|2013-07-25 00:00:...|       3|       COMPLETE|\n",
      "|             8827|2013-07-25 00:00:...|       4|         CLOSED|\n",
      "|            11318|2013-07-25 00:00:...|       5|       COMPLETE|\n",
      "+-----------------+--------------------+--------+---------------+\n",
      "only showing top 5 rows\n",
      "\n"
     ]
    }
   ],
   "source": [
    "orders.show(5)"
   ]
  },
  {
   "cell_type": "code",
   "execution_count": 82,
   "id": "aa01510d-3b25-475c-8902-9429cda7893a",
   "metadata": {
    "tags": []
   },
   "outputs": [
    {
     "name": "stderr",
     "output_type": "stream",
     "text": [
      "                                                                                \r"
     ]
    },
    {
     "data": {
      "text/plain": [
       "364"
      ]
     },
     "execution_count": 82,
     "metadata": {},
     "output_type": "execute_result"
    }
   ],
   "source": [
    "orders. \\\n",
    "    groupBy('order_date'). \\\n",
    "    agg(count(lit(1)).alias('order_count')). \\\n",
    "    count()"
   ]
  },
  {
   "cell_type": "code",
   "execution_count": 83,
   "id": "4461be8e-768b-4135-b38c-1622baccd10d",
   "metadata": {
    "tags": []
   },
   "outputs": [
    {
     "data": {
      "text/plain": [
       "\u001b[0;31mSignature:\u001b[0m \u001b[0morders\u001b[0m\u001b[0;34m.\u001b[0m\u001b[0mrollup\u001b[0m\u001b[0;34m(\u001b[0m\u001b[0;34m*\u001b[0m\u001b[0mcols\u001b[0m\u001b[0;34m:\u001b[0m \u001b[0;34m'ColumnOrName'\u001b[0m\u001b[0;34m)\u001b[0m \u001b[0;34m->\u001b[0m \u001b[0;34m'GroupedData'\u001b[0m\u001b[0;34m\u001b[0m\u001b[0;34m\u001b[0m\u001b[0m\n",
       "\u001b[0;31mDocstring:\u001b[0m\n",
       "Create a multi-dimensional rollup for the current :class:`DataFrame` using\n",
       "the specified columns, so we can run aggregation on them.\n",
       "\n",
       ".. versionadded:: 1.4.0\n",
       "\n",
       "Examples\n",
       "--------\n",
       ">>> df.rollup(\"name\", df.age).count().orderBy(\"name\", \"age\").show()\n",
       "+-----+----+-----+\n",
       "| name| age|count|\n",
       "+-----+----+-----+\n",
       "| null|null|    2|\n",
       "|Alice|null|    1|\n",
       "|Alice|   2|    1|\n",
       "|  Bob|null|    1|\n",
       "|  Bob|   5|    1|\n",
       "+-----+----+-----+\n",
       "\u001b[0;31mFile:\u001b[0m      /usr/local/spark/python/pyspark/sql/dataframe.py\n",
       "\u001b[0;31mType:\u001b[0m      method"
      ]
     },
     "metadata": {},
     "output_type": "display_data"
    }
   ],
   "source": [
    "orders.rollup?"
   ]
  },
  {
   "cell_type": "code",
   "execution_count": 84,
   "id": "b5c046c1-3681-46aa-b7bf-7be083de2662",
   "metadata": {
    "tags": []
   },
   "outputs": [
    {
     "name": "stderr",
     "output_type": "stream",
     "text": [
      "[Stage 185:>                                                        (0 + 1) / 1]\r"
     ]
    },
    {
     "name": "stdout",
     "output_type": "stream",
     "text": [
      "+---------------------+-----------+\n",
      "|order_date           |order_count|\n",
      "+---------------------+-----------+\n",
      "|null                 |68883      |\n",
      "|2013-07-25 00:00:00.0|143        |\n",
      "|2013-07-26 00:00:00.0|269        |\n",
      "|2013-07-27 00:00:00.0|202        |\n",
      "|2013-07-28 00:00:00.0|187        |\n",
      "|2013-07-29 00:00:00.0|253        |\n",
      "|2013-07-30 00:00:00.0|227        |\n",
      "|2013-07-31 00:00:00.0|252        |\n",
      "|2013-08-01 00:00:00.0|246        |\n",
      "|2013-08-02 00:00:00.0|224        |\n",
      "|2013-08-03 00:00:00.0|183        |\n",
      "|2013-08-04 00:00:00.0|187        |\n",
      "|2013-08-05 00:00:00.0|153        |\n",
      "|2013-08-06 00:00:00.0|258        |\n",
      "|2013-08-07 00:00:00.0|203        |\n",
      "|2013-08-08 00:00:00.0|154        |\n",
      "|2013-08-09 00:00:00.0|125        |\n",
      "|2013-08-10 00:00:00.0|270        |\n",
      "|2013-08-11 00:00:00.0|154        |\n",
      "|2013-08-12 00:00:00.0|255        |\n",
      "+---------------------+-----------+\n",
      "only showing top 20 rows\n",
      "\n"
     ]
    },
    {
     "name": "stderr",
     "output_type": "stream",
     "text": [
      "                                                                                \r"
     ]
    }
   ],
   "source": [
    "orders. \\\n",
    "    rollup('order_date'). \\\n",
    "    agg(count(lit(1)).alias('order_count')). \\\n",
    "    orderBy('order_date'). \\\n",
    "    show(truncate=False)"
   ]
  },
  {
   "cell_type": "code",
   "execution_count": 85,
   "id": "445b4663-a03e-4cb4-b16c-fcbf38e49263",
   "metadata": {
    "tags": []
   },
   "outputs": [
    {
     "name": "stderr",
     "output_type": "stream",
     "text": [
      "                                                                                \r"
     ]
    },
    {
     "data": {
      "text/plain": [
       "365"
      ]
     },
     "execution_count": 85,
     "metadata": {},
     "output_type": "execute_result"
    }
   ],
   "source": [
    "orders. \\\n",
    "    rollup('order_date'). \\\n",
    "    agg(count(lit(1)).alias('order_count')). \\\n",
    "    orderBy('order_date'). \\\n",
    "    count()"
   ]
  },
  {
   "cell_type": "markdown",
   "id": "f7d545e0-32ed-4aab-92eb-7fd202822219",
   "metadata": {},
   "source": [
    ">## Task1: Aggregations rollup\n",
    "Get count of orders rolled up by month as well as date. You will see an additional record per month."
   ]
  },
  {
   "cell_type": "code",
   "execution_count": 86,
   "id": "d0ba16da-5b53-4199-8817-dc3fbbb3ef50",
   "metadata": {
    "tags": []
   },
   "outputs": [
    {
     "name": "stderr",
     "output_type": "stream",
     "text": [
      "[Stage 192:============================>                            (1 + 1) / 2]\r"
     ]
    },
    {
     "name": "stdout",
     "output_type": "stream",
     "text": [
      "+-----------+--------------------+-----------+\n",
      "|order_month|          order_date|order_count|\n",
      "+-----------+--------------------+-----------+\n",
      "|     201307|2013-07-25 00:00:...|        143|\n",
      "|     201307|2013-07-26 00:00:...|        269|\n",
      "|     201307|2013-07-27 00:00:...|        202|\n",
      "|     201307|2013-07-28 00:00:...|        187|\n",
      "|     201307|2013-07-29 00:00:...|        253|\n",
      "|     201307|2013-07-30 00:00:...|        227|\n",
      "|     201307|2013-07-31 00:00:...|        252|\n",
      "|     201308|2013-08-01 00:00:...|        246|\n",
      "|     201308|2013-08-02 00:00:...|        224|\n",
      "|     201308|2013-08-03 00:00:...|        183|\n",
      "|     201308|2013-08-04 00:00:...|        187|\n",
      "|     201308|2013-08-05 00:00:...|        153|\n",
      "|     201308|2013-08-06 00:00:...|        258|\n",
      "|     201308|2013-08-07 00:00:...|        203|\n",
      "|     201308|2013-08-08 00:00:...|        154|\n",
      "|     201308|2013-08-09 00:00:...|        125|\n",
      "|     201308|2013-08-10 00:00:...|        270|\n",
      "|     201308|2013-08-11 00:00:...|        154|\n",
      "|     201308|2013-08-12 00:00:...|        255|\n",
      "|     201308|2013-08-13 00:00:...|         73|\n",
      "+-----------+--------------------+-----------+\n",
      "only showing top 20 rows\n",
      "\n"
     ]
    },
    {
     "name": "stderr",
     "output_type": "stream",
     "text": [
      "                                                                                \r"
     ]
    }
   ],
   "source": [
    "orders. \\\n",
    "    groupBy(date_format('order_date', 'yyyyMM').alias('order_month'), 'order_date'). \\\n",
    "    agg(count(lit(1)).alias('order_count')). \\\n",
    "    orderBy('order_month', 'order_date'). \\\n",
    "    show()"
   ]
  },
  {
   "cell_type": "code",
   "execution_count": 87,
   "id": "7a3b5aa5-2636-4223-9522-b7a75d534be4",
   "metadata": {
    "tags": []
   },
   "outputs": [
    {
     "name": "stderr",
     "output_type": "stream",
     "text": [
      "                                                                                \r"
     ]
    },
    {
     "data": {
      "text/plain": [
       "364"
      ]
     },
     "execution_count": 87,
     "metadata": {},
     "output_type": "execute_result"
    }
   ],
   "source": [
    "orders. \\\n",
    "    groupBy(date_format('order_date', 'yyyyMM').alias('order_month'), 'order_date'). \\\n",
    "    agg(count(lit(1)).alias('order_count')). \\\n",
    "    orderBy('order_month', 'order_date'). \\\n",
    "    count()"
   ]
  },
  {
   "cell_type": "code",
   "execution_count": 88,
   "id": "6528d9e6-cbbc-47d5-9cc5-476f95d416b6",
   "metadata": {
    "tags": []
   },
   "outputs": [
    {
     "name": "stderr",
     "output_type": "stream",
     "text": [
      "[Stage 201:============================>                            (1 + 1) / 2]\r"
     ]
    },
    {
     "name": "stdout",
     "output_type": "stream",
     "text": [
      "+-----------+---------------------+-----------+\n",
      "|order_month|order_date           |order_count|\n",
      "+-----------+---------------------+-----------+\n",
      "|null       |null                 |68883      |\n",
      "|201307     |null                 |1533       |\n",
      "|201307     |2013-07-25 00:00:00.0|143        |\n",
      "|201307     |2013-07-26 00:00:00.0|269        |\n",
      "|201307     |2013-07-27 00:00:00.0|202        |\n",
      "|201307     |2013-07-28 00:00:00.0|187        |\n",
      "|201307     |2013-07-29 00:00:00.0|253        |\n",
      "|201307     |2013-07-30 00:00:00.0|227        |\n",
      "|201307     |2013-07-31 00:00:00.0|252        |\n",
      "|201308     |null                 |5680       |\n",
      "|201308     |2013-08-01 00:00:00.0|246        |\n",
      "|201308     |2013-08-02 00:00:00.0|224        |\n",
      "|201308     |2013-08-03 00:00:00.0|183        |\n",
      "|201308     |2013-08-04 00:00:00.0|187        |\n",
      "|201308     |2013-08-05 00:00:00.0|153        |\n",
      "|201308     |2013-08-06 00:00:00.0|258        |\n",
      "|201308     |2013-08-07 00:00:00.0|203        |\n",
      "|201308     |2013-08-08 00:00:00.0|154        |\n",
      "|201308     |2013-08-09 00:00:00.0|125        |\n",
      "|201308     |2013-08-10 00:00:00.0|270        |\n",
      "+-----------+---------------------+-----------+\n",
      "only showing top 20 rows\n",
      "\n"
     ]
    },
    {
     "name": "stderr",
     "output_type": "stream",
     "text": [
      "                                                                                \r"
     ]
    }
   ],
   "source": [
    "orders. \\\n",
    "    rollup(date_format('order_date', 'yyyyMM').alias('order_month'), 'order_date'). \\\n",
    "    agg(count(lit(1)).alias('order_count')). \\\n",
    "    orderBy('order_month', 'order_date'). \\\n",
    "    show(truncate=False)"
   ]
  },
  {
   "cell_type": "code",
   "execution_count": 89,
   "id": "e9a873ad-db6e-4cb5-a968-78d2a96df989",
   "metadata": {
    "tags": []
   },
   "outputs": [
    {
     "name": "stderr",
     "output_type": "stream",
     "text": [
      "[Stage 204:>                                                        (0 + 2) / 2]\r"
     ]
    },
    {
     "name": "stdout",
     "output_type": "stream",
     "text": [
      "+-----------+---------------------+-----------+\n",
      "|order_month|order_date           |order_count|\n",
      "+-----------+---------------------+-----------+\n",
      "|null       |null                 |68883      |\n",
      "|1          |null                 |5908       |\n",
      "|1          |2014-01-01 00:00:00.0|135        |\n",
      "|1          |2014-01-02 00:00:00.0|111        |\n",
      "|1          |2014-01-03 00:00:00.0|250        |\n",
      "|1          |2014-01-04 00:00:00.0|129        |\n",
      "|1          |2014-01-05 00:00:00.0|266        |\n",
      "|1          |2014-01-06 00:00:00.0|155        |\n",
      "|1          |2014-01-07 00:00:00.0|163        |\n",
      "|1          |2014-01-08 00:00:00.0|122        |\n",
      "|1          |2014-01-09 00:00:00.0|207        |\n",
      "|1          |2014-01-10 00:00:00.0|241        |\n",
      "|1          |2014-01-11 00:00:00.0|281        |\n",
      "|1          |2014-01-12 00:00:00.0|215        |\n",
      "|1          |2014-01-13 00:00:00.0|179        |\n",
      "|1          |2014-01-14 00:00:00.0|209        |\n",
      "|1          |2014-01-15 00:00:00.0|243        |\n",
      "|1          |2014-01-16 00:00:00.0|194        |\n",
      "|1          |2014-01-17 00:00:00.0|149        |\n",
      "|1          |2014-01-18 00:00:00.0|139        |\n",
      "+-----------+---------------------+-----------+\n",
      "only showing top 20 rows\n",
      "\n"
     ]
    },
    {
     "name": "stderr",
     "output_type": "stream",
     "text": [
      "                                                                                \r"
     ]
    }
   ],
   "source": [
    "orders. \\\n",
    "    rollup(month('order_date').alias('order_month'), 'order_date'). \\\n",
    "    agg(count(lit(1)).alias('order_count')). \\\n",
    "    orderBy('order_month', 'order_date'). \\\n",
    "    show(truncate=False)"
   ]
  },
  {
   "cell_type": "code",
   "execution_count": 90,
   "id": "80004ee1-5a48-4328-b51b-48e3d22f3a8b",
   "metadata": {
    "tags": []
   },
   "outputs": [
    {
     "name": "stderr",
     "output_type": "stream",
     "text": [
      "                                                                                \r"
     ]
    },
    {
     "data": {
      "text/plain": [
       "378"
      ]
     },
     "execution_count": 90,
     "metadata": {},
     "output_type": "execute_result"
    }
   ],
   "source": [
    "orders. \\\n",
    "    rollup(date_format('order_date', 'yyyyMM').alias('order_month'), 'order_date'). \\\n",
    "    agg(count(lit(1)).alias('order_count')). \\\n",
    "    orderBy('order_month', 'order_date'). \\\n",
    "    count()"
   ]
  },
  {
   "cell_type": "markdown",
   "id": "c5c9f5b6-d04e-4f2f-9df5-c0db6ec729bc",
   "metadata": {},
   "source": [
    ">## Task2: Aggregations rollup\n",
    "Get count of orders rolled up by year, month as well as date. You will see an additional record per month as well as per year."
   ]
  },
  {
   "cell_type": "code",
   "execution_count": 91,
   "id": "7ba91986-be02-4272-b8bb-66d30a25e85d",
   "metadata": {
    "tags": []
   },
   "outputs": [
    {
     "name": "stderr",
     "output_type": "stream",
     "text": [
      "                                                                                \r"
     ]
    },
    {
     "data": {
      "text/plain": [
       "380"
      ]
     },
     "execution_count": 91,
     "metadata": {},
     "output_type": "execute_result"
    }
   ],
   "source": [
    "orders.rollup(date_format('order_date', 'yyyy').alias('order_year'),date_format('order_date', 'yyyyMM').alias('order_month'), 'order_date'). \\\n",
    "    agg(count(lit(1)).alias('order_count')). \\\n",
    "    orderBy('order_month', 'order_date'). \\\n",
    "    count()"
   ]
  },
  {
   "cell_type": "code",
   "execution_count": 92,
   "id": "c9a2926a-e402-4789-8bb5-0b9469e8f0f9",
   "metadata": {
    "tags": []
   },
   "outputs": [
    {
     "name": "stderr",
     "output_type": "stream",
     "text": [
      "[Stage 219:============================>                            (1 + 1) / 2]\r"
     ]
    },
    {
     "name": "stdout",
     "output_type": "stream",
     "text": [
      "+----------+-----------+--------------------+-----------+\n",
      "|order_year|order_month|          order_date|order_count|\n",
      "+----------+-----------+--------------------+-----------+\n",
      "|      null|       null|                null|      68883|\n",
      "|      2013|       null|                null|      30662|\n",
      "|      2013|     201307|                null|       1533|\n",
      "|      2013|     201307|2013-07-25 00:00:...|        143|\n",
      "|      2013|     201307|2013-07-26 00:00:...|        269|\n",
      "|      2013|     201307|2013-07-27 00:00:...|        202|\n",
      "|      2013|     201307|2013-07-28 00:00:...|        187|\n",
      "|      2013|     201307|2013-07-29 00:00:...|        253|\n",
      "|      2013|     201307|2013-07-30 00:00:...|        227|\n",
      "|      2013|     201307|2013-07-31 00:00:...|        252|\n",
      "|      2013|     201308|                null|       5680|\n",
      "|      2013|     201308|2013-08-01 00:00:...|        246|\n",
      "|      2013|     201308|2013-08-02 00:00:...|        224|\n",
      "|      2013|     201308|2013-08-03 00:00:...|        183|\n",
      "|      2013|     201308|2013-08-04 00:00:...|        187|\n",
      "|      2013|     201308|2013-08-05 00:00:...|        153|\n",
      "|      2013|     201308|2013-08-06 00:00:...|        258|\n",
      "|      2013|     201308|2013-08-07 00:00:...|        203|\n",
      "|      2013|     201308|2013-08-08 00:00:...|        154|\n",
      "|      2013|     201308|2013-08-09 00:00:...|        125|\n",
      "+----------+-----------+--------------------+-----------+\n",
      "only showing top 20 rows\n",
      "\n"
     ]
    },
    {
     "name": "stderr",
     "output_type": "stream",
     "text": [
      "                                                                                \r"
     ]
    }
   ],
   "source": [
    "orders.rollup(date_format('order_date', 'yyyy').alias('order_year'),date_format('order_date', 'yyyyMM').alias('order_month'), 'order_date'). \\\n",
    "    agg(count(lit(1)).alias('order_count')). \\\n",
    "    orderBy('order_year', 'order_month', 'order_date'). \\\n",
    "    show()"
   ]
  },
  {
   "cell_type": "code",
   "execution_count": 93,
   "id": "d76f27fb-5267-4c85-9d23-bc98c5a79c8d",
   "metadata": {
    "tags": []
   },
   "outputs": [
    {
     "name": "stderr",
     "output_type": "stream",
     "text": [
      "[Stage 222:============================>                            (1 + 1) / 2]\r"
     ]
    },
    {
     "name": "stdout",
     "output_type": "stream",
     "text": [
      "+----------+-----------+--------------------+-----------+\n",
      "|order_year|order_month|          order_date|order_count|\n",
      "+----------+-----------+--------------------+-----------+\n",
      "|      2013|     201307|2013-07-25 00:00:...|        143|\n",
      "|      2013|     201307|2013-07-26 00:00:...|        269|\n",
      "|      2013|     201307|2013-07-27 00:00:...|        202|\n",
      "|      2013|     201307|2013-07-28 00:00:...|        187|\n",
      "|      2013|     201307|2013-07-29 00:00:...|        253|\n",
      "|      2013|     201307|2013-07-30 00:00:...|        227|\n",
      "|      2013|     201307|2013-07-31 00:00:...|        252|\n",
      "|      2013|     201308|2013-08-01 00:00:...|        246|\n",
      "|      2013|     201308|2013-08-02 00:00:...|        224|\n",
      "|      2013|     201308|2013-08-03 00:00:...|        183|\n",
      "|      2013|     201308|2013-08-04 00:00:...|        187|\n",
      "|      2013|     201308|2013-08-05 00:00:...|        153|\n",
      "|      2013|     201308|2013-08-06 00:00:...|        258|\n",
      "|      2013|     201308|2013-08-07 00:00:...|        203|\n",
      "|      2013|     201308|2013-08-08 00:00:...|        154|\n",
      "|      2013|     201308|2013-08-09 00:00:...|        125|\n",
      "|      2013|     201308|2013-08-10 00:00:...|        270|\n",
      "|      2013|     201308|2013-08-11 00:00:...|        154|\n",
      "|      2013|     201308|2013-08-12 00:00:...|        255|\n",
      "|      2013|     201308|2013-08-13 00:00:...|         73|\n",
      "+----------+-----------+--------------------+-----------+\n",
      "only showing top 20 rows\n",
      "\n"
     ]
    },
    {
     "name": "stderr",
     "output_type": "stream",
     "text": [
      "                                                                                \r"
     ]
    }
   ],
   "source": [
    "orders. \\\n",
    "    groupBy(\n",
    "        year('order_date').alias('order_year'),\n",
    "        date_format('order_date', 'yyyyMM').alias('order_month'), \n",
    "        'order_date'\n",
    "    ). \\\n",
    "    agg(count(lit(1)).alias('order_count')). \\\n",
    "    orderBy('order_year', 'order_month', 'order_date'). \\\n",
    "    show()"
   ]
  },
  {
   "cell_type": "code",
   "execution_count": 94,
   "id": "35c6a7ce-7905-44dd-ac31-0e0e33bc0d26",
   "metadata": {
    "tags": []
   },
   "outputs": [
    {
     "name": "stderr",
     "output_type": "stream",
     "text": [
      "[Stage 225:============================>                            (1 + 1) / 2]\r"
     ]
    },
    {
     "name": "stdout",
     "output_type": "stream",
     "text": [
      "+----------+-----------+--------------------+-----------+\n",
      "|order_year|order_month|          order_date|order_count|\n",
      "+----------+-----------+--------------------+-----------+\n",
      "|      2014|     201401|                null|       5908|\n",
      "|      2014|     201401|2014-01-01 00:00:...|        135|\n",
      "|      2014|     201401|2014-01-02 00:00:...|        111|\n",
      "|      2014|     201401|2014-01-03 00:00:...|        250|\n",
      "|      2014|     201401|2014-01-04 00:00:...|        129|\n",
      "|      2014|     201401|2014-01-05 00:00:...|        266|\n",
      "|      2014|     201401|2014-01-06 00:00:...|        155|\n",
      "|      2014|     201401|2014-01-07 00:00:...|        163|\n",
      "|      2014|     201401|2014-01-08 00:00:...|        122|\n",
      "|      2014|     201401|2014-01-09 00:00:...|        207|\n",
      "|      2014|     201401|2014-01-10 00:00:...|        241|\n",
      "|      2014|     201401|2014-01-11 00:00:...|        281|\n",
      "|      2014|     201401|2014-01-12 00:00:...|        215|\n",
      "|      2014|     201401|2014-01-13 00:00:...|        179|\n",
      "|      2014|     201401|2014-01-14 00:00:...|        209|\n",
      "|      2014|     201401|2014-01-15 00:00:...|        243|\n",
      "|      2014|     201401|2014-01-16 00:00:...|        194|\n",
      "|      2014|     201401|2014-01-17 00:00:...|        149|\n",
      "|      2014|     201401|2014-01-18 00:00:...|        139|\n",
      "|      2014|     201401|2014-01-19 00:00:...|        217|\n",
      "|      2014|     201401|2014-01-20 00:00:...|        203|\n",
      "|      2014|     201401|2014-01-21 00:00:...|        259|\n",
      "|      2014|     201401|2014-01-22 00:00:...|        209|\n",
      "|      2014|     201401|2014-01-23 00:00:...|        220|\n",
      "|      2014|     201401|2014-01-24 00:00:...|        159|\n",
      "|      2014|     201401|2014-01-25 00:00:...|        104|\n",
      "|      2014|     201401|2014-01-26 00:00:...|        154|\n",
      "|      2014|     201401|2014-01-27 00:00:...|        163|\n",
      "|      2014|     201401|2014-01-28 00:00:...|        197|\n",
      "|      2014|     201401|2014-01-29 00:00:...|        158|\n",
      "|      2014|     201401|2014-01-30 00:00:...|        254|\n",
      "|      2014|     201401|2014-01-31 00:00:...|        223|\n",
      "+----------+-----------+--------------------+-----------+\n",
      "\n"
     ]
    },
    {
     "name": "stderr",
     "output_type": "stream",
     "text": [
      "                                                                                \r"
     ]
    }
   ],
   "source": [
    "orders. \\\n",
    "    rollup(\n",
    "        year('order_date').alias('order_year'),\n",
    "        date_format('order_date', 'yyyyMM').alias('order_month'), \n",
    "        'order_date'\n",
    "    ). \\\n",
    "    agg(count(lit(1)).alias('order_count')). \\\n",
    "    filter(\"order_month = 201401\"). \\\n",
    "    orderBy('order_year', 'order_month', 'order_date'). \\\n",
    "    show(32)"
   ]
  },
  {
   "cell_type": "markdown",
   "id": "319133d9-8f5b-49c6-8611-9a6fd42020db",
   "metadata": {},
   "source": [
    "### Aggregate data using cube"
   ]
  },
  {
   "cell_type": "markdown",
   "id": "02f9ff1f-a2c1-433b-bbbc-eb1c88e21bed",
   "metadata": {
    "tags": []
   },
   "source": [
    ">## Task1: Aggregations cube\n",
    "    Get count of orders by date using cube."
   ]
  },
  {
   "cell_type": "code",
   "execution_count": 95,
   "id": "1a1f328a-d86e-4900-873f-49cfc52e5966",
   "metadata": {
    "tags": []
   },
   "outputs": [
    {
     "name": "stderr",
     "output_type": "stream",
     "text": [
      "[Stage 228:============================>                            (1 + 1) / 2]\r"
     ]
    },
    {
     "name": "stdout",
     "output_type": "stream",
     "text": [
      "+--------------------+-----------+\n",
      "|          order_date|order_count|\n",
      "+--------------------+-----------+\n",
      "|2013-07-25 00:00:...|        143|\n",
      "|2013-07-26 00:00:...|        269|\n",
      "|2013-07-27 00:00:...|        202|\n",
      "|2013-07-28 00:00:...|        187|\n",
      "|2013-07-29 00:00:...|        253|\n",
      "+--------------------+-----------+\n",
      "only showing top 5 rows\n",
      "\n"
     ]
    },
    {
     "name": "stderr",
     "output_type": "stream",
     "text": [
      "                                                                                \r"
     ]
    }
   ],
   "source": [
    "orders. \\\n",
    "    groupBy('order_date'). \\\n",
    "    agg(count(lit(1)).alias('order_count')). \\\n",
    "    orderBy('order_date'). \\\n",
    "    show(5)"
   ]
  },
  {
   "cell_type": "code",
   "execution_count": 96,
   "id": "8d685c2f-5a42-41f6-8d39-5c3ce9d1704d",
   "metadata": {
    "tags": []
   },
   "outputs": [
    {
     "data": {
      "text/plain": [
       "364"
      ]
     },
     "execution_count": 96,
     "metadata": {},
     "output_type": "execute_result"
    }
   ],
   "source": [
    "orders. \\\n",
    "    groupBy('order_date'). \\\n",
    "    agg(count(lit(1)).alias('order_count')). \\\n",
    "    count()"
   ]
  },
  {
   "cell_type": "code",
   "execution_count": 97,
   "id": "6641f7cf-842c-444b-abbe-9aec440e2726",
   "metadata": {
    "tags": []
   },
   "outputs": [],
   "source": [
    "#orders.cube?"
   ]
  },
  {
   "cell_type": "code",
   "execution_count": 98,
   "id": "e0d9e891-e650-463d-a5cb-119308c00f8f",
   "metadata": {
    "tags": []
   },
   "outputs": [
    {
     "name": "stdout",
     "output_type": "stream",
     "text": [
      "+--------------------+-----------+\n",
      "|          order_date|order_count|\n",
      "+--------------------+-----------+\n",
      "|                null|      68883|\n",
      "|2013-07-25 00:00:...|        143|\n",
      "|2013-07-26 00:00:...|        269|\n",
      "|2013-07-27 00:00:...|        202|\n",
      "|2013-07-28 00:00:...|        187|\n",
      "|2013-07-29 00:00:...|        253|\n",
      "|2013-07-30 00:00:...|        227|\n",
      "|2013-07-31 00:00:...|        252|\n",
      "|2013-08-01 00:00:...|        246|\n",
      "|2013-08-02 00:00:...|        224|\n",
      "|2013-08-03 00:00:...|        183|\n",
      "|2013-08-04 00:00:...|        187|\n",
      "|2013-08-05 00:00:...|        153|\n",
      "|2013-08-06 00:00:...|        258|\n",
      "|2013-08-07 00:00:...|        203|\n",
      "|2013-08-08 00:00:...|        154|\n",
      "|2013-08-09 00:00:...|        125|\n",
      "|2013-08-10 00:00:...|        270|\n",
      "|2013-08-11 00:00:...|        154|\n",
      "|2013-08-12 00:00:...|        255|\n",
      "+--------------------+-----------+\n",
      "only showing top 20 rows\n",
      "\n"
     ]
    }
   ],
   "source": [
    "orders. \\\n",
    "    cube('order_date'). \\\n",
    "    agg(count(lit(1)).alias('order_count')). \\\n",
    "    orderBy('order_date'). \\\n",
    "    show()"
   ]
  },
  {
   "cell_type": "code",
   "execution_count": 99,
   "id": "1a608003-6e7b-472f-9702-e1488fa0f42a",
   "metadata": {
    "tags": []
   },
   "outputs": [
    {
     "name": "stderr",
     "output_type": "stream",
     "text": [
      "                                                                                \r"
     ]
    },
    {
     "data": {
      "text/plain": [
       "365"
      ]
     },
     "execution_count": 99,
     "metadata": {},
     "output_type": "execute_result"
    }
   ],
   "source": [
    "orders. \\\n",
    "    cube('order_date'). \\\n",
    "    agg(count(lit(1)).alias('order_count')). \\\n",
    "    orderBy('order_date'). \\\n",
    "    count()"
   ]
  },
  {
   "cell_type": "markdown",
   "id": "3f9d1e20-6a02-4a2d-a66c-dc5aaa9d340b",
   "metadata": {},
   "source": [
    ">## Task2:Aggregattions cube\n",
    "Get count of orders by month as well as date using cube. You will see additional records per month."
   ]
  },
  {
   "cell_type": "code",
   "execution_count": 100,
   "id": "dd0b535e-c05e-443f-bf05-199cf85798ac",
   "metadata": {
    "tags": []
   },
   "outputs": [
    {
     "name": "stderr",
     "output_type": "stream",
     "text": [
      "[Stage 246:============================>                            (1 + 1) / 2]\r"
     ]
    },
    {
     "name": "stdout",
     "output_type": "stream",
     "text": [
      "+-----------+--------------------+-----------+\n",
      "|order_month|          order_date|order_count|\n",
      "+-----------+--------------------+-----------+\n",
      "|     201307|2013-07-25 00:00:...|        143|\n",
      "|     201307|2013-07-26 00:00:...|        269|\n",
      "|     201307|2013-07-27 00:00:...|        202|\n",
      "|     201307|2013-07-28 00:00:...|        187|\n",
      "|     201307|2013-07-29 00:00:...|        253|\n",
      "|     201307|2013-07-30 00:00:...|        227|\n",
      "|     201307|2013-07-31 00:00:...|        252|\n",
      "|     201308|2013-08-01 00:00:...|        246|\n",
      "|     201308|2013-08-02 00:00:...|        224|\n",
      "|     201308|2013-08-03 00:00:...|        183|\n",
      "|     201308|2013-08-04 00:00:...|        187|\n",
      "|     201308|2013-08-05 00:00:...|        153|\n",
      "|     201308|2013-08-06 00:00:...|        258|\n",
      "|     201308|2013-08-07 00:00:...|        203|\n",
      "|     201308|2013-08-08 00:00:...|        154|\n",
      "|     201308|2013-08-09 00:00:...|        125|\n",
      "|     201308|2013-08-10 00:00:...|        270|\n",
      "|     201308|2013-08-11 00:00:...|        154|\n",
      "|     201308|2013-08-12 00:00:...|        255|\n",
      "|     201308|2013-08-13 00:00:...|         73|\n",
      "+-----------+--------------------+-----------+\n",
      "only showing top 20 rows\n",
      "\n"
     ]
    },
    {
     "name": "stderr",
     "output_type": "stream",
     "text": [
      "                                                                                \r"
     ]
    }
   ],
   "source": [
    "orders. \\\n",
    "    groupBy(date_format('order_date', 'yyyyMM').alias('order_month'), 'order_date'). \\\n",
    "    agg(count(lit(1)).alias('order_count')). \\\n",
    "    orderBy('order_month', 'order_date'). \\\n",
    "    show()"
   ]
  },
  {
   "cell_type": "code",
   "execution_count": 101,
   "id": "8257708a-4141-42b2-9ba0-95560dde4915",
   "metadata": {
    "tags": []
   },
   "outputs": [
    {
     "name": "stderr",
     "output_type": "stream",
     "text": [
      "                                                                                \r"
     ]
    },
    {
     "data": {
      "text/plain": [
       "364"
      ]
     },
     "execution_count": 101,
     "metadata": {},
     "output_type": "execute_result"
    }
   ],
   "source": [
    "orders. \\\n",
    "    groupBy(date_format('order_date', 'yyyyMM').alias('order_month'), 'order_date'). \\\n",
    "    agg(count(lit(1)).alias('order_count')). \\\n",
    "    orderBy('order_month', 'order_date'). \\\n",
    "    count()"
   ]
  },
  {
   "cell_type": "code",
   "execution_count": 102,
   "id": "3da4f3f5-c8a4-4652-bb60-21141b10b09d",
   "metadata": {
    "tags": []
   },
   "outputs": [
    {
     "name": "stderr",
     "output_type": "stream",
     "text": [
      "[Stage 255:============================>                            (1 + 1) / 2]\r"
     ]
    },
    {
     "name": "stdout",
     "output_type": "stream",
     "text": [
      "+-----------+--------------------+-----------+\n",
      "|order_month|          order_date|order_count|\n",
      "+-----------+--------------------+-----------+\n",
      "|       null|                null|      68883|\n",
      "|     201307|                null|       1533|\n",
      "|     201307|2013-07-25 00:00:...|        143|\n",
      "|     201307|2013-07-26 00:00:...|        269|\n",
      "|     201307|2013-07-27 00:00:...|        202|\n",
      "|     201307|2013-07-28 00:00:...|        187|\n",
      "|     201307|2013-07-29 00:00:...|        253|\n",
      "|     201307|2013-07-30 00:00:...|        227|\n",
      "|     201307|2013-07-31 00:00:...|        252|\n",
      "|     201308|                null|       5680|\n",
      "|     201308|2013-08-01 00:00:...|        246|\n",
      "|     201308|2013-08-02 00:00:...|        224|\n",
      "|     201308|2013-08-03 00:00:...|        183|\n",
      "|     201308|2013-08-04 00:00:...|        187|\n",
      "|     201308|2013-08-05 00:00:...|        153|\n",
      "|     201308|2013-08-06 00:00:...|        258|\n",
      "|     201308|2013-08-07 00:00:...|        203|\n",
      "|     201308|2013-08-08 00:00:...|        154|\n",
      "|     201308|2013-08-09 00:00:...|        125|\n",
      "|     201308|2013-08-10 00:00:...|        270|\n",
      "+-----------+--------------------+-----------+\n",
      "only showing top 20 rows\n",
      "\n"
     ]
    },
    {
     "name": "stderr",
     "output_type": "stream",
     "text": [
      "                                                                                \r"
     ]
    }
   ],
   "source": [
    "orders. \\\n",
    "    rollup(date_format('order_date', 'yyyyMM').alias('order_month'), 'order_date'). \\\n",
    "    agg(count(lit(1)).alias('order_count')). \\\n",
    "    orderBy('order_month', 'order_date'). \\\n",
    "    show()"
   ]
  },
  {
   "cell_type": "code",
   "execution_count": 103,
   "id": "da8f3cd2-7416-4ec8-aba9-55e6dbb229e4",
   "metadata": {
    "tags": []
   },
   "outputs": [
    {
     "name": "stderr",
     "output_type": "stream",
     "text": [
      "                                                                                \r"
     ]
    },
    {
     "data": {
      "text/plain": [
       "378"
      ]
     },
     "execution_count": 103,
     "metadata": {},
     "output_type": "execute_result"
    }
   ],
   "source": [
    "orders. \\\n",
    "    rollup(date_format('order_date', 'yyyyMM').alias('order_month'), 'order_date'). \\\n",
    "    agg(count(lit(1)).alias('order_count')). \\\n",
    "    orderBy('order_month', 'order_date'). \\\n",
    "    count()"
   ]
  },
  {
   "cell_type": "code",
   "execution_count": 104,
   "id": "dbc83c85-858e-440d-87d4-04db10d82333",
   "metadata": {
    "tags": []
   },
   "outputs": [
    {
     "name": "stderr",
     "output_type": "stream",
     "text": [
      "[Stage 264:>                                                        (0 + 2) / 2]\r"
     ]
    },
    {
     "name": "stdout",
     "output_type": "stream",
     "text": [
      "+-----------+--------------------+-----------+\n",
      "|order_month|          order_date|order_count|\n",
      "+-----------+--------------------+-----------+\n",
      "|       null|                null|      68883|\n",
      "|       null|2013-07-25 00:00:...|        143|\n",
      "|       null|2013-07-26 00:00:...|        269|\n",
      "|       null|2013-07-27 00:00:...|        202|\n",
      "|       null|2013-07-28 00:00:...|        187|\n",
      "|       null|2013-07-29 00:00:...|        253|\n",
      "|       null|2013-07-30 00:00:...|        227|\n",
      "|       null|2013-07-31 00:00:...|        252|\n",
      "|       null|2013-08-01 00:00:...|        246|\n",
      "|       null|2013-08-02 00:00:...|        224|\n",
      "|       null|2013-08-03 00:00:...|        183|\n",
      "|       null|2013-08-04 00:00:...|        187|\n",
      "|       null|2013-08-05 00:00:...|        153|\n",
      "|       null|2013-08-06 00:00:...|        258|\n",
      "|       null|2013-08-07 00:00:...|        203|\n",
      "|       null|2013-08-08 00:00:...|        154|\n",
      "|       null|2013-08-09 00:00:...|        125|\n",
      "|       null|2013-08-10 00:00:...|        270|\n",
      "|       null|2013-08-11 00:00:...|        154|\n",
      "|       null|2013-08-12 00:00:...|        255|\n",
      "+-----------+--------------------+-----------+\n",
      "only showing top 20 rows\n",
      "\n"
     ]
    },
    {
     "name": "stderr",
     "output_type": "stream",
     "text": [
      "                                                                                \r"
     ]
    }
   ],
   "source": [
    "orders. \\\n",
    "    cube(date_format('order_date', 'yyyyMM').alias('order_month'), 'order_date'). \\\n",
    "    agg(count(lit(1)).alias('order_count')). \\\n",
    "    orderBy('order_month', 'order_date'). \\\n",
    "    show()"
   ]
  },
  {
   "cell_type": "code",
   "execution_count": 105,
   "id": "76910495-a485-4fdf-832b-cb452c410aa5",
   "metadata": {
    "tags": []
   },
   "outputs": [
    {
     "name": "stderr",
     "output_type": "stream",
     "text": [
      "[Stage 267:=========================================================(2 + 0) / 2]\r"
     ]
    },
    {
     "name": "stdout",
     "output_type": "stream",
     "text": [
      "+-----------+--------------------+-----------+\n",
      "|order_month|          order_date|order_count|\n",
      "+-----------+--------------------+-----------+\n",
      "|     201307|                null|       1533|\n",
      "|     201307|2013-07-25 00:00:...|        143|\n",
      "|     201307|2013-07-26 00:00:...|        269|\n",
      "|     201307|2013-07-27 00:00:...|        202|\n",
      "|     201307|2013-07-28 00:00:...|        187|\n",
      "|     201307|2013-07-29 00:00:...|        253|\n",
      "|     201307|2013-07-30 00:00:...|        227|\n",
      "|     201307|2013-07-31 00:00:...|        252|\n",
      "|     201308|                null|       5680|\n",
      "|     201308|2013-08-01 00:00:...|        246|\n",
      "|     201308|2013-08-02 00:00:...|        224|\n",
      "|     201308|2013-08-03 00:00:...|        183|\n",
      "|     201308|2013-08-04 00:00:...|        187|\n",
      "|     201308|2013-08-05 00:00:...|        153|\n",
      "|     201308|2013-08-06 00:00:...|        258|\n",
      "|     201308|2013-08-07 00:00:...|        203|\n",
      "|     201308|2013-08-08 00:00:...|        154|\n",
      "|     201308|2013-08-09 00:00:...|        125|\n",
      "|     201308|2013-08-10 00:00:...|        270|\n",
      "|     201308|2013-08-11 00:00:...|        154|\n",
      "+-----------+--------------------+-----------+\n",
      "only showing top 20 rows\n",
      "\n"
     ]
    },
    {
     "name": "stderr",
     "output_type": "stream",
     "text": [
      "                                                                                \r"
     ]
    }
   ],
   "source": [
    "orders. \\\n",
    "    cube(date_format('order_date', 'yyyyMM').alias('order_month'), 'order_date'). \\\n",
    "    agg(count(lit(1)).alias('order_count')). \\\n",
    "    filter('order_month IS NOT NULL'). \\\n",
    "    orderBy('order_month', 'order_date'). \\\n",
    "    show()"
   ]
  },
  {
   "cell_type": "code",
   "execution_count": 106,
   "id": "02d30b03-72be-4b8a-9b57-f8e11639caa6",
   "metadata": {
    "tags": []
   },
   "outputs": [
    {
     "name": "stderr",
     "output_type": "stream",
     "text": [
      "                                                                                \r"
     ]
    },
    {
     "data": {
      "text/plain": [
       "742"
      ]
     },
     "execution_count": 106,
     "metadata": {},
     "output_type": "execute_result"
    }
   ],
   "source": [
    "orders. \\\n",
    "    cube(date_format('order_date', 'yyyyMM').alias('order_month'), 'order_date'). \\\n",
    "    agg(count(lit(1)).alias('order_count')). \\\n",
    "    orderBy('order_month', 'order_date'). \\\n",
    "    count()"
   ]
  },
  {
   "cell_type": "markdown",
   "id": "57ffa018-392a-40f8-ac92-b87b78ff38ae",
   "metadata": {},
   "source": [
    ">## Task3: Aggregations cube\n",
    "    Get count of orders by year, month as well as date using cube. You will see additional records per month as well as per year."
   ]
  },
  {
   "cell_type": "code",
   "execution_count": 107,
   "id": "c8255a2d-7418-47eb-a2ed-b1e403026786",
   "metadata": {
    "tags": []
   },
   "outputs": [
    {
     "name": "stdout",
     "output_type": "stream",
     "text": [
      "+----------+-----------+--------------------+-----------+\n",
      "|order_year|order_month|          order_date|order_count|\n",
      "+----------+-----------+--------------------+-----------+\n",
      "|      2013|     201307|2013-07-25 00:00:...|        143|\n",
      "|      2013|     201307|2013-07-26 00:00:...|        269|\n",
      "|      2013|     201307|2013-07-27 00:00:...|        202|\n",
      "|      2013|     201307|2013-07-28 00:00:...|        187|\n",
      "|      2013|     201307|2013-07-29 00:00:...|        253|\n",
      "|      2013|     201307|2013-07-30 00:00:...|        227|\n",
      "|      2013|     201307|2013-07-31 00:00:...|        252|\n",
      "|      2013|     201308|2013-08-01 00:00:...|        246|\n",
      "|      2013|     201308|2013-08-02 00:00:...|        224|\n",
      "|      2013|     201308|2013-08-03 00:00:...|        183|\n",
      "|      2013|     201308|2013-08-04 00:00:...|        187|\n",
      "|      2013|     201308|2013-08-05 00:00:...|        153|\n",
      "|      2013|     201308|2013-08-06 00:00:...|        258|\n",
      "|      2013|     201308|2013-08-07 00:00:...|        203|\n",
      "|      2013|     201308|2013-08-08 00:00:...|        154|\n",
      "|      2013|     201308|2013-08-09 00:00:...|        125|\n",
      "|      2013|     201308|2013-08-10 00:00:...|        270|\n",
      "|      2013|     201308|2013-08-11 00:00:...|        154|\n",
      "|      2013|     201308|2013-08-12 00:00:...|        255|\n",
      "|      2013|     201308|2013-08-13 00:00:...|         73|\n",
      "+----------+-----------+--------------------+-----------+\n",
      "only showing top 20 rows\n",
      "\n"
     ]
    }
   ],
   "source": [
    "orders. \\\n",
    "    groupBy(\n",
    "        year('order_date').alias('order_year'),\n",
    "        date_format('order_date', 'yyyyMM').alias('order_month'), \n",
    "        'order_date'\n",
    "    ). \\\n",
    "    agg(count(lit(1)).alias('order_count')). \\\n",
    "    orderBy('order_year', 'order_month', 'order_date'). \\\n",
    "    show()"
   ]
  },
  {
   "cell_type": "code",
   "execution_count": 108,
   "id": "75796ffb-5885-467c-9022-a017aa299a31",
   "metadata": {
    "tags": []
   },
   "outputs": [
    {
     "name": "stderr",
     "output_type": "stream",
     "text": [
      "                                                                                \r"
     ]
    },
    {
     "data": {
      "text/plain": [
       "364"
      ]
     },
     "execution_count": 108,
     "metadata": {},
     "output_type": "execute_result"
    }
   ],
   "source": [
    "orders. \\\n",
    "    groupBy(\n",
    "        year('order_date').alias('order_year'),\n",
    "        date_format('order_date', 'yyyyMM').alias('order_month'), \n",
    "        'order_date'\n",
    "    ). \\\n",
    "    agg(count(lit(1)).alias('order_count')). \\\n",
    "    orderBy('order_year', 'order_month', 'order_date'). \\\n",
    "    count()"
   ]
  },
  {
   "cell_type": "code",
   "execution_count": 109,
   "id": "be2808d8-3f29-4ded-9252-ce217cbd40e7",
   "metadata": {
    "tags": []
   },
   "outputs": [
    {
     "name": "stderr",
     "output_type": "stream",
     "text": [
      "[Stage 285:============================>                            (1 + 1) / 2]\r"
     ]
    },
    {
     "name": "stdout",
     "output_type": "stream",
     "text": [
      "+----------+-----------+--------------------+-----------+\n",
      "|order_year|order_month|          order_date|order_count|\n",
      "+----------+-----------+--------------------+-----------+\n",
      "|      null|       null|                null|      68883|\n",
      "|      2013|       null|                null|      30662|\n",
      "|      2013|     201307|                null|       1533|\n",
      "|      2013|     201307|2013-07-25 00:00:...|        143|\n",
      "|      2013|     201307|2013-07-26 00:00:...|        269|\n",
      "|      2013|     201307|2013-07-27 00:00:...|        202|\n",
      "|      2013|     201307|2013-07-28 00:00:...|        187|\n",
      "|      2013|     201307|2013-07-29 00:00:...|        253|\n",
      "|      2013|     201307|2013-07-30 00:00:...|        227|\n",
      "|      2013|     201307|2013-07-31 00:00:...|        252|\n",
      "|      2013|     201308|                null|       5680|\n",
      "|      2013|     201308|2013-08-01 00:00:...|        246|\n",
      "|      2013|     201308|2013-08-02 00:00:...|        224|\n",
      "|      2013|     201308|2013-08-03 00:00:...|        183|\n",
      "|      2013|     201308|2013-08-04 00:00:...|        187|\n",
      "|      2013|     201308|2013-08-05 00:00:...|        153|\n",
      "|      2013|     201308|2013-08-06 00:00:...|        258|\n",
      "|      2013|     201308|2013-08-07 00:00:...|        203|\n",
      "|      2013|     201308|2013-08-08 00:00:...|        154|\n",
      "|      2013|     201308|2013-08-09 00:00:...|        125|\n",
      "+----------+-----------+--------------------+-----------+\n",
      "only showing top 20 rows\n",
      "\n"
     ]
    },
    {
     "name": "stderr",
     "output_type": "stream",
     "text": [
      "                                                                                \r"
     ]
    }
   ],
   "source": [
    "orders. \\\n",
    "    rollup(\n",
    "        year('order_date').alias('order_year'),\n",
    "        date_format('order_date', 'yyyyMM').alias('order_month'), \n",
    "        'order_date'\n",
    "    ). \\\n",
    "    agg(count(lit(1)).alias('order_count')). \\\n",
    "    orderBy('order_year', 'order_month', 'order_date'). \\\n",
    "    show()"
   ]
  },
  {
   "cell_type": "code",
   "execution_count": 110,
   "id": "2c75957d-c81d-4f03-a453-975785ef06fb",
   "metadata": {
    "tags": []
   },
   "outputs": [
    {
     "name": "stderr",
     "output_type": "stream",
     "text": [
      "                                                                                \r"
     ]
    },
    {
     "data": {
      "text/plain": [
       "380"
      ]
     },
     "execution_count": 110,
     "metadata": {},
     "output_type": "execute_result"
    }
   ],
   "source": [
    "orders. \\\n",
    "    rollup(\n",
    "        year('order_date').alias('order_year'),\n",
    "        date_format('order_date', 'yyyyMM').alias('order_month'), \n",
    "        'order_date'\n",
    "    ). \\\n",
    "    agg(count(lit(1)).alias('order_count')). \\\n",
    "    orderBy('order_year', 'order_month', 'order_date'). \\\n",
    "    count()"
   ]
  },
  {
   "cell_type": "code",
   "execution_count": 111,
   "id": "d061db01-9576-40c7-b9ab-4c4982ea1eae",
   "metadata": {
    "tags": []
   },
   "outputs": [
    {
     "name": "stderr",
     "output_type": "stream",
     "text": [
      "                                                                                \r"
     ]
    },
    {
     "data": {
      "text/plain": [
       "1485"
      ]
     },
     "execution_count": 111,
     "metadata": {},
     "output_type": "execute_result"
    }
   ],
   "source": [
    "orders. \\\n",
    "    cube(\n",
    "        year('order_date').alias('order_year'),\n",
    "        date_format('order_date', 'yyyyMM').alias('order_month'), \n",
    "        'order_date'\n",
    "    ). \\\n",
    "    agg(count(lit(1)).alias('order_count')). \\\n",
    "    orderBy('order_year', 'order_month', 'order_date'). \\\n",
    "    count()"
   ]
  },
  {
   "cell_type": "code",
   "execution_count": 112,
   "id": "842f3ca0-7f78-47fa-b4f2-d621dbdaedfb",
   "metadata": {
    "tags": []
   },
   "outputs": [
    {
     "name": "stderr",
     "output_type": "stream",
     "text": [
      "[Stage 300:============================>                            (1 + 1) / 2]\r"
     ]
    },
    {
     "name": "stdout",
     "output_type": "stream",
     "text": [
      "+----------+-----------+--------------------+-----------+\n",
      "|order_year|order_month|          order_date|order_count|\n",
      "+----------+-----------+--------------------+-----------+\n",
      "|      null|       null|2014-01-01 00:00:...|        135|\n",
      "|      null|       null|2014-01-02 00:00:...|        111|\n",
      "|      null|       null|2014-01-03 00:00:...|        250|\n",
      "|      null|       null|2014-01-04 00:00:...|        129|\n",
      "|      null|       null|2014-01-05 00:00:...|        266|\n",
      "|      null|       null|2014-01-06 00:00:...|        155|\n",
      "|      null|       null|2014-01-07 00:00:...|        163|\n",
      "|      null|       null|2014-01-08 00:00:...|        122|\n",
      "|      null|       null|2014-01-09 00:00:...|        207|\n",
      "|      null|       null|2014-01-10 00:00:...|        241|\n",
      "|      null|       null|2014-01-11 00:00:...|        281|\n",
      "|      null|       null|2014-01-12 00:00:...|        215|\n",
      "|      null|       null|2014-01-13 00:00:...|        179|\n",
      "|      null|       null|2014-01-14 00:00:...|        209|\n",
      "|      null|       null|2014-01-15 00:00:...|        243|\n",
      "|      null|       null|2014-01-16 00:00:...|        194|\n",
      "|      null|       null|2014-01-17 00:00:...|        149|\n",
      "|      null|       null|2014-01-18 00:00:...|        139|\n",
      "|      null|       null|2014-01-19 00:00:...|        217|\n",
      "|      null|       null|2014-01-20 00:00:...|        203|\n",
      "|      null|       null|2014-01-21 00:00:...|        259|\n",
      "|      null|       null|2014-01-22 00:00:...|        209|\n",
      "|      null|       null|2014-01-23 00:00:...|        220|\n",
      "|      null|       null|2014-01-24 00:00:...|        159|\n",
      "|      null|       null|2014-01-25 00:00:...|        104|\n",
      "|      null|       null|2014-01-26 00:00:...|        154|\n",
      "|      null|       null|2014-01-27 00:00:...|        163|\n",
      "|      null|       null|2014-01-28 00:00:...|        197|\n",
      "|      null|       null|2014-01-29 00:00:...|        158|\n",
      "|      null|       null|2014-01-30 00:00:...|        254|\n",
      "|      null|       null|2014-01-31 00:00:...|        223|\n",
      "|      null|     201401|2014-01-01 00:00:...|        135|\n",
      "|      null|     201401|2014-01-02 00:00:...|        111|\n",
      "|      null|     201401|2014-01-03 00:00:...|        250|\n",
      "|      null|     201401|2014-01-04 00:00:...|        129|\n",
      "|      null|     201401|2014-01-05 00:00:...|        266|\n",
      "|      null|     201401|2014-01-06 00:00:...|        155|\n",
      "|      null|     201401|2014-01-07 00:00:...|        163|\n",
      "|      null|     201401|2014-01-08 00:00:...|        122|\n",
      "|      null|     201401|2014-01-09 00:00:...|        207|\n",
      "|      null|     201401|2014-01-10 00:00:...|        241|\n",
      "|      null|     201401|2014-01-11 00:00:...|        281|\n",
      "|      null|     201401|2014-01-12 00:00:...|        215|\n",
      "|      null|     201401|2014-01-13 00:00:...|        179|\n",
      "|      null|     201401|2014-01-14 00:00:...|        209|\n",
      "|      null|     201401|2014-01-15 00:00:...|        243|\n",
      "|      null|     201401|2014-01-16 00:00:...|        194|\n",
      "|      null|     201401|2014-01-17 00:00:...|        149|\n",
      "|      null|     201401|2014-01-18 00:00:...|        139|\n",
      "|      null|     201401|2014-01-19 00:00:...|        217|\n",
      "|      null|     201401|2014-01-20 00:00:...|        203|\n",
      "|      null|     201401|2014-01-21 00:00:...|        259|\n",
      "|      null|     201401|2014-01-22 00:00:...|        209|\n",
      "|      null|     201401|2014-01-23 00:00:...|        220|\n",
      "|      null|     201401|2014-01-24 00:00:...|        159|\n",
      "|      null|     201401|2014-01-25 00:00:...|        104|\n",
      "|      null|     201401|2014-01-26 00:00:...|        154|\n",
      "|      null|     201401|2014-01-27 00:00:...|        163|\n",
      "|      null|     201401|2014-01-28 00:00:...|        197|\n",
      "|      null|     201401|2014-01-29 00:00:...|        158|\n",
      "|      null|     201401|2014-01-30 00:00:...|        254|\n",
      "|      null|     201401|2014-01-31 00:00:...|        223|\n",
      "|      2014|       null|2014-01-01 00:00:...|        135|\n",
      "|      2014|       null|2014-01-02 00:00:...|        111|\n",
      "|      2014|       null|2014-01-03 00:00:...|        250|\n",
      "|      2014|       null|2014-01-04 00:00:...|        129|\n",
      "|      2014|       null|2014-01-05 00:00:...|        266|\n",
      "|      2014|       null|2014-01-06 00:00:...|        155|\n",
      "|      2014|       null|2014-01-07 00:00:...|        163|\n",
      "|      2014|       null|2014-01-08 00:00:...|        122|\n",
      "|      2014|       null|2014-01-09 00:00:...|        207|\n",
      "|      2014|       null|2014-01-10 00:00:...|        241|\n",
      "|      2014|       null|2014-01-11 00:00:...|        281|\n",
      "|      2014|       null|2014-01-12 00:00:...|        215|\n",
      "|      2014|       null|2014-01-13 00:00:...|        179|\n",
      "|      2014|       null|2014-01-14 00:00:...|        209|\n",
      "|      2014|       null|2014-01-15 00:00:...|        243|\n",
      "|      2014|       null|2014-01-16 00:00:...|        194|\n",
      "|      2014|       null|2014-01-17 00:00:...|        149|\n",
      "|      2014|       null|2014-01-18 00:00:...|        139|\n",
      "|      2014|       null|2014-01-19 00:00:...|        217|\n",
      "|      2014|       null|2014-01-20 00:00:...|        203|\n",
      "|      2014|       null|2014-01-21 00:00:...|        259|\n",
      "|      2014|       null|2014-01-22 00:00:...|        209|\n",
      "|      2014|       null|2014-01-23 00:00:...|        220|\n",
      "|      2014|       null|2014-01-24 00:00:...|        159|\n",
      "|      2014|       null|2014-01-25 00:00:...|        104|\n",
      "|      2014|       null|2014-01-26 00:00:...|        154|\n",
      "|      2014|       null|2014-01-27 00:00:...|        163|\n",
      "|      2014|       null|2014-01-28 00:00:...|        197|\n",
      "|      2014|       null|2014-01-29 00:00:...|        158|\n",
      "|      2014|       null|2014-01-30 00:00:...|        254|\n",
      "|      2014|       null|2014-01-31 00:00:...|        223|\n",
      "|      2014|     201401|2014-01-01 00:00:...|        135|\n",
      "|      2014|     201401|2014-01-02 00:00:...|        111|\n",
      "|      2014|     201401|2014-01-03 00:00:...|        250|\n",
      "|      2014|     201401|2014-01-04 00:00:...|        129|\n",
      "|      2014|     201401|2014-01-05 00:00:...|        266|\n",
      "|      2014|     201401|2014-01-06 00:00:...|        155|\n",
      "|      2014|     201401|2014-01-07 00:00:...|        163|\n",
      "|      2014|     201401|2014-01-08 00:00:...|        122|\n",
      "|      2014|     201401|2014-01-09 00:00:...|        207|\n",
      "|      2014|     201401|2014-01-10 00:00:...|        241|\n",
      "|      2014|     201401|2014-01-11 00:00:...|        281|\n",
      "|      2014|     201401|2014-01-12 00:00:...|        215|\n",
      "|      2014|     201401|2014-01-13 00:00:...|        179|\n",
      "|      2014|     201401|2014-01-14 00:00:...|        209|\n",
      "|      2014|     201401|2014-01-15 00:00:...|        243|\n",
      "|      2014|     201401|2014-01-16 00:00:...|        194|\n",
      "|      2014|     201401|2014-01-17 00:00:...|        149|\n",
      "|      2014|     201401|2014-01-18 00:00:...|        139|\n",
      "|      2014|     201401|2014-01-19 00:00:...|        217|\n",
      "|      2014|     201401|2014-01-20 00:00:...|        203|\n",
      "|      2014|     201401|2014-01-21 00:00:...|        259|\n",
      "|      2014|     201401|2014-01-22 00:00:...|        209|\n",
      "|      2014|     201401|2014-01-23 00:00:...|        220|\n",
      "|      2014|     201401|2014-01-24 00:00:...|        159|\n",
      "|      2014|     201401|2014-01-25 00:00:...|        104|\n",
      "|      2014|     201401|2014-01-26 00:00:...|        154|\n",
      "|      2014|     201401|2014-01-27 00:00:...|        163|\n",
      "|      2014|     201401|2014-01-28 00:00:...|        197|\n",
      "|      2014|     201401|2014-01-29 00:00:...|        158|\n",
      "|      2014|     201401|2014-01-30 00:00:...|        254|\n",
      "|      2014|     201401|2014-01-31 00:00:...|        223|\n",
      "+----------+-----------+--------------------+-----------+\n",
      "\n"
     ]
    },
    {
     "name": "stderr",
     "output_type": "stream",
     "text": [
      "                                                                                \r"
     ]
    }
   ],
   "source": [
    "orders. \\\n",
    "    cube(\n",
    "        year('order_date').alias('order_year'),\n",
    "        date_format('order_date', 'yyyyMM').alias('order_month'), \n",
    "        'order_date'\n",
    "    ). \\\n",
    "    agg(count(lit(1)).alias('order_count')). \\\n",
    "    filter(\"order_date LIKE '2014-01%'\"). \\\n",
    "    orderBy('order_year', 'order_month', 'order_date'). \\\n",
    "    show(150)"
   ]
  },
  {
   "cell_type": "code",
   "execution_count": 114,
   "id": "20396d4a-ba6f-41cd-a0c1-402311e79ff8",
   "metadata": {
    "tags": []
   },
   "outputs": [
    {
     "name": "stderr",
     "output_type": "stream",
     "text": [
      "                                                                                \r"
     ]
    },
    {
     "data": {
      "text/plain": [
       "124"
      ]
     },
     "execution_count": 114,
     "metadata": {},
     "output_type": "execute_result"
    }
   ],
   "source": [
    "orders. \\\n",
    "    cube(\n",
    "        year('order_date').alias('order_year'),\n",
    "        date_format('order_date', 'yyyyMM').alias('order_month'), \n",
    "        'order_date'\n",
    "    ). \\\n",
    "    agg(count(lit(1)).alias('order_count')). \\\n",
    "    filter(\"order_date LIKE '2014-01%'\"). \\\n",
    "    orderBy('order_year', 'order_month', 'order_date'). \\\n",
    "    count()"
   ]
  },
  {
   "cell_type": "markdown",
   "id": "b049796a-bcb1-411d-863f-ef2b8d521885",
   "metadata": {},
   "source": [
    "## Overview of Sorting Data Frames\n",
    "- We can use orderBy or sort to sort the data.\n",
    "- We can perform composite sorting by passing multiple columns or expressions.\n",
    "- By default data is sorted in ascending order, we can change it to descending by applying desc() function on the column or expression.\n",
    "- If the sort column contain null values those will come first. We can change the position of nulls to last.\n"
   ]
  },
  {
   "cell_type": "markdown",
   "id": "ee68ce9c-dbb7-4b26-b15f-d227282eecf7",
   "metadata": {},
   "source": [
    ">## Task1\n",
    "Get daily count of cancelled flights where data is sorted in ascending order by count of cancelled flights."
   ]
  },
  {
   "cell_type": "code",
   "execution_count": 115,
   "id": "21320661-3d5e-4585-bd34-37352ede9c2b",
   "metadata": {
    "tags": []
   },
   "outputs": [
    {
     "name": "stdout",
     "output_type": "stream",
     "text": [
      "+----------+-----------+\n",
      "|FlightDate|FlightCount|\n",
      "+----------+-----------+\n",
      "|  19871001|        153|\n",
      "|  19871030|         70|\n",
      "|  19871002|         76|\n",
      "|  19871018|         53|\n",
      "|  19871021|         90|\n",
      "|  19871029|         78|\n",
      "|  19871020|        132|\n",
      "|  19871019|         86|\n",
      "|  19871014|         67|\n",
      "|  19871006|         94|\n",
      "|  19871003|         90|\n",
      "|  19871013|        109|\n",
      "|  19871022|         82|\n",
      "|  19871010|         67|\n",
      "|  19871004|        111|\n",
      "|  19871012|        364|\n",
      "|  19871011|         45|\n",
      "|  19871025|        113|\n",
      "|  19871028|        174|\n",
      "|  19871007|         39|\n",
      "+----------+-----------+\n",
      "only showing top 20 rows\n",
      "\n"
     ]
    }
   ],
   "source": [
    "airtraffic. \\\n",
    "    filter('cancelled = 1'). \\\n",
    "    groupBy(\n",
    "        concat(\n",
    "            col(\"Year\"),\n",
    "            lpad(col(\"Month\"), 2, \"0\"),\n",
    "            lpad(col(\"DayOfMonth\"), 2, \"0\")\n",
    "        ).alias('FlightDate')\n",
    "    ). \\\n",
    "    agg(count(lit(1)).alias('FlightCount')). \\\n",
    "    show()"
   ]
  },
  {
   "cell_type": "code",
   "execution_count": 117,
   "id": "20e2da11-46d1-4fe7-858e-f63eadfa9164",
   "metadata": {
    "tags": []
   },
   "outputs": [
    {
     "name": "stderr",
     "output_type": "stream",
     "text": [
      "[Stage 321:============================>                            (1 + 1) / 2]\r"
     ]
    },
    {
     "name": "stdout",
     "output_type": "stream",
     "text": [
      "+----------+-----------+\n",
      "|FlightDate|FlightCount|\n",
      "+----------+-----------+\n",
      "|  19871007|         39|\n",
      "|  19871011|         45|\n",
      "|  19871015|         47|\n",
      "|  19871008|         50|\n",
      "|  19871018|         53|\n",
      "+----------+-----------+\n",
      "only showing top 5 rows\n",
      "\n"
     ]
    },
    {
     "name": "stderr",
     "output_type": "stream",
     "text": [
      "                                                                                \r"
     ]
    }
   ],
   "source": [
    "airtraffic. \\\n",
    "    filter('cancelled = 1'). \\\n",
    "    groupBy(\n",
    "        concat(\n",
    "            col(\"Year\"),\n",
    "            lpad(col(\"Month\"), 2, \"0\"),\n",
    "            lpad(col(\"DayOfMonth\"), 2, \"0\")\n",
    "        ).alias('FlightDate')\n",
    "    ). \\\n",
    "    agg(count(lit(1)).alias('FlightCount')). \\\n",
    "    orderBy('FlightCount'). \\\n",
    "    show(5)"
   ]
  },
  {
   "cell_type": "code",
   "execution_count": 120,
   "id": "c6468260-c46c-46b8-b4ed-203a6d53277a",
   "metadata": {
    "tags": []
   },
   "outputs": [
    {
     "name": "stdout",
     "output_type": "stream",
     "text": [
      "+----------+-----------+\n",
      "|FlightDate|FlightCount|\n",
      "+----------+-----------+\n",
      "|  19871007|         39|\n",
      "|  19871011|         45|\n",
      "|  19871015|         47|\n",
      "|  19871008|         50|\n",
      "|  19871018|         53|\n",
      "+----------+-----------+\n",
      "only showing top 5 rows\n",
      "\n"
     ]
    }
   ],
   "source": [
    "airtraffic. \\\n",
    "    filter('cancelled = 1'). \\\n",
    "    groupBy(\n",
    "        concat(\n",
    "            col(\"Year\"),\n",
    "            lpad(col(\"Month\"), 2, \"0\"),\n",
    "            lpad(col(\"DayOfMonth\"), 2, \"0\")\n",
    "        ).alias('FlightDate')\n",
    "    ). \\\n",
    "    agg(count(lit(1)).alias('FlightCount')). \\\n",
    "    orderBy(col('FlightCount').asc()). \\\n",
    "    show(5)"
   ]
  },
  {
   "cell_type": "markdown",
   "id": "183e6c75-2d5e-4751-a2f6-871f72fa06f0",
   "metadata": {},
   "source": [
    ">## Task2:\n",
    "Get daily count of cancelled flights where data is sorted in descending order by count of cancelled flights."
   ]
  },
  {
   "cell_type": "code",
   "execution_count": 122,
   "id": "f95211e9-1daf-4fd0-88e3-4aa14ced9e4b",
   "metadata": {
    "tags": []
   },
   "outputs": [
    {
     "name": "stdout",
     "output_type": "stream",
     "text": [
      "+----------+-----------+\n",
      "|FlightDate|FlightCount|\n",
      "+----------+-----------+\n",
      "|  19871012|        364|\n",
      "|  19871028|        174|\n",
      "|  19871001|        153|\n",
      "|  19871005|        134|\n",
      "|  19871020|        132|\n",
      "+----------+-----------+\n",
      "only showing top 5 rows\n",
      "\n"
     ]
    }
   ],
   "source": [
    "airtraffic. \\\n",
    "    filter('cancelled = 1'). \\\n",
    "    groupBy(\n",
    "        concat(\n",
    "            col(\"Year\"),\n",
    "            lpad(col(\"Month\"), 2, \"0\"),\n",
    "            lpad(col(\"DayOfMonth\"), 2, \"0\")\n",
    "        ).alias('FlightDate')\n",
    "    ). \\\n",
    "    agg(count(lit(1)).alias('FlightCount')). \\\n",
    "    orderBy(col('FlightCount').desc()). \\\n",
    "    show(5)"
   ]
  },
  {
   "cell_type": "markdown",
   "id": "b30f1b1a-0666-487d-8ae9-521c940e0b0a",
   "metadata": {
    "tags": []
   },
   "source": [
    ">## Task3\n",
    "- Project Year, Month, DayOfMonth, CRSDepTime and Origin for this task.\n",
    "- Sort the data based up on year, month, day of month and then using scheduled time. Data should be sorted in ascending order by year, month and day of month then in descending order by scheduled time.\n"
   ]
  },
  {
   "cell_type": "code",
   "execution_count": 125,
   "id": "4fe29a8d-19e8-4f77-a6c9-834c7370d9c2",
   "metadata": {
    "tags": []
   },
   "outputs": [
    {
     "name": "stdout",
     "output_type": "stream",
     "text": [
      "+----+-----+----------+----------+------+\n",
      "|Year|Month|DayOfMonth|CRSDepTime|Origin|\n",
      "+----+-----+----------+----------+------+\n",
      "|1987|   10|        27|       915|   SFO|\n",
      "|1987|   10|         8|      1310|   SAN|\n",
      "|1987|   10|        30|      1915|   SFO|\n",
      "|1987|   10|        14|       815|   SNA|\n",
      "|1987|   10|        23|      1745|   SMF|\n",
      "+----+-----+----------+----------+------+\n",
      "only showing top 5 rows\n",
      "\n"
     ]
    }
   ],
   "source": [
    "airtraffic. \\\n",
    "    select('Year', 'Month', 'DayOfMonth', 'CRSDepTime', 'Origin'). \\\n",
    "    show(5)"
   ]
  },
  {
   "cell_type": "code",
   "execution_count": 139,
   "id": "c7c42d10-18fc-47af-a261-401f0e99e9f1",
   "metadata": {
    "tags": []
   },
   "outputs": [
    {
     "name": "stdout",
     "output_type": "stream",
     "text": [
      "+----+-----+----------+----------+------+\n",
      "|Year|Month|DayOfMonth|CRSDepTime|Origin|\n",
      "+----+-----+----------+----------+------+\n",
      "|1987|   10|         1|         1|   SFO|\n",
      "|1987|   10|         1|         5|   MCO|\n",
      "|1987|   10|         1|         5|   ICT|\n",
      "|1987|   10|         1|         5|   LAX|\n",
      "|1987|   10|         1|         8|   LAS|\n",
      "+----+-----+----------+----------+------+\n",
      "only showing top 5 rows\n",
      "\n"
     ]
    }
   ],
   "source": [
    "airtraffic. \\\n",
    "    select('Year', 'Month', 'DayOfMonth', 'CRSDepTime', 'Origin'). \\\n",
    "    orderBy('Year', 'Month', 'DayOfMonth', 'CRSDepTime'). \\\n",
    "    show(5)"
   ]
  },
  {
   "cell_type": "code",
   "execution_count": 136,
   "id": "ea67ef70-e648-4c63-a92f-cc9fb7e299b3",
   "metadata": {
    "tags": []
   },
   "outputs": [
    {
     "name": "stderr",
     "output_type": "stream",
     "text": [
      "[Stage 345:============================>                            (1 + 1) / 2]\r"
     ]
    },
    {
     "name": "stdout",
     "output_type": "stream",
     "text": [
      "+----+-----+----------+----------+------+\n",
      "|Year|Month|DayOfMonth|CRSDepTime|Origin|\n",
      "+----+-----+----------+----------+------+\n",
      "|1987|   10|         1|      2359|   LAX|\n",
      "|1987|   10|         1|      2359|   SEA|\n",
      "|1987|   10|         1|      2359|   LAX|\n",
      "|1987|   10|         1|      2359|   OKC|\n",
      "|1987|   10|         1|      2359|   SFO|\n",
      "+----+-----+----------+----------+------+\n",
      "only showing top 5 rows\n",
      "\n"
     ]
    },
    {
     "name": "stderr",
     "output_type": "stream",
     "text": [
      "                                                                                \r"
     ]
    }
   ],
   "source": [
    "airtraffic. \\\n",
    "    select('Year', 'Month', 'DayOfMonth', 'CRSDepTime', 'Origin'). \\\n",
    "    orderBy('Year', 'Month', 'DayOfMonth', col('CRSDepTime').desc()). \\\n",
    "    show(5)"
   ]
  },
  {
   "cell_type": "markdown",
   "id": "309a9859-a50a-4d2d-80f1-0552676b421f",
   "metadata": {},
   "source": [
    ">## Task4:\n",
    "Create employees Data Frame and get employees data in ascending order by nationality. However, data related to United States should come at top always."
   ]
  },
  {
   "cell_type": "code",
   "execution_count": 142,
   "id": "ded386c0-e2a4-47f8-9b88-9d321b819a04",
   "metadata": {
    "tags": []
   },
   "outputs": [
    {
     "name": "stdout",
     "output_type": "stream",
     "text": [
      "+-----------+----------+---------+------+-----+--------------+----------------+-----------+\n",
      "|employee_id|first_name|last_name|salary|bonus|   nationality|    phone_number|        ssn|\n",
      "+-----------+----------+---------+------+-----+--------------+----------------+-----------+\n",
      "|          1|     Scott|    Tiger|1000.0|   10| united states| +1 123 456 7890|123 45 6789|\n",
      "|          2|     Henry|     Ford|1250.0| null|         India|+91 234 567 8901|456 78 9123|\n",
      "|          3|      Nick|   Junior| 750.0|     |united KINGDOM|+44 111 111 1111|222 33 4444|\n",
      "|          4|      Bill|    Gomes|1500.0|   10|     AUSTRALIA|+61 987 654 3210|789 12 6118|\n",
      "+-----------+----------+---------+------+-----+--------------+----------------+-----------+\n",
      "\n"
     ]
    }
   ],
   "source": [
    "employees = [(1, \"Scott\", \"Tiger\", 1000.0, 10,\n",
    "                      \"united states\", \"+1 123 456 7890\", \"123 45 6789\"\n",
    "                     ),\n",
    "                     (2, \"Henry\", \"Ford\", 1250.0, None,\n",
    "                      \"India\", \"+91 234 567 8901\", \"456 78 9123\"\n",
    "                     ),\n",
    "                     (3, \"Nick\", \"Junior\", 750.0, '',\n",
    "                      \"united KINGDOM\", \"+44 111 111 1111\", \"222 33 4444\"\n",
    "                     ),\n",
    "                     (4, \"Bill\", \"Gomes\", 1500.0, 2,\n",
    "                      \"AUSTRALIA\", \"+61 987 654 3210\", \"789 12 6118\"\n",
    "                     )\n",
    "                ]\n",
    "mployeesDF = spark. \\\n",
    "    createDataFrame(employees,\n",
    "                    schema=\"\"\"employee_id INT, first_name STRING, \n",
    "                    last_name STRING, salary FLOAT, bonus STRING, nationality STRING,\n",
    "                    phone_number STRING, ssn STRING\"\"\"\n",
    "                   )\n",
    "employeesDF.show()\n"
   ]
  },
  {
   "cell_type": "code",
   "execution_count": 145,
   "id": "9102e084-0701-47ac-b6e9-547b3c171f2e",
   "metadata": {
    "tags": []
   },
   "outputs": [
    {
     "data": {
      "text/plain": [
       "\u001b[0;31mSignature:\u001b[0m \u001b[0mwhen\u001b[0m\u001b[0;34m(\u001b[0m\u001b[0mcondition\u001b[0m\u001b[0;34m:\u001b[0m \u001b[0mpyspark\u001b[0m\u001b[0;34m.\u001b[0m\u001b[0msql\u001b[0m\u001b[0;34m.\u001b[0m\u001b[0mcolumn\u001b[0m\u001b[0;34m.\u001b[0m\u001b[0mColumn\u001b[0m\u001b[0;34m,\u001b[0m \u001b[0mvalue\u001b[0m\u001b[0;34m:\u001b[0m \u001b[0mAny\u001b[0m\u001b[0;34m)\u001b[0m \u001b[0;34m->\u001b[0m \u001b[0mpyspark\u001b[0m\u001b[0;34m.\u001b[0m\u001b[0msql\u001b[0m\u001b[0;34m.\u001b[0m\u001b[0mcolumn\u001b[0m\u001b[0;34m.\u001b[0m\u001b[0mColumn\u001b[0m\u001b[0;34m\u001b[0m\u001b[0;34m\u001b[0m\u001b[0m\n",
       "\u001b[0;31mDocstring:\u001b[0m\n",
       "Evaluates a list of conditions and returns one of multiple possible result expressions.\n",
       "If :func:`pyspark.sql.Column.otherwise` is not invoked, None is returned for unmatched\n",
       "conditions.\n",
       "\n",
       ".. versionadded:: 1.4.0\n",
       "\n",
       "Parameters\n",
       "----------\n",
       "condition : :class:`~pyspark.sql.Column`\n",
       "    a boolean :class:`~pyspark.sql.Column` expression.\n",
       "value :\n",
       "    a literal value, or a :class:`~pyspark.sql.Column` expression.\n",
       "\n",
       "Examples\n",
       "--------\n",
       ">>> df.select(when(df['age'] == 2, 3).otherwise(4).alias(\"age\")).collect()\n",
       "[Row(age=3), Row(age=4)]\n",
       "\n",
       ">>> df.select(when(df.age == 2, df.age + 1).alias(\"age\")).collect()\n",
       "[Row(age=3), Row(age=None)]\n",
       "\u001b[0;31mFile:\u001b[0m      /usr/local/spark/python/pyspark/sql/functions.py\n",
       "\u001b[0;31mType:\u001b[0m      function"
      ]
     },
     "metadata": {},
     "output_type": "display_data"
    }
   ],
   "source": [
    "when?"
   ]
  },
  {
   "cell_type": "code",
   "execution_count": 148,
   "id": "1aac1862-f3ae-49d7-8fae-40f7b1f48656",
   "metadata": {
    "tags": []
   },
   "outputs": [
    {
     "name": "stdout",
     "output_type": "stream",
     "text": [
      "+-----------+----------+---------+------+-----+--------------+----------------+-----------+-----------+\n",
      "|employee_id|first_name|last_name|salary|bonus|   nationality|    phone_number|        ssn|sort_column|\n",
      "+-----------+----------+---------+------+-----+--------------+----------------+-----------+-----------+\n",
      "|          1|     Scott|    Tiger|1000.0|   10| united states| +1 123 456 7890|123 45 6789|          0|\n",
      "|          4|      Bill|    Gomes|1500.0|   10|     AUSTRALIA|+61 987 654 3210|789 12 6118|          1|\n",
      "|          2|     Henry|     Ford|1250.0| null|         India|+91 234 567 8901|456 78 9123|          1|\n",
      "|          3|      Nick|   Junior| 750.0|     |united KINGDOM|+44 111 111 1111|222 33 4444|          1|\n",
      "+-----------+----------+---------+------+-----+--------------+----------------+-----------+-----------+\n",
      "\n"
     ]
    }
   ],
   "source": [
    "employeesDF. \\\n",
    "    withColumn('sort_column', when(upper(col('nationality')) == 'UNITED STATES', 0).otherwise(1)). \\\n",
    "    orderBy('sort_column', 'nationality'). \\\n",
    "    show()"
   ]
  },
  {
   "cell_type": "code",
   "execution_count": 149,
   "id": "aa240f64-9862-42c4-8622-217af85d0bce",
   "metadata": {
    "tags": []
   },
   "outputs": [
    {
     "name": "stdout",
     "output_type": "stream",
     "text": [
      "+-----------+----------+---------+------+-----+--------------+----------------+-----------+-----------+\n",
      "|employee_id|first_name|last_name|salary|bonus|   nationality|    phone_number|        ssn|sort_column|\n",
      "+-----------+----------+---------+------+-----+--------------+----------------+-----------+-----------+\n",
      "|          1|     Scott|    Tiger|1000.0|   10| united states| +1 123 456 7890|123 45 6789|          0|\n",
      "|          4|      Bill|    Gomes|1500.0|   10|     AUSTRALIA|+61 987 654 3210|789 12 6118|          1|\n",
      "|          2|     Henry|     Ford|1250.0| null|         India|+91 234 567 8901|456 78 9123|          1|\n",
      "|          3|      Nick|   Junior| 750.0|     |united KINGDOM|+44 111 111 1111|222 33 4444|          1|\n",
      "+-----------+----------+---------+------+-----+--------------+----------------+-----------+-----------+\n",
      "\n"
     ]
    }
   ],
   "source": [
    "employeesDF. \\\n",
    "    withColumn(\n",
    "        'sort_column', \n",
    "        expr(\"\"\"CASE WHEN upper(nationality) = 'UNITED STATES' THEN 0 else 1 END\"\"\")\n",
    "    ). \\\n",
    "    orderBy('sort_column', 'nationality'). \\\n",
    "    show()"
   ]
  },
  {
   "cell_type": "markdown",
   "id": "b62bb7e9-959f-4a94-b3c5-4fcf404a6209",
   "metadata": {},
   "source": [
    ">## Task5\n",
    "Sort the data in employeesDF using bonus. Data should be sorted numerically and null and empty values should come at the end."
   ]
  },
  {
   "cell_type": "code",
   "execution_count": 150,
   "id": "9c4502ad-4cf5-43b0-af46-60df89f7613e",
   "metadata": {
    "tags": []
   },
   "outputs": [
    {
     "name": "stdout",
     "output_type": "stream",
     "text": [
      "+-----------+----------+---------+------+-----+--------------+----------------+-----------+\n",
      "|employee_id|first_name|last_name|salary|bonus|   nationality|    phone_number|        ssn|\n",
      "+-----------+----------+---------+------+-----+--------------+----------------+-----------+\n",
      "|          1|     Scott|    Tiger|1000.0|   10| united states| +1 123 456 7890|123 45 6789|\n",
      "|          2|     Henry|     Ford|1250.0| null|         India|+91 234 567 8901|456 78 9123|\n",
      "|          3|      Nick|   Junior| 750.0|     |united KINGDOM|+44 111 111 1111|222 33 4444|\n",
      "|          4|      Bill|    Gomes|1500.0|   10|     AUSTRALIA|+61 987 654 3210|789 12 6118|\n",
      "+-----------+----------+---------+------+-----+--------------+----------------+-----------+\n",
      "\n"
     ]
    }
   ],
   "source": [
    "employeesDF.show()"
   ]
  },
  {
   "cell_type": "code",
   "execution_count": 151,
   "id": "c1495c53-2a3e-4258-a540-3ff07cb1c8cf",
   "metadata": {
    "tags": []
   },
   "outputs": [
    {
     "name": "stdout",
     "output_type": "stream",
     "text": [
      "+-----------+----------+---------+------+-----+--------------+----------------+-----------+\n",
      "|employee_id|first_name|last_name|salary|bonus|   nationality|    phone_number|        ssn|\n",
      "+-----------+----------+---------+------+-----+--------------+----------------+-----------+\n",
      "|          2|     Henry|     Ford|1250.0| null|         India|+91 234 567 8901|456 78 9123|\n",
      "|          3|      Nick|   Junior| 750.0|     |united KINGDOM|+44 111 111 1111|222 33 4444|\n",
      "|          4|      Bill|    Gomes|1500.0|   10|     AUSTRALIA|+61 987 654 3210|789 12 6118|\n",
      "|          1|     Scott|    Tiger|1000.0|   10| united states| +1 123 456 7890|123 45 6789|\n",
      "+-----------+----------+---------+------+-----+--------------+----------------+-----------+\n",
      "\n"
     ]
    }
   ],
   "source": [
    "employeesDF. \\\n",
    "    orderBy('bonus'). \\\n",
    "    show()"
   ]
  },
  {
   "cell_type": "code",
   "execution_count": 152,
   "id": "0812c1f5-117b-4752-a3aa-4bb54117b584",
   "metadata": {
    "tags": []
   },
   "outputs": [
    {
     "name": "stdout",
     "output_type": "stream",
     "text": [
      "+-----------+----------+---------+------+-----+--------------+----------------+-----------+\n",
      "|employee_id|first_name|last_name|salary|bonus|   nationality|    phone_number|        ssn|\n",
      "+-----------+----------+---------+------+-----+--------------+----------------+-----------+\n",
      "|          3|      Nick|   Junior| 750.0|     |united KINGDOM|+44 111 111 1111|222 33 4444|\n",
      "|          2|     Henry|     Ford|1250.0| null|         India|+91 234 567 8901|456 78 9123|\n",
      "|          4|      Bill|    Gomes|1500.0|   10|     AUSTRALIA|+61 987 654 3210|789 12 6118|\n",
      "|          1|     Scott|    Tiger|1000.0|   10| united states| +1 123 456 7890|123 45 6789|\n",
      "+-----------+----------+---------+------+-----+--------------+----------------+-----------+\n",
      "\n"
     ]
    }
   ],
   "source": [
    "employeesDF. \\\n",
    "    orderBy(col('bonus').cast('int')). \\\n",
    "    show()"
   ]
  },
  {
   "cell_type": "code",
   "execution_count": 154,
   "id": "0cbbb632-51aa-475f-b635-1ac33c4ae7bb",
   "metadata": {
    "tags": []
   },
   "outputs": [],
   "source": [
    "#c = col('X')\n",
    "#help(c)\n",
    "#help(c.asc_nulls_last)\n"
   ]
  },
  {
   "cell_type": "code",
   "execution_count": 155,
   "id": "c4c1e066-b42a-441c-a4d4-d6a7d260347d",
   "metadata": {
    "tags": []
   },
   "outputs": [
    {
     "name": "stdout",
     "output_type": "stream",
     "text": [
      "+-----------+----------+---------+------+-----+--------------+----------------+-----------+\n",
      "|employee_id|first_name|last_name|salary|bonus|   nationality|    phone_number|        ssn|\n",
      "+-----------+----------+---------+------+-----+--------------+----------------+-----------+\n",
      "|          4|      Bill|    Gomes|1500.0|   10|     AUSTRALIA|+61 987 654 3210|789 12 6118|\n",
      "|          1|     Scott|    Tiger|1000.0|   10| united states| +1 123 456 7890|123 45 6789|\n",
      "|          3|      Nick|   Junior| 750.0|     |united KINGDOM|+44 111 111 1111|222 33 4444|\n",
      "|          2|     Henry|     Ford|1250.0| null|         India|+91 234 567 8901|456 78 9123|\n",
      "+-----------+----------+---------+------+-----+--------------+----------------+-----------+\n",
      "\n"
     ]
    }
   ],
   "source": [
    "employeesDF. \\\n",
    "    orderBy(employeesDF.bonus.cast('int').asc_nulls_last()). \\\n",
    "    show()"
   ]
  },
  {
   "cell_type": "code",
   "execution_count": null,
   "id": "16a64063-be8c-4e43-a1f7-2a7f8aeef272",
   "metadata": {},
   "outputs": [],
   "source": []
  }
 ],
 "metadata": {
  "kernelspec": {
   "display_name": "Pyspark 3",
   "language": "python",
   "name": "pyspark3"
  },
  "language_info": {
   "codemirror_mode": {
    "name": "ipython",
    "version": 3
   },
   "file_extension": ".py",
   "mimetype": "text/x-python",
   "name": "python",
   "nbconvert_exporter": "python",
   "pygments_lexer": "ipython3",
   "version": "3.8.10"
  }
 },
 "nbformat": 4,
 "nbformat_minor": 5
}
