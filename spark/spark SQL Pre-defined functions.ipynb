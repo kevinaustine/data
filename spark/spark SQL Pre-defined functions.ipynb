{
 "cells": [
  {
   "cell_type": "code",
   "execution_count": 1,
   "id": "32f131c4-53e9-4e4f-9013-71f7478fc58a",
   "metadata": {
    "tags": []
   },
   "outputs": [],
   "source": [
    "from pyspark.sql import SparkSession"
   ]
  },
  {
   "cell_type": "code",
   "execution_count": 2,
   "id": "70749f0c-7f5a-481d-9d49-37e41337b2f9",
   "metadata": {
    "tags": []
   },
   "outputs": [],
   "source": [
    "%load_ext sparksql_magic"
   ]
  },
  {
   "cell_type": "code",
   "execution_count": 3,
   "id": "3bc3ad5a-0925-4ed1-9df8-5fb8b7f9c1e4",
   "metadata": {
    "tags": []
   },
   "outputs": [
    {
     "name": "stderr",
     "output_type": "stream",
     "text": [
      "Setting default log level to \"WARN\".\n",
      "To adjust logging level use sc.setLogLevel(newLevel). For SparkR, use setLogLevel(newLevel).\n"
     ]
    }
   ],
   "source": [
    "spark = SparkSession.\\\n",
    "    builder.\\\n",
    "    enableHiveSupport().\\\n",
    "    appName(\"Spark SQL -predefined functions\").\\\n",
    "    master(\"yarn\").\\\n",
    "    getOrCreate()"
   ]
  },
  {
   "cell_type": "code",
   "execution_count": 7,
   "id": "79c12de8-8b62-4301-9141-64f698828f35",
   "metadata": {
    "tags": []
   },
   "outputs": [
    {
     "data": {
      "text/html": [
       "<table><tr style=\"border-bottom: 1px solid\"><td style=\"font-weight: bold\">namespace</td></tr><tr><td>default</td></tr><tr><td>exercise</td></tr><tr><td>hr</td></tr><tr><td>kevin</td></tr><tr><td>kevin_retail</td></tr><tr><td>retail</td></tr><tr><td>sms</td></tr><tr><td>test</td></tr></table>"
      ],
      "text/plain": [
       "<IPython.core.display.HTML object>"
      ]
     },
     "execution_count": 7,
     "metadata": {},
     "output_type": "execute_result"
    }
   ],
   "source": [
    "%%sparksql\n",
    "show databases"
   ]
  },
  {
   "cell_type": "code",
   "execution_count": 8,
   "id": "32221103-fe98-4d2b-870a-1e4b097c2f85",
   "metadata": {
    "tags": []
   },
   "outputs": [],
   "source": [
    "#spark.sql(\"SHOW functions\").show(1000, truncate=False)"
   ]
  },
  {
   "cell_type": "code",
   "execution_count": 9,
   "id": "7448fdd0-366a-45f5-a106-6750b5e7aa55",
   "metadata": {
    "tags": []
   },
   "outputs": [
    {
     "data": {
      "text/html": [
       "<table><tr style=\"border-bottom: 1px solid\"><td style=\"font-weight: bold\">function_desc</td></tr><tr><td>Function: substr</td></tr><tr><td>Class: org.apache.spark.sql.catalyst.expressions.Substring</td></tr><tr><td>Usage: \n",
       "    substr(str, pos[, len]) - Returns the substring of `str` that starts at `pos` and is of length `len`, or the slice of byte array that starts at `pos` and is of length `len`.\n",
       "\n",
       "    substr(str FROM pos[ FOR len]]) - Returns the substring of `str` that starts at `pos` and is of length `len`, or the slice of byte array that starts at `pos` and is of length `len`.\n",
       "  </td></tr></table>"
      ],
      "text/plain": [
       "<IPython.core.display.HTML object>"
      ]
     },
     "execution_count": 9,
     "metadata": {},
     "output_type": "execute_result"
    }
   ],
   "source": [
    "%%sparksql\n",
    "DESCRIBE FUNCTION substr"
   ]
  },
  {
   "cell_type": "code",
   "execution_count": 10,
   "id": "a48a7341-a49f-45de-baad-0ed78f34c342",
   "metadata": {
    "tags": []
   },
   "outputs": [
    {
     "data": {
      "text/html": [
       "<table><tr style=\"border-bottom: 1px solid\"><td style=\"font-weight: bold\">function_desc</td></tr><tr><td>Function: ||</td></tr><tr><td>Usage: expr1 || expr2 - Returns the concatenation of `expr1` and `expr2`.</td></tr></table>"
      ],
      "text/plain": [
       "<IPython.core.display.HTML object>"
      ]
     },
     "execution_count": 10,
     "metadata": {},
     "output_type": "execute_result"
    }
   ],
   "source": [
    "%%sparksql\n",
    "DESCRIBE FUNCTION || "
   ]
  },
  {
   "cell_type": "code",
   "execution_count": 11,
   "id": "0ec6bbbe-91a4-4647-a81e-ba3e05242cb8",
   "metadata": {
    "tags": []
   },
   "outputs": [],
   "source": [
    "orders = spark.read. \\\n",
    "    schema(\"order_id INT, order_date STRING, order_customer_id INT, order_status STRING\"). \\\n",
    "    csv(\"/data/retail_db/orders\")\n",
    "orders.createOrReplaceTempView(\"orders_temp\")"
   ]
  },
  {
   "cell_type": "code",
   "execution_count": null,
   "id": "5ac49bdb-aa59-46fb-a8f6-396646949025",
   "metadata": {},
   "outputs": [],
   "source": []
  },
  {
   "cell_type": "code",
   "execution_count": 12,
   "id": "29fb5c5b-5f29-4e50-ac03-aedb1f8361a5",
   "metadata": {
    "tags": []
   },
   "outputs": [
    {
     "name": "stderr",
     "output_type": "stream",
     "text": [
      "                                                                                \r"
     ]
    },
    {
     "data": {
      "text/html": [
       "<table><tr style=\"border-bottom: 1px solid\"><td style=\"font-weight: bold\">current_date</td></tr><tr><td>2023-03-30</td></tr></table>"
      ],
      "text/plain": [
       "<IPython.core.display.HTML object>"
      ]
     },
     "execution_count": 12,
     "metadata": {},
     "output_type": "execute_result"
    }
   ],
   "source": [
    "%%sparksql\n",
    "\n",
    "SELECT current_date AS current_date"
   ]
  },
  {
   "cell_type": "code",
   "execution_count": 13,
   "id": "84cbc600-2860-4b45-8c3f-ae8d9e99e6be",
   "metadata": {
    "tags": []
   },
   "outputs": [
    {
     "name": "stderr",
     "output_type": "stream",
     "text": [
      "                                                                                \r"
     ]
    },
    {
     "data": {
      "text/html": [
       "<table><tr style=\"border-bottom: 1px solid\"><td style=\"font-weight: bold\">result</td></tr><tr><td>Hello</td></tr></table>"
      ],
      "text/plain": [
       "<IPython.core.display.HTML object>"
      ]
     },
     "execution_count": 13,
     "metadata": {},
     "output_type": "execute_result"
    }
   ],
   "source": [
    "%%sparksql\n",
    "\n",
    "SELECT substr('Hello World', 1, 5) AS result"
   ]
  },
  {
   "cell_type": "code",
   "execution_count": 16,
   "id": "8eed82a7-7a73-4605-a92b-f91b1981001d",
   "metadata": {
    "tags": []
   },
   "outputs": [
    {
     "data": {
      "text/html": [
       "<table><tr style=\"border-bottom: 1px solid\"></tr></table>"
      ],
      "text/plain": [
       "<IPython.core.display.HTML object>"
      ]
     },
     "execution_count": 16,
     "metadata": {},
     "output_type": "execute_result"
    }
   ],
   "source": [
    "%%sparksql\n",
    "\n",
    "USE kevin_retail"
   ]
  },
  {
   "cell_type": "code",
   "execution_count": 18,
   "id": "168c1e51-fef0-4b35-9d1b-c8b5ba611e4e",
   "metadata": {
    "tags": []
   },
   "outputs": [
    {
     "data": {
      "text/html": [
       "<table><tr style=\"border-bottom: 1px solid\"><td style=\"font-weight: bold\">current_database()</td></tr><tr><td>kevin_retail</td></tr></table>"
      ],
      "text/plain": [
       "<IPython.core.display.HTML object>"
      ]
     },
     "execution_count": 18,
     "metadata": {},
     "output_type": "execute_result"
    }
   ],
   "source": [
    "%%sparksql\n",
    "\n",
    "SELECT current_database()"
   ]
  },
  {
   "cell_type": "code",
   "execution_count": 17,
   "id": "2e29f9bb-667d-4f19-8114-e77b0fe68cbd",
   "metadata": {
    "tags": []
   },
   "outputs": [
    {
     "data": {
      "text/html": [
       "<table><tr style=\"border-bottom: 1px solid\"><td style=\"font-weight: bold\">namespace</td><td style=\"font-weight: bold\">tableName</td><td style=\"font-weight: bold\">isTemporary</td></tr><tr><td>kevin_retail</td><td>dual</td><td>False</td></tr><tr><td>kevin_retail</td><td>order_items</td><td>False</td></tr><tr><td>kevin_retail</td><td>order_items_stage</td><td>False</td></tr><tr><td>kevin_retail</td><td>orders</td><td>False</td></tr><tr><td>kevin_retail</td><td>orders_part</td><td>False</td></tr><tr><td>kevin_retail</td><td>orders_single_column</td><td>False</td></tr><tr><td>kevin_retail</td><td>sales</td><td>False</td></tr><tr><td></td><td>orders_temp</td><td>True</td></tr></table>"
      ],
      "text/plain": [
       "<IPython.core.display.HTML object>"
      ]
     },
     "execution_count": 17,
     "metadata": {},
     "output_type": "execute_result"
    }
   ],
   "source": [
    "%%sparksql\n",
    "\n",
    "show tables"
   ]
  },
  {
   "cell_type": "code",
   "execution_count": 12,
   "id": "5b3bc594-316a-4d52-98bf-c4fcbd7b107d",
   "metadata": {
    "tags": []
   },
   "outputs": [
    {
     "data": {
      "text/html": [
       "<table><tr style=\"border-bottom: 1px solid\"></tr></table>"
      ],
      "text/plain": [
       "<IPython.core.display.HTML object>"
      ]
     },
     "execution_count": 12,
     "metadata": {},
     "output_type": "execute_result"
    }
   ],
   "source": [
    "%%sparksql\n",
    "\n",
    "DROP TABLE IF EXISTS dual"
   ]
  },
  {
   "cell_type": "code",
   "execution_count": 13,
   "id": "70beab10-7ffd-45c9-a115-bc81008b4df3",
   "metadata": {
    "tags": []
   },
   "outputs": [
    {
     "data": {
      "text/html": [
       "<table><tr style=\"border-bottom: 1px solid\"></tr></table>"
      ],
      "text/plain": [
       "<IPython.core.display.HTML object>"
      ]
     },
     "execution_count": 13,
     "metadata": {},
     "output_type": "execute_result"
    }
   ],
   "source": [
    "%%sparksql\n",
    "\n",
    "CREATE TABLE dual (dummy STRING)"
   ]
  },
  {
   "cell_type": "code",
   "execution_count": 14,
   "id": "5650ed5e-f953-424e-864b-9fef55fa547e",
   "metadata": {
    "tags": []
   },
   "outputs": [
    {
     "name": "stderr",
     "output_type": "stream",
     "text": [
      "                                                                                \r"
     ]
    },
    {
     "data": {
      "text/html": [
       "<table><tr style=\"border-bottom: 1px solid\"></tr></table>"
      ],
      "text/plain": [
       "<IPython.core.display.HTML object>"
      ]
     },
     "execution_count": 14,
     "metadata": {},
     "output_type": "execute_result"
    }
   ],
   "source": [
    "%%sparksql\n",
    "\n",
    "INSERT INTO dual VALUES ('X')"
   ]
  },
  {
   "cell_type": "code",
   "execution_count": 19,
   "id": "33f0a8b1-46ee-4f74-b625-b2b0881b0912",
   "metadata": {
    "tags": []
   },
   "outputs": [
    {
     "name": "stderr",
     "output_type": "stream",
     "text": [
      "                                                                                \r"
     ]
    },
    {
     "data": {
      "text/html": [
       "<table><tr style=\"border-bottom: 1px solid\"><td style=\"font-weight: bold\">current_date</td></tr><tr><td>2023-03-30</td></tr></table>"
      ],
      "text/plain": [
       "<IPython.core.display.HTML object>"
      ]
     },
     "execution_count": 19,
     "metadata": {},
     "output_type": "execute_result"
    }
   ],
   "source": [
    "%%sparksql\n",
    "\n",
    "SELECT current_date AS current_date FROM dual"
   ]
  },
  {
   "cell_type": "code",
   "execution_count": 20,
   "id": "2e331d56-7c65-4957-b082-984d75901091",
   "metadata": {
    "tags": []
   },
   "outputs": [
    {
     "data": {
      "text/html": [
       "<table><tr style=\"border-bottom: 1px solid\"><td style=\"font-weight: bold\">result</td></tr><tr><td>Hello</td></tr></table>"
      ],
      "text/plain": [
       "<IPython.core.display.HTML object>"
      ]
     },
     "execution_count": 20,
     "metadata": {},
     "output_type": "execute_result"
    }
   ],
   "source": [
    "%%sparksql\n",
    "\n",
    "SELECT substr('Hello World', 1, 5) AS result FROM dual"
   ]
  },
  {
   "cell_type": "markdown",
   "id": "e1e018ae-b805-4369-bd47-de2a3559cf51",
   "metadata": {},
   "source": [
    "## String Manipulation Functions\n",
    "\n",
    "\n",
    "\n",
    "- Case Conversion - lower, upper, initcap\n",
    "- Getting size of the column value - length\n",
    "- Extracting Data - substr and split\n",
    "- Trimming and Padding functions - trim, rtrim, ltrim, rpad and lpad\n",
    "- Reversing strings - reverse\n",
    "- Concatenating multiple strings concat and concat_ws\n"
   ]
  },
  {
   "cell_type": "code",
   "execution_count": 17,
   "id": "106aad79-91bc-4be6-9009-a2856778fd44",
   "metadata": {
    "tags": []
   },
   "outputs": [
    {
     "data": {
      "text/html": [
       "<table><tr style=\"border-bottom: 1px solid\"><td style=\"font-weight: bold\">lower_result</td><td style=\"font-weight: bold\">upper_result</td><td style=\"font-weight: bold\">initcap_result</td></tr><tr><td>hello world</td><td>HELLO WORLD</td><td>Hello World</td></tr></table>"
      ],
      "text/plain": [
       "<IPython.core.display.HTML object>"
      ]
     },
     "execution_count": 17,
     "metadata": {},
     "output_type": "execute_result"
    }
   ],
   "source": [
    "%%sparksql\n",
    "SELECT lower('hEllo wOrlD') AS lower_result,\n",
    "    upper('hEllo wOrlD') AS upper_result,\n",
    "    initcap('hEllo wOrlD') AS initcap_result"
   ]
  },
  {
   "cell_type": "code",
   "execution_count": 18,
   "id": "547b5229-d19d-40c2-b011-b64004313ca8",
   "metadata": {
    "tags": []
   },
   "outputs": [
    {
     "data": {
      "text/html": [
       "<table><tr style=\"border-bottom: 1px solid\"><td style=\"font-weight: bold\">result</td></tr><tr><td>11</td></tr></table>"
      ],
      "text/plain": [
       "<IPython.core.display.HTML object>"
      ]
     },
     "execution_count": 18,
     "metadata": {},
     "output_type": "execute_result"
    }
   ],
   "source": [
    "%%sparksql\n",
    "SELECT length('hEllo wOrlD') AS result"
   ]
  },
  {
   "cell_type": "code",
   "execution_count": 19,
   "id": "e576228b-be8f-4479-a50f-faaeec58fe91",
   "metadata": {
    "tags": []
   },
   "outputs": [
    {
     "data": {
      "text/html": [
       "<table><tr style=\"border-bottom: 1px solid\"><td style=\"font-weight: bold\">namespace</td><td style=\"font-weight: bold\">tableName</td><td style=\"font-weight: bold\">isTemporary</td></tr><tr><td>kevin_retail</td><td>dual</td><td>False</td></tr><tr><td>kevin_retail</td><td>order_items</td><td>False</td></tr><tr><td>kevin_retail</td><td>order_items_stage</td><td>False</td></tr><tr><td>kevin_retail</td><td>orders</td><td>False</td></tr><tr><td>kevin_retail</td><td>orders_part</td><td>False</td></tr></table>"
      ],
      "text/plain": [
       "<IPython.core.display.HTML object>"
      ]
     },
     "execution_count": 19,
     "metadata": {},
     "output_type": "execute_result"
    }
   ],
   "source": [
    "%%sparksql \n",
    "\n",
    "SHOW tables"
   ]
  },
  {
   "cell_type": "code",
   "execution_count": 20,
   "id": "c62c764f-9ac4-4ae0-b7f5-1862aa1bbca8",
   "metadata": {
    "tags": []
   },
   "outputs": [
    {
     "data": {
      "text/html": [
       "<table><tr style=\"border-bottom: 1px solid\"><td style=\"font-weight: bold\">order_id</td><td style=\"font-weight: bold\">order_date</td><td style=\"font-weight: bold\">order_customer_id</td><td style=\"font-weight: bold\">order_status</td></tr><tr><td>1</td><td>2013-07-25 00:00:00.0</td><td>11599</td><td>CLOSED</td></tr><tr><td>2</td><td>2013-07-25 00:00:00.0</td><td>256</td><td>PENDING_PAYMENT</td></tr><tr><td>3</td><td>2013-07-25 00:00:00.0</td><td>12111</td><td>COMPLETE</td></tr><tr><td>4</td><td>2013-07-25 00:00:00.0</td><td>8827</td><td>CLOSED</td></tr><tr><td>5</td><td>2013-07-25 00:00:00.0</td><td>11318</td><td>COMPLETE</td></tr><tr><td>6</td><td>2013-07-25 00:00:00.0</td><td>7130</td><td>COMPLETE</td></tr><tr><td>7</td><td>2013-07-25 00:00:00.0</td><td>4530</td><td>COMPLETE</td></tr><tr><td>8</td><td>2013-07-25 00:00:00.0</td><td>2911</td><td>PROCESSING</td></tr><tr><td>9</td><td>2013-07-25 00:00:00.0</td><td>5657</td><td>PENDING_PAYMENT</td></tr><tr><td>10</td><td>2013-07-25 00:00:00.0</td><td>5648</td><td>PENDING_PAYMENT</td></tr></table>"
      ],
      "text/plain": [
       "<IPython.core.display.HTML object>"
      ]
     },
     "execution_count": 20,
     "metadata": {},
     "output_type": "execute_result"
    }
   ],
   "source": [
    "%%sparksql\n",
    "\n",
    "SELECT * FROM orders LIMIT 10"
   ]
  },
  {
   "cell_type": "markdown",
   "id": "5d51b21e-19cb-418d-8936-574f58f478ad",
   "metadata": {},
   "source": [
    "### Case Conversion and Length"
   ]
  },
  {
   "cell_type": "code",
   "execution_count": 21,
   "id": "6eb366ce-36bd-4621-9ae8-3060bc42b8c7",
   "metadata": {
    "tags": []
   },
   "outputs": [
    {
     "data": {
      "text/html": [
       "<table><tr style=\"border-bottom: 1px solid\"><td style=\"font-weight: bold\">order_id</td><td style=\"font-weight: bold\">order_date</td><td style=\"font-weight: bold\">order_customer_id</td><td style=\"font-weight: bold\">order_status</td><td style=\"font-weight: bold\">order_status_length</td></tr><tr><td>1</td><td>2013-07-25 00:00:00.0</td><td>11599</td><td>closed</td><td>6</td></tr><tr><td>2</td><td>2013-07-25 00:00:00.0</td><td>256</td><td>pending_payment</td><td>15</td></tr><tr><td>3</td><td>2013-07-25 00:00:00.0</td><td>12111</td><td>complete</td><td>8</td></tr><tr><td>4</td><td>2013-07-25 00:00:00.0</td><td>8827</td><td>closed</td><td>6</td></tr><tr><td>5</td><td>2013-07-25 00:00:00.0</td><td>11318</td><td>complete</td><td>8</td></tr><tr><td>6</td><td>2013-07-25 00:00:00.0</td><td>7130</td><td>complete</td><td>8</td></tr><tr><td>7</td><td>2013-07-25 00:00:00.0</td><td>4530</td><td>complete</td><td>8</td></tr><tr><td>8</td><td>2013-07-25 00:00:00.0</td><td>2911</td><td>processing</td><td>10</td></tr><tr><td>9</td><td>2013-07-25 00:00:00.0</td><td>5657</td><td>pending_payment</td><td>15</td></tr><tr><td>10</td><td>2013-07-25 00:00:00.0</td><td>5648</td><td>pending_payment</td><td>15</td></tr></table>"
      ],
      "text/plain": [
       "<IPython.core.display.HTML object>"
      ]
     },
     "execution_count": 21,
     "metadata": {},
     "output_type": "execute_result"
    }
   ],
   "source": [
    "%%sparksql\n",
    "\n",
    "SELECT order_id, order_date, order_customer_id,\n",
    "    lower(order_status) AS order_status,\n",
    "    length(order_status) AS order_status_length\n",
    "FROM orders LIMIT 10"
   ]
  },
  {
   "cell_type": "markdown",
   "id": "0db2cc37-3a7e-4436-89e6-5bf8cf654752",
   "metadata": {},
   "source": [
    "### Extracting Data - substr and split"
   ]
  },
  {
   "cell_type": "code",
   "execution_count": 22,
   "id": "eae8354d-8488-418e-996e-bcdb1d5e729e",
   "metadata": {
    "tags": []
   },
   "outputs": [
    {
     "data": {
      "text/html": [
       "<table><tr style=\"border-bottom: 1px solid\"><td style=\"font-weight: bold\">result</td></tr><tr><td>2013</td></tr></table>"
      ],
      "text/plain": [
       "<IPython.core.display.HTML object>"
      ]
     },
     "execution_count": 22,
     "metadata": {},
     "output_type": "execute_result"
    }
   ],
   "source": [
    "%%sparksql\n",
    "\n",
    "SELECT substr('2013-07-25 00:00:00.0', 1, 4) AS result"
   ]
  },
  {
   "cell_type": "code",
   "execution_count": 30,
   "id": "6c151335-dd3f-4e38-af2a-880996e549b6",
   "metadata": {
    "tags": []
   },
   "outputs": [
    {
     "data": {
      "text/html": [
       "<table><tr style=\"border-bottom: 1px solid\"><td style=\"font-weight: bold\">order_id</td><td style=\"font-weight: bold\">order_date</td><td style=\"font-weight: bold\">order_customer_id</td><td style=\"font-weight: bold\">order_status</td></tr><tr><td>1</td><td>2013-07-25</td><td>11599</td><td>CLOSED</td></tr><tr><td>2</td><td>2013-07-25</td><td>256</td><td>PENDING_PAYMENT</td></tr><tr><td>3</td><td>2013-07-25</td><td>12111</td><td>COMPLETE</td></tr><tr><td>4</td><td>2013-07-25</td><td>8827</td><td>CLOSED</td></tr><tr><td>5</td><td>2013-07-25</td><td>11318</td><td>COMPLETE</td></tr></table>"
      ],
      "text/plain": [
       "<IPython.core.display.HTML object>"
      ]
     },
     "execution_count": 30,
     "metadata": {},
     "output_type": "execute_result"
    }
   ],
   "source": [
    "%%sparksql\n",
    "\n",
    "SELECT order_id,\n",
    "  substr(order_date, 1, 10) AS order_date,\n",
    "  order_customer_id,\n",
    "  order_status\n",
    "FROM orders limit 5"
   ]
  },
  {
   "cell_type": "code",
   "execution_count": 24,
   "id": "b9e6f01c-1b1f-46c4-898a-1383b8c6808d",
   "metadata": {
    "tags": []
   },
   "outputs": [],
   "source": [
    "#split converts delimited string into array."
   ]
  },
  {
   "cell_type": "code",
   "execution_count": 31,
   "id": "6a0a90fc-3466-4562-adde-e7dccf2f4093",
   "metadata": {
    "tags": []
   },
   "outputs": [
    {
     "data": {
      "text/html": [
       "<table><tr style=\"border-bottom: 1px solid\"><td style=\"font-weight: bold\">result</td></tr><tr><td>[&#x27;2013&#x27;, &#x27;07&#x27;, &#x27;25&#x27;]</td></tr></table>"
      ],
      "text/plain": [
       "<IPython.core.display.HTML object>"
      ]
     },
     "execution_count": 31,
     "metadata": {},
     "output_type": "execute_result"
    }
   ],
   "source": [
    "%%sparksql\n",
    "SELECT split('2013-07-25', '-') AS result"
   ]
  },
  {
   "cell_type": "code",
   "execution_count": 32,
   "id": "c07147d0-1233-48f8-abed-cf3eebcef32d",
   "metadata": {
    "tags": []
   },
   "outputs": [
    {
     "data": {
      "text/html": [
       "<table><tr style=\"border-bottom: 1px solid\"><td style=\"font-weight: bold\">result</td></tr><tr><td>07</td></tr></table>"
      ],
      "text/plain": [
       "<IPython.core.display.HTML object>"
      ]
     },
     "execution_count": 32,
     "metadata": {},
     "output_type": "execute_result"
    }
   ],
   "source": [
    "%%sparksql\n",
    "\n",
    "SELECT split('2013-07-25', '-')[1] AS result"
   ]
  },
  {
   "cell_type": "code",
   "execution_count": 33,
   "id": "9f93a9ca-bb2c-4c52-9f54-23129fc91880",
   "metadata": {
    "tags": []
   },
   "outputs": [
    {
     "data": {
      "text/html": [
       "<table><tr style=\"border-bottom: 1px solid\"><td style=\"font-weight: bold\">result</td></tr><tr><td>2013</td></tr><tr><td>07</td></tr><tr><td>25</td></tr></table>"
      ],
      "text/plain": [
       "<IPython.core.display.HTML object>"
      ]
     },
     "execution_count": 33,
     "metadata": {},
     "output_type": "execute_result"
    }
   ],
   "source": [
    "%%sparksql\n",
    "\n",
    "SELECT explode(split('2013-07-25', '-')) AS result"
   ]
  },
  {
   "cell_type": "markdown",
   "id": "a7ab5745-04e1-42ae-a3df-3719da45c83a",
   "metadata": {},
   "source": [
    "### Trimming and Padding Functions\n",
    "\n",
    "- ltrim is used to remove the spaces on the left side of the string.\n",
    "- rtrim is used to remove the spaces on the right side of the string.\n",
    "- trim is used to remove the spaces on both sides of the string.\n"
   ]
  },
  {
   "cell_type": "code",
   "execution_count": 34,
   "id": "adb76dcd-5ee5-4ee6-9cbc-306134384197",
   "metadata": {
    "tags": []
   },
   "outputs": [
    {
     "data": {
      "text/html": [
       "<table><tr style=\"border-bottom: 1px solid\"><td style=\"font-weight: bold\">result</td></tr><tr><td>Hello World</td></tr></table>"
      ],
      "text/plain": [
       "<IPython.core.display.HTML object>"
      ]
     },
     "execution_count": 34,
     "metadata": {},
     "output_type": "execute_result"
    }
   ],
   "source": [
    "%%sparksql\n",
    "\n",
    "SELECT ltrim('     Hello World') AS result"
   ]
  },
  {
   "cell_type": "code",
   "execution_count": 35,
   "id": "049035c5-120f-4079-882d-6f36581f2b65",
   "metadata": {
    "tags": []
   },
   "outputs": [
    {
     "data": {
      "text/html": [
       "<table><tr style=\"border-bottom: 1px solid\"><td style=\"font-weight: bold\">result</td></tr><tr><td>     Hello World</td></tr></table>"
      ],
      "text/plain": [
       "<IPython.core.display.HTML object>"
      ]
     },
     "execution_count": 35,
     "metadata": {},
     "output_type": "execute_result"
    }
   ],
   "source": [
    "%%sparksql\n",
    "\n",
    "SELECT rtrim('     Hello World       ') AS result"
   ]
  },
  {
   "cell_type": "code",
   "execution_count": 36,
   "id": "ee9958d9-3c89-4547-928b-39972673553b",
   "metadata": {
    "tags": []
   },
   "outputs": [
    {
     "data": {
      "text/html": [
       "<table><tr style=\"border-bottom: 1px solid\"><td style=\"font-weight: bold\">result</td></tr><tr><td>11</td></tr></table>"
      ],
      "text/plain": [
       "<IPython.core.display.HTML object>"
      ]
     },
     "execution_count": 36,
     "metadata": {},
     "output_type": "execute_result"
    }
   ],
   "source": [
    "%%sparksql\n",
    "\n",
    "SELECT length(trim('     Hello World       ')) AS result"
   ]
  },
  {
   "cell_type": "markdown",
   "id": "08c947f9-4070-48e7-aa92-279694e6f799",
   "metadata": {},
   "source": [
    "how to use padding to pad characters to a string.\n",
    "\n",
    "- Let us assume that there are 3 fields - year, month and date which are of type integer.\n",
    "- If we have to concatenate all the 3 fields and create a date, we might have to pad month and date with 0.\n",
    "- lpad is used more often than rpad especially when we try to build the date from separate columns.\n"
   ]
  },
  {
   "cell_type": "code",
   "execution_count": 37,
   "id": "6904c09e-837c-47d6-aa0b-313df7d32553",
   "metadata": {
    "tags": []
   },
   "outputs": [
    {
     "data": {
      "text/html": [
       "<table><tr style=\"border-bottom: 1px solid\"><td style=\"font-weight: bold\">year</td><td style=\"font-weight: bold\">month</td><td style=\"font-weight: bold\">myDate</td></tr><tr><td>2013</td><td>7</td><td>25</td></tr></table>"
      ],
      "text/plain": [
       "<IPython.core.display.HTML object>"
      ]
     },
     "execution_count": 37,
     "metadata": {},
     "output_type": "execute_result"
    }
   ],
   "source": [
    "%%sparksql\n",
    "\n",
    "SELECT 2013 AS year, 7 AS month, 25 AS myDate"
   ]
  },
  {
   "cell_type": "code",
   "execution_count": 38,
   "id": "ccb7b56b-10cb-49b7-af50-7b303f8a368b",
   "metadata": {
    "tags": []
   },
   "outputs": [
    {
     "data": {
      "text/html": [
       "<table><tr style=\"border-bottom: 1px solid\"><td style=\"font-weight: bold\">result</td></tr><tr><td>07</td></tr></table>"
      ],
      "text/plain": [
       "<IPython.core.display.HTML object>"
      ]
     },
     "execution_count": 38,
     "metadata": {},
     "output_type": "execute_result"
    }
   ],
   "source": [
    "%%sparksql\n",
    "\n",
    "SELECT lpad(7, 2, 0) AS result"
   ]
  },
  {
   "cell_type": "code",
   "execution_count": 39,
   "id": "7798554d-13b7-49f7-8154-45e3629f44ee",
   "metadata": {
    "tags": []
   },
   "outputs": [
    {
     "data": {
      "text/html": [
       "<table><tr style=\"border-bottom: 1px solid\"><td style=\"font-weight: bold\">result</td></tr><tr><td>10</td></tr></table>"
      ],
      "text/plain": [
       "<IPython.core.display.HTML object>"
      ]
     },
     "execution_count": 39,
     "metadata": {},
     "output_type": "execute_result"
    }
   ],
   "source": [
    "%%sparksql\n",
    "\n",
    "SELECT lpad(100, 2, 0) AS result"
   ]
  },
  {
   "cell_type": "markdown",
   "id": "0c66119b-24b6-4f35-875a-6d05030919ef",
   "metadata": {},
   "source": [
    "### Reverse and Concatenating multiple strings\n",
    "\n",
    "- We can use reverse to reverse a string.\n",
    "- We can concatenate multiple strings using concat and concat_ws.\n",
    "- concat_ws is typically used if we want to have the same string between all the strings that are being concatenated.\n"
   ]
  },
  {
   "cell_type": "code",
   "execution_count": 40,
   "id": "2f9d66d5-13be-4f65-ab86-8e78e157839b",
   "metadata": {
    "tags": []
   },
   "outputs": [
    {
     "data": {
      "text/html": [
       "<table><tr style=\"border-bottom: 1px solid\"><td style=\"font-weight: bold\">result</td></tr><tr><td>dlroW olleH</td></tr></table>"
      ],
      "text/plain": [
       "<IPython.core.display.HTML object>"
      ]
     },
     "execution_count": 40,
     "metadata": {},
     "output_type": "execute_result"
    }
   ],
   "source": [
    "%%sparksql\n",
    "\n",
    "SELECT reverse('Hello World') AS result"
   ]
  },
  {
   "cell_type": "code",
   "execution_count": 41,
   "id": "f1500e61-db1c-4634-a913-f3499893f5f7",
   "metadata": {
    "tags": []
   },
   "outputs": [
    {
     "data": {
      "text/html": [
       "<table><tr style=\"border-bottom: 1px solid\"><td style=\"font-weight: bold\">result</td></tr><tr><td>HelloWorld</td></tr></table>"
      ],
      "text/plain": [
       "<IPython.core.display.HTML object>"
      ]
     },
     "execution_count": 41,
     "metadata": {},
     "output_type": "execute_result"
    }
   ],
   "source": [
    "%%sparksql\n",
    "\n",
    "SELECT concat('Hello', 'World') AS result"
   ]
  },
  {
   "cell_type": "code",
   "execution_count": 45,
   "id": "d0e2e192-cca1-4731-a5cb-dbc739f6be45",
   "metadata": {
    "tags": []
   },
   "outputs": [
    {
     "data": {
      "text/html": [
       "<table><tr style=\"border-bottom: 1px solid\"><td style=\"font-weight: bold\">result</td></tr><tr><td>Order Status is CLOSED</td></tr><tr><td>Order Status is PENDING_PAYMENT</td></tr><tr><td>Order Status is COMPLETE</td></tr><tr><td>Order Status is CLOSED</td></tr><tr><td>Order Status is COMPLETE</td></tr></table>"
      ],
      "text/plain": [
       "<IPython.core.display.HTML object>"
      ]
     },
     "execution_count": 45,
     "metadata": {},
     "output_type": "execute_result"
    }
   ],
   "source": [
    "%%sparksql\n",
    "\n",
    "SELECT concat('Order Status is ', order_status) AS result\n",
    "FROM orders LIMIT 5"
   ]
  },
  {
   "cell_type": "code",
   "execution_count": 46,
   "id": "1efdca5d-a874-427f-b837-2981a539926b",
   "metadata": {
    "tags": []
   },
   "outputs": [
    {
     "data": {
      "text/html": [
       "<table><tr style=\"border-bottom: 1px solid\"><td style=\"font-weight: bold\">year</td><td style=\"font-weight: bold\">month</td><td style=\"font-weight: bold\">myDate</td></tr><tr><td>2013</td><td>7</td><td>25</td></tr></table>"
      ],
      "text/plain": [
       "<IPython.core.display.HTML object>"
      ]
     },
     "execution_count": 46,
     "metadata": {},
     "output_type": "execute_result"
    }
   ],
   "source": [
    "%%sparksql\n",
    "\n",
    "SELECT * FROM (SELECT 2013 AS year, 7 AS month, 25 AS myDate) q"
   ]
  },
  {
   "cell_type": "code",
   "execution_count": 47,
   "id": "204f3843-20cc-4d49-9aea-eda63502c582",
   "metadata": {
    "tags": []
   },
   "outputs": [
    {
     "data": {
      "text/html": [
       "<table><tr style=\"border-bottom: 1px solid\"><td style=\"font-weight: bold\">order_date</td></tr><tr><td>2013-07-25</td></tr></table>"
      ],
      "text/plain": [
       "<IPython.core.display.HTML object>"
      ]
     },
     "execution_count": 47,
     "metadata": {},
     "output_type": "execute_result"
    }
   ],
   "source": [
    "%%sparksql\n",
    "\n",
    "SELECT concat(year, '-', lpad(month, 2, 0), '-',\n",
    "              lpad(myDate, 2, 0)) AS order_date\n",
    "FROM\n",
    "    (SELECT 2013 AS year, 7 AS month, 25 AS myDate) q"
   ]
  },
  {
   "cell_type": "code",
   "execution_count": 48,
   "id": "479687ee-6db1-46ed-bd56-5038ec547a7a",
   "metadata": {
    "tags": []
   },
   "outputs": [
    {
     "data": {
      "text/html": [
       "<table><tr style=\"border-bottom: 1px solid\"><td style=\"font-weight: bold\">order_date</td></tr><tr><td>2013-07-25</td></tr></table>"
      ],
      "text/plain": [
       "<IPython.core.display.HTML object>"
      ]
     },
     "execution_count": 48,
     "metadata": {},
     "output_type": "execute_result"
    }
   ],
   "source": [
    "%%sparksql\n",
    "\n",
    "SELECT concat_ws('-', year, lpad(month, 2, 0),\n",
    "              lpad(myDate, 2, 0)) AS order_date\n",
    "FROM\n",
    "    (SELECT 2013 AS year, 7 AS month, 25 AS myDate) q"
   ]
  },
  {
   "cell_type": "markdown",
   "id": "addc4dfa-088c-4eba-992b-e2bdb26cdae9",
   "metadata": {},
   "source": [
    "## Date Manipulation Functions\n",
    "\n",
    "- Getting Current Date and Timestamp\n",
    "- Date Arithmetic such as date_add\n",
    "- Getting beginning date or time using trunc or date_trunc\n",
    "- Extracting information using date_format as well as calendar functions.\n",
    "- Dealing with unix timestamp using from_unixtime, to_unix_timestamp\n"
   ]
  },
  {
   "cell_type": "markdown",
   "id": "68562feb-0bd1-4d27-b54c-83b224d92e9d",
   "metadata": {
    "tags": []
   },
   "source": [
    "### Getting Current Date and Timestamp\n",
    "\n",
    "- **current_date** is the function or operator which will return today’s date.\n",
    "- **current_timestamp** is the function or operator which will return current time up to milliseconds.\n",
    "- These are not like other functions and do not use *()* at the end.\n",
    "- These are not listed as part of *SHOW functions* and we can get help using DESCRIBE.\n",
    "- There is a format associated with date and timestamp.\n",
    "- Date - yyyy-MM-dd\n",
    "- Timestamp - yyyy-MM-dd HH:mm:ss.SSS\n",
    "*Keep in mind that a date or timestamp in Spark SQL are nothing but special strings containing values using above specified formats. We can apply all string manipulation functions on date or timestamp.*\n"
   ]
  },
  {
   "cell_type": "code",
   "execution_count": 50,
   "id": "b6195fe1-8dc6-46b9-b80f-e05d33163a8f",
   "metadata": {
    "tags": []
   },
   "outputs": [
    {
     "data": {
      "text/html": [
       "<table><tr style=\"border-bottom: 1px solid\"><td style=\"font-weight: bold\">current_date</td></tr><tr><td>2023-03-29</td></tr></table>"
      ],
      "text/plain": [
       "<IPython.core.display.HTML object>"
      ]
     },
     "execution_count": 50,
     "metadata": {},
     "output_type": "execute_result"
    }
   ],
   "source": [
    "%%sparksql\n",
    "\n",
    "SELECT current_date AS current_date"
   ]
  },
  {
   "cell_type": "code",
   "execution_count": 51,
   "id": "50b6ff9d-6240-4d92-8641-8bb4297b1071",
   "metadata": {
    "tags": []
   },
   "outputs": [
    {
     "data": {
      "text/html": [
       "<table><tr style=\"border-bottom: 1px solid\"><td style=\"font-weight: bold\">current_date</td></tr><tr><td>2023-03-29</td></tr></table>"
      ],
      "text/plain": [
       "<IPython.core.display.HTML object>"
      ]
     },
     "execution_count": 51,
     "metadata": {},
     "output_type": "execute_result"
    }
   ],
   "source": [
    "%%sparksql\n",
    "\n",
    "SELECT current_date() AS current_date"
   ]
  },
  {
   "cell_type": "code",
   "execution_count": 52,
   "id": "db686add-b1a8-4f08-bb5a-924555a72881",
   "metadata": {
    "tags": []
   },
   "outputs": [
    {
     "data": {
      "text/html": [
       "<table><tr style=\"border-bottom: 1px solid\"><td style=\"font-weight: bold\">current_timestamp</td></tr><tr><td>2023-03-29 03:08:54.591000</td></tr></table>"
      ],
      "text/plain": [
       "<IPython.core.display.HTML object>"
      ]
     },
     "execution_count": 52,
     "metadata": {},
     "output_type": "execute_result"
    }
   ],
   "source": [
    "%%sparksql\n",
    "\n",
    "SELECT current_timestamp AS current_timestamp"
   ]
  },
  {
   "cell_type": "markdown",
   "id": "d4371eef-e5fd-45e7-8e47-39b58c38bfe2",
   "metadata": {},
   "source": [
    "### Date Arithmetic\n",
    "\n",
    "- **date_add** can be used to add or subtract days.\n",
    "- **date_sub** can be used to subtract or add days.\n",
    "- **datediff** can be used to get difference between 2 dates\n",
    "- **add_months** can be used add months to a date\n"
   ]
  },
  {
   "cell_type": "code",
   "execution_count": 53,
   "id": "47f71b97-a8fd-405a-be98-59f8bf782f92",
   "metadata": {
    "tags": []
   },
   "outputs": [
    {
     "data": {
      "text/html": [
       "<table><tr style=\"border-bottom: 1px solid\"><td style=\"font-weight: bold\">result</td></tr><tr><td>2023-04-30</td></tr></table>"
      ],
      "text/plain": [
       "<IPython.core.display.HTML object>"
      ]
     },
     "execution_count": 53,
     "metadata": {},
     "output_type": "execute_result"
    }
   ],
   "source": [
    "%%sparksql\n",
    "\n",
    "SELECT date_add(current_date, 32) AS result"
   ]
  },
  {
   "cell_type": "code",
   "execution_count": 54,
   "id": "25474ddb-f277-44c9-887c-666934de0313",
   "metadata": {
    "tags": []
   },
   "outputs": [
    {
     "data": {
      "text/html": [
       "<table><tr style=\"border-bottom: 1px solid\"><td style=\"font-weight: bold\">result</td></tr><tr><td>2020-04-14</td></tr></table>"
      ],
      "text/plain": [
       "<IPython.core.display.HTML object>"
      ]
     },
     "execution_count": 54,
     "metadata": {},
     "output_type": "execute_result"
    }
   ],
   "source": [
    "%%sparksql\n",
    "\n",
    "SELECT date_add('2018-04-15', 730) AS result"
   ]
  },
  {
   "cell_type": "code",
   "execution_count": 59,
   "id": "7dc800cd-264b-4059-811c-c57272338f6d",
   "metadata": {
    "tags": []
   },
   "outputs": [
    {
     "data": {
      "text/html": [
       "<table><tr style=\"border-bottom: 1px solid\"><td style=\"font-weight: bold\">result</td></tr><tr><td>2018-04-15</td></tr></table>"
      ],
      "text/plain": [
       "<IPython.core.display.HTML object>"
      ]
     },
     "execution_count": 59,
     "metadata": {},
     "output_type": "execute_result"
    }
   ],
   "source": [
    "%%sparksql\n",
    "\n",
    "SELECT date_add('2020-04-14', -730) AS result"
   ]
  },
  {
   "cell_type": "code",
   "execution_count": 60,
   "id": "32a1cd62-d13a-473c-993a-63d9dd830c54",
   "metadata": {
    "tags": []
   },
   "outputs": [
    {
     "data": {
      "text/html": [
       "<table><tr style=\"border-bottom: 1px solid\"><td style=\"font-weight: bold\">result</td></tr><tr><td>454</td></tr></table>"
      ],
      "text/plain": [
       "<IPython.core.display.HTML object>"
      ]
     },
     "execution_count": 60,
     "metadata": {},
     "output_type": "execute_result"
    }
   ],
   "source": [
    "%%sparksql\n",
    "\n",
    "SELECT datediff('2019-03-30', '2017-12-31') AS result"
   ]
  },
  {
   "cell_type": "code",
   "execution_count": 62,
   "id": "749ead9c-5c9c-4370-b553-ccaae12ac6dc",
   "metadata": {
    "tags": []
   },
   "outputs": [
    {
     "data": {
      "text/html": [
       "<table><tr style=\"border-bottom: 1px solid\"><td style=\"font-weight: bold\">result</td></tr><tr><td>2023-06-29</td></tr></table>"
      ],
      "text/plain": [
       "<IPython.core.display.HTML object>"
      ]
     },
     "execution_count": 62,
     "metadata": {},
     "output_type": "execute_result"
    }
   ],
   "source": [
    "%%sparksql\n",
    "\n",
    "SELECT add_months(current_date, 3) AS result"
   ]
  },
  {
   "cell_type": "markdown",
   "id": "7172d682-f39f-4acc-80c6-47c62a5bf06f",
   "metadata": {},
   "source": [
    "### Beginning Date or Time - trunc and date_trunc\n",
    "\n",
    "- We can use MM to get beginning date of the month.\n",
    "- YY can be used to get begining date of the year.\n",
    "- We can apply trunc either on date or timestamp, however we cannot apply it other than month or year (such an hour or day).\n"
   ]
  },
  {
   "cell_type": "code",
   "execution_count": 63,
   "id": "e9559b12-cc8c-4d1f-8d94-d4778efaf78b",
   "metadata": {
    "tags": []
   },
   "outputs": [
    {
     "data": {
      "text/html": [
       "<table><tr style=\"border-bottom: 1px solid\"><td style=\"font-weight: bold\">function_desc</td></tr><tr><td>Function: trunc</td></tr><tr><td>Class: org.apache.spark.sql.catalyst.expressions.TruncDate</td></tr><tr><td>Usage: \n",
       "    trunc(date, fmt) - Returns `date` with the time portion of the day truncated to the unit specified by the format model `fmt`.\n",
       "  </td></tr></table>"
      ],
      "text/plain": [
       "<IPython.core.display.HTML object>"
      ]
     },
     "execution_count": 63,
     "metadata": {},
     "output_type": "execute_result"
    }
   ],
   "source": [
    "%%sparksql\n",
    "\n",
    "DESCRIBE FUNCTION trunc"
   ]
  },
  {
   "cell_type": "code",
   "execution_count": 64,
   "id": "2ff504e1-c799-465d-bff2-8e1e136a82bc",
   "metadata": {
    "tags": []
   },
   "outputs": [
    {
     "data": {
      "text/html": [
       "<table><tr style=\"border-bottom: 1px solid\"><td style=\"font-weight: bold\">beginning_date_month</td></tr><tr><td>2023-03-01</td></tr></table>"
      ],
      "text/plain": [
       "<IPython.core.display.HTML object>"
      ]
     },
     "execution_count": 64,
     "metadata": {},
     "output_type": "execute_result"
    }
   ],
   "source": [
    "%%sparksql\n",
    "\n",
    "SELECT trunc(current_date, 'MM') AS beginning_date_month"
   ]
  },
  {
   "cell_type": "code",
   "execution_count": 65,
   "id": "fd4a363b-9f16-4ad8-bcc2-0d78175db179",
   "metadata": {
    "tags": []
   },
   "outputs": [
    {
     "data": {
      "text/html": [
       "<table><tr style=\"border-bottom: 1px solid\"><td style=\"font-weight: bold\">beginning_date_month</td></tr><tr><td>2019-01-01</td></tr></table>"
      ],
      "text/plain": [
       "<IPython.core.display.HTML object>"
      ]
     },
     "execution_count": 65,
     "metadata": {},
     "output_type": "execute_result"
    }
   ],
   "source": [
    "%%sparksql\n",
    "\n",
    "SELECT trunc('2019-01-23', 'MM') AS beginning_date_month"
   ]
  },
  {
   "cell_type": "code",
   "execution_count": 66,
   "id": "ef71b70f-d473-4204-b174-058a3dcad7cf",
   "metadata": {
    "tags": []
   },
   "outputs": [
    {
     "data": {
      "text/html": [
       "<table><tr style=\"border-bottom: 1px solid\"><td style=\"font-weight: bold\">beginning_date_year</td></tr><tr><td>2023-01-01</td></tr></table>"
      ],
      "text/plain": [
       "<IPython.core.display.HTML object>"
      ]
     },
     "execution_count": 66,
     "metadata": {},
     "output_type": "execute_result"
    }
   ],
   "source": [
    "%%sparksql\n",
    "\n",
    "SELECT trunc(current_date, 'YY') AS beginning_date_year "
   ]
  },
  {
   "cell_type": "markdown",
   "id": "9c01689e-7986-41b3-871e-760caf560aac",
   "metadata": {},
   "source": [
    "#### Below does not work"
   ]
  },
  {
   "cell_type": "code",
   "execution_count": 70,
   "id": "262f8b99-9e26-4e38-8b80-bdf48a339fe9",
   "metadata": {
    "tags": []
   },
   "outputs": [
    {
     "data": {
      "text/html": [
       "<table><tr style=\"border-bottom: 1px solid\"><td style=\"font-weight: bold\">doesnt_work</td></tr><tr><td>null</td></tr></table>"
      ],
      "text/plain": [
       "<IPython.core.display.HTML object>"
      ]
     },
     "execution_count": 70,
     "metadata": {},
     "output_type": "execute_result"
    }
   ],
   "source": [
    "%%sparksql\n",
    "\n",
    "SELECT trunc(current_timestamp, 'HH') AS doesnt_work"
   ]
  },
  {
   "cell_type": "markdown",
   "id": "f1369309-9cff-443c-8d1d-f81a4b9b6392",
   "metadata": {},
   "source": [
    "While **trunc** can be used to get beginning time of a given month or year, we can get the beginning time up to Second using date_trunc."
   ]
  },
  {
   "cell_type": "code",
   "execution_count": 71,
   "id": "0cbf3725-0d56-48b4-8e28-b1ab22ce88ab",
   "metadata": {
    "tags": []
   },
   "outputs": [
    {
     "data": {
      "text/html": [
       "<table><tr style=\"border-bottom: 1px solid\"><td style=\"font-weight: bold\">hour_beginning</td></tr><tr><td>2023-03-29 03:00:00</td></tr></table>"
      ],
      "text/plain": [
       "<IPython.core.display.HTML object>"
      ]
     },
     "execution_count": 71,
     "metadata": {},
     "output_type": "execute_result"
    }
   ],
   "source": [
    "%%sparksql\n",
    "\n",
    "SELECT date_trunc('HOUR', current_timestamp) AS hour_beginning"
   ]
  },
  {
   "cell_type": "markdown",
   "id": "614dcf12-61cb-4cca-96e8-9aff91122671",
   "metadata": {
    "tags": []
   },
   "source": [
    "### Extracting information using date_format"
   ]
  },
  {
   "cell_type": "code",
   "execution_count": 74,
   "id": "3136dda1-6f46-408a-ab19-45f68fce8abd",
   "metadata": {
    "tags": []
   },
   "outputs": [
    {
     "data": {
      "text/html": [
       "<table><tr style=\"border-bottom: 1px solid\"><td style=\"font-weight: bold\">function_desc</td></tr><tr><td>Function: date_format</td></tr><tr><td>Class: org.apache.spark.sql.catalyst.expressions.DateFormatClass</td></tr><tr><td>Usage: date_format(timestamp, fmt) - Converts `timestamp` to a value of string in the format specified by the date format `fmt`.</td></tr></table>"
      ],
      "text/plain": [
       "<IPython.core.display.HTML object>"
      ]
     },
     "execution_count": 74,
     "metadata": {},
     "output_type": "execute_result"
    }
   ],
   "source": [
    "%%sparksql\n",
    "DESCRIBE FUNCTION date_format"
   ]
  },
  {
   "cell_type": "code",
   "execution_count": 75,
   "id": "ddaeb8cb-8a3f-4245-b6a4-dca4c4c69ee6",
   "metadata": {
    "tags": []
   },
   "outputs": [
    {
     "data": {
      "text/html": [
       "<table><tr style=\"border-bottom: 1px solid\"><td style=\"font-weight: bold\">current_timestamp</td><td style=\"font-weight: bold\">year</td></tr><tr><td>2023-03-29 03:31:35.608000</td><td>2023</td></tr></table>"
      ],
      "text/plain": [
       "<IPython.core.display.HTML object>"
      ]
     },
     "execution_count": 75,
     "metadata": {},
     "output_type": "execute_result"
    }
   ],
   "source": [
    "%%sparksql\n",
    "SELECT current_timestamp AS current_timestamp, \n",
    "    date_format(current_timestamp, 'yyyy') AS year"
   ]
  },
  {
   "cell_type": "code",
   "execution_count": 76,
   "id": "0223d0d6-c302-4279-8d20-02f0c8e33e22",
   "metadata": {
    "tags": []
   },
   "outputs": [
    {
     "data": {
      "text/html": [
       "<table><tr style=\"border-bottom: 1px solid\"><td style=\"font-weight: bold\">current_timestamp</td><td style=\"font-weight: bold\">year</td></tr><tr><td>2023-03-29 03:32:06.909000</td><td>23</td></tr></table>"
      ],
      "text/plain": [
       "<IPython.core.display.HTML object>"
      ]
     },
     "execution_count": 76,
     "metadata": {},
     "output_type": "execute_result"
    }
   ],
   "source": [
    "%%sparksql\n",
    "SELECT current_timestamp AS current_timestamp, \n",
    "    date_format(current_timestamp, 'yy') AS year"
   ]
  },
  {
   "cell_type": "code",
   "execution_count": 77,
   "id": "a0ea87a9-e612-475f-a1fb-65c5402e19d0",
   "metadata": {
    "tags": []
   },
   "outputs": [
    {
     "data": {
      "text/html": [
       "<table><tr style=\"border-bottom: 1px solid\"><td style=\"font-weight: bold\">current_timestamp</td><td style=\"font-weight: bold\">day_of_month</td></tr><tr><td>2023-03-29 03:32:29.325000</td><td>29</td></tr></table>"
      ],
      "text/plain": [
       "<IPython.core.display.HTML object>"
      ]
     },
     "execution_count": 77,
     "metadata": {},
     "output_type": "execute_result"
    }
   ],
   "source": [
    "%%sparksql\n",
    "SELECT current_timestamp AS current_timestamp, \n",
    "    date_format(current_timestamp, 'dd') AS day_of_month"
   ]
  },
  {
   "cell_type": "code",
   "execution_count": 78,
   "id": "a036b389-2d64-48b0-95a3-ca98e29e0a36",
   "metadata": {
    "tags": []
   },
   "outputs": [
    {
     "data": {
      "text/html": [
       "<table><tr style=\"border-bottom: 1px solid\"><td style=\"font-weight: bold\">current_timestamp</td><td style=\"font-weight: bold\">day_of_year</td></tr><tr><td>2023-03-29 03:32:49.102000</td><td>88</td></tr></table>"
      ],
      "text/plain": [
       "<IPython.core.display.HTML object>"
      ]
     },
     "execution_count": 78,
     "metadata": {},
     "output_type": "execute_result"
    }
   ],
   "source": [
    "%%sparksql\n",
    "\n",
    "SELECT current_timestamp AS current_timestamp, \n",
    "    date_format(current_timestamp, 'DD') AS day_of_year"
   ]
  },
  {
   "cell_type": "code",
   "execution_count": 79,
   "id": "4a649441-f1e1-4b14-b887-c410a1e583e2",
   "metadata": {
    "tags": []
   },
   "outputs": [
    {
     "data": {
      "text/html": [
       "<table><tr style=\"border-bottom: 1px solid\"><td style=\"font-weight: bold\">current_timestamp</td><td style=\"font-weight: bold\">month_name</td></tr><tr><td>2023-03-29 03:33:44.239000</td><td>Mar</td></tr></table>"
      ],
      "text/plain": [
       "<IPython.core.display.HTML object>"
      ]
     },
     "execution_count": 79,
     "metadata": {},
     "output_type": "execute_result"
    }
   ],
   "source": [
    "%%sparksql\n",
    "\n",
    "SELECT current_timestamp AS current_timestamp, \n",
    "    date_format(current_timestamp, 'MMM') AS month_name"
   ]
  },
  {
   "cell_type": "code",
   "execution_count": 80,
   "id": "d978828a-7efb-473b-b2a0-bb980b6afd4c",
   "metadata": {
    "tags": []
   },
   "outputs": [
    {
     "data": {
      "text/html": [
       "<table><tr style=\"border-bottom: 1px solid\"><td style=\"font-weight: bold\">current_timestamp</td><td style=\"font-weight: bold\">month_name</td></tr><tr><td>2023-03-29 03:33:56.495000</td><td>03</td></tr></table>"
      ],
      "text/plain": [
       "<IPython.core.display.HTML object>"
      ]
     },
     "execution_count": 80,
     "metadata": {},
     "output_type": "execute_result"
    }
   ],
   "source": [
    "%%sparksql\n",
    "\n",
    "SELECT current_timestamp AS current_timestamp, \n",
    "    date_format(current_timestamp, 'MM') AS month_name"
   ]
  },
  {
   "cell_type": "code",
   "execution_count": 81,
   "id": "a6a292f6-685a-49d7-802d-767c3bb8a817",
   "metadata": {
    "tags": []
   },
   "outputs": [
    {
     "data": {
      "text/html": [
       "<table><tr style=\"border-bottom: 1px solid\"><td style=\"font-weight: bold\">current_timestamp</td><td style=\"font-weight: bold\">dayname</td></tr><tr><td>2023-03-29 03:34:47.362000</td><td>Wed</td></tr></table>"
      ],
      "text/plain": [
       "<IPython.core.display.HTML object>"
      ]
     },
     "execution_count": 81,
     "metadata": {},
     "output_type": "execute_result"
    }
   ],
   "source": [
    "%%sparksql\n",
    "\n",
    "SELECT current_timestamp AS current_timestamp, \n",
    "    date_format(current_timestamp, 'EE') AS dayname"
   ]
  },
  {
   "cell_type": "code",
   "execution_count": 82,
   "id": "73a96fb2-474c-48dd-bb6c-ec313f902fa9",
   "metadata": {
    "tags": []
   },
   "outputs": [
    {
     "data": {
      "text/html": [
       "<table><tr style=\"border-bottom: 1px solid\"><td style=\"font-weight: bold\">current_timestamp</td><td style=\"font-weight: bold\">dayname</td></tr><tr><td>2023-03-29 03:35:13.036000</td><td>Wednesday</td></tr></table>"
      ],
      "text/plain": [
       "<IPython.core.display.HTML object>"
      ]
     },
     "execution_count": 82,
     "metadata": {},
     "output_type": "execute_result"
    }
   ],
   "source": [
    "%%sparksql\n",
    "\n",
    "SELECT current_timestamp AS current_timestamp, \n",
    "    date_format(current_timestamp, 'EEEE') AS dayname"
   ]
  },
  {
   "cell_type": "markdown",
   "id": "cd201267-963a-4122-bdf9-fabd3e3e11a7",
   "metadata": {},
   "source": [
    "Here is how we can get time related information such as hour, minute, seconds, milliseconds etc from timestamp."
   ]
  },
  {
   "cell_type": "code",
   "execution_count": 83,
   "id": "6a90959c-b593-4dc8-bfa1-6fa3b4e9dc95",
   "metadata": {
    "tags": []
   },
   "outputs": [
    {
     "data": {
      "text/html": [
       "<table><tr style=\"border-bottom: 1px solid\"><td style=\"font-weight: bold\">current_timestamp</td><td style=\"font-weight: bold\">hour24</td></tr><tr><td>2023-03-29 03:39:05.109000</td><td>03</td></tr></table>"
      ],
      "text/plain": [
       "<IPython.core.display.HTML object>"
      ]
     },
     "execution_count": 83,
     "metadata": {},
     "output_type": "execute_result"
    }
   ],
   "source": [
    "%%sparksql\n",
    "SELECT current_timestamp AS current_timestamp, \n",
    "    date_format(current_timestamp, 'HH') AS hour24"
   ]
  },
  {
   "cell_type": "code",
   "execution_count": 84,
   "id": "8e519000-1de2-4060-81d4-a1acbe144802",
   "metadata": {
    "tags": []
   },
   "outputs": [
    {
     "data": {
      "text/html": [
       "<table><tr style=\"border-bottom: 1px solid\"><td style=\"font-weight: bold\">current_timestamp</td><td style=\"font-weight: bold\">hour12</td></tr><tr><td>2023-03-29 03:43:11.887000</td><td>03</td></tr></table>"
      ],
      "text/plain": [
       "<IPython.core.display.HTML object>"
      ]
     },
     "execution_count": 84,
     "metadata": {},
     "output_type": "execute_result"
    }
   ],
   "source": [
    "%%sparksql\n",
    "\n",
    "SELECT current_timestamp AS current_timestamp, \n",
    "    date_format(current_timestamp, 'hh') AS hour12"
   ]
  },
  {
   "cell_type": "code",
   "execution_count": 89,
   "id": "3d1c922f-0198-4ce4-99e2-d7521aa10e94",
   "metadata": {
    "tags": []
   },
   "outputs": [
    {
     "data": {
      "text/html": [
       "<table><tr style=\"border-bottom: 1px solid\"><td style=\"font-weight: bold\">current_timestamp</td><td style=\"font-weight: bold\">minutes</td></tr><tr><td>2023-03-29 03:44:18.408000</td><td>44</td></tr></table>"
      ],
      "text/plain": [
       "<IPython.core.display.HTML object>"
      ]
     },
     "execution_count": 89,
     "metadata": {},
     "output_type": "execute_result"
    }
   ],
   "source": [
    "%%sparksql\n",
    "\n",
    "SELECT current_timestamp AS current_timestamp, \n",
    "    date_format(current_timestamp, 'mm') AS minutes"
   ]
  },
  {
   "cell_type": "code",
   "execution_count": 88,
   "id": "b05f9efb-88b9-49a7-af70-16ac80be3d7c",
   "metadata": {
    "tags": []
   },
   "outputs": [
    {
     "data": {
      "text/html": [
       "<table><tr style=\"border-bottom: 1px solid\"><td style=\"font-weight: bold\">current_timestamp</td><td style=\"font-weight: bold\">seconds</td></tr><tr><td>2023-03-29 03:44:13.533000</td><td>13</td></tr></table>"
      ],
      "text/plain": [
       "<IPython.core.display.HTML object>"
      ]
     },
     "execution_count": 88,
     "metadata": {},
     "output_type": "execute_result"
    }
   ],
   "source": [
    "%%sparksql\n",
    "SELECT current_timestamp AS current_timestamp, \n",
    "    date_format(current_timestamp, 'ss') AS seconds"
   ]
  },
  {
   "cell_type": "code",
   "execution_count": 90,
   "id": "b73dfd0d-a5d0-4d85-8b75-1080d1c76b26",
   "metadata": {
    "tags": []
   },
   "outputs": [
    {
     "data": {
      "text/html": [
       "<table><tr style=\"border-bottom: 1px solid\"><td style=\"font-weight: bold\">current_month</td></tr><tr><td>202303</td></tr></table>"
      ],
      "text/plain": [
       "<IPython.core.display.HTML object>"
      ]
     },
     "execution_count": 90,
     "metadata": {},
     "output_type": "execute_result"
    }
   ],
   "source": [
    "%%sparksql\n",
    "\n",
    "SELECT date_format(current_timestamp, 'yyyyMM') AS current_month"
   ]
  },
  {
   "cell_type": "code",
   "execution_count": 91,
   "id": "84127d52-1c6b-4a58-8308-ca9170194dde",
   "metadata": {
    "tags": []
   },
   "outputs": [
    {
     "data": {
      "text/html": [
       "<table><tr style=\"border-bottom: 1px solid\"><td style=\"font-weight: bold\">current_date</td></tr><tr><td>2023/03/29</td></tr></table>"
      ],
      "text/plain": [
       "<IPython.core.display.HTML object>"
      ]
     },
     "execution_count": 91,
     "metadata": {},
     "output_type": "execute_result"
    }
   ],
   "source": [
    "%%sparksql\n",
    "\n",
    "SELECT date_format(current_timestamp, 'yyyy/MM/dd') AS current_date"
   ]
  },
  {
   "cell_type": "markdown",
   "id": "7660eec9-9dbc-4d39-9eb1-6e508cd74a12",
   "metadata": {},
   "source": [
    "### Extracting information - Calendar functions¶\n",
    "\n",
    "- We can get year, month, day etc from date or timestamp using functions. \n",
    "- There are functions such as day, dayofmonth, month, weekofyear, year etc available for us."
   ]
  },
  {
   "cell_type": "code",
   "execution_count": 93,
   "id": "c1705730-0f3c-4a04-87a2-070785d632f2",
   "metadata": {
    "tags": []
   },
   "outputs": [
    {
     "name": "stdout",
     "output_type": "stream",
     "text": [
      "+------------------------------------------------------------------+\n",
      "|function_desc                                                     |\n",
      "+------------------------------------------------------------------+\n",
      "|Function: day                                                     |\n",
      "|Class: org.apache.spark.sql.catalyst.expressions.DayOfMonth       |\n",
      "|Usage: day(date) - Returns the day of month of the date/timestamp.|\n",
      "+------------------------------------------------------------------+\n",
      "\n"
     ]
    }
   ],
   "source": [
    "spark.sql(\"DESCRIBE FUNCTION day\").show(truncate=False)"
   ]
  },
  {
   "cell_type": "code",
   "execution_count": 94,
   "id": "9fa13a5a-d551-47c5-9f44-19871a352c63",
   "metadata": {
    "tags": []
   },
   "outputs": [
    {
     "name": "stdout",
     "output_type": "stream",
     "text": [
      "+------------------------------------------------------------------+\n",
      "|function_desc                                                     |\n",
      "+------------------------------------------------------------------+\n",
      "|Function: day                                                     |\n",
      "|Class: org.apache.spark.sql.catalyst.expressions.DayOfMonth       |\n",
      "|Usage: day(date) - Returns the day of month of the date/timestamp.|\n",
      "+------------------------------------------------------------------+\n",
      "\n"
     ]
    }
   ],
   "source": [
    "spark.sql(\"DESCRIBE FUNCTION day\").show(truncate=False)"
   ]
  },
  {
   "cell_type": "code",
   "execution_count": 95,
   "id": "8ae7b489-fd8d-4b7d-afee-811c26eac59a",
   "metadata": {
    "tags": []
   },
   "outputs": [
    {
     "name": "stdout",
     "output_type": "stream",
     "text": [
      "+-----------------------------------------------------------------------+\n",
      "|function_desc                                                          |\n",
      "+-----------------------------------------------------------------------+\n",
      "|Function: month                                                        |\n",
      "|Class: org.apache.spark.sql.catalyst.expressions.Month                 |\n",
      "|Usage: month(date) - Returns the month component of the date/timestamp.|\n",
      "+-----------------------------------------------------------------------+\n",
      "\n"
     ]
    }
   ],
   "source": [
    "spark.sql(\"DESCRIBE FUNCTION month\").show(truncate=False)"
   ]
  },
  {
   "cell_type": "code",
   "execution_count": 99,
   "id": "a1506b70-35d6-44b3-a2b0-44912d9c9ace",
   "metadata": {
    "tags": []
   },
   "outputs": [
    {
     "data": {
      "text/html": [
       "<table><tr style=\"border-bottom: 1px solid\"><td style=\"font-weight: bold\">function_desc</td></tr><tr><td>Function: weekofyear</td></tr><tr><td>Class: org.apache.spark.sql.catalyst.expressions.WeekOfYear</td></tr><tr><td>Usage: weekofyear(date) - Returns the week of the year of the given date. A week is considered to start on a Monday and week 1 is the first week with &gt;3 days.</td></tr></table>"
      ],
      "text/plain": [
       "<IPython.core.display.HTML object>"
      ]
     },
     "execution_count": 99,
     "metadata": {},
     "output_type": "execute_result"
    }
   ],
   "source": [
    "%%sparksql\n",
    "DESCRIBE FUNCTION weekofyear"
   ]
  },
  {
   "cell_type": "code",
   "execution_count": 98,
   "id": "ca2ea00d-4672-443d-9169-4311b1e1e582",
   "metadata": {
    "tags": []
   },
   "outputs": [
    {
     "name": "stdout",
     "output_type": "stream",
     "text": [
      "+---------------------------------------------------------------------+\n",
      "|function_desc                                                        |\n",
      "+---------------------------------------------------------------------+\n",
      "|Function: year                                                       |\n",
      "|Class: org.apache.spark.sql.catalyst.expressions.Year                |\n",
      "|Usage: year(date) - Returns the year component of the date/timestamp.|\n",
      "+---------------------------------------------------------------------+\n",
      "\n"
     ]
    }
   ],
   "source": [
    "spark.sql(\"DESCRIBE FUNCTION year\").show(truncate=False)"
   ]
  },
  {
   "cell_type": "code",
   "execution_count": 100,
   "id": "e9083a0e-2f4c-4324-8d02-30213a9b19e1",
   "metadata": {
    "tags": []
   },
   "outputs": [
    {
     "data": {
      "text/html": [
       "<table><tr style=\"border-bottom: 1px solid\"><td style=\"font-weight: bold\">year</td></tr><tr><td>2023</td></tr></table>"
      ],
      "text/plain": [
       "<IPython.core.display.HTML object>"
      ]
     },
     "execution_count": 100,
     "metadata": {},
     "output_type": "execute_result"
    }
   ],
   "source": [
    "%%sparksql\n",
    "\n",
    "SELECT year(current_date) AS year"
   ]
  },
  {
   "cell_type": "code",
   "execution_count": 103,
   "id": "39134285-6103-40f2-bdba-4237cb9fdf03",
   "metadata": {
    "tags": []
   },
   "outputs": [
    {
     "data": {
      "text/html": [
       "<table><tr style=\"border-bottom: 1px solid\"><td style=\"font-weight: bold\">month</td></tr><tr><td>3</td></tr></table>"
      ],
      "text/plain": [
       "<IPython.core.display.HTML object>"
      ]
     },
     "execution_count": 103,
     "metadata": {},
     "output_type": "execute_result"
    }
   ],
   "source": [
    "%%sparksql\n",
    "\n",
    "SELECT month(current_date) AS month"
   ]
  },
  {
   "cell_type": "code",
   "execution_count": 104,
   "id": "5ccfa4b4-bda4-4057-8bf9-971a6a890418",
   "metadata": {
    "tags": []
   },
   "outputs": [
    {
     "data": {
      "text/html": [
       "<table><tr style=\"border-bottom: 1px solid\"><td style=\"font-weight: bold\">weekofyear</td></tr><tr><td>13</td></tr></table>"
      ],
      "text/plain": [
       "<IPython.core.display.HTML object>"
      ]
     },
     "execution_count": 104,
     "metadata": {},
     "output_type": "execute_result"
    }
   ],
   "source": [
    "%%sparksql\n",
    "\n",
    "SELECT weekofyear(current_date) AS weekofyear"
   ]
  },
  {
   "cell_type": "code",
   "execution_count": 105,
   "id": "9eaa811e-34b5-4607-b357-1853cfbb3496",
   "metadata": {
    "tags": []
   },
   "outputs": [
    {
     "data": {
      "text/html": [
       "<table><tr style=\"border-bottom: 1px solid\"><td style=\"font-weight: bold\">day</td></tr><tr><td>29</td></tr></table>"
      ],
      "text/plain": [
       "<IPython.core.display.HTML object>"
      ]
     },
     "execution_count": 105,
     "metadata": {},
     "output_type": "execute_result"
    }
   ],
   "source": [
    "%%sparksql\n",
    "\n",
    "SELECT day(current_date) AS day"
   ]
  },
  {
   "cell_type": "code",
   "execution_count": 106,
   "id": "29224c06-73c1-4444-9635-7ae2f59d9318",
   "metadata": {
    "tags": []
   },
   "outputs": [
    {
     "data": {
      "text/html": [
       "<table><tr style=\"border-bottom: 1px solid\"><td style=\"font-weight: bold\">dayofmonth</td></tr><tr><td>29</td></tr></table>"
      ],
      "text/plain": [
       "<IPython.core.display.HTML object>"
      ]
     },
     "execution_count": 106,
     "metadata": {},
     "output_type": "execute_result"
    }
   ],
   "source": [
    "%%sparksql\n",
    "\n",
    "SELECT dayofmonth(current_date) AS dayofmonth"
   ]
  },
  {
   "cell_type": "markdown",
   "id": "3f199110-aafb-4062-8865-687502f0f3f2",
   "metadata": {},
   "source": [
    "### Dealing with Unix Timestamp¶\n",
    "\n",
    "- **from_unixtime** can be used to convert Unix epoch to regular timestamp.\n",
    "- **unix_timestamp** or **to_unix_timestamp** can be used to convert timestamp to Unix epoch.\n",
    "- We can get Unix epoch or Unix timestamp by running date **+%s** in Unix/Linux terminal\n",
    "- We can DESCRIBE on the above functions to get details about them.\n"
   ]
  },
  {
   "cell_type": "code",
   "execution_count": 107,
   "id": "9fe26e9d-e92d-4f90-a882-211fdfd55cb0",
   "metadata": {
    "tags": []
   },
   "outputs": [
    {
     "data": {
      "text/html": [
       "<table><tr style=\"border-bottom: 1px solid\"><td style=\"font-weight: bold\">timestamp</td></tr><tr><td>2019-04-30 22:18:51</td></tr></table>"
      ],
      "text/plain": [
       "<IPython.core.display.HTML object>"
      ]
     },
     "execution_count": 107,
     "metadata": {},
     "output_type": "execute_result"
    }
   ],
   "source": [
    "%%sparksql\n",
    "\n",
    "SELECT from_unixtime(1556662731) AS timestamp"
   ]
  },
  {
   "cell_type": "code",
   "execution_count": 108,
   "id": "8741ab80-1c8c-47ec-be2b-ff0bd42c16ac",
   "metadata": {
    "tags": []
   },
   "outputs": [
    {
     "data": {
      "text/html": [
       "<table><tr style=\"border-bottom: 1px solid\"><td style=\"font-weight: bold\">unixtime</td></tr><tr><td>1556648331</td></tr></table>"
      ],
      "text/plain": [
       "<IPython.core.display.HTML object>"
      ]
     },
     "execution_count": 108,
     "metadata": {},
     "output_type": "execute_result"
    }
   ],
   "source": [
    "%%sparksql\n",
    "\n",
    "SELECT to_unix_timestamp('2019-04-30 18:18:51') AS unixtime"
   ]
  },
  {
   "cell_type": "code",
   "execution_count": 109,
   "id": "26a0d485-61f3-476b-a110-95000d40473e",
   "metadata": {
    "tags": []
   },
   "outputs": [
    {
     "data": {
      "text/html": [
       "<table><tr style=\"border-bottom: 1px solid\"><td style=\"font-weight: bold\">month</td></tr><tr><td>201904</td></tr></table>"
      ],
      "text/plain": [
       "<IPython.core.display.HTML object>"
      ]
     },
     "execution_count": 109,
     "metadata": {},
     "output_type": "execute_result"
    }
   ],
   "source": [
    "%%sparksql\n",
    "\n",
    "SELECT from_unixtime(1556662731, 'yyyyMM') AS month"
   ]
  },
  {
   "cell_type": "code",
   "execution_count": 110,
   "id": "38b22602-4a44-4314-becc-9dcdc398cafd",
   "metadata": {
    "tags": []
   },
   "outputs": [
    {
     "data": {
      "text/html": [
       "<table><tr style=\"border-bottom: 1px solid\"><td style=\"font-weight: bold\">date</td></tr><tr><td>2019-04-30</td></tr></table>"
      ],
      "text/plain": [
       "<IPython.core.display.HTML object>"
      ]
     },
     "execution_count": 110,
     "metadata": {},
     "output_type": "execute_result"
    }
   ],
   "source": [
    "%%sparksql\n",
    "\n",
    "SELECT from_unixtime(1556662731, 'yyyy-MM-dd') AS date"
   ]
  },
  {
   "cell_type": "code",
   "execution_count": 111,
   "id": "de76821c-c128-4961-a0e8-c6bfa2d80723",
   "metadata": {
    "tags": []
   },
   "outputs": [
    {
     "data": {
      "text/html": [
       "<table><tr style=\"border-bottom: 1px solid\"><td style=\"font-weight: bold\">timestamp</td></tr><tr><td>2019-04-30 22:18</td></tr></table>"
      ],
      "text/plain": [
       "<IPython.core.display.HTML object>"
      ]
     },
     "execution_count": 111,
     "metadata": {},
     "output_type": "execute_result"
    }
   ],
   "source": [
    "%%sparksql\n",
    "\n",
    "SELECT from_unixtime(1556662731, 'yyyy-MM-dd HH:mm') AS timestamp"
   ]
  },
  {
   "cell_type": "code",
   "execution_count": 112,
   "id": "2030b3b9-60be-4f00-b23b-152aade040c0",
   "metadata": {
    "tags": []
   },
   "outputs": [
    {
     "data": {
      "text/html": [
       "<table><tr style=\"border-bottom: 1px solid\"><td style=\"font-weight: bold\">timestamp</td></tr><tr><td>2019-04-30 10:18</td></tr></table>"
      ],
      "text/plain": [
       "<IPython.core.display.HTML object>"
      ]
     },
     "execution_count": 112,
     "metadata": {},
     "output_type": "execute_result"
    }
   ],
   "source": [
    "%%sparksql\n",
    "\n",
    "SELECT from_unixtime(1556662731, 'yyyy-MM-dd hh:mm') AS timestamp"
   ]
  },
  {
   "cell_type": "code",
   "execution_count": 115,
   "id": "f4b8ac10-b9fb-49af-8765-9bca7c9b473b",
   "metadata": {
    "tags": []
   },
   "outputs": [
    {
     "data": {
      "text/html": [
       "<table><tr style=\"border-bottom: 1px solid\"><td style=\"font-weight: bold\">date</td></tr><tr><td>1556582400</td></tr></table>"
      ],
      "text/plain": [
       "<IPython.core.display.HTML object>"
      ]
     },
     "execution_count": 115,
     "metadata": {},
     "output_type": "execute_result"
    }
   ],
   "source": [
    "%%sparksql\n",
    "\n",
    "SELECT to_unix_timestamp('20190430', 'yyyyMMdd') AS date"
   ]
  },
  {
   "cell_type": "markdown",
   "id": "c7371daa-f3c5-4ac1-a284-d9baa4f08948",
   "metadata": {},
   "source": [
    "### Overview of Numeric Functions\n",
    "\n",
    "- **abs** - always return positive number\n",
    "- **sum, avg**\n",
    "- **round** - rounds off to specified precision\n",
    "- **ceil, floor** - always return integer.\n",
    "- **greatest**\n",
    "- **min, max**\n",
    "- **rand**\n",
    "- **pow, sqrt**\n",
    "- **cumedist, stddev, variance**\n"
   ]
  },
  {
   "cell_type": "code",
   "execution_count": 4,
   "id": "572e4537-bb43-496b-b2df-9a8e8025ee09",
   "metadata": {
    "tags": []
   },
   "outputs": [
    {
     "name": "stderr",
     "output_type": "stream",
     "text": [
      "                                                                                \r"
     ]
    },
    {
     "data": {
      "text/html": [
       "<table><tr style=\"border-bottom: 1px solid\"><td style=\"font-weight: bold\">abs(-10.5)</td><td style=\"font-weight: bold\">abs(10)</td></tr><tr><td>10.5</td><td>10</td></tr></table>"
      ],
      "text/plain": [
       "<IPython.core.display.HTML object>"
      ]
     },
     "execution_count": 4,
     "metadata": {},
     "output_type": "execute_result"
    }
   ],
   "source": [
    "%%sparksql\n",
    "\n",
    "SELECT abs(-10.5), abs(10)"
   ]
  },
  {
   "cell_type": "code",
   "execution_count": 6,
   "id": "06c3d9ba-5f78-449f-a2fd-75b69067e1f5",
   "metadata": {
    "tags": []
   },
   "outputs": [
    {
     "data": {
      "text/html": [
       "<table><tr style=\"border-bottom: 1px solid\"><td style=\"font-weight: bold\">function_desc</td></tr><tr><td>Function: abs</td></tr><tr><td>Class: org.apache.spark.sql.catalyst.expressions.Abs</td></tr><tr><td>Usage: abs(expr) - Returns the absolute value of the numeric or interval value.</td></tr></table>"
      ],
      "text/plain": [
       "<IPython.core.display.HTML object>"
      ]
     },
     "execution_count": 6,
     "metadata": {},
     "output_type": "execute_result"
    }
   ],
   "source": [
    "%%sparksql\n",
    "Describe function abs"
   ]
  },
  {
   "cell_type": "code",
   "execution_count": 9,
   "id": "c7592dca-4c88-434a-97c6-b240cc3c04a7",
   "metadata": {
    "tags": []
   },
   "outputs": [
    {
     "data": {
      "text/html": [
       "<table><tr style=\"border-bottom: 1px solid\"></tr></table>"
      ],
      "text/plain": [
       "<IPython.core.display.HTML object>"
      ]
     },
     "execution_count": 9,
     "metadata": {},
     "output_type": "execute_result"
    }
   ],
   "source": [
    "%%sparksql\n",
    "\n",
    "use kevin_retail\n",
    "\n"
   ]
  },
  {
   "cell_type": "code",
   "execution_count": 10,
   "id": "7fbeb5a6-7668-40fa-8cdd-1eeec95b3427",
   "metadata": {
    "tags": []
   },
   "outputs": [
    {
     "data": {
      "text/html": [
       "<table><tr style=\"border-bottom: 1px solid\"><td style=\"font-weight: bold\">namespace</td><td style=\"font-weight: bold\">tableName</td><td style=\"font-weight: bold\">isTemporary</td></tr><tr><td>kevin_retail</td><td>dual</td><td>False</td></tr><tr><td>kevin_retail</td><td>order_items</td><td>False</td></tr><tr><td>kevin_retail</td><td>order_items_stage</td><td>False</td></tr><tr><td>kevin_retail</td><td>orders</td><td>False</td></tr><tr><td>kevin_retail</td><td>orders_part</td><td>False</td></tr></table>"
      ],
      "text/plain": [
       "<IPython.core.display.HTML object>"
      ]
     },
     "execution_count": 10,
     "metadata": {},
     "output_type": "execute_result"
    }
   ],
   "source": [
    "%%sparksql\n",
    "show tables"
   ]
  },
  {
   "cell_type": "code",
   "execution_count": 11,
   "id": "740fc63e-0d24-4650-8555-7640b673c5e8",
   "metadata": {
    "tags": []
   },
   "outputs": [
    {
     "name": "stderr",
     "output_type": "stream",
     "text": [
      "                                                                                \r"
     ]
    },
    {
     "data": {
      "text/html": [
       "<table><tr style=\"border-bottom: 1px solid\"><td style=\"font-weight: bold\">order_item_order_id</td><td style=\"font-weight: bold\">order_item_subtotal</td></tr><tr><td>2</td><td>199.99000549316406</td></tr><tr><td>2</td><td>250.0</td></tr><tr><td>2</td><td>129.99000549316406</td></tr></table>"
      ],
      "text/plain": [
       "<IPython.core.display.HTML object>"
      ]
     },
     "execution_count": 11,
     "metadata": {},
     "output_type": "execute_result"
    }
   ],
   "source": [
    "%%sparksql\n",
    "\n",
    "SELECT order_item_order_id, order_item_subtotal FROM order_items\n",
    "WHERE order_item_order_id = 2"
   ]
  },
  {
   "cell_type": "code",
   "execution_count": 12,
   "id": "907e79f0-6fc7-44e3-a6ad-34f8bc3a1798",
   "metadata": {
    "tags": []
   },
   "outputs": [
    {
     "name": "stderr",
     "output_type": "stream",
     "text": [
      "                                                                                \r"
     ]
    },
    {
     "data": {
      "text/html": [
       "<table><tr style=\"border-bottom: 1px solid\"><td style=\"font-weight: bold\">order_revenue_avg</td></tr><tr><td>193.32667032877603</td></tr></table>"
      ],
      "text/plain": [
       "<IPython.core.display.HTML object>"
      ]
     },
     "execution_count": 12,
     "metadata": {},
     "output_type": "execute_result"
    }
   ],
   "source": [
    "%%sparksql\n",
    "\n",
    "SELECT avg(order_item_subtotal) AS order_revenue_avg FROM order_items\n",
    "WHERE order_item_order_id = 2"
   ]
  },
  {
   "cell_type": "code",
   "execution_count": 15,
   "id": "a0f58438-4211-4a32-a6ef-388c2d616551",
   "metadata": {
    "tags": []
   },
   "outputs": [
    {
     "name": "stderr",
     "output_type": "stream",
     "text": [
      "                                                                                \r"
     ]
    },
    {
     "data": {
      "text/html": [
       "<table><tr style=\"border-bottom: 1px solid\"><td style=\"font-weight: bold\">order_item_order_id</td><td style=\"font-weight: bold\">order_revenue_avg</td></tr><tr><td>68883</td><td>1074.9949951171875</td></tr><tr><td>68882</td><td>54.9950008392334</td></tr><tr><td>68881</td><td>129.99000549316406</td></tr><tr><td>68880</td><td>199.9540008544922</td></tr><tr><td>68879</td><td>419.99000040690106</td></tr><tr><td>68878</td><td>184.98250579833984</td></tr><tr><td>68875</td><td>1199.9749908447266</td></tr><tr><td>68873</td><td>171.98200302124025</td></tr><tr><td>68871</td><td>249.99000549316406</td></tr><tr><td>68870</td><td>239.9600067138672</td></tr></table>"
      ],
      "text/plain": [
       "<IPython.core.display.HTML object>"
      ]
     },
     "execution_count": 15,
     "metadata": {},
     "output_type": "execute_result"
    }
   ],
   "source": [
    "\n",
    "%%sparksql\n",
    "SELECT order_item_order_id, \n",
    "    avg(order_item_subtotal) AS order_revenue_avg \n",
    "FROM order_items\n",
    "GROUP BY order_item_order_id\n",
    "order by order_item_order_id desc\n",
    "LIMIT 10"
   ]
  },
  {
   "cell_type": "code",
   "execution_count": 16,
   "id": "f7ac98e8-b105-4917-b94c-cb7c78f13aba",
   "metadata": {
    "tags": []
   },
   "outputs": [
    {
     "data": {
      "text/html": [
       "<table><tr style=\"border-bottom: 1px solid\"><td style=\"font-weight: bold\">rnd</td><td style=\"font-weight: bold\">flr</td><td style=\"font-weight: bold\">cl</td></tr><tr><td>11</td><td>10</td><td>11</td></tr></table>"
      ],
      "text/plain": [
       "<IPython.core.display.HTML object>"
      ]
     },
     "execution_count": 16,
     "metadata": {},
     "output_type": "execute_result"
    }
   ],
   "source": [
    "%%sparksql\n",
    "\n",
    "SELECT\n",
    "    round(10.58) rnd,\n",
    "    floor(10.58) flr,\n",
    "    ceil(10.58) cl"
   ]
  },
  {
   "cell_type": "code",
   "execution_count": 17,
   "id": "5897db03-e9f7-4a57-ae42-017df68dfd5e",
   "metadata": {
    "tags": []
   },
   "outputs": [
    {
     "data": {
      "text/html": [
       "<table><tr style=\"border-bottom: 1px solid\"><td style=\"font-weight: bold\">rnd1</td><td style=\"font-weight: bold\">rnd1</td><td style=\"font-weight: bold\">rnd2</td><td style=\"font-weight: bold\">flr</td><td style=\"font-weight: bold\">cl</td></tr><tr><td>10</td><td>10.4</td><td>10.5</td><td>10</td><td>11</td></tr></table>"
      ],
      "text/plain": [
       "<IPython.core.display.HTML object>"
      ]
     },
     "execution_count": 17,
     "metadata": {},
     "output_type": "execute_result"
    }
   ],
   "source": [
    "%%sparksql\n",
    "\n",
    "SELECT\n",
    "    round(10.44) rnd1,\n",
    "    round(10.44, 1) rnd1,\n",
    "    round(10.46, 1) rnd2,\n",
    "    floor(10.44) flr,\n",
    "    ceil(10.44) cl"
   ]
  },
  {
   "cell_type": "code",
   "execution_count": 24,
   "id": "a70688b5-5c45-4c1e-84fd-1103de959d9c",
   "metadata": {
    "tags": []
   },
   "outputs": [
    {
     "data": {
      "text/html": [
       "<table><tr style=\"border-bottom: 1px solid\"><td style=\"font-weight: bold\">rnd1</td><td style=\"font-weight: bold\">rnd1</td><td style=\"font-weight: bold\">rnd2</td><td style=\"font-weight: bold\">flr</td><td style=\"font-weight: bold\">cl</td></tr><tr><td>10</td><td>10.4</td><td>10.46</td><td>10</td><td>11</td></tr></table>"
      ],
      "text/plain": [
       "<IPython.core.display.HTML object>"
      ]
     },
     "execution_count": 24,
     "metadata": {},
     "output_type": "execute_result"
    }
   ],
   "source": [
    "%%sparksql\n",
    "\n",
    "SELECT\n",
    "    round(10.44) rnd1,\n",
    "    round(10.44, 1) rnd1,\n",
    "    round(10.46, 2) rnd2,\n",
    "    floor(10.44) flr,\n",
    "    ceil(10.44) cl"
   ]
  },
  {
   "cell_type": "code",
   "execution_count": 19,
   "id": "00ea9af8-30f7-421f-9d05-b33bfa6eb583",
   "metadata": {
    "tags": []
   },
   "outputs": [
    {
     "name": "stderr",
     "output_type": "stream",
     "text": [
      "                                                                                \r"
     ]
    },
    {
     "data": {
      "text/html": [
       "<table><tr style=\"border-bottom: 1px solid\"><td style=\"font-weight: bold\">order_revenue_avg</td></tr><tr><td>193.32667032877603</td></tr></table>"
      ],
      "text/plain": [
       "<IPython.core.display.HTML object>"
      ]
     },
     "execution_count": 19,
     "metadata": {},
     "output_type": "execute_result"
    }
   ],
   "source": [
    "%%sparksql\n",
    "\n",
    "SELECT avg(order_item_subtotal) AS order_revenue_avg FROM order_items\n",
    "WHERE order_item_order_id = 2"
   ]
  },
  {
   "cell_type": "code",
   "execution_count": 20,
   "id": "00a7a40a-c4b1-4b45-ac49-65107c9dddc0",
   "metadata": {
    "tags": []
   },
   "outputs": [
    {
     "data": {
      "text/html": [
       "<table><tr style=\"border-bottom: 1px solid\"><td style=\"font-weight: bold\">order_revenue_avg</td></tr><tr><td>193.33</td></tr></table>"
      ],
      "text/plain": [
       "<IPython.core.display.HTML object>"
      ]
     },
     "execution_count": 20,
     "metadata": {},
     "output_type": "execute_result"
    }
   ],
   "source": [
    "%%sparksql\n",
    "\n",
    "SELECT round(avg(order_item_subtotal), 2) AS order_revenue_avg \n",
    "FROM order_items\n",
    "WHERE order_item_order_id = 2"
   ]
  },
  {
   "cell_type": "code",
   "execution_count": 25,
   "id": "57e27796-a78f-400c-ad4d-1e9b0f9cd01e",
   "metadata": {
    "tags": []
   },
   "outputs": [
    {
     "name": "stderr",
     "output_type": "stream",
     "text": [
      "                                                                                \r"
     ]
    },
    {
     "data": {
      "text/html": [
       "<table><tr style=\"border-bottom: 1px solid\"><td style=\"font-weight: bold\">order_item_order_id</td><td style=\"font-weight: bold\">order_revenue_avg</td></tr><tr><td>148</td><td>160.0</td></tr><tr><td>463</td><td>207.48</td></tr><tr><td>471</td><td>84.99</td></tr><tr><td>496</td><td>88.39</td></tr><tr><td>1088</td><td>124.99</td></tr><tr><td>1580</td><td>299.95</td></tr><tr><td>1591</td><td>146.62</td></tr><tr><td>1645</td><td>301.96</td></tr><tr><td>2366</td><td>299.97</td></tr><tr><td>2659</td><td>144.98</td></tr></table>"
      ],
      "text/plain": [
       "<IPython.core.display.HTML object>"
      ]
     },
     "execution_count": 25,
     "metadata": {},
     "output_type": "execute_result"
    }
   ],
   "source": [
    "%%sparksql\n",
    "\n",
    "SELECT order_item_order_id, \n",
    "    round(avg(order_item_subtotal), 2) AS order_revenue_avg \n",
    "FROM order_items\n",
    "GROUP BY order_item_order_id\n",
    "LIMIT 10"
   ]
  },
  {
   "cell_type": "code",
   "execution_count": 26,
   "id": "8387b7d4-ec14-440f-be89-8a3020ec1372",
   "metadata": {
    "tags": []
   },
   "outputs": [
    {
     "name": "stderr",
     "output_type": "stream",
     "text": [
      "                                                                                \r"
     ]
    },
    {
     "data": {
      "text/html": [
       "<table><tr style=\"border-bottom: 1px solid\"><td style=\"font-weight: bold\">order_item_order_id</td><td style=\"font-weight: bold\">order_revenue_sum</td></tr><tr><td>35351</td><td>629.93</td></tr><tr><td>35361</td><td>614.88</td></tr><tr><td>35689</td><td>799.88</td></tr><tr><td>35694</td><td>889.94</td></tr><tr><td>35820</td><td>949.96</td></tr><tr><td>35912</td><td>799.96</td></tr><tr><td>35947</td><td>519.96</td></tr><tr><td>35982</td><td>1201.82</td></tr><tr><td>36131</td><td>554.95</td></tr><tr><td>36224</td><td>729.96</td></tr></table>"
      ],
      "text/plain": [
       "<IPython.core.display.HTML object>"
      ]
     },
     "execution_count": 26,
     "metadata": {},
     "output_type": "execute_result"
    }
   ],
   "source": [
    "%%sparksql\n",
    "\n",
    "SELECT order_item_order_id, \n",
    "    round(sum(order_item_subtotal), 2) AS order_revenue_sum\n",
    "FROM order_items\n",
    "GROUP BY order_item_order_id\n",
    "LIMIT 10"
   ]
  },
  {
   "cell_type": "code",
   "execution_count": 28,
   "id": "c79950a7-875e-4944-a41b-014db2fc79d0",
   "metadata": {
    "tags": []
   },
   "outputs": [
    {
     "data": {
      "text/html": [
       "<table><tr style=\"border-bottom: 1px solid\"><td style=\"font-weight: bold\">greatest(10, 11, 13, -13)</td></tr><tr><td>13</td></tr></table>"
      ],
      "text/plain": [
       "<IPython.core.display.HTML object>"
      ]
     },
     "execution_count": 28,
     "metadata": {},
     "output_type": "execute_result"
    }
   ],
   "source": [
    "%%sparksql\n",
    "\n",
    "SELECT greatest(10, 11, 13, -13)"
   ]
  },
  {
   "cell_type": "code",
   "execution_count": 29,
   "id": "b17be5d4-c5cb-47ae-ae86-f2376cf68808",
   "metadata": {
    "tags": []
   },
   "outputs": [
    {
     "data": {
      "text/html": [
       "<table><tr style=\"border-bottom: 1px solid\"><td style=\"font-weight: bold\">rand</td></tr><tr><td>0.17234539226299006</td></tr></table>"
      ],
      "text/plain": [
       "<IPython.core.display.HTML object>"
      ]
     },
     "execution_count": 29,
     "metadata": {},
     "output_type": "execute_result"
    }
   ],
   "source": [
    "%%sparksql\n",
    "\n",
    "SELECT rand() AS rand"
   ]
  },
  {
   "cell_type": "code",
   "execution_count": 30,
   "id": "e32a0878-ab2c-4fd4-be3e-666ce07c740a",
   "metadata": {
    "tags": []
   },
   "outputs": [
    {
     "data": {
      "text/html": [
       "<table><tr style=\"border-bottom: 1px solid\"><td style=\"font-weight: bold\">random_int</td></tr><tr><td>1</td></tr></table>"
      ],
      "text/plain": [
       "<IPython.core.display.HTML object>"
      ]
     },
     "execution_count": 30,
     "metadata": {},
     "output_type": "execute_result"
    }
   ],
   "source": [
    "%%sparksql\n",
    "\n",
    "SELECT cast(round(rand() * 1) AS int) AS random_int"
   ]
  },
  {
   "cell_type": "code",
   "execution_count": 33,
   "id": "de84978b-2e68-4da7-bf18-6e361742663a",
   "metadata": {
    "tags": []
   },
   "outputs": [],
   "source": [
    "from pyspark.sql.functions import explode"
   ]
  },
  {
   "cell_type": "code",
   "execution_count": 39,
   "id": "32af8088-326e-4c90-9bb5-fb9ff1495e97",
   "metadata": {
    "tags": []
   },
   "outputs": [
    {
     "data": {
      "text/html": [
       "<table><tr style=\"border-bottom: 1px solid\"><td style=\"font-weight: bold\">order_item_order_id</td><td style=\"font-weight: bold\">order_revenue_sum</td><td style=\"font-weight: bold\">order_item_subtotal_min</td><td style=\"font-weight: bold\">order_item_subtotal_max</td></tr><tr><td>35351</td><td>629.93</td><td>129.99000549316406</td><td>239.9600067138672</td></tr><tr><td>35361</td><td>614.88</td><td>49.97999954223633</td><td>179.97000122070312</td></tr><tr><td>35689</td><td>799.88</td><td>150.0</td><td>399.9800109863281</td></tr><tr><td>35694</td><td>889.94</td><td>39.9900016784668</td><td>299.9800109863281</td></tr><tr><td>35820</td><td>949.96</td><td>199.99000549316406</td><td>299.9800109863281</td></tr><tr><td>35912</td><td>799.96</td><td>199.99000549316406</td><td>199.99000549316406</td></tr><tr><td>35947</td><td>519.96</td><td>119.9800033569336</td><td>399.9800109863281</td></tr><tr><td>35982</td><td>1201.82</td><td>31.989999771118164</td><td>399.9800109863281</td></tr><tr><td>36131</td><td>554.95</td><td>44.970001220703125</td><td>250.0</td></tr><tr><td>36224</td><td>729.96</td><td>129.99000549316406</td><td>399.9800109863281</td></tr></table>"
      ],
      "text/plain": [
       "<IPython.core.display.HTML object>"
      ]
     },
     "execution_count": 39,
     "metadata": {},
     "output_type": "execute_result"
    }
   ],
   "source": [
    "%%sparksql\n",
    "\n",
    "SELECT order_item_order_id, \n",
    "    round(sum(order_item_subtotal), 2) AS order_revenue_sum,\n",
    "    min(order_item_subtotal) AS order_item_subtotal_min,\n",
    "    max(order_item_subtotal) AS order_item_subtotal_max \n",
    "FROM order_items\n",
    "GROUP BY order_item_order_id\n",
    "LIMIT 10"
   ]
  },
  {
   "cell_type": "code",
   "execution_count": 42,
   "id": "6bfc4705-ce26-4a71-bb7f-788f9f50315d",
   "metadata": {
    "tags": []
   },
   "outputs": [
    {
     "data": {
      "text/html": [
       "<table><tr style=\"border-bottom: 1px solid\"><td style=\"font-weight: bold\">order_item_order_id</td><td style=\"font-weight: bold\">order_item_subtotal</td></tr><tr><td>2</td><td>199.99000549316406</td></tr><tr><td>2</td><td>250.0</td></tr><tr><td>2</td><td>129.99000549316406</td></tr></table>"
      ],
      "text/plain": [
       "<IPython.core.display.HTML object>"
      ]
     },
     "execution_count": 42,
     "metadata": {},
     "output_type": "execute_result"
    }
   ],
   "source": [
    "%%sparksql\n",
    "\n",
    "SELECT order_item_order_id, order_item_subtotal\n",
    "FROM order_items\n",
    "WHERE order_item_order_id = 2"
   ]
  },
  {
   "cell_type": "code",
   "execution_count": 43,
   "id": "dcc37731-bbc4-457e-aaf3-4eb75d6594b0",
   "metadata": {
    "tags": []
   },
   "outputs": [
    {
     "data": {
      "text/html": [
       "<table><tr style=\"border-bottom: 1px solid\"><td style=\"font-weight: bold\">order_revenue_sum</td><td style=\"font-weight: bold\">order_item_subtotal_min</td><td style=\"font-weight: bold\">order_item_subtotal_max</td></tr><tr><td>579.98</td><td>129.99000549316406</td><td>250.0</td></tr></table>"
      ],
      "text/plain": [
       "<IPython.core.display.HTML object>"
      ]
     },
     "execution_count": 43,
     "metadata": {},
     "output_type": "execute_result"
    }
   ],
   "source": [
    "%%sparksql\n",
    "\n",
    "SELECT round(sum(order_item_subtotal), 2) AS order_revenue_sum,\n",
    "    min(order_item_subtotal) AS order_item_subtotal_min,\n",
    "    max(order_item_subtotal) AS order_item_subtotal_max \n",
    "FROM order_items\n",
    "WHERE order_item_order_id = 2"
   ]
  },
  {
   "cell_type": "markdown",
   "id": "a5cf37f1-35ea-4608-97ac-ada684c309e2",
   "metadata": {},
   "source": [
    "### Data Type Conversion"
   ]
  },
  {
   "cell_type": "code",
   "execution_count": 44,
   "id": "42c39f5e-2fc9-4212-ade7-1e5749f6c067",
   "metadata": {
    "tags": []
   },
   "outputs": [
    {
     "data": {
      "text/html": [
       "<table><tr style=\"border-bottom: 1px solid\"><td style=\"font-weight: bold\">current_date</td></tr><tr><td>2023-03-30</td></tr></table>"
      ],
      "text/plain": [
       "<IPython.core.display.HTML object>"
      ]
     },
     "execution_count": 44,
     "metadata": {},
     "output_type": "execute_result"
    }
   ],
   "source": [
    "%%sparksql\n",
    "\n",
    "SELECT current_date AS current_date"
   ]
  },
  {
   "cell_type": "code",
   "execution_count": 45,
   "id": "86e30bea-3c52-4a2f-947c-7091dd014034",
   "metadata": {
    "tags": []
   },
   "outputs": [
    {
     "data": {
      "text/html": [
       "<table><tr style=\"border-bottom: 1px solid\"><td style=\"font-weight: bold\">month</td></tr><tr><td>03</td></tr></table>"
      ],
      "text/plain": [
       "<IPython.core.display.HTML object>"
      ]
     },
     "execution_count": 45,
     "metadata": {},
     "output_type": "execute_result"
    }
   ],
   "source": [
    "%%sparksql\n",
    "\n",
    "SELECT split(current_date, '-')[1] AS month"
   ]
  },
  {
   "cell_type": "code",
   "execution_count": 49,
   "id": "f4968e21-c96d-4b1f-98ef-3ac65c4916e2",
   "metadata": {
    "tags": []
   },
   "outputs": [
    {
     "data": {
      "text/html": [
       "<table><tr style=\"border-bottom: 1px solid\"><td style=\"font-weight: bold\">month</td></tr><tr><td>[&#x27;2023&#x27;, &#x27;03&#x27;, &#x27;30&#x27;]</td></tr></table>"
      ],
      "text/plain": [
       "<IPython.core.display.HTML object>"
      ]
     },
     "execution_count": 49,
     "metadata": {},
     "output_type": "execute_result"
    }
   ],
   "source": [
    "%%sparksql\n",
    "\n",
    "SELECT split(current_date, '-') AS month"
   ]
  },
  {
   "cell_type": "code",
   "execution_count": 50,
   "id": "840ac989-99f9-4b72-b615-c5c2424e28ae",
   "metadata": {
    "tags": []
   },
   "outputs": [
    {
     "data": {
      "text/html": [
       "<table><tr style=\"border-bottom: 1px solid\"><td style=\"font-weight: bold\">month</td></tr><tr><td>3</td></tr></table>"
      ],
      "text/plain": [
       "<IPython.core.display.HTML object>"
      ]
     },
     "execution_count": 50,
     "metadata": {},
     "output_type": "execute_result"
    }
   ],
   "source": [
    "%%sparksql\n",
    "\n",
    "SELECT cast(split(current_date, '-')[1] AS INT) AS month"
   ]
  },
  {
   "cell_type": "code",
   "execution_count": 51,
   "id": "c9aee01a-a2d7-477a-b64e-ede5df9c4210",
   "metadata": {
    "tags": []
   },
   "outputs": [
    {
     "data": {
      "text/html": [
       "<table><tr style=\"border-bottom: 1px solid\"><td style=\"font-weight: bold\">result</td></tr><tr><td>0.03999999910593033</td></tr></table>"
      ],
      "text/plain": [
       "<IPython.core.display.HTML object>"
      ]
     },
     "execution_count": 51,
     "metadata": {},
     "output_type": "execute_result"
    }
   ],
   "source": [
    "%%sparksql\n",
    "\n",
    "SELECT cast('0.04' AS FLOAT) AS result"
   ]
  },
  {
   "cell_type": "code",
   "execution_count": 52,
   "id": "f55d6bb0-bb35-48c3-9b35-48be618de04d",
   "metadata": {
    "tags": []
   },
   "outputs": [
    {
     "data": {
      "text/html": [
       "<table><tr style=\"border-bottom: 1px solid\"><td style=\"font-weight: bold\">zero</td></tr><tr><td>0</td></tr></table>"
      ],
      "text/plain": [
       "<IPython.core.display.HTML object>"
      ]
     },
     "execution_count": 52,
     "metadata": {},
     "output_type": "execute_result"
    }
   ],
   "source": [
    "%%sparksql\n",
    "\n",
    "SELECT cast('0.04' AS INT) AS zero"
   ]
  },
  {
   "cell_type": "code",
   "execution_count": 53,
   "id": "a62bc41b-1c37-40a8-8af0-d593f13c4662",
   "metadata": {
    "tags": []
   },
   "outputs": [
    {
     "data": {
      "text/html": [
       "<table><tr style=\"border-bottom: 1px solid\"><td style=\"font-weight: bold\">returns_null</td></tr><tr><td>null</td></tr></table>"
      ],
      "text/plain": [
       "<IPython.core.display.HTML object>"
      ]
     },
     "execution_count": 53,
     "metadata": {},
     "output_type": "execute_result"
    }
   ],
   "source": [
    "%%sparksql\n",
    "\n",
    "SELECT cast('xyz' AS INT) AS returns_null"
   ]
  },
  {
   "cell_type": "code",
   "execution_count": 54,
   "id": "b53546b7-5ff7-4368-b616-c3990ad0dc8a",
   "metadata": {
    "tags": []
   },
   "outputs": [
    {
     "data": {
      "text/html": [
       "<table><tr style=\"border-bottom: 1px solid\"></tr></table>"
      ],
      "text/plain": [
       "<IPython.core.display.HTML object>"
      ]
     },
     "execution_count": 54,
     "metadata": {},
     "output_type": "execute_result"
    }
   ],
   "source": [
    "%%sparksql\n",
    "\n",
    "CREATE EXTERNAL TABLE IF NOT EXISTS orders_single_column (s STRING\n",
    ") LOCATION '/user/hive/warehouse/kevin_retail.db/orders'"
   ]
  },
  {
   "cell_type": "code",
   "execution_count": 55,
   "id": "ab7b8b88-88e7-4dc7-ad5f-23a92e4e17b7",
   "metadata": {
    "tags": []
   },
   "outputs": [
    {
     "name": "stderr",
     "output_type": "stream",
     "text": [
      "                                                                                \r"
     ]
    },
    {
     "data": {
      "text/html": [
       "<table><tr style=\"border-bottom: 1px solid\"><td style=\"font-weight: bold\">s</td></tr><tr><td>1,2013-07-25 00:00:00.0,11599,CLOSED</td></tr><tr><td>2,2013-07-25 00:00:00.0,256,PENDING_PAYMENT</td></tr><tr><td>3,2013-07-25 00:00:00.0,12111,COMPLETE</td></tr><tr><td>4,2013-07-25 00:00:00.0,8827,CLOSED</td></tr><tr><td>5,2013-07-25 00:00:00.0,11318,COMPLETE</td></tr><tr><td>6,2013-07-25 00:00:00.0,7130,COMPLETE</td></tr><tr><td>7,2013-07-25 00:00:00.0,4530,COMPLETE</td></tr><tr><td>8,2013-07-25 00:00:00.0,2911,PROCESSING</td></tr><tr><td>9,2013-07-25 00:00:00.0,5657,PENDING_PAYMENT</td></tr><tr><td>10,2013-07-25 00:00:00.0,5648,PENDING_PAYMENT</td></tr></table>"
      ],
      "text/plain": [
       "<IPython.core.display.HTML object>"
      ]
     },
     "execution_count": 55,
     "metadata": {},
     "output_type": "execute_result"
    }
   ],
   "source": [
    "%%sparksql\n",
    "\n",
    "SELECT * FROM orders_single_column LIMIT 10"
   ]
  },
  {
   "cell_type": "code",
   "execution_count": 57,
   "id": "0ee3d653-f7d1-4a6d-b3c1-68907e423b66",
   "metadata": {
    "tags": []
   },
   "outputs": [
    {
     "name": "stderr",
     "output_type": "stream",
     "text": [
      "                                                                                \r"
     ]
    },
    {
     "data": {
      "text/html": [
       "<table><tr style=\"border-bottom: 1px solid\"><td style=\"font-weight: bold\">order_id</td><td style=\"font-weight: bold\">order_date</td><td style=\"font-weight: bold\">order_customer_id</td><td style=\"font-weight: bold\">order_status</td></tr><tr><td>1</td><td>2013-07-25 00:00:00.0</td><td>11599</td><td>CLOSED</td></tr><tr><td>2</td><td>2013-07-25 00:00:00.0</td><td>256</td><td>PENDING_PAYMENT</td></tr><tr><td>3</td><td>2013-07-25 00:00:00.0</td><td>12111</td><td>COMPLETE</td></tr><tr><td>4</td><td>2013-07-25 00:00:00.0</td><td>8827</td><td>CLOSED</td></tr><tr><td>5</td><td>2013-07-25 00:00:00.0</td><td>11318</td><td>COMPLETE</td></tr><tr><td>6</td><td>2013-07-25 00:00:00.0</td><td>7130</td><td>COMPLETE</td></tr><tr><td>7</td><td>2013-07-25 00:00:00.0</td><td>4530</td><td>COMPLETE</td></tr><tr><td>8</td><td>2013-07-25 00:00:00.0</td><td>2911</td><td>PROCESSING</td></tr><tr><td>9</td><td>2013-07-25 00:00:00.0</td><td>5657</td><td>PENDING_PAYMENT</td></tr><tr><td>10</td><td>2013-07-25 00:00:00.0</td><td>5648</td><td>PENDING_PAYMENT</td></tr></table>"
      ],
      "text/plain": [
       "<IPython.core.display.HTML object>"
      ]
     },
     "execution_count": 57,
     "metadata": {},
     "output_type": "execute_result"
    }
   ],
   "source": [
    "%%sparksql\n",
    "\n",
    "SELECT split(s, ',')[0] AS order_id,\n",
    "    split(s, ',')[1] AS order_date,\n",
    "    split(s, ',')[2] AS order_customer_id,\n",
    "    split(s, ',')[3] AS order_status\n",
    "FROM orders_single_column LIMIT 10"
   ]
  },
  {
   "cell_type": "code",
   "execution_count": 58,
   "id": "e49a59b2-945e-43ae-bd53-ee38827fc97a",
   "metadata": {
    "tags": []
   },
   "outputs": [
    {
     "data": {
      "text/html": [
       "<table><tr style=\"border-bottom: 1px solid\"><td style=\"font-weight: bold\">order_id</td><td style=\"font-weight: bold\">order_date</td><td style=\"font-weight: bold\">order_customer_id</td><td style=\"font-weight: bold\">order_status</td></tr><tr><td>1</td><td>2013-07-25 00:00:00</td><td>11599</td><td>CLOSED</td></tr><tr><td>2</td><td>2013-07-25 00:00:00</td><td>256</td><td>PENDING_PAYMENT</td></tr><tr><td>3</td><td>2013-07-25 00:00:00</td><td>12111</td><td>COMPLETE</td></tr><tr><td>4</td><td>2013-07-25 00:00:00</td><td>8827</td><td>CLOSED</td></tr><tr><td>5</td><td>2013-07-25 00:00:00</td><td>11318</td><td>COMPLETE</td></tr><tr><td>6</td><td>2013-07-25 00:00:00</td><td>7130</td><td>COMPLETE</td></tr><tr><td>7</td><td>2013-07-25 00:00:00</td><td>4530</td><td>COMPLETE</td></tr><tr><td>8</td><td>2013-07-25 00:00:00</td><td>2911</td><td>PROCESSING</td></tr><tr><td>9</td><td>2013-07-25 00:00:00</td><td>5657</td><td>PENDING_PAYMENT</td></tr><tr><td>10</td><td>2013-07-25 00:00:00</td><td>5648</td><td>PENDING_PAYMENT</td></tr></table>"
      ],
      "text/plain": [
       "<IPython.core.display.HTML object>"
      ]
     },
     "execution_count": 58,
     "metadata": {},
     "output_type": "execute_result"
    }
   ],
   "source": [
    "%%sparksql\n",
    "\n",
    "SELECT cast(split(s, ',')[0] AS INT) AS order_id,\n",
    "    cast(split(s, ',')[1] AS TIMESTAMP) AS order_date,\n",
    "    cast(split(s, ',')[2] AS INT) AS order_customer_id,\n",
    "    cast(split(s, ',')[3] AS STRING) AS order_status\n",
    "FROM orders_single_column LIMIT 10"
   ]
  },
  {
   "cell_type": "markdown",
   "id": "fdd6ee27-0e01-429a-a5ba-3f24e06b9a53",
   "metadata": {},
   "source": [
    "### Handling NULL Values\n",
    "\n",
    "\n",
    "- By default if we try to add or concatenate null to another column or expression or literal, it will return null.\n",
    "- If we want to replace null with some default value, we can use **nvl**. For not null values, nvl returns the original expression value.\n",
    "  - Replace commission_pct with 0 if it is null.\n",
    "  - We can also use **coalesce** in the place of **nvl**.\n",
    "- **coalesce** returns first not null value if we pass multiple arguments to it.\n",
    "- **nvl2** can be used to perform one action when the value is not null and some other action when the value is null.\n",
    "  -  We want to increase commission_pct by 1 if it is not null and set commission_pct to 2 if it is null.\n",
    "- We can also use **CASE WHEN ELSE END** for any conditional logic.\n"
   ]
  },
  {
   "cell_type": "code",
   "execution_count": 59,
   "id": "471581ce-0680-4a18-bab3-49e93fe278e4",
   "metadata": {
    "tags": []
   },
   "outputs": [
    {
     "data": {
      "text/html": [
       "<table><tr style=\"border-bottom: 1px solid\"><td style=\"font-weight: bold\">result</td></tr><tr><td>null</td></tr></table>"
      ],
      "text/plain": [
       "<IPython.core.display.HTML object>"
      ]
     },
     "execution_count": 59,
     "metadata": {},
     "output_type": "execute_result"
    }
   ],
   "source": [
    "%%sparksql\n",
    "\n",
    "SELECT 1 + NULL AS result"
   ]
  },
  {
   "cell_type": "code",
   "execution_count": 60,
   "id": "b0540b1a-7803-4e9b-8bba-9f8fe050c515",
   "metadata": {
    "tags": []
   },
   "outputs": [
    {
     "data": {
      "text/html": [
       "<table><tr style=\"border-bottom: 1px solid\"><td style=\"font-weight: bold\">result</td></tr><tr><td>null</td></tr></table>"
      ],
      "text/plain": [
       "<IPython.core.display.HTML object>"
      ]
     },
     "execution_count": 60,
     "metadata": {},
     "output_type": "execute_result"
    }
   ],
   "source": [
    "%%sparksql\n",
    "\n",
    "SELECT concat('Hello', NULL) AS result"
   ]
  },
  {
   "cell_type": "code",
   "execution_count": 61,
   "id": "559eb711-ba49-4709-a5e8-45c24532549a",
   "metadata": {
    "tags": []
   },
   "outputs": [
    {
     "data": {
      "text/html": [
       "<table><tr style=\"border-bottom: 1px solid\"><td style=\"font-weight: bold\">nvl</td><td style=\"font-weight: bold\">coalesce</td></tr><tr><td>1</td><td>1</td></tr></table>"
      ],
      "text/plain": [
       "<IPython.core.display.HTML object>"
      ]
     },
     "execution_count": 61,
     "metadata": {},
     "output_type": "execute_result"
    }
   ],
   "source": [
    "%%sparksql\n",
    "\n",
    "SELECT nvl(1, 0) nvl, coalesce(1, 0) AS coalesce"
   ]
  },
  {
   "cell_type": "code",
   "execution_count": 62,
   "id": "5e5a2499-b111-401f-9327-7d6f2680df25",
   "metadata": {
    "tags": []
   },
   "outputs": [
    {
     "data": {
      "text/html": [
       "<table><tr style=\"border-bottom: 1px solid\"><td style=\"font-weight: bold\">result</td></tr><tr><td>2</td></tr></table>"
      ],
      "text/plain": [
       "<IPython.core.display.HTML object>"
      ]
     },
     "execution_count": 62,
     "metadata": {},
     "output_type": "execute_result"
    }
   ],
   "source": [
    "%%sparksql\n",
    "\n",
    "SELECT coalesce(NULL, NULL, 2, NULL, 3) AS result"
   ]
  },
  {
   "cell_type": "code",
   "execution_count": 63,
   "id": "9476fa1a-0548-498f-bb70-d33fc0e0acbf",
   "metadata": {
    "tags": []
   },
   "outputs": [
    {
     "ename": "AnalysisException",
     "evalue": "Invalid number of arguments for function nvl. Expected: 2; Found: 5; line 2 pos 7",
     "output_type": "error",
     "traceback": [
      "\u001b[0;31m---------------------------------------------------------------------------\u001b[0m",
      "\u001b[0;31mAnalysisException\u001b[0m                         Traceback (most recent call last)",
      "Cell \u001b[0;32mIn[63], line 1\u001b[0m\n\u001b[0;32m----> 1\u001b[0m \u001b[43mget_ipython\u001b[49m\u001b[43m(\u001b[49m\u001b[43m)\u001b[49m\u001b[38;5;241;43m.\u001b[39;49m\u001b[43mrun_cell_magic\u001b[49m\u001b[43m(\u001b[49m\u001b[38;5;124;43m'\u001b[39;49m\u001b[38;5;124;43msparksql\u001b[39;49m\u001b[38;5;124;43m'\u001b[39;49m\u001b[43m,\u001b[49m\u001b[43m \u001b[49m\u001b[38;5;124;43m'\u001b[39;49m\u001b[38;5;124;43m'\u001b[39;49m\u001b[43m,\u001b[49m\u001b[43m \u001b[49m\u001b[38;5;124;43m'\u001b[39;49m\u001b[38;5;130;43;01m\\n\u001b[39;49;00m\u001b[38;5;124;43mSELECT nvl(NULL, NULL, 2, NULL, 3) AS result\u001b[39;49m\u001b[38;5;130;43;01m\\n\u001b[39;49;00m\u001b[38;5;124;43m'\u001b[39;49m\u001b[43m)\u001b[49m\n",
      "File \u001b[0;32m~/de-venv/lib/python3.8/site-packages/IPython/core/interactiveshell.py:2430\u001b[0m, in \u001b[0;36mInteractiveShell.run_cell_magic\u001b[0;34m(self, magic_name, line, cell)\u001b[0m\n\u001b[1;32m   2428\u001b[0m \u001b[38;5;28;01mwith\u001b[39;00m \u001b[38;5;28mself\u001b[39m\u001b[38;5;241m.\u001b[39mbuiltin_trap:\n\u001b[1;32m   2429\u001b[0m     args \u001b[38;5;241m=\u001b[39m (magic_arg_s, cell)\n\u001b[0;32m-> 2430\u001b[0m     result \u001b[38;5;241m=\u001b[39m \u001b[43mfn\u001b[49m\u001b[43m(\u001b[49m\u001b[38;5;241;43m*\u001b[39;49m\u001b[43margs\u001b[49m\u001b[43m,\u001b[49m\u001b[43m \u001b[49m\u001b[38;5;241;43m*\u001b[39;49m\u001b[38;5;241;43m*\u001b[39;49m\u001b[43mkwargs\u001b[49m\u001b[43m)\u001b[49m\n\u001b[1;32m   2432\u001b[0m \u001b[38;5;66;03m# The code below prevents the output from being displayed\u001b[39;00m\n\u001b[1;32m   2433\u001b[0m \u001b[38;5;66;03m# when using magics with decodator @output_can_be_silenced\u001b[39;00m\n\u001b[1;32m   2434\u001b[0m \u001b[38;5;66;03m# when the last Python token in the expression is a ';'.\u001b[39;00m\n\u001b[1;32m   2435\u001b[0m \u001b[38;5;28;01mif\u001b[39;00m \u001b[38;5;28mgetattr\u001b[39m(fn, magic\u001b[38;5;241m.\u001b[39mMAGIC_OUTPUT_CAN_BE_SILENCED, \u001b[38;5;28;01mFalse\u001b[39;00m):\n",
      "File \u001b[0;32m~/de-venv/lib/python3.8/site-packages/sparksql_magic/sparksql.py:40\u001b[0m, in \u001b[0;36mSparkSql.sparksql\u001b[0;34m(self, line, cell, local_ns)\u001b[0m\n\u001b[1;32m     37\u001b[0m     \u001b[38;5;28mprint\u001b[39m(\u001b[38;5;124m\"\u001b[39m\u001b[38;5;124mactive spark session is not found\u001b[39m\u001b[38;5;124m\"\u001b[39m)\n\u001b[1;32m     38\u001b[0m     \u001b[38;5;28;01mreturn\u001b[39;00m\n\u001b[0;32m---> 40\u001b[0m df \u001b[38;5;241m=\u001b[39m \u001b[43mspark\u001b[49m\u001b[38;5;241;43m.\u001b[39;49m\u001b[43msql\u001b[49m\u001b[43m(\u001b[49m\u001b[43mbind_variables\u001b[49m\u001b[43m(\u001b[49m\u001b[43mcell\u001b[49m\u001b[43m,\u001b[49m\u001b[43m \u001b[49m\u001b[43muser_ns\u001b[49m\u001b[43m)\u001b[49m\u001b[43m)\u001b[49m\n\u001b[1;32m     41\u001b[0m \u001b[38;5;28;01mif\u001b[39;00m args\u001b[38;5;241m.\u001b[39mcache \u001b[38;5;129;01mor\u001b[39;00m args\u001b[38;5;241m.\u001b[39meager:\n\u001b[1;32m     42\u001b[0m     \u001b[38;5;28mprint\u001b[39m(\u001b[38;5;124m'\u001b[39m\u001b[38;5;124mcache dataframe with \u001b[39m\u001b[38;5;132;01m%s\u001b[39;00m\u001b[38;5;124m load\u001b[39m\u001b[38;5;124m'\u001b[39m \u001b[38;5;241m%\u001b[39m (\u001b[38;5;124m'\u001b[39m\u001b[38;5;124meager\u001b[39m\u001b[38;5;124m'\u001b[39m \u001b[38;5;28;01mif\u001b[39;00m args\u001b[38;5;241m.\u001b[39meager \u001b[38;5;28;01melse\u001b[39;00m \u001b[38;5;124m'\u001b[39m\u001b[38;5;124mlazy\u001b[39m\u001b[38;5;124m'\u001b[39m))\n",
      "File \u001b[0;32m/usr/local/spark/python/pyspark/sql/session.py:1034\u001b[0m, in \u001b[0;36mSparkSession.sql\u001b[0;34m(self, sqlQuery, **kwargs)\u001b[0m\n\u001b[1;32m   1032\u001b[0m     sqlQuery \u001b[38;5;241m=\u001b[39m formatter\u001b[38;5;241m.\u001b[39mformat(sqlQuery, \u001b[38;5;241m*\u001b[39m\u001b[38;5;241m*\u001b[39mkwargs)\n\u001b[1;32m   1033\u001b[0m \u001b[38;5;28;01mtry\u001b[39;00m:\n\u001b[0;32m-> 1034\u001b[0m     \u001b[38;5;28;01mreturn\u001b[39;00m DataFrame(\u001b[38;5;28;43mself\u001b[39;49m\u001b[38;5;241;43m.\u001b[39;49m\u001b[43m_jsparkSession\u001b[49m\u001b[38;5;241;43m.\u001b[39;49m\u001b[43msql\u001b[49m\u001b[43m(\u001b[49m\u001b[43msqlQuery\u001b[49m\u001b[43m)\u001b[49m, \u001b[38;5;28mself\u001b[39m)\n\u001b[1;32m   1035\u001b[0m \u001b[38;5;28;01mfinally\u001b[39;00m:\n\u001b[1;32m   1036\u001b[0m     \u001b[38;5;28;01mif\u001b[39;00m \u001b[38;5;28mlen\u001b[39m(kwargs) \u001b[38;5;241m>\u001b[39m \u001b[38;5;241m0\u001b[39m:\n",
      "File \u001b[0;32m/usr/local/spark/python/lib/py4j-0.10.9.5-src.zip/py4j/java_gateway.py:1321\u001b[0m, in \u001b[0;36mJavaMember.__call__\u001b[0;34m(self, *args)\u001b[0m\n\u001b[1;32m   1315\u001b[0m command \u001b[38;5;241m=\u001b[39m proto\u001b[38;5;241m.\u001b[39mCALL_COMMAND_NAME \u001b[38;5;241m+\u001b[39m\\\n\u001b[1;32m   1316\u001b[0m     \u001b[38;5;28mself\u001b[39m\u001b[38;5;241m.\u001b[39mcommand_header \u001b[38;5;241m+\u001b[39m\\\n\u001b[1;32m   1317\u001b[0m     args_command \u001b[38;5;241m+\u001b[39m\\\n\u001b[1;32m   1318\u001b[0m     proto\u001b[38;5;241m.\u001b[39mEND_COMMAND_PART\n\u001b[1;32m   1320\u001b[0m answer \u001b[38;5;241m=\u001b[39m \u001b[38;5;28mself\u001b[39m\u001b[38;5;241m.\u001b[39mgateway_client\u001b[38;5;241m.\u001b[39msend_command(command)\n\u001b[0;32m-> 1321\u001b[0m return_value \u001b[38;5;241m=\u001b[39m \u001b[43mget_return_value\u001b[49m\u001b[43m(\u001b[49m\n\u001b[1;32m   1322\u001b[0m \u001b[43m    \u001b[49m\u001b[43manswer\u001b[49m\u001b[43m,\u001b[49m\u001b[43m \u001b[49m\u001b[38;5;28;43mself\u001b[39;49m\u001b[38;5;241;43m.\u001b[39;49m\u001b[43mgateway_client\u001b[49m\u001b[43m,\u001b[49m\u001b[43m \u001b[49m\u001b[38;5;28;43mself\u001b[39;49m\u001b[38;5;241;43m.\u001b[39;49m\u001b[43mtarget_id\u001b[49m\u001b[43m,\u001b[49m\u001b[43m \u001b[49m\u001b[38;5;28;43mself\u001b[39;49m\u001b[38;5;241;43m.\u001b[39;49m\u001b[43mname\u001b[49m\u001b[43m)\u001b[49m\n\u001b[1;32m   1324\u001b[0m \u001b[38;5;28;01mfor\u001b[39;00m temp_arg \u001b[38;5;129;01min\u001b[39;00m temp_args:\n\u001b[1;32m   1325\u001b[0m     temp_arg\u001b[38;5;241m.\u001b[39m_detach()\n",
      "File \u001b[0;32m/usr/local/spark/python/pyspark/sql/utils.py:196\u001b[0m, in \u001b[0;36mcapture_sql_exception.<locals>.deco\u001b[0;34m(*a, **kw)\u001b[0m\n\u001b[1;32m    192\u001b[0m converted \u001b[38;5;241m=\u001b[39m convert_exception(e\u001b[38;5;241m.\u001b[39mjava_exception)\n\u001b[1;32m    193\u001b[0m \u001b[38;5;28;01mif\u001b[39;00m \u001b[38;5;129;01mnot\u001b[39;00m \u001b[38;5;28misinstance\u001b[39m(converted, UnknownException):\n\u001b[1;32m    194\u001b[0m     \u001b[38;5;66;03m# Hide where the exception came from that shows a non-Pythonic\u001b[39;00m\n\u001b[1;32m    195\u001b[0m     \u001b[38;5;66;03m# JVM exception message.\u001b[39;00m\n\u001b[0;32m--> 196\u001b[0m     \u001b[38;5;28;01mraise\u001b[39;00m converted \u001b[38;5;28;01mfrom\u001b[39;00m \u001b[38;5;28mNone\u001b[39m\n\u001b[1;32m    197\u001b[0m \u001b[38;5;28;01melse\u001b[39;00m:\n\u001b[1;32m    198\u001b[0m     \u001b[38;5;28;01mraise\u001b[39;00m\n",
      "\u001b[0;31mAnalysisException\u001b[0m: Invalid number of arguments for function nvl. Expected: 2; Found: 5; line 2 pos 7"
     ]
    }
   ],
   "source": [
    "%%sparksql\n",
    "\n",
    "SELECT nvl(NULL, NULL, 2, NULL, 3) AS result"
   ]
  },
  {
   "cell_type": "code",
   "execution_count": 64,
   "id": "c320e22b-109f-4ccd-a2d5-cd67da5ff54c",
   "metadata": {
    "tags": []
   },
   "outputs": [
    {
     "data": {
      "text/html": [
       "<table><tr style=\"border-bottom: 1px solid\"></tr></table>"
      ],
      "text/plain": [
       "<IPython.core.display.HTML object>"
      ]
     },
     "execution_count": 64,
     "metadata": {},
     "output_type": "execute_result"
    }
   ],
   "source": [
    "%%sparksql\n",
    "\n",
    "CREATE TABLE IF NOT EXISTS sales(\n",
    "    sales_person_id INT,\n",
    "    sales_amount FLOAT,\n",
    "    commission_pct INT\n",
    ")"
   ]
  },
  {
   "cell_type": "code",
   "execution_count": 65,
   "id": "0abcb168-5648-4e75-8cab-410b43d9ce34",
   "metadata": {
    "tags": []
   },
   "outputs": [
    {
     "name": "stderr",
     "output_type": "stream",
     "text": [
      "                                                                                \r"
     ]
    },
    {
     "data": {
      "text/html": [
       "<table><tr style=\"border-bottom: 1px solid\"></tr></table>"
      ],
      "text/plain": [
       "<IPython.core.display.HTML object>"
      ]
     },
     "execution_count": 65,
     "metadata": {},
     "output_type": "execute_result"
    }
   ],
   "source": [
    "%%sparksql\n",
    "\n",
    "INSERT INTO sales VALUES\n",
    "    (1, 1000, 10),\n",
    "    (2, 1500, 8),\n",
    "    (3, 500, NULL),\n",
    "    (4, 800, 5),\n",
    "    (5, 250, NULL)"
   ]
  },
  {
   "cell_type": "code",
   "execution_count": 66,
   "id": "bec137c2-67de-4d69-b28e-40f950226686",
   "metadata": {
    "tags": []
   },
   "outputs": [
    {
     "data": {
      "text/html": [
       "<table><tr style=\"border-bottom: 1px solid\"><td style=\"font-weight: bold\">sales_person_id</td><td style=\"font-weight: bold\">sales_amount</td><td style=\"font-weight: bold\">commission_pct</td></tr><tr><td>1</td><td>1000.0</td><td>10</td></tr><tr><td>2</td><td>1500.0</td><td>8</td></tr><tr><td>3</td><td>500.0</td><td>null</td></tr><tr><td>4</td><td>800.0</td><td>5</td></tr><tr><td>5</td><td>250.0</td><td>null</td></tr></table>"
      ],
      "text/plain": [
       "<IPython.core.display.HTML object>"
      ]
     },
     "execution_count": 66,
     "metadata": {},
     "output_type": "execute_result"
    }
   ],
   "source": [
    "%%sparksql\n",
    "\n",
    "SELECT * FROM sales"
   ]
  },
  {
   "cell_type": "code",
   "execution_count": 67,
   "id": "43104526-0199-4f43-b902-edc16485a7e5",
   "metadata": {
    "tags": []
   },
   "outputs": [
    {
     "data": {
      "text/html": [
       "<table><tr style=\"border-bottom: 1px solid\"><td style=\"font-weight: bold\">sales_person_id</td><td style=\"font-weight: bold\">sales_amount</td><td style=\"font-weight: bold\">commission_pct</td><td style=\"font-weight: bold\">commission_pct</td></tr><tr><td>1</td><td>1000.0</td><td>10</td><td>10</td></tr><tr><td>2</td><td>1500.0</td><td>8</td><td>8</td></tr><tr><td>3</td><td>500.0</td><td>null</td><td>0</td></tr><tr><td>4</td><td>800.0</td><td>5</td><td>5</td></tr><tr><td>5</td><td>250.0</td><td>null</td><td>0</td></tr></table>"
      ],
      "text/plain": [
       "<IPython.core.display.HTML object>"
      ]
     },
     "execution_count": 67,
     "metadata": {},
     "output_type": "execute_result"
    }
   ],
   "source": [
    "%%sparksql\n",
    "\n",
    "SELECT s.*, \n",
    "    nvl(commission_pct, 0) AS commission_pct\n",
    "FROM sales AS s"
   ]
  },
  {
   "cell_type": "code",
   "execution_count": 68,
   "id": "ee473987-70f0-4ddd-b799-02333b263d83",
   "metadata": {
    "tags": []
   },
   "outputs": [
    {
     "data": {
      "text/html": [
       "<table><tr style=\"border-bottom: 1px solid\"><td style=\"font-weight: bold\">sales_person_id</td><td style=\"font-weight: bold\">sales_amount</td><td style=\"font-weight: bold\">commission_pct</td><td style=\"font-weight: bold\">commission_pct</td></tr><tr><td>1</td><td>1000.0</td><td>10</td><td>10</td></tr><tr><td>2</td><td>1500.0</td><td>8</td><td>8</td></tr><tr><td>3</td><td>500.0</td><td>null</td><td>0</td></tr><tr><td>4</td><td>800.0</td><td>5</td><td>5</td></tr><tr><td>5</td><td>250.0</td><td>null</td><td>0</td></tr></table>"
      ],
      "text/plain": [
       "<IPython.core.display.HTML object>"
      ]
     },
     "execution_count": 68,
     "metadata": {},
     "output_type": "execute_result"
    }
   ],
   "source": [
    "%%sparksql\n",
    "\n",
    "SELECT s.*, \n",
    "    coalesce(commission_pct, 0) AS commission_pct\n",
    "FROM sales AS s"
   ]
  },
  {
   "cell_type": "code",
   "execution_count": 69,
   "id": "33be784b-9106-4a2f-9bf3-3a889a8aa36f",
   "metadata": {
    "tags": []
   },
   "outputs": [
    {
     "data": {
      "text/html": [
       "<table><tr style=\"border-bottom: 1px solid\"><td style=\"font-weight: bold\">sales_person_id</td><td style=\"font-weight: bold\">sales_amount</td><td style=\"font-weight: bold\">commission_pct</td><td style=\"font-weight: bold\">incorrect_commission_amount</td></tr><tr><td>1</td><td>1000.0</td><td>10</td><td>100.0</td></tr><tr><td>2</td><td>1500.0</td><td>8</td><td>120.0</td></tr><tr><td>3</td><td>500.0</td><td>null</td><td>null</td></tr><tr><td>4</td><td>800.0</td><td>5</td><td>40.0</td></tr><tr><td>5</td><td>250.0</td><td>null</td><td>null</td></tr></table>"
      ],
      "text/plain": [
       "<IPython.core.display.HTML object>"
      ]
     },
     "execution_count": 69,
     "metadata": {},
     "output_type": "execute_result"
    }
   ],
   "source": [
    "%%sparksql\n",
    "\n",
    "SELECT s.*, \n",
    "    round(sales_amount * commission_pct / 100, 2) AS incorrect_commission_amount\n",
    "FROM sales AS s"
   ]
  },
  {
   "cell_type": "code",
   "execution_count": 70,
   "id": "ea605b21-4239-41d6-9e36-6aa3888daa45",
   "metadata": {
    "tags": []
   },
   "outputs": [
    {
     "data": {
      "text/html": [
       "<table><tr style=\"border-bottom: 1px solid\"><td style=\"font-weight: bold\">sales_person_id</td><td style=\"font-weight: bold\">sales_amount</td><td style=\"font-weight: bold\">commission_pct</td><td style=\"font-weight: bold\">commission_amount</td></tr><tr><td>1</td><td>1000.0</td><td>10</td><td>100.0</td></tr><tr><td>2</td><td>1500.0</td><td>8</td><td>120.0</td></tr><tr><td>3</td><td>500.0</td><td>null</td><td>0.0</td></tr><tr><td>4</td><td>800.0</td><td>5</td><td>40.0</td></tr><tr><td>5</td><td>250.0</td><td>null</td><td>0.0</td></tr></table>"
      ],
      "text/plain": [
       "<IPython.core.display.HTML object>"
      ]
     },
     "execution_count": 70,
     "metadata": {},
     "output_type": "execute_result"
    }
   ],
   "source": [
    "%%sparksql\n",
    "\n",
    "SELECT s.*, \n",
    "    round(sales_amount * nvl(commission_pct, 0) / 100, 2) AS commission_amount\n",
    "FROM sales AS s"
   ]
  },
  {
   "cell_type": "code",
   "execution_count": 71,
   "id": "47948efc-cadb-40c3-8975-24a4e4514160",
   "metadata": {
    "tags": []
   },
   "outputs": [
    {
     "data": {
      "text/html": [
       "<table><tr style=\"border-bottom: 1px solid\"><td style=\"font-weight: bold\">sales_person_id</td><td style=\"font-weight: bold\">sales_amount</td><td style=\"font-weight: bold\">commission_pct</td><td style=\"font-weight: bold\">commission_amount</td></tr><tr><td>1</td><td>1000.0</td><td>10</td><td>100.0</td></tr><tr><td>2</td><td>1500.0</td><td>8</td><td>120.0</td></tr><tr><td>3</td><td>500.0</td><td>null</td><td>0.0</td></tr><tr><td>4</td><td>800.0</td><td>5</td><td>40.0</td></tr><tr><td>5</td><td>250.0</td><td>null</td><td>0.0</td></tr></table>"
      ],
      "text/plain": [
       "<IPython.core.display.HTML object>"
      ]
     },
     "execution_count": 71,
     "metadata": {},
     "output_type": "execute_result"
    }
   ],
   "source": [
    "%%sparksql\n",
    "\n",
    "SELECT s.*, \n",
    "    round(sales_amount * coalesce(commission_pct, 0) / 100, 2) AS commission_amount\n",
    "FROM sales AS s"
   ]
  },
  {
   "cell_type": "code",
   "execution_count": 72,
   "id": "37170065-19a5-439f-952f-506d5ea6ca1e",
   "metadata": {
    "tags": []
   },
   "outputs": [
    {
     "data": {
      "text/html": [
       "<table><tr style=\"border-bottom: 1px solid\"><td style=\"font-weight: bold\">sales_person_id</td><td style=\"font-weight: bold\">sales_amount</td><td style=\"font-weight: bold\">commission_pct</td><td style=\"font-weight: bold\">commission_pct</td></tr><tr><td>1</td><td>1000.0</td><td>10</td><td>11</td></tr><tr><td>2</td><td>1500.0</td><td>8</td><td>9</td></tr><tr><td>3</td><td>500.0</td><td>null</td><td>2</td></tr><tr><td>4</td><td>800.0</td><td>5</td><td>6</td></tr><tr><td>5</td><td>250.0</td><td>null</td><td>2</td></tr></table>"
      ],
      "text/plain": [
       "<IPython.core.display.HTML object>"
      ]
     },
     "execution_count": 72,
     "metadata": {},
     "output_type": "execute_result"
    }
   ],
   "source": [
    "%%sparksql\n",
    "\n",
    "SELECT s.*, \n",
    "    nvl2(commission_pct, commission_pct + 1, 2) AS commission_pct\n",
    "FROM sales AS s"
   ]
  },
  {
   "cell_type": "code",
   "execution_count": 73,
   "id": "2f00d372-0bc9-4609-a0f0-3e221549186a",
   "metadata": {
    "tags": []
   },
   "outputs": [
    {
     "data": {
      "text/html": [
       "<table><tr style=\"border-bottom: 1px solid\"><td style=\"font-weight: bold\">sales_person_id</td><td style=\"font-weight: bold\">sales_amount</td><td style=\"font-weight: bold\">commission_pct</td><td style=\"font-weight: bold\">commission_amount</td></tr><tr><td>1</td><td>1000.0</td><td>10</td><td>110.0</td></tr><tr><td>2</td><td>1500.0</td><td>8</td><td>135.0</td></tr><tr><td>3</td><td>500.0</td><td>null</td><td>10.0</td></tr><tr><td>4</td><td>800.0</td><td>5</td><td>48.0</td></tr><tr><td>5</td><td>250.0</td><td>null</td><td>5.0</td></tr></table>"
      ],
      "text/plain": [
       "<IPython.core.display.HTML object>"
      ]
     },
     "execution_count": 73,
     "metadata": {},
     "output_type": "execute_result"
    }
   ],
   "source": [
    "%%sparksql\n",
    "\n",
    "SELECT s.*, \n",
    "    round(sales_amount * nvl2(commission_pct, commission_pct + 1, 2) / 100, 2) AS commission_amount\n",
    "FROM sales AS s"
   ]
  },
  {
   "cell_type": "code",
   "execution_count": 74,
   "id": "2e3a692b-ba52-454d-a317-8cd1b4d23090",
   "metadata": {
    "tags": []
   },
   "outputs": [
    {
     "data": {
      "text/html": [
       "<table><tr style=\"border-bottom: 1px solid\"><td style=\"font-weight: bold\">sales_person_id</td><td style=\"font-weight: bold\">sales_amount</td><td style=\"font-weight: bold\">commission_pct</td><td style=\"font-weight: bold\">commission_pct</td></tr><tr><td>1</td><td>1000.0</td><td>10</td><td>11</td></tr><tr><td>2</td><td>1500.0</td><td>8</td><td>9</td></tr><tr><td>3</td><td>500.0</td><td>null</td><td>2</td></tr><tr><td>4</td><td>800.0</td><td>5</td><td>6</td></tr><tr><td>5</td><td>250.0</td><td>null</td><td>2</td></tr></table>"
      ],
      "text/plain": [
       "<IPython.core.display.HTML object>"
      ]
     },
     "execution_count": 74,
     "metadata": {},
     "output_type": "execute_result"
    }
   ],
   "source": [
    "%%sparksql\n",
    "\n",
    "SELECT s.*, \n",
    "    CASE WHEN commission_pct IS NULL \n",
    "        THEN 2\n",
    "        ELSE commission_pct + 1\n",
    "    END AS commission_pct\n",
    "FROM sales AS s"
   ]
  },
  {
   "cell_type": "code",
   "execution_count": 76,
   "id": "30bdfc26-4646-4b4e-8280-752bc49d3220",
   "metadata": {
    "tags": []
   },
   "outputs": [
    {
     "data": {
      "text/html": [
       "<table><tr style=\"border-bottom: 1px solid\"><td style=\"font-weight: bold\">sales_person_id</td><td style=\"font-weight: bold\">sales_amount</td><td style=\"font-weight: bold\">commission_pct</td><td style=\"font-weight: bold\">commission_pct</td></tr><tr><td>1</td><td>1000.0</td><td>10</td><td>11</td></tr><tr><td>2</td><td>1500.0</td><td>8</td><td>9</td></tr><tr><td>3</td><td>500.0</td><td>null</td><td>2</td></tr><tr><td>4</td><td>800.0</td><td>5</td><td>6</td></tr><tr><td>5</td><td>250.0</td><td>null</td><td>2</td></tr></table>"
      ],
      "text/plain": [
       "<IPython.core.display.HTML object>"
      ]
     },
     "execution_count": 76,
     "metadata": {},
     "output_type": "execute_result"
    }
   ],
   "source": [
    "%%sparksql\n",
    "\n",
    "SELECT s.*, \n",
    "    CASE WHEN commission_pct IS NOT NULL \n",
    "        THEN commission_pct + 1\n",
    "        ELSE 2\n",
    "    END AS commission_pct\n",
    "FROM sales AS s"
   ]
  },
  {
   "cell_type": "code",
   "execution_count": 22,
   "id": "93204e71-1447-4812-9b8c-00d9e7dcbe40",
   "metadata": {
    "tags": []
   },
   "outputs": [
    {
     "data": {
      "text/html": [
       "<table><tr style=\"border-bottom: 1px solid\"><td style=\"font-weight: bold\">sales_person_id</td><td style=\"font-weight: bold\">sales_amount</td><td style=\"font-weight: bold\">commission_pct</td><td style=\"font-weight: bold\">commission_amount</td></tr><tr><td>1</td><td>1000.0</td><td>10</td><td>110.0</td></tr><tr><td>2</td><td>1500.0</td><td>8</td><td>135.0</td></tr><tr><td>3</td><td>500.0</td><td>null</td><td>10.0</td></tr><tr><td>4</td><td>800.0</td><td>5</td><td>48.0</td></tr><tr><td>5</td><td>250.0</td><td>null</td><td>5.0</td></tr></table>"
      ],
      "text/plain": [
       "<IPython.core.display.HTML object>"
      ]
     },
     "execution_count": 22,
     "metadata": {},
     "output_type": "execute_result"
    }
   ],
   "source": [
    "%%sparksql\n",
    "\n",
    "SELECT s.*, \n",
    "    CASE \n",
    "    WHEN commission_pct IS NULL \n",
    "        THEN round((sales_amount * 2 / 100), 2)\n",
    "        ELSE round((sales_amount * (commission_pct + 1)/ 100), 2)\n",
    "    END AS commission_amount\n",
    "FROM sales AS s"
   ]
  },
  {
   "cell_type": "markdown",
   "id": "27d91e54-e8d2-48c9-bde1-daa37e068823",
   "metadata": {},
   "source": [
    "## Using CASE and WHEN\n",
    "\n",
    "\n",
    "- We can use **CASE** and **WHEN** for that.\n",
    "- Let us implement this conditional logic to come up with derived order_status.\n",
    "    - If order_status is COMPLETE or CLOSED, set COMPLETED\n",
    "    - If order_status have PENDING in it, then we will say PENDING\n",
    "    - If order_status have PROCESSING or PAYMENT_REVIEW in it, then we will say PENDING\n",
    "    - We will set all others as OTHER\n",
    "- We can also have **ELSE** as part of **CASE and WHEN**.\n"
   ]
  },
  {
   "cell_type": "code",
   "execution_count": 78,
   "id": "9263d10d-2b0b-4e91-9e79-e06de0ad7798",
   "metadata": {
    "tags": []
   },
   "outputs": [
    {
     "name": "stderr",
     "output_type": "stream",
     "text": [
      "                                                                                \r"
     ]
    },
    {
     "data": {
      "text/html": [
       "<table><tr style=\"border-bottom: 1px solid\"><td style=\"font-weight: bold\">order_status</td></tr><tr><td>PENDING_PAYMENT</td></tr><tr><td>COMPLETE</td></tr><tr><td>ON_HOLD</td></tr><tr><td>PAYMENT_REVIEW</td></tr><tr><td>PROCESSING</td></tr><tr><td>CLOSED</td></tr><tr><td>SUSPECTED_FRAUD</td></tr><tr><td>PENDING</td></tr><tr><td>CANCELED</td></tr></table>"
      ],
      "text/plain": [
       "<IPython.core.display.HTML object>"
      ]
     },
     "execution_count": 78,
     "metadata": {},
     "output_type": "execute_result"
    }
   ],
   "source": [
    "%%sparksql\n",
    "\n",
    "SELECT DISTINCT order_status FROM orders LIMIT 10"
   ]
  },
  {
   "cell_type": "code",
   "execution_count": 80,
   "id": "68d0f73a-65f4-49fc-9373-f39aa8dcc94a",
   "metadata": {
    "tags": []
   },
   "outputs": [
    {
     "data": {
      "text/html": [
       "<table><tr style=\"border-bottom: 1px solid\"><td style=\"font-weight: bold\">order_id</td><td style=\"font-weight: bold\">order_date</td><td style=\"font-weight: bold\">order_customer_id</td><td style=\"font-weight: bold\">order_status</td><td style=\"font-weight: bold\">updated_order_status</td></tr><tr><td>1</td><td>2013-07-25 00:00:00.0</td><td>11599</td><td>CLOSED</td><td>COMPLETED</td></tr><tr><td>2</td><td>2013-07-25 00:00:00.0</td><td>256</td><td>PENDING_PAYMENT</td><td>null</td></tr><tr><td>3</td><td>2013-07-25 00:00:00.0</td><td>12111</td><td>COMPLETE</td><td>COMPLETED</td></tr><tr><td>4</td><td>2013-07-25 00:00:00.0</td><td>8827</td><td>CLOSED</td><td>COMPLETED</td></tr><tr><td>5</td><td>2013-07-25 00:00:00.0</td><td>11318</td><td>COMPLETE</td><td>COMPLETED</td></tr><tr><td>6</td><td>2013-07-25 00:00:00.0</td><td>7130</td><td>COMPLETE</td><td>COMPLETED</td></tr><tr><td>7</td><td>2013-07-25 00:00:00.0</td><td>4530</td><td>COMPLETE</td><td>COMPLETED</td></tr><tr><td>8</td><td>2013-07-25 00:00:00.0</td><td>2911</td><td>PROCESSING</td><td>null</td></tr><tr><td>9</td><td>2013-07-25 00:00:00.0</td><td>5657</td><td>PENDING_PAYMENT</td><td>null</td></tr><tr><td>10</td><td>2013-07-25 00:00:00.0</td><td>5648</td><td>PENDING_PAYMENT</td><td>null</td></tr></table>"
      ],
      "text/plain": [
       "<IPython.core.display.HTML object>"
      ]
     },
     "execution_count": 80,
     "metadata": {},
     "output_type": "execute_result"
    }
   ],
   "source": [
    "%%sparksql\n",
    "SELECT o.*,\n",
    "    CASE \n",
    "    WHEN order_status IN ('COMPLETE', 'CLOSED') THEN 'COMPLETED'\n",
    "    END AS updated_order_status\n",
    "FROM orders o\n",
    "LIMIT 10"
   ]
  },
  {
   "cell_type": "code",
   "execution_count": 81,
   "id": "784f8580-9f11-4dd2-81ad-4be248085712",
   "metadata": {
    "tags": []
   },
   "outputs": [
    {
     "data": {
      "text/html": [
       "<table><tr style=\"border-bottom: 1px solid\"><td style=\"font-weight: bold\">order_id</td><td style=\"font-weight: bold\">order_date</td><td style=\"font-weight: bold\">order_customer_id</td><td style=\"font-weight: bold\">order_status</td><td style=\"font-weight: bold\">updated_order_status</td></tr><tr><td>1</td><td>2013-07-25 00:00:00.0</td><td>11599</td><td>CLOSED</td><td>COMPLETED</td></tr><tr><td>2</td><td>2013-07-25 00:00:00.0</td><td>256</td><td>PENDING_PAYMENT</td><td>PENDING_PAYMENT</td></tr><tr><td>3</td><td>2013-07-25 00:00:00.0</td><td>12111</td><td>COMPLETE</td><td>COMPLETED</td></tr><tr><td>4</td><td>2013-07-25 00:00:00.0</td><td>8827</td><td>CLOSED</td><td>COMPLETED</td></tr><tr><td>5</td><td>2013-07-25 00:00:00.0</td><td>11318</td><td>COMPLETE</td><td>COMPLETED</td></tr><tr><td>6</td><td>2013-07-25 00:00:00.0</td><td>7130</td><td>COMPLETE</td><td>COMPLETED</td></tr><tr><td>7</td><td>2013-07-25 00:00:00.0</td><td>4530</td><td>COMPLETE</td><td>COMPLETED</td></tr><tr><td>8</td><td>2013-07-25 00:00:00.0</td><td>2911</td><td>PROCESSING</td><td>PROCESSING</td></tr><tr><td>9</td><td>2013-07-25 00:00:00.0</td><td>5657</td><td>PENDING_PAYMENT</td><td>PENDING_PAYMENT</td></tr><tr><td>10</td><td>2013-07-25 00:00:00.0</td><td>5648</td><td>PENDING_PAYMENT</td><td>PENDING_PAYMENT</td></tr></table>"
      ],
      "text/plain": [
       "<IPython.core.display.HTML object>"
      ]
     },
     "execution_count": 81,
     "metadata": {},
     "output_type": "execute_result"
    }
   ],
   "source": [
    "%%sparksql\n",
    "SELECT o.*,\n",
    "    CASE \n",
    "    WHEN order_status IN ('COMPLETE', 'CLOSED') THEN 'COMPLETED'\n",
    "    ELSE order_status\n",
    "    END AS updated_order_status\n",
    "FROM orders o\n",
    "LIMIT 10"
   ]
  },
  {
   "cell_type": "code",
   "execution_count": 82,
   "id": "590199e1-909e-4fc0-8711-15769cc04ed2",
   "metadata": {
    "tags": []
   },
   "outputs": [
    {
     "data": {
      "text/html": [
       "<table><tr style=\"border-bottom: 1px solid\"><td style=\"font-weight: bold\">order_id</td><td style=\"font-weight: bold\">order_date</td><td style=\"font-weight: bold\">order_customer_id</td><td style=\"font-weight: bold\">order_status</td><td style=\"font-weight: bold\">updated_order_status</td></tr><tr><td>1</td><td>2013-07-25 00:00:00.0</td><td>11599</td><td>CLOSED</td><td>COMPLETED</td></tr><tr><td>2</td><td>2013-07-25 00:00:00.0</td><td>256</td><td>PENDING_PAYMENT</td><td>PENDING</td></tr><tr><td>3</td><td>2013-07-25 00:00:00.0</td><td>12111</td><td>COMPLETE</td><td>COMPLETED</td></tr><tr><td>4</td><td>2013-07-25 00:00:00.0</td><td>8827</td><td>CLOSED</td><td>COMPLETED</td></tr><tr><td>5</td><td>2013-07-25 00:00:00.0</td><td>11318</td><td>COMPLETE</td><td>COMPLETED</td></tr><tr><td>6</td><td>2013-07-25 00:00:00.0</td><td>7130</td><td>COMPLETE</td><td>COMPLETED</td></tr><tr><td>7</td><td>2013-07-25 00:00:00.0</td><td>4530</td><td>COMPLETE</td><td>COMPLETED</td></tr><tr><td>8</td><td>2013-07-25 00:00:00.0</td><td>2911</td><td>PROCESSING</td><td>OTHER</td></tr><tr><td>9</td><td>2013-07-25 00:00:00.0</td><td>5657</td><td>PENDING_PAYMENT</td><td>PENDING</td></tr><tr><td>10</td><td>2013-07-25 00:00:00.0</td><td>5648</td><td>PENDING_PAYMENT</td><td>PENDING</td></tr></table>"
      ],
      "text/plain": [
       "<IPython.core.display.HTML object>"
      ]
     },
     "execution_count": 82,
     "metadata": {},
     "output_type": "execute_result"
    }
   ],
   "source": [
    "%%sparksql\n",
    "\n",
    "SELECT o.*,\n",
    "    CASE \n",
    "        WHEN order_status IN ('COMPLETE', 'CLOSED') THEN 'COMPLETED'\n",
    "        WHEN order_status LIKE '%PENDING%' THEN 'PENDING'\n",
    "        ELSE 'OTHER'\n",
    "    END AS updated_order_status\n",
    "FROM orders o\n",
    "LIMIT 10"
   ]
  },
  {
   "cell_type": "code",
   "execution_count": 83,
   "id": "a933a7f6-5f7a-4723-ba1a-6169a97c627f",
   "metadata": {
    "tags": []
   },
   "outputs": [
    {
     "data": {
      "text/html": [
       "<table><tr style=\"border-bottom: 1px solid\"><td style=\"font-weight: bold\">order_id</td><td style=\"font-weight: bold\">order_date</td><td style=\"font-weight: bold\">order_customer_id</td><td style=\"font-weight: bold\">order_status</td><td style=\"font-weight: bold\">updated_order_status</td></tr><tr><td>1</td><td>2013-07-25 00:00:00.0</td><td>11599</td><td>CLOSED</td><td>COMPLETED</td></tr><tr><td>2</td><td>2013-07-25 00:00:00.0</td><td>256</td><td>PENDING_PAYMENT</td><td>PENDING</td></tr><tr><td>3</td><td>2013-07-25 00:00:00.0</td><td>12111</td><td>COMPLETE</td><td>COMPLETED</td></tr><tr><td>4</td><td>2013-07-25 00:00:00.0</td><td>8827</td><td>CLOSED</td><td>COMPLETED</td></tr><tr><td>5</td><td>2013-07-25 00:00:00.0</td><td>11318</td><td>COMPLETE</td><td>COMPLETED</td></tr><tr><td>6</td><td>2013-07-25 00:00:00.0</td><td>7130</td><td>COMPLETE</td><td>COMPLETED</td></tr><tr><td>7</td><td>2013-07-25 00:00:00.0</td><td>4530</td><td>COMPLETE</td><td>COMPLETED</td></tr><tr><td>8</td><td>2013-07-25 00:00:00.0</td><td>2911</td><td>PROCESSING</td><td>PENDING</td></tr><tr><td>9</td><td>2013-07-25 00:00:00.0</td><td>5657</td><td>PENDING_PAYMENT</td><td>PENDING</td></tr><tr><td>10</td><td>2013-07-25 00:00:00.0</td><td>5648</td><td>PENDING_PAYMENT</td><td>PENDING</td></tr></table>"
      ],
      "text/plain": [
       "<IPython.core.display.HTML object>"
      ]
     },
     "execution_count": 83,
     "metadata": {},
     "output_type": "execute_result"
    }
   ],
   "source": [
    "%%sparksql\n",
    "\n",
    "SELECT o.*,\n",
    "    CASE \n",
    "        WHEN order_status IN ('COMPLETE', 'CLOSED') THEN 'COMPLETED'\n",
    "        WHEN order_status LIKE '%PENDING%' OR order_status IN ('PROCESSING', 'PAYMENT_REVIEW')\n",
    "            THEN 'PENDING'\n",
    "        ELSE 'OTHER'\n",
    "    END AS updated_order_status\n",
    "FROM orders o\n",
    "LIMIT 10"
   ]
  },
  {
   "cell_type": "code",
   "execution_count": 84,
   "id": "09f36c9b-bef5-4968-8ab5-5fb9c3fa9417",
   "metadata": {
    "tags": []
   },
   "outputs": [
    {
     "data": {
      "text/html": [
       "<table><tr style=\"border-bottom: 1px solid\"><td style=\"font-weight: bold\">order_status</td><td style=\"font-weight: bold\">updated_order_status</td></tr><tr><td>COMPLETE</td><td>COMPLETED</td></tr><tr><td>CLOSED</td><td>COMPLETED</td></tr><tr><td>CANCELED</td><td>OTHER</td></tr><tr><td>SUSPECTED_FRAUD</td><td>OTHER</td></tr><tr><td>ON_HOLD</td><td>OTHER</td></tr><tr><td>PENDING_PAYMENT</td><td>PENDING</td></tr><tr><td>PENDING</td><td>PENDING</td></tr><tr><td>PAYMENT_REVIEW</td><td>PENDING</td></tr><tr><td>PROCESSING</td><td>PENDING</td></tr></table>"
      ],
      "text/plain": [
       "<IPython.core.display.HTML object>"
      ]
     },
     "execution_count": 84,
     "metadata": {},
     "output_type": "execute_result"
    }
   ],
   "source": [
    "%%sparksql\n",
    "\n",
    "SELECT DISTINCT order_status,\n",
    "    CASE \n",
    "        WHEN order_status IN ('COMPLETE', 'CLOSED') THEN 'COMPLETED'\n",
    "        WHEN order_status LIKE '%PENDING%' OR order_status IN ('PROCESSING', 'PAYMENT_REVIEW')\n",
    "            THEN 'PENDING'\n",
    "        ELSE 'OTHER'\n",
    "    END AS updated_order_status\n",
    "FROM orders\n",
    "ORDER BY updated_order_status"
   ]
  },
  {
   "cell_type": "markdown",
   "id": "bf006c9b-241d-4a2a-b2e2-541cace83509",
   "metadata": {},
   "source": [
    "### Query Example - Word Count\n",
    "\n",
    "- Create table by name lines.\n",
    "- Insert data into the table.\n",
    "- Split lines into array of words.\n",
    "- Explode array of words from each line into individual records.\n",
    "- Use group by and get the count. We cannot use GROUP BY directly on exploded records and hence we need to use nested sub query.\n"
   ]
  },
  {
   "cell_type": "code",
   "execution_count": 24,
   "id": "9c9362fd-70b4-478a-a687-92b6d99f647c",
   "metadata": {
    "tags": []
   },
   "outputs": [
    {
     "data": {
      "text/html": [
       "<table><tr style=\"border-bottom: 1px solid\"></tr></table>"
      ],
      "text/plain": [
       "<IPython.core.display.HTML object>"
      ]
     },
     "execution_count": 24,
     "metadata": {},
     "output_type": "execute_result"
    }
   ],
   "source": [
    "%%sparksql\n",
    "\n",
    "DROP DATABASE IF EXISTS wordCount_demo CASCADE"
   ]
  },
  {
   "cell_type": "code",
   "execution_count": 25,
   "id": "74599ed6-672a-4b0e-a62c-8c0b464a891d",
   "metadata": {
    "tags": []
   },
   "outputs": [
    {
     "data": {
      "text/html": [
       "<table><tr style=\"border-bottom: 1px solid\"></tr></table>"
      ],
      "text/plain": [
       "<IPython.core.display.HTML object>"
      ]
     },
     "execution_count": 25,
     "metadata": {},
     "output_type": "execute_result"
    }
   ],
   "source": [
    "%%sparksql\n",
    "CREATE DATABASE IF NOT EXISTS wordCount_demo"
   ]
  },
  {
   "cell_type": "code",
   "execution_count": 27,
   "id": "95319c91-b686-4e6f-a992-d607d5ede37c",
   "metadata": {
    "tags": []
   },
   "outputs": [
    {
     "data": {
      "text/html": [
       "<table><tr style=\"border-bottom: 1px solid\"></tr></table>"
      ],
      "text/plain": [
       "<IPython.core.display.HTML object>"
      ]
     },
     "execution_count": 27,
     "metadata": {},
     "output_type": "execute_result"
    }
   ],
   "source": [
    "%%sparksql\n",
    "\n",
    "USE wordCount_demo"
   ]
  },
  {
   "cell_type": "code",
   "execution_count": 29,
   "id": "0732b2a2-628c-4db0-9f02-a0842da1f867",
   "metadata": {
    "tags": []
   },
   "outputs": [
    {
     "data": {
      "text/html": [
       "<table><tr style=\"border-bottom: 1px solid\"></tr></table>"
      ],
      "text/plain": [
       "<IPython.core.display.HTML object>"
      ]
     },
     "execution_count": 29,
     "metadata": {},
     "output_type": "execute_result"
    }
   ],
   "source": [
    "%%sparksql\n",
    "\n",
    "CREATE TABLE lines (s STRING)"
   ]
  },
  {
   "cell_type": "code",
   "execution_count": 30,
   "id": "a895291b-1928-4432-8f9c-6870187328f2",
   "metadata": {
    "tags": []
   },
   "outputs": [
    {
     "data": {
      "text/html": [
       "<table><tr style=\"border-bottom: 1px solid\"></tr></table>"
      ],
      "text/plain": [
       "<IPython.core.display.HTML object>"
      ]
     },
     "execution_count": 30,
     "metadata": {},
     "output_type": "execute_result"
    }
   ],
   "source": [
    "%%sparksql\n",
    "\n",
    "INSERT INTO lines VALUES\n",
    "  ('Hello World'),\n",
    "  ('How are you'),\n",
    "  ('Let us perform the word count'),\n",
    "  ('The definition of word count is'),\n",
    "  ('to get the count of each word from this data')"
   ]
  },
  {
   "cell_type": "code",
   "execution_count": 31,
   "id": "51706449-4318-420c-a8e5-c3dcf01e6503",
   "metadata": {
    "tags": []
   },
   "outputs": [
    {
     "data": {
      "text/html": [
       "<table><tr style=\"border-bottom: 1px solid\"><td style=\"font-weight: bold\">s</td></tr><tr><td>Hello World</td></tr><tr><td>How are you</td></tr><tr><td>Let us perform the word count</td></tr><tr><td>The definition of word count is</td></tr><tr><td>to get the count of each word from this data</td></tr></table>"
      ],
      "text/plain": [
       "<IPython.core.display.HTML object>"
      ]
     },
     "execution_count": 31,
     "metadata": {},
     "output_type": "execute_result"
    }
   ],
   "source": [
    "%%sparksql\n",
    "\n",
    "SELECT * FROM lines"
   ]
  },
  {
   "cell_type": "code",
   "execution_count": 32,
   "id": "29ea57c9-e45e-46fc-9cda-6b564d2b5a1d",
   "metadata": {
    "tags": []
   },
   "outputs": [
    {
     "data": {
      "text/html": [
       "<table><tr style=\"border-bottom: 1px solid\"><td style=\"font-weight: bold\">word_array</td></tr><tr><td>[&#x27;Hello&#x27;, &#x27;World&#x27;]</td></tr><tr><td>[&#x27;How&#x27;, &#x27;are&#x27;, &#x27;you&#x27;]</td></tr><tr><td>[&#x27;Let&#x27;, &#x27;us&#x27;, &#x27;perform&#x27;, &#x27;the&#x27;, &#x27;word&#x27;, &#x27;count&#x27;]</td></tr><tr><td>[&#x27;The&#x27;, &#x27;definition&#x27;, &#x27;of&#x27;, &#x27;word&#x27;, &#x27;count&#x27;, &#x27;is&#x27;]</td></tr><tr><td>[&#x27;to&#x27;, &#x27;get&#x27;, &#x27;the&#x27;, &#x27;count&#x27;, &#x27;of&#x27;, &#x27;each&#x27;, &#x27;word&#x27;, &#x27;from&#x27;, &#x27;this&#x27;, &#x27;data&#x27;]</td></tr></table>"
      ],
      "text/plain": [
       "<IPython.core.display.HTML object>"
      ]
     },
     "execution_count": 32,
     "metadata": {},
     "output_type": "execute_result"
    }
   ],
   "source": [
    "%%sparksql\n",
    "\n",
    "SELECT split(s, ' ') AS word_array FROM lines"
   ]
  },
  {
   "cell_type": "code",
   "execution_count": 33,
   "id": "b0705140-ba8e-42a1-80a9-4092c880e86f",
   "metadata": {
    "tags": []
   },
   "outputs": [
    {
     "data": {
      "text/html": [
       "<table><tr style=\"border-bottom: 1px solid\"><td style=\"font-weight: bold\">s</td></tr><tr><td>Hello World</td></tr><tr><td>How are you</td></tr><tr><td>Let us perform the word count</td></tr><tr><td>The definition of word count is</td></tr><tr><td>to get the count of each word from this data</td></tr></table>"
      ],
      "text/plain": [
       "<IPython.core.display.HTML object>"
      ]
     },
     "execution_count": 33,
     "metadata": {},
     "output_type": "execute_result"
    }
   ],
   "source": [
    "%%sparksql\n",
    "\n",
    "SELECT * FROM lines"
   ]
  },
  {
   "cell_type": "code",
   "execution_count": 34,
   "id": "b6f85b08-0584-453d-a986-d6110e11d282",
   "metadata": {
    "tags": []
   },
   "outputs": [
    {
     "data": {
      "text/html": [
       "<table><tr style=\"border-bottom: 1px solid\"><td style=\"font-weight: bold\">word_array</td></tr><tr><td>[&#x27;Hello&#x27;, &#x27;World&#x27;]</td></tr><tr><td>[&#x27;How&#x27;, &#x27;are&#x27;, &#x27;you&#x27;]</td></tr><tr><td>[&#x27;Let&#x27;, &#x27;us&#x27;, &#x27;perform&#x27;, &#x27;the&#x27;, &#x27;word&#x27;, &#x27;count&#x27;]</td></tr><tr><td>[&#x27;The&#x27;, &#x27;definition&#x27;, &#x27;of&#x27;, &#x27;word&#x27;, &#x27;count&#x27;, &#x27;is&#x27;]</td></tr><tr><td>[&#x27;to&#x27;, &#x27;get&#x27;, &#x27;the&#x27;, &#x27;count&#x27;, &#x27;of&#x27;, &#x27;each&#x27;, &#x27;word&#x27;, &#x27;from&#x27;, &#x27;this&#x27;, &#x27;data&#x27;]</td></tr></table>"
      ],
      "text/plain": [
       "<IPython.core.display.HTML object>"
      ]
     },
     "execution_count": 34,
     "metadata": {},
     "output_type": "execute_result"
    }
   ],
   "source": [
    "%%sparksql\n",
    "\n",
    "SELECT split(s, ' ') AS word_array FROM lines"
   ]
  },
  {
   "cell_type": "code",
   "execution_count": 35,
   "id": "67c9848d-598f-4971-bdfa-01f15a882d51",
   "metadata": {
    "tags": []
   },
   "outputs": [
    {
     "name": "stdout",
     "output_type": "stream",
     "text": [
      "only showing top 20 row(s)\n"
     ]
    },
    {
     "data": {
      "text/html": [
       "<table><tr style=\"border-bottom: 1px solid\"><td style=\"font-weight: bold\">words</td></tr><tr><td>Hello</td></tr><tr><td>World</td></tr><tr><td>How</td></tr><tr><td>are</td></tr><tr><td>you</td></tr><tr><td>Let</td></tr><tr><td>us</td></tr><tr><td>perform</td></tr><tr><td>the</td></tr><tr><td>word</td></tr><tr><td>count</td></tr><tr><td>The</td></tr><tr><td>definition</td></tr><tr><td>of</td></tr><tr><td>word</td></tr><tr><td>count</td></tr><tr><td>is</td></tr><tr><td>to</td></tr><tr><td>get</td></tr><tr><td>the</td></tr></table>"
      ],
      "text/plain": [
       "<IPython.core.display.HTML object>"
      ]
     },
     "execution_count": 35,
     "metadata": {},
     "output_type": "execute_result"
    }
   ],
   "source": [
    "%%sparksql\n",
    "\n",
    "SELECT explode(split(s, ' ')) AS words FROM lines"
   ]
  },
  {
   "cell_type": "code",
   "execution_count": 36,
   "id": "8e975cd5-51be-4889-8f08-941ed76217e5",
   "metadata": {
    "tags": []
   },
   "outputs": [
    {
     "data": {
      "text/html": [
       "<table><tr style=\"border-bottom: 1px solid\"><td style=\"font-weight: bold\">count(1)</td></tr><tr><td>27</td></tr></table>"
      ],
      "text/plain": [
       "<IPython.core.display.HTML object>"
      ]
     },
     "execution_count": 36,
     "metadata": {},
     "output_type": "execute_result"
    }
   ],
   "source": [
    "%%sparksql\n",
    "\n",
    "SELECT count(1) FROM (SELECT explode(split(s, ' ')) AS words FROM lines)"
   ]
  },
  {
   "cell_type": "code",
   "execution_count": 37,
   "id": "893f10ea-075a-4f60-a3a4-460550b0fa92",
   "metadata": {
    "tags": []
   },
   "outputs": [
    {
     "ename": "AnalysisException",
     "evalue": "The generator is not supported: outside the SELECT clause, found: Aggregate [explode(split(s#131,  , -1))], [split(s#131,  , -1) AS _gen_input_0#133, count(1) AS count(1)#132L]",
     "output_type": "error",
     "traceback": [
      "\u001b[0;31m---------------------------------------------------------------------------\u001b[0m",
      "\u001b[0;31mAnalysisException\u001b[0m                         Traceback (most recent call last)",
      "Cell \u001b[0;32mIn[37], line 1\u001b[0m\n\u001b[0;32m----> 1\u001b[0m \u001b[43mget_ipython\u001b[49m\u001b[43m(\u001b[49m\u001b[43m)\u001b[49m\u001b[38;5;241;43m.\u001b[39;49m\u001b[43mrun_cell_magic\u001b[49m\u001b[43m(\u001b[49m\u001b[38;5;124;43m'\u001b[39;49m\u001b[38;5;124;43msparksql\u001b[39;49m\u001b[38;5;124;43m'\u001b[39;49m\u001b[43m,\u001b[49m\u001b[43m \u001b[49m\u001b[38;5;124;43m'\u001b[39;49m\u001b[38;5;124;43m'\u001b[39;49m\u001b[43m,\u001b[49m\u001b[43m \u001b[49m\u001b[38;5;124;43m\"\u001b[39;49m\u001b[38;5;130;43;01m\\n\u001b[39;49;00m\u001b[38;5;124;43mSELECT explode(split(s, \u001b[39;49m\u001b[38;5;124;43m'\u001b[39;49m\u001b[38;5;124;43m \u001b[39;49m\u001b[38;5;124;43m'\u001b[39;49m\u001b[38;5;124;43m)) AS words, count(1) FROM lines\u001b[39;49m\u001b[38;5;130;43;01m\\n\u001b[39;49;00m\u001b[38;5;124;43mGROUP BY explode(split(s, \u001b[39;49m\u001b[38;5;124;43m'\u001b[39;49m\u001b[38;5;124;43m \u001b[39;49m\u001b[38;5;124;43m'\u001b[39;49m\u001b[38;5;124;43m))\u001b[39;49m\u001b[38;5;130;43;01m\\n\u001b[39;49;00m\u001b[38;5;124;43m\"\u001b[39;49m\u001b[43m)\u001b[49m\n",
      "File \u001b[0;32m~/de-venv/lib/python3.8/site-packages/IPython/core/interactiveshell.py:2430\u001b[0m, in \u001b[0;36mInteractiveShell.run_cell_magic\u001b[0;34m(self, magic_name, line, cell)\u001b[0m\n\u001b[1;32m   2428\u001b[0m \u001b[38;5;28;01mwith\u001b[39;00m \u001b[38;5;28mself\u001b[39m\u001b[38;5;241m.\u001b[39mbuiltin_trap:\n\u001b[1;32m   2429\u001b[0m     args \u001b[38;5;241m=\u001b[39m (magic_arg_s, cell)\n\u001b[0;32m-> 2430\u001b[0m     result \u001b[38;5;241m=\u001b[39m \u001b[43mfn\u001b[49m\u001b[43m(\u001b[49m\u001b[38;5;241;43m*\u001b[39;49m\u001b[43margs\u001b[49m\u001b[43m,\u001b[49m\u001b[43m \u001b[49m\u001b[38;5;241;43m*\u001b[39;49m\u001b[38;5;241;43m*\u001b[39;49m\u001b[43mkwargs\u001b[49m\u001b[43m)\u001b[49m\n\u001b[1;32m   2432\u001b[0m \u001b[38;5;66;03m# The code below prevents the output from being displayed\u001b[39;00m\n\u001b[1;32m   2433\u001b[0m \u001b[38;5;66;03m# when using magics with decodator @output_can_be_silenced\u001b[39;00m\n\u001b[1;32m   2434\u001b[0m \u001b[38;5;66;03m# when the last Python token in the expression is a ';'.\u001b[39;00m\n\u001b[1;32m   2435\u001b[0m \u001b[38;5;28;01mif\u001b[39;00m \u001b[38;5;28mgetattr\u001b[39m(fn, magic\u001b[38;5;241m.\u001b[39mMAGIC_OUTPUT_CAN_BE_SILENCED, \u001b[38;5;28;01mFalse\u001b[39;00m):\n",
      "File \u001b[0;32m~/de-venv/lib/python3.8/site-packages/sparksql_magic/sparksql.py:40\u001b[0m, in \u001b[0;36mSparkSql.sparksql\u001b[0;34m(self, line, cell, local_ns)\u001b[0m\n\u001b[1;32m     37\u001b[0m     \u001b[38;5;28mprint\u001b[39m(\u001b[38;5;124m\"\u001b[39m\u001b[38;5;124mactive spark session is not found\u001b[39m\u001b[38;5;124m\"\u001b[39m)\n\u001b[1;32m     38\u001b[0m     \u001b[38;5;28;01mreturn\u001b[39;00m\n\u001b[0;32m---> 40\u001b[0m df \u001b[38;5;241m=\u001b[39m \u001b[43mspark\u001b[49m\u001b[38;5;241;43m.\u001b[39;49m\u001b[43msql\u001b[49m\u001b[43m(\u001b[49m\u001b[43mbind_variables\u001b[49m\u001b[43m(\u001b[49m\u001b[43mcell\u001b[49m\u001b[43m,\u001b[49m\u001b[43m \u001b[49m\u001b[43muser_ns\u001b[49m\u001b[43m)\u001b[49m\u001b[43m)\u001b[49m\n\u001b[1;32m     41\u001b[0m \u001b[38;5;28;01mif\u001b[39;00m args\u001b[38;5;241m.\u001b[39mcache \u001b[38;5;129;01mor\u001b[39;00m args\u001b[38;5;241m.\u001b[39meager:\n\u001b[1;32m     42\u001b[0m     \u001b[38;5;28mprint\u001b[39m(\u001b[38;5;124m'\u001b[39m\u001b[38;5;124mcache dataframe with \u001b[39m\u001b[38;5;132;01m%s\u001b[39;00m\u001b[38;5;124m load\u001b[39m\u001b[38;5;124m'\u001b[39m \u001b[38;5;241m%\u001b[39m (\u001b[38;5;124m'\u001b[39m\u001b[38;5;124meager\u001b[39m\u001b[38;5;124m'\u001b[39m \u001b[38;5;28;01mif\u001b[39;00m args\u001b[38;5;241m.\u001b[39meager \u001b[38;5;28;01melse\u001b[39;00m \u001b[38;5;124m'\u001b[39m\u001b[38;5;124mlazy\u001b[39m\u001b[38;5;124m'\u001b[39m))\n",
      "File \u001b[0;32m/usr/local/spark/python/pyspark/sql/session.py:1034\u001b[0m, in \u001b[0;36mSparkSession.sql\u001b[0;34m(self, sqlQuery, **kwargs)\u001b[0m\n\u001b[1;32m   1032\u001b[0m     sqlQuery \u001b[38;5;241m=\u001b[39m formatter\u001b[38;5;241m.\u001b[39mformat(sqlQuery, \u001b[38;5;241m*\u001b[39m\u001b[38;5;241m*\u001b[39mkwargs)\n\u001b[1;32m   1033\u001b[0m \u001b[38;5;28;01mtry\u001b[39;00m:\n\u001b[0;32m-> 1034\u001b[0m     \u001b[38;5;28;01mreturn\u001b[39;00m DataFrame(\u001b[38;5;28;43mself\u001b[39;49m\u001b[38;5;241;43m.\u001b[39;49m\u001b[43m_jsparkSession\u001b[49m\u001b[38;5;241;43m.\u001b[39;49m\u001b[43msql\u001b[49m\u001b[43m(\u001b[49m\u001b[43msqlQuery\u001b[49m\u001b[43m)\u001b[49m, \u001b[38;5;28mself\u001b[39m)\n\u001b[1;32m   1035\u001b[0m \u001b[38;5;28;01mfinally\u001b[39;00m:\n\u001b[1;32m   1036\u001b[0m     \u001b[38;5;28;01mif\u001b[39;00m \u001b[38;5;28mlen\u001b[39m(kwargs) \u001b[38;5;241m>\u001b[39m \u001b[38;5;241m0\u001b[39m:\n",
      "File \u001b[0;32m/usr/local/spark/python/lib/py4j-0.10.9.5-src.zip/py4j/java_gateway.py:1321\u001b[0m, in \u001b[0;36mJavaMember.__call__\u001b[0;34m(self, *args)\u001b[0m\n\u001b[1;32m   1315\u001b[0m command \u001b[38;5;241m=\u001b[39m proto\u001b[38;5;241m.\u001b[39mCALL_COMMAND_NAME \u001b[38;5;241m+\u001b[39m\\\n\u001b[1;32m   1316\u001b[0m     \u001b[38;5;28mself\u001b[39m\u001b[38;5;241m.\u001b[39mcommand_header \u001b[38;5;241m+\u001b[39m\\\n\u001b[1;32m   1317\u001b[0m     args_command \u001b[38;5;241m+\u001b[39m\\\n\u001b[1;32m   1318\u001b[0m     proto\u001b[38;5;241m.\u001b[39mEND_COMMAND_PART\n\u001b[1;32m   1320\u001b[0m answer \u001b[38;5;241m=\u001b[39m \u001b[38;5;28mself\u001b[39m\u001b[38;5;241m.\u001b[39mgateway_client\u001b[38;5;241m.\u001b[39msend_command(command)\n\u001b[0;32m-> 1321\u001b[0m return_value \u001b[38;5;241m=\u001b[39m \u001b[43mget_return_value\u001b[49m\u001b[43m(\u001b[49m\n\u001b[1;32m   1322\u001b[0m \u001b[43m    \u001b[49m\u001b[43manswer\u001b[49m\u001b[43m,\u001b[49m\u001b[43m \u001b[49m\u001b[38;5;28;43mself\u001b[39;49m\u001b[38;5;241;43m.\u001b[39;49m\u001b[43mgateway_client\u001b[49m\u001b[43m,\u001b[49m\u001b[43m \u001b[49m\u001b[38;5;28;43mself\u001b[39;49m\u001b[38;5;241;43m.\u001b[39;49m\u001b[43mtarget_id\u001b[49m\u001b[43m,\u001b[49m\u001b[43m \u001b[49m\u001b[38;5;28;43mself\u001b[39;49m\u001b[38;5;241;43m.\u001b[39;49m\u001b[43mname\u001b[49m\u001b[43m)\u001b[49m\n\u001b[1;32m   1324\u001b[0m \u001b[38;5;28;01mfor\u001b[39;00m temp_arg \u001b[38;5;129;01min\u001b[39;00m temp_args:\n\u001b[1;32m   1325\u001b[0m     temp_arg\u001b[38;5;241m.\u001b[39m_detach()\n",
      "File \u001b[0;32m/usr/local/spark/python/pyspark/sql/utils.py:196\u001b[0m, in \u001b[0;36mcapture_sql_exception.<locals>.deco\u001b[0;34m(*a, **kw)\u001b[0m\n\u001b[1;32m    192\u001b[0m converted \u001b[38;5;241m=\u001b[39m convert_exception(e\u001b[38;5;241m.\u001b[39mjava_exception)\n\u001b[1;32m    193\u001b[0m \u001b[38;5;28;01mif\u001b[39;00m \u001b[38;5;129;01mnot\u001b[39;00m \u001b[38;5;28misinstance\u001b[39m(converted, UnknownException):\n\u001b[1;32m    194\u001b[0m     \u001b[38;5;66;03m# Hide where the exception came from that shows a non-Pythonic\u001b[39;00m\n\u001b[1;32m    195\u001b[0m     \u001b[38;5;66;03m# JVM exception message.\u001b[39;00m\n\u001b[0;32m--> 196\u001b[0m     \u001b[38;5;28;01mraise\u001b[39;00m converted \u001b[38;5;28;01mfrom\u001b[39;00m \u001b[38;5;28mNone\u001b[39m\n\u001b[1;32m    197\u001b[0m \u001b[38;5;28;01melse\u001b[39;00m:\n\u001b[1;32m    198\u001b[0m     \u001b[38;5;28;01mraise\u001b[39;00m\n",
      "\u001b[0;31mAnalysisException\u001b[0m: The generator is not supported: outside the SELECT clause, found: Aggregate [explode(split(s#131,  , -1))], [split(s#131,  , -1) AS _gen_input_0#133, count(1) AS count(1)#132L]"
     ]
    }
   ],
   "source": [
    "%%sparksql\n",
    "\n",
    "SELECT explode(split(s, ' ')) AS words, count(1) FROM lines\n",
    "GROUP BY explode(split(s, ' '))"
   ]
  },
  {
   "cell_type": "code",
   "execution_count": 41,
   "id": "c30a55b6-98ec-43f1-a08f-20c2582ab364",
   "metadata": {
    "tags": []
   },
   "outputs": [
    {
     "name": "stdout",
     "output_type": "stream",
     "text": [
      "only showing top 20 row(s)\n"
     ]
    },
    {
     "data": {
      "text/html": [
       "<table><tr style=\"border-bottom: 1px solid\"><td style=\"font-weight: bold\">initcap(word)</td><td style=\"font-weight: bold\">count(1)</td></tr><tr><td>Hello</td><td>1</td></tr><tr><td>How</td><td>1</td></tr><tr><td>Let</td><td>1</td></tr><tr><td>The</td><td>1</td></tr><tr><td>World</td><td>1</td></tr><tr><td>Are</td><td>1</td></tr><tr><td>Count</td><td>3</td></tr><tr><td>Data</td><td>1</td></tr><tr><td>Definition</td><td>1</td></tr><tr><td>Each</td><td>1</td></tr><tr><td>From</td><td>1</td></tr><tr><td>Get</td><td>1</td></tr><tr><td>Is</td><td>1</td></tr><tr><td>Of</td><td>2</td></tr><tr><td>Perform</td><td>1</td></tr><tr><td>The</td><td>2</td></tr><tr><td>This</td><td>1</td></tr><tr><td>To</td><td>1</td></tr><tr><td>Us</td><td>1</td></tr><tr><td>Word</td><td>3</td></tr></table>"
      ],
      "text/plain": [
       "<IPython.core.display.HTML object>"
      ]
     },
     "execution_count": 41,
     "metadata": {},
     "output_type": "execute_result"
    }
   ],
   "source": [
    "%%sparksql\n",
    "\n",
    "SELECT initcap(word), count(1) FROM (\n",
    "  SELECT explode(split(s, ' ')) AS word FROM lines\n",
    ") q\n",
    "GROUP BY word\n",
    "order by word asc"
   ]
  },
  {
   "cell_type": "code",
   "execution_count": 43,
   "id": "7769d006-2b05-4e37-9a30-e7cc2223296d",
   "metadata": {
    "tags": []
   },
   "outputs": [
    {
     "data": {
      "text/html": [
       "<table><tr style=\"border-bottom: 1px solid\"><td style=\"font-weight: bold\">count(1)</td></tr><tr><td>21</td></tr></table>"
      ],
      "text/plain": [
       "<IPython.core.display.HTML object>"
      ]
     },
     "execution_count": 43,
     "metadata": {},
     "output_type": "execute_result"
    }
   ],
   "source": [
    "%%sparksql\n",
    "\n",
    "SELECT count(1) FROM\n",
    "(\n",
    "    SELECT word, count(1) FROM (\n",
    "        SELECT explode(split(s, ' ')) AS word FROM lines\n",
    "    ) q\n",
    "    GROUP BY word\n",
    ")"
   ]
  },
  {
   "cell_type": "code",
   "execution_count": null,
   "id": "8d40fafa-582c-4f51-b24c-e5037fd624f9",
   "metadata": {},
   "outputs": [],
   "source": []
  }
 ],
 "metadata": {
  "kernelspec": {
   "display_name": "Pyspark 3",
   "language": "python",
   "name": "pyspark3"
  },
  "language_info": {
   "codemirror_mode": {
    "name": "ipython",
    "version": 3
   },
   "file_extension": ".py",
   "mimetype": "text/x-python",
   "name": "python",
   "nbconvert_exporter": "python",
   "pygments_lexer": "ipython3",
   "version": "3.8.10"
  },
  "toc-autonumbering": false
 },
 "nbformat": 4,
 "nbformat_minor": 5
}
