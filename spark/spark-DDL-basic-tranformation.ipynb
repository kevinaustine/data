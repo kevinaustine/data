{
 "cells": [
  {
   "cell_type": "code",
   "execution_count": 1,
   "id": "1308a6b5-d5c9-42cc-a87c-cabcb5ca7dc6",
   "metadata": {
    "tags": []
   },
   "outputs": [],
   "source": [
    "from pyspark.sql import SparkSession"
   ]
  },
  {
   "cell_type": "markdown",
   "id": "8de723a0-f837-4e27-a138-f4e587854563",
   "metadata": {},
   "source": [
    "Creating the spark session"
   ]
  },
  {
   "cell_type": "code",
   "execution_count": 2,
   "id": "c40ffa95-19d4-4a02-a5fa-54eabdc914e1",
   "metadata": {
    "tags": []
   },
   "outputs": [
    {
     "name": "stderr",
     "output_type": "stream",
     "text": [
      "Setting default log level to \"WARN\".\n",
      "To adjust logging level use sc.setLogLevel(newLevel). For SparkR, use setLogLevel(newLevel).\n"
     ]
    }
   ],
   "source": [
    "spark = SparkSession. \\\n",
    "    builder. \\\n",
    "    enableHiveSupport(). \\\n",
    "    appName('Basic Transformations'). \\\n",
    "    master('yarn'). \\\n",
    "    getOrCreate()"
   ]
  },
  {
   "cell_type": "markdown",
   "id": "4d3ed85a-3daa-467b-9091-a9dd740d00fb",
   "metadata": {},
   "source": [
    "list databases"
   ]
  },
  {
   "cell_type": "code",
   "execution_count": 3,
   "id": "a119f474-2d2e-43bf-9fa5-034119aa60d1",
   "metadata": {
    "tags": []
   },
   "outputs": [
    {
     "name": "stdout",
     "output_type": "stream",
     "text": [
      "+------------+\n",
      "|   namespace|\n",
      "+------------+\n",
      "|     default|\n",
      "|          hr|\n",
      "|       kevin|\n",
      "|kevin_retail|\n",
      "|      retail|\n",
      "|         sms|\n",
      "|        test|\n",
      "+------------+\n",
      "\n"
     ]
    }
   ],
   "source": [
    "spark.sql('SHOW DATABASES').show()"
   ]
  },
  {
   "cell_type": "markdown",
   "id": "e9488af9-552e-455f-92c7-85fb9ddacc73",
   "metadata": {},
   "source": [
    "Dropping the database if it exist"
   ]
  },
  {
   "cell_type": "code",
   "execution_count": 4,
   "id": "8c1b32ed-e783-4f3f-ac61-7d37a7439e94",
   "metadata": {
    "tags": []
   },
   "outputs": [
    {
     "data": {
      "text/plain": [
       "DataFrame[]"
      ]
     },
     "execution_count": 4,
     "metadata": {},
     "output_type": "execute_result"
    }
   ],
   "source": [
    "spark.sql('DROP DATABASE IF EXISTS kevin_retail CASCADE')"
   ]
  },
  {
   "cell_type": "code",
   "execution_count": 4,
   "id": "e3d6bfdf-a38b-4c8b-9b1f-799ecfd48c69",
   "metadata": {},
   "outputs": [
    {
     "name": "stderr",
     "output_type": "stream",
     "text": [
      "[Stage 0:>                                                          (0 + 1) / 1]\r"
     ]
    },
    {
     "name": "stdout",
     "output_type": "stream",
     "text": [
      "+------------------+\n",
      "|current_database()|\n",
      "+------------------+\n",
      "|           default|\n",
      "+------------------+\n",
      "\n"
     ]
    },
    {
     "name": "stderr",
     "output_type": "stream",
     "text": [
      "                                                                                \r"
     ]
    }
   ],
   "source": [
    "spark.sql('select current_database()').show()"
   ]
  },
  {
   "cell_type": "markdown",
   "id": "122b9437-5b6e-4a88-ba64-e947fd34604f",
   "metadata": {},
   "source": [
    "creating the database"
   ]
  },
  {
   "cell_type": "code",
   "execution_count": 5,
   "id": "8e87568b-3434-47cf-89cb-a82d9d451bf0",
   "metadata": {},
   "outputs": [
    {
     "data": {
      "text/plain": [
       "DataFrame[]"
      ]
     },
     "execution_count": 5,
     "metadata": {},
     "output_type": "execute_result"
    }
   ],
   "source": [
    "spark.sql('CREATE DATABASE IF NOT EXISTS kevin_retail')"
   ]
  },
  {
   "cell_type": "code",
   "execution_count": 6,
   "id": "03202ea0-72e1-48c0-8d92-4508d1165727",
   "metadata": {
    "tags": []
   },
   "outputs": [
    {
     "data": {
      "text/plain": [
       "DataFrame[]"
      ]
     },
     "execution_count": 6,
     "metadata": {},
     "output_type": "execute_result"
    }
   ],
   "source": [
    "spark.sql('use kevin_retail')"
   ]
  },
  {
   "cell_type": "code",
   "execution_count": 7,
   "id": "669787ff-bda8-4c99-98fe-83b41df70cf7",
   "metadata": {
    "tags": []
   },
   "outputs": [
    {
     "name": "stdout",
     "output_type": "stream",
     "text": [
      "+------------------+\n",
      "|current_database()|\n",
      "+------------------+\n",
      "|      kevin_retail|\n",
      "+------------------+\n",
      "\n"
     ]
    }
   ],
   "source": [
    "spark.sql('select current_database()').show()"
   ]
  },
  {
   "cell_type": "code",
   "execution_count": 10,
   "id": "1112d32e-bc16-4836-aaef-0729ec5bb19a",
   "metadata": {
    "tags": []
   },
   "outputs": [
    {
     "data": {
      "text/plain": [
       "DataFrame[]"
      ]
     },
     "execution_count": 10,
     "metadata": {},
     "output_type": "execute_result"
    }
   ],
   "source": [
    "spark.sql('DROP TABLE  IF EXISTS orders')\n"
   ]
  },
  {
   "cell_type": "markdown",
   "id": "d0fd249c-a6d1-4980-85a3-267a56463dd4",
   "metadata": {},
   "source": [
    "## creating managed table"
   ]
  },
  {
   "cell_type": "code",
   "execution_count": 11,
   "id": "01719125-d7e1-450f-ba53-1f686f17203b",
   "metadata": {
    "tags": []
   },
   "outputs": [
    {
     "data": {
      "text/plain": [
       "DataFrame[]"
      ]
     },
     "execution_count": 11,
     "metadata": {},
     "output_type": "execute_result"
    }
   ],
   "source": [
    "spark.sql(\"CREATE TABLE orders (\\\n",
    "    order_id INT,\\\n",
    "    order_date STRING,\\\n",
    "    order_customer_id INT,\\\n",
    "    order_status STRING\\\n",
    ") ROW FORMAT DELIMITED FIELDS TERMINATED BY ','\")"
   ]
  },
  {
   "cell_type": "markdown",
   "id": "300c0755-fb2c-4080-986f-e7aaab08e00a",
   "metadata": {},
   "source": [
    "loading data from hdfs to table"
   ]
  },
  {
   "cell_type": "code",
   "execution_count": 14,
   "id": "2c343a39-5795-49f3-98dd-7151087701f8",
   "metadata": {
    "tags": []
   },
   "outputs": [
    {
     "data": {
      "text/plain": [
       "DataFrame[]"
      ]
     },
     "execution_count": 14,
     "metadata": {},
     "output_type": "execute_result"
    }
   ],
   "source": [
    "spark.sql(\"LOAD DATA INPATH '/data/retail_db/orders' INTO TABLE orders\")"
   ]
  },
  {
   "cell_type": "markdown",
   "id": "6c6ce2c9-b3a9-492d-8884-0b8ab22148d2",
   "metadata": {},
   "source": [
    "## PROJECTING DATA"
   ]
  },
  {
   "cell_type": "code",
   "execution_count": 15,
   "id": "678171cd-2028-432f-98d9-06cc4ab928c1",
   "metadata": {
    "tags": []
   },
   "outputs": [
    {
     "name": "stderr",
     "output_type": "stream",
     "text": [
      "[Stage 2:=============================>                             (1 + 1) / 2]\r"
     ]
    },
    {
     "name": "stdout",
     "output_type": "stream",
     "text": [
      "+--------+--------------------+-----------------+---------------+\n",
      "|order_id|          order_date|order_customer_id|   order_status|\n",
      "+--------+--------------------+-----------------+---------------+\n",
      "|   34565|2014-02-23 00:00:...|             8702|       COMPLETE|\n",
      "|   34566|2014-02-23 00:00:...|             3066|PENDING_PAYMENT|\n",
      "|   34567|2014-02-23 00:00:...|             7314|SUSPECTED_FRAUD|\n",
      "|   34568|2014-02-23 00:00:...|             1271|       COMPLETE|\n",
      "|   34569|2014-02-23 00:00:...|            11083|       COMPLETE|\n",
      "|   34570|2014-02-23 00:00:...|             3159|         CLOSED|\n",
      "|   34571|2014-02-23 00:00:...|             4551|         CLOSED|\n",
      "|   34572|2014-02-23 00:00:...|             8135|        PENDING|\n",
      "|   34573|2014-02-23 00:00:...|             7497|PENDING_PAYMENT|\n",
      "|   34574|2014-02-23 00:00:...|             1868|        ON_HOLD|\n",
      "+--------+--------------------+-----------------+---------------+\n",
      "\n"
     ]
    },
    {
     "name": "stderr",
     "output_type": "stream",
     "text": [
      "                                                                                \r"
     ]
    }
   ],
   "source": [
    "spark.sql(\"SELECT * FROM orders LIMIT 10\").show()"
   ]
  },
  {
   "cell_type": "markdown",
   "id": "2c141a66-b34d-4226-a001-b8e7dd6497cd",
   "metadata": {},
   "source": [
    "creating table"
   ]
  },
  {
   "cell_type": "code",
   "execution_count": 16,
   "id": "a51c9223-a2d8-4cdb-be62-28dcc918d380",
   "metadata": {
    "tags": []
   },
   "outputs": [
    {
     "data": {
      "text/plain": [
       "DataFrame[]"
      ]
     },
     "execution_count": 16,
     "metadata": {},
     "output_type": "execute_result"
    }
   ],
   "source": [
    "spark.sql(\"CREATE TABLE order_items (\\\n",
    "    order_item_id INT,\\\n",
    "    order_item_order_id INT,\\\n",
    "    order_item_product_id INT,\\\n",
    "    order_item_quantity INT,\\\n",
    "    order_item_subtotal FLOAT,\\\n",
    "    order_item_product_price FLOAT\\\n",
    ") ROW FORMAT DELIMITED FIELDS TERMINATED BY ','\")"
   ]
  },
  {
   "cell_type": "markdown",
   "id": "a1224d34-2c25-4abf-bcb5-0d477a164557",
   "metadata": {},
   "source": [
    "loading data from hdfs to table"
   ]
  },
  {
   "cell_type": "code",
   "execution_count": 21,
   "id": "2fd2de45-1173-4d6a-8a7e-8a8aa6fc6aad",
   "metadata": {
    "tags": []
   },
   "outputs": [
    {
     "data": {
      "text/plain": [
       "DataFrame[]"
      ]
     },
     "execution_count": 21,
     "metadata": {},
     "output_type": "execute_result"
    }
   ],
   "source": [
    "spark.sql(\"LOAD DATA INPATH '/data/retail_db/order_items' INTO TABLE order_items\")"
   ]
  },
  {
   "cell_type": "code",
   "execution_count": 8,
   "id": "fe5270f4-104c-4f31-bc9a-28cd6a6db14b",
   "metadata": {
    "tags": []
   },
   "outputs": [
    {
     "name": "stderr",
     "output_type": "stream",
     "text": [
      "                                                                                \r"
     ]
    },
    {
     "name": "stdout",
     "output_type": "stream",
     "text": [
      "+-------------+-------------------+---------------------+-------------------+-------------------+------------------------+\n",
      "|order_item_id|order_item_order_id|order_item_product_id|order_item_quantity|order_item_subtotal|order_item_product_price|\n",
      "+-------------+-------------------+---------------------+-------------------+-------------------+------------------------+\n",
      "|            1|                  1|                  957|                  1|             299.98|                  299.98|\n",
      "|            2|                  2|                 1073|                  1|             199.99|                  199.99|\n",
      "|            3|                  2|                  502|                  5|              250.0|                    50.0|\n",
      "|            4|                  2|                  403|                  1|             129.99|                  129.99|\n",
      "|            5|                  4|                  897|                  2|              49.98|                   24.99|\n",
      "|            6|                  4|                  365|                  5|             299.95|                   59.99|\n",
      "|            7|                  4|                  502|                  3|              150.0|                    50.0|\n",
      "|            8|                  4|                 1014|                  4|             199.92|                   49.98|\n",
      "|            9|                  5|                  957|                  1|             299.98|                  299.98|\n",
      "|           10|                  5|                  365|                  5|             299.95|                   59.99|\n",
      "+-------------+-------------------+---------------------+-------------------+-------------------+------------------------+\n",
      "\n"
     ]
    }
   ],
   "source": [
    "spark.sql(\"SELECT * FROM order_items LIMIT 10\").show()"
   ]
  },
  {
   "cell_type": "code",
   "execution_count": 9,
   "id": "460acde3-05b5-4cb0-891c-c1eb5c8d30dd",
   "metadata": {
    "tags": []
   },
   "outputs": [
    {
     "name": "stderr",
     "output_type": "stream",
     "text": [
      "                                                                                \r"
     ]
    },
    {
     "name": "stdout",
     "output_type": "stream",
     "text": [
      "+------------+-----------+-----------+\n",
      "|   namespace|  tableName|isTemporary|\n",
      "+------------+-----------+-----------+\n",
      "|kevin_retail|order_items|      false|\n",
      "|kevin_retail|     orders|      false|\n",
      "+------------+-----------+-----------+\n",
      "\n"
     ]
    }
   ],
   "source": [
    "spark.sql('show tables').show()"
   ]
  },
  {
   "cell_type": "code",
   "execution_count": 24,
   "id": "625c497e-67bc-431e-aaf2-54f2fd1aa2ec",
   "metadata": {
    "tags": []
   },
   "outputs": [
    {
     "name": "stderr",
     "output_type": "stream",
     "text": [
      "[Stage 12:=============================>                            (1 + 1) / 2]\r"
     ]
    },
    {
     "name": "stdout",
     "output_type": "stream",
     "text": [
      "+--------+\n",
      "|count(1)|\n",
      "+--------+\n",
      "|   68883|\n",
      "+--------+\n",
      "\n"
     ]
    },
    {
     "name": "stderr",
     "output_type": "stream",
     "text": [
      "                                                                                \r"
     ]
    }
   ],
   "source": [
    "spark.sql(\"SELECT count(1) FROM orders\").show()"
   ]
  },
  {
   "cell_type": "code",
   "execution_count": 48,
   "id": "0f832160-fac1-4704-9abf-09fdb0a705fc",
   "metadata": {
    "tags": []
   },
   "outputs": [
    {
     "name": "stdout",
     "output_type": "stream",
     "text": [
      "+--------+\n",
      "|count(1)|\n",
      "+--------+\n",
      "|  172198|\n",
      "+--------+\n",
      "\n"
     ]
    }
   ],
   "source": [
    "spark.sql(\"SELECT count(1) FROM order_items\").show()"
   ]
  },
  {
   "cell_type": "code",
   "execution_count": 10,
   "id": "a363d2a3-e8d8-413e-a796-eade0eee89cb",
   "metadata": {
    "tags": []
   },
   "outputs": [
    {
     "name": "stderr",
     "output_type": "stream",
     "text": [
      "[Stage 9:>                                                          (0 + 1) / 1]\r"
     ]
    },
    {
     "name": "stdout",
     "output_type": "stream",
     "text": [
      "+-----------------+----------+---------------+\n",
      "|order_customer_id|order_time|   order_status|\n",
      "+-----------------+----------+---------------+\n",
      "|             8702|   2014-02|       COMPLETE|\n",
      "|             3066|   2014-02|PENDING_PAYMENT|\n",
      "|             7314|   2014-02|SUSPECTED_FRAUD|\n",
      "|             1271|   2014-02|       COMPLETE|\n",
      "|            11083|   2014-02|       COMPLETE|\n",
      "|             3159|   2014-02|         CLOSED|\n",
      "|             4551|   2014-02|         CLOSED|\n",
      "|             8135|   2014-02|        PENDING|\n",
      "|             7497|   2014-02|PENDING_PAYMENT|\n",
      "|             1868|   2014-02|        ON_HOLD|\n",
      "+-----------------+----------+---------------+\n",
      "\n"
     ]
    },
    {
     "name": "stderr",
     "output_type": "stream",
     "text": [
      "                                                                                \r"
     ]
    }
   ],
   "source": [
    "spark.sql(\"SELECT order_customer_id, date_format(order_date, 'yyyy-MM') as order_time, order_status FROM orders LIMIT 10\").show()"
   ]
  },
  {
   "cell_type": "code",
   "execution_count": 29,
   "id": "38b6339b-a07e-4c13-95ec-7d1c46803e53",
   "metadata": {
    "tags": []
   },
   "outputs": [
    {
     "name": "stdout",
     "output_type": "stream",
     "text": [
      "+--------+\n",
      "|count(1)|\n",
      "+--------+\n",
      "|   22899|\n",
      "+--------+\n",
      "\n"
     ]
    }
   ],
   "source": [
    "spark.sql(\"SELECT count(1) FROM orders WHERE order_status = 'COMPLETE'\").show()"
   ]
  },
  {
   "cell_type": "code",
   "execution_count": 14,
   "id": "067d6b2a-62b3-49a6-af71-ab1f46df8c31",
   "metadata": {
    "tags": []
   },
   "outputs": [
    {
     "name": "stderr",
     "output_type": "stream",
     "text": [
      "[Stage 17:>                                                         (0 + 2) / 2]\r"
     ]
    },
    {
     "name": "stdout",
     "output_type": "stream",
     "text": [
      "+--------+\n",
      "|count(1)|\n",
      "+--------+\n",
      "|   30455|\n",
      "+--------+\n",
      "\n"
     ]
    },
    {
     "name": "stderr",
     "output_type": "stream",
     "text": [
      "                                                                                \r"
     ]
    }
   ],
   "source": [
    "spark.sql(\"SELECT count(1) FROM orders WHERE order_status IN ('COMPLETE', 'CLOSED')\").show()"
   ]
  },
  {
   "cell_type": "code",
   "execution_count": 11,
   "id": "de3ab0da-1a77-4089-a273-87066666251e",
   "metadata": {
    "tags": []
   },
   "outputs": [
    {
     "name": "stderr",
     "output_type": "stream",
     "text": [
      "[Stage 10:=============================>                            (1 + 1) / 2]\r"
     ]
    },
    {
     "name": "stdout",
     "output_type": "stream",
     "text": [
      "+---------------+\n",
      "|   order_status|\n",
      "+---------------+\n",
      "|PENDING_PAYMENT|\n",
      "|       COMPLETE|\n",
      "|        ON_HOLD|\n",
      "| PAYMENT_REVIEW|\n",
      "|     PROCESSING|\n",
      "|         CLOSED|\n",
      "|SUSPECTED_FRAUD|\n",
      "|        PENDING|\n",
      "|       CANCELED|\n",
      "+---------------+\n",
      "\n"
     ]
    },
    {
     "name": "stderr",
     "output_type": "stream",
     "text": [
      "                                                                                \r"
     ]
    }
   ],
   "source": [
    "spark.sql(\"SELECT DISTINCT order_status FROM orders\").show()"
   ]
  },
  {
   "cell_type": "code",
   "execution_count": 12,
   "id": "f43b8237-943d-4619-85aa-2695c7f6176b",
   "metadata": {
    "tags": []
   },
   "outputs": [
    {
     "name": "stderr",
     "output_type": "stream",
     "text": [
      "[Stage 15:>                                                         (0 + 1) / 1]\r"
     ]
    },
    {
     "name": "stdout",
     "output_type": "stream",
     "text": [
      "+--------+--------------------+-----------------+---------------+\n",
      "|order_id|          order_date|order_customer_id|   order_status|\n",
      "+--------+--------------------+-----------------+---------------+\n",
      "|     189|2013-07-26 00:00:...|            10177|        PENDING|\n",
      "|     379|2013-07-27 00:00:...|             8735|PENDING_PAYMENT|\n",
      "|     440|2013-07-27 00:00:...|             7290|       COMPLETE|\n",
      "|     471|2013-07-27 00:00:...|            10861|        PENDING|\n",
      "|     599|2013-07-28 00:00:...|             8005|       COMPLETE|\n",
      "|     665|2013-07-28 00:00:...|             5648|        ON_HOLD|\n",
      "|     736|2013-07-29 00:00:...|             8536|       COMPLETE|\n",
      "|     974|2013-07-30 00:00:...|             6413|         CLOSED|\n",
      "|    1052|2013-07-30 00:00:...|              464|     PROCESSING|\n",
      "|    1175|2013-07-31 00:00:...|             1330|       COMPLETE|\n",
      "|    1241|2013-07-31 00:00:...|             7430|       COMPLETE|\n",
      "|    1252|2013-07-31 00:00:...|            10504|        PENDING|\n",
      "|    1296|2013-07-31 00:00:...|              589|         CLOSED|\n",
      "|    1547|2013-08-02 00:00:...|             9462|       COMPLETE|\n",
      "|    1714|2013-08-02 00:00:...|            10107|PENDING_PAYMENT|\n",
      "|    2895|2013-08-10 00:00:...|            11697|        PENDING|\n",
      "|    2924|2013-08-10 00:00:...|             4316|PENDING_PAYMENT|\n",
      "|    2969|2013-08-10 00:00:...|             8603|       COMPLETE|\n",
      "|    3025|2013-08-11 00:00:...|             7410|         CLOSED|\n",
      "|    3265|2013-08-12 00:00:...|            11334|       COMPLETE|\n",
      "+--------+--------------------+-----------------+---------------+\n",
      "only showing top 20 rows\n",
      "\n"
     ]
    },
    {
     "name": "stderr",
     "output_type": "stream",
     "text": [
      "                                                                                \r"
     ]
    }
   ],
   "source": [
    "spark.sql(\"SELECT DISTINCT * FROM orders\").show()"
   ]
  },
  {
   "cell_type": "markdown",
   "id": "eb217441-0843-45e9-91d3-26de46771605",
   "metadata": {},
   "source": [
    "## Filtering Data"
   ]
  },
  {
   "cell_type": "code",
   "execution_count": 13,
   "id": "3e252e28-bb75-42c9-aa0f-53f02cbe13cf",
   "metadata": {
    "tags": []
   },
   "outputs": [
    {
     "name": "stderr",
     "output_type": "stream",
     "text": [
      "[Stage 16:>                                                         (0 + 1) / 1]\r"
     ]
    },
    {
     "name": "stdout",
     "output_type": "stream",
     "text": [
      "+--------+--------------------+-----------------+------------+\n",
      "|order_id|          order_date|order_customer_id|order_status|\n",
      "+--------+--------------------+-----------------+------------+\n",
      "|       3|2013-07-25 00:00:...|            12111|    COMPLETE|\n",
      "|       5|2013-07-25 00:00:...|            11318|    COMPLETE|\n",
      "|       6|2013-07-25 00:00:...|             7130|    COMPLETE|\n",
      "|       7|2013-07-25 00:00:...|             4530|    COMPLETE|\n",
      "|      15|2013-07-25 00:00:...|             2568|    COMPLETE|\n",
      "|      17|2013-07-25 00:00:...|             2667|    COMPLETE|\n",
      "|      22|2013-07-25 00:00:...|              333|    COMPLETE|\n",
      "|      26|2013-07-25 00:00:...|             7562|    COMPLETE|\n",
      "|      28|2013-07-25 00:00:...|              656|    COMPLETE|\n",
      "|      32|2013-07-25 00:00:...|             3960|    COMPLETE|\n",
      "|      35|2013-07-25 00:00:...|             4840|    COMPLETE|\n",
      "|      45|2013-07-25 00:00:...|             2636|    COMPLETE|\n",
      "|      56|2013-07-25 00:00:...|            10519|    COMPLETE|\n",
      "|      63|2013-07-25 00:00:...|             1148|    COMPLETE|\n",
      "|      65|2013-07-25 00:00:...|             5903|    COMPLETE|\n",
      "|      67|2013-07-25 00:00:...|             1406|    COMPLETE|\n",
      "|      71|2013-07-25 00:00:...|             8646|    COMPLETE|\n",
      "|      72|2013-07-25 00:00:...|             4349|    COMPLETE|\n",
      "|      76|2013-07-25 00:00:...|             6898|    COMPLETE|\n",
      "|      80|2013-07-25 00:00:...|             3007|    COMPLETE|\n",
      "+--------+--------------------+-----------------+------------+\n",
      "only showing top 20 rows\n",
      "\n"
     ]
    },
    {
     "name": "stderr",
     "output_type": "stream",
     "text": [
      "                                                                                \r"
     ]
    }
   ],
   "source": [
    "spark.sql(\"SELECT * FROM orders WHERE order_status = 'COMPLETE'\").show()"
   ]
  },
  {
   "cell_type": "code",
   "execution_count": 15,
   "id": "0de23c33-b501-4e3b-8ad6-d64557e51cf4",
   "metadata": {},
   "outputs": [
    {
     "name": "stderr",
     "output_type": "stream",
     "text": [
      "[Stage 20:=============================>                            (1 + 1) / 2]\r"
     ]
    },
    {
     "name": "stdout",
     "output_type": "stream",
     "text": [
      "+--------+--------------------+-----------------+------------+\n",
      "|order_id|          order_date|order_customer_id|order_status|\n",
      "+--------+--------------------+-----------------+------------+\n",
      "|       1|2013-07-25 00:00:...|            11599|      CLOSED|\n",
      "|       3|2013-07-25 00:00:...|            12111|    COMPLETE|\n",
      "|       4|2013-07-25 00:00:...|             8827|      CLOSED|\n",
      "|       5|2013-07-25 00:00:...|            11318|    COMPLETE|\n",
      "|       6|2013-07-25 00:00:...|             7130|    COMPLETE|\n",
      "|       7|2013-07-25 00:00:...|             4530|    COMPLETE|\n",
      "|      12|2013-07-25 00:00:...|             1837|      CLOSED|\n",
      "|      15|2013-07-25 00:00:...|             2568|    COMPLETE|\n",
      "|      17|2013-07-25 00:00:...|             2667|    COMPLETE|\n",
      "|      18|2013-07-25 00:00:...|             1205|      CLOSED|\n",
      "+--------+--------------------+-----------------+------------+\n",
      "\n"
     ]
    },
    {
     "name": "stderr",
     "output_type": "stream",
     "text": [
      "                                                                                \r"
     ]
    }
   ],
   "source": [
    "spark.sql(\"SELECT * \\\n",
    "    FROM orders\\\n",
    "    WHERE order_status = 'COMPLETE' OR order_status = 'CLOSED' LIMIT 10\")\\\n",
    "    .show()"
   ]
  },
  {
   "cell_type": "code",
   "execution_count": null,
   "id": "6acd495d-4139-40a1-8ea4-ae2e96795d03",
   "metadata": {},
   "outputs": [],
   "source": [
    "spark.sql(\"SELECT * FROM orders WHERE order_status = 'COMPLETE'\").show()"
   ]
  },
  {
   "cell_type": "code",
   "execution_count": 41,
   "id": "6f8e01bb-87b2-4054-a52f-46faad4f893c",
   "metadata": {
    "tags": []
   },
   "outputs": [
    {
     "name": "stderr",
     "output_type": "stream",
     "text": [
      "                                                                                \r"
     ]
    },
    {
     "name": "stdout",
     "output_type": "stream",
     "text": [
      "+--------+--------------------+---------------+-------------------+\n",
      "|order_id|          order_date|   order_status|order_item_subtotal|\n",
      "+--------+--------------------+---------------+-------------------+\n",
      "|       1|2013-07-25 00:00:...|         CLOSED|             299.98|\n",
      "|       2|2013-07-25 00:00:...|PENDING_PAYMENT|             199.99|\n",
      "|       2|2013-07-25 00:00:...|PENDING_PAYMENT|              250.0|\n",
      "|       2|2013-07-25 00:00:...|PENDING_PAYMENT|             129.99|\n",
      "|       4|2013-07-25 00:00:...|         CLOSED|              49.98|\n",
      "|       4|2013-07-25 00:00:...|         CLOSED|             299.95|\n",
      "|       4|2013-07-25 00:00:...|         CLOSED|              150.0|\n",
      "|       4|2013-07-25 00:00:...|         CLOSED|             199.92|\n",
      "|       5|2013-07-25 00:00:...|       COMPLETE|             299.98|\n",
      "|       5|2013-07-25 00:00:...|       COMPLETE|             299.95|\n",
      "|       5|2013-07-25 00:00:...|       COMPLETE|              99.96|\n",
      "|       5|2013-07-25 00:00:...|       COMPLETE|             299.98|\n",
      "|       5|2013-07-25 00:00:...|       COMPLETE|             129.99|\n",
      "|       7|2013-07-25 00:00:...|       COMPLETE|             199.99|\n",
      "|       7|2013-07-25 00:00:...|       COMPLETE|             299.98|\n",
      "|       7|2013-07-25 00:00:...|       COMPLETE|              79.95|\n",
      "|       8|2013-07-25 00:00:...|     PROCESSING|             179.97|\n",
      "|       8|2013-07-25 00:00:...|     PROCESSING|             299.95|\n",
      "|       8|2013-07-25 00:00:...|     PROCESSING|             199.92|\n",
      "|       8|2013-07-25 00:00:...|     PROCESSING|               50.0|\n",
      "+--------+--------------------+---------------+-------------------+\n",
      "only showing top 20 rows\n",
      "\n"
     ]
    },
    {
     "name": "stderr",
     "output_type": "stream",
     "text": [
      "                                                                                \r"
     ]
    }
   ],
   "source": [
    "spark.sql(\"\"\"\n",
    "SELECT o.order_id,\n",
    "    o.order_date,\n",
    "    o.order_status,\n",
    "    oi.order_item_subtotal\n",
    "FROM orders o JOIN order_items oi\n",
    "    ON o.order_id = oi.order_item_order_id\n",
    "\"\"\").show()"
   ]
  },
  {
   "cell_type": "code",
   "execution_count": 42,
   "id": "3a791001-4735-4bbe-a474-32880db352cc",
   "metadata": {
    "tags": []
   },
   "outputs": [
    {
     "name": "stdout",
     "output_type": "stream",
     "text": [
      "+--------+\n",
      "|count(1)|\n",
      "+--------+\n",
      "|   68883|\n",
      "+--------+\n",
      "\n"
     ]
    },
    {
     "name": "stderr",
     "output_type": "stream",
     "text": [
      "                                                                                \r"
     ]
    }
   ],
   "source": [
    "spark.sql(\"\"\"\n",
    "SELECT count(1)\n",
    "FROM orders\n",
    "\"\"\").show()"
   ]
  },
  {
   "cell_type": "code",
   "execution_count": 16,
   "id": "4a6c47f1-7b8a-4d9a-97af-cb0b1c211900",
   "metadata": {
    "tags": []
   },
   "outputs": [
    {
     "name": "stderr",
     "output_type": "stream",
     "text": [
      "[Stage 23:=============================>                            (1 + 1) / 2]\r"
     ]
    },
    {
     "name": "stdout",
     "output_type": "stream",
     "text": [
      "+--------+\n",
      "|count(1)|\n",
      "+--------+\n",
      "|   22899|\n",
      "+--------+\n",
      "\n"
     ]
    },
    {
     "name": "stderr",
     "output_type": "stream",
     "text": [
      "                                                                                \r"
     ]
    }
   ],
   "source": [
    "spark.sql(\"SELECT count(1) FROM orders WHERE order_status = 'COMPLETE'\").show()"
   ]
  },
  {
   "cell_type": "code",
   "execution_count": 17,
   "id": "c48918a3-dcb9-4e18-bf0a-cacf6677d299",
   "metadata": {
    "tags": []
   },
   "outputs": [
    {
     "name": "stderr",
     "output_type": "stream",
     "text": [
      "[Stage 26:=============================>                            (1 + 1) / 2]\r"
     ]
    },
    {
     "name": "stdout",
     "output_type": "stream",
     "text": [
      "+--------+\n",
      "|count(1)|\n",
      "+--------+\n",
      "|   30455|\n",
      "+--------+\n",
      "\n"
     ]
    },
    {
     "name": "stderr",
     "output_type": "stream",
     "text": [
      "                                                                                \r"
     ]
    }
   ],
   "source": [
    "spark.sql(\"\"\"\n",
    "SELECT count(1) FROM orders \n",
    "WHERE order_status IN ('COMPLETE', 'CLOSED')\n",
    "\"\"\").show()"
   ]
  },
  {
   "cell_type": "code",
   "execution_count": 18,
   "id": "af1b12ad-cb1c-4816-b063-f8640c533290",
   "metadata": {
    "tags": []
   },
   "outputs": [
    {
     "name": "stderr",
     "output_type": "stream",
     "text": [
      "[Stage 29:=============================>                            (1 + 1) / 2]\r"
     ]
    },
    {
     "name": "stdout",
     "output_type": "stream",
     "text": [
      "+--------+\n",
      "|count(1)|\n",
      "+--------+\n",
      "|    2544|\n",
      "+--------+\n",
      "\n"
     ]
    },
    {
     "name": "stderr",
     "output_type": "stream",
     "text": [
      "                                                                                \r"
     ]
    }
   ],
   "source": [
    "spark.sql(\"\"\"\n",
    "SELECT count(1) FROM orders \n",
    "WHERE order_status IN ('COMPLETE', 'CLOSED')\n",
    "    AND order_date LIKE '2014-01%'\n",
    "\"\"\").show()"
   ]
  },
  {
   "cell_type": "code",
   "execution_count": 19,
   "id": "f09b6d53-62fa-4d87-8e92-c59ff8a28b36",
   "metadata": {
    "tags": []
   },
   "outputs": [
    {
     "name": "stderr",
     "output_type": "stream",
     "text": [
      "[Stage 32:>                                                         (0 + 1) / 1]\r"
     ]
    },
    {
     "name": "stdout",
     "output_type": "stream",
     "text": [
      "+--------+--------------------+-----------------+------------+\n",
      "|order_id|          order_date|order_customer_id|order_status|\n",
      "+--------+--------------------+-----------------+------------+\n",
      "|   25882|2014-01-01 00:00:...|             4598|    COMPLETE|\n",
      "|   25888|2014-01-01 00:00:...|             6735|    COMPLETE|\n",
      "|   25889|2014-01-01 00:00:...|            10045|    COMPLETE|\n",
      "|   25891|2014-01-01 00:00:...|             3037|      CLOSED|\n",
      "|   25895|2014-01-01 00:00:...|             1044|    COMPLETE|\n",
      "|   25897|2014-01-01 00:00:...|             6405|    COMPLETE|\n",
      "|   25898|2014-01-01 00:00:...|             3950|    COMPLETE|\n",
      "|   25899|2014-01-01 00:00:...|             8068|      CLOSED|\n",
      "|   25900|2014-01-01 00:00:...|             2382|      CLOSED|\n",
      "|   25901|2014-01-01 00:00:...|             3099|    COMPLETE|\n",
      "|   25902|2014-01-01 00:00:...|             6083|    COMPLETE|\n",
      "|   25907|2014-01-01 00:00:...|             3603|    COMPLETE|\n",
      "|   25913|2014-01-01 00:00:...|             9382|    COMPLETE|\n",
      "|   25914|2014-01-01 00:00:...|             9288|    COMPLETE|\n",
      "|   25915|2014-01-01 00:00:...|             2963|    COMPLETE|\n",
      "|   25916|2014-01-01 00:00:...|             3219|    COMPLETE|\n",
      "|   25918|2014-01-01 00:00:...|              279|    COMPLETE|\n",
      "|   25919|2014-01-01 00:00:...|             3052|    COMPLETE|\n",
      "|   25920|2014-01-01 00:00:...|            12232|    COMPLETE|\n",
      "|   25921|2014-01-01 00:00:...|            12373|    COMPLETE|\n",
      "+--------+--------------------+-----------------+------------+\n",
      "only showing top 20 rows\n",
      "\n"
     ]
    },
    {
     "name": "stderr",
     "output_type": "stream",
     "text": [
      "                                                                                \r"
     ]
    }
   ],
   "source": [
    "spark.sql(\"\"\"\n",
    "SELECT * FROM orders \n",
    "WHERE order_status IN ('COMPLETE', 'CLOSED')\n",
    "    AND date_format(order_date, 'yyyy-MM') = '2014-01'\n",
    "\"\"\").show()"
   ]
  },
  {
   "cell_type": "markdown",
   "id": "af536805-fe72-48db-9942-c5f3cc37477a",
   "metadata": {},
   "source": [
    "## Joining Tables - Inner"
   ]
  },
  {
   "cell_type": "code",
   "execution_count": null,
   "id": "9515c81a-3b26-4e08-9351-31af46c06376",
   "metadata": {},
   "outputs": [],
   "source": []
  },
  {
   "cell_type": "code",
   "execution_count": 20,
   "id": "fa806991-51f3-452b-8e2c-d94bc7f5c8c6",
   "metadata": {
    "tags": []
   },
   "outputs": [
    {
     "name": "stderr",
     "output_type": "stream",
     "text": [
      "[Stage 34:>                                                         (0 + 1) / 1]\r"
     ]
    },
    {
     "name": "stdout",
     "output_type": "stream",
     "text": [
      "+--------+--------------------+---------------+-------------------+\n",
      "|order_id|          order_date|   order_status|order_item_subtotal|\n",
      "+--------+--------------------+---------------+-------------------+\n",
      "|       1|2013-07-25 00:00:...|         CLOSED|             299.98|\n",
      "|       2|2013-07-25 00:00:...|PENDING_PAYMENT|             199.99|\n",
      "|       2|2013-07-25 00:00:...|PENDING_PAYMENT|              250.0|\n",
      "|       2|2013-07-25 00:00:...|PENDING_PAYMENT|             129.99|\n",
      "|       4|2013-07-25 00:00:...|         CLOSED|              49.98|\n",
      "|       4|2013-07-25 00:00:...|         CLOSED|             299.95|\n",
      "|       4|2013-07-25 00:00:...|         CLOSED|              150.0|\n",
      "|       4|2013-07-25 00:00:...|         CLOSED|             199.92|\n",
      "|       5|2013-07-25 00:00:...|       COMPLETE|             299.98|\n",
      "|       5|2013-07-25 00:00:...|       COMPLETE|             299.95|\n",
      "|       5|2013-07-25 00:00:...|       COMPLETE|              99.96|\n",
      "|       5|2013-07-25 00:00:...|       COMPLETE|             299.98|\n",
      "|       5|2013-07-25 00:00:...|       COMPLETE|             129.99|\n",
      "|       7|2013-07-25 00:00:...|       COMPLETE|             199.99|\n",
      "|       7|2013-07-25 00:00:...|       COMPLETE|             299.98|\n",
      "|       7|2013-07-25 00:00:...|       COMPLETE|              79.95|\n",
      "|       8|2013-07-25 00:00:...|     PROCESSING|             179.97|\n",
      "|       8|2013-07-25 00:00:...|     PROCESSING|             299.95|\n",
      "|       8|2013-07-25 00:00:...|     PROCESSING|             199.92|\n",
      "|       8|2013-07-25 00:00:...|     PROCESSING|               50.0|\n",
      "+--------+--------------------+---------------+-------------------+\n",
      "only showing top 20 rows\n",
      "\n"
     ]
    },
    {
     "name": "stderr",
     "output_type": "stream",
     "text": [
      "                                                                                \r"
     ]
    }
   ],
   "source": [
    "spark.sql(\"\"\"\n",
    "SELECT o.order_id,\n",
    "    o.order_date,\n",
    "    o.order_status,\n",
    "    oi.order_item_subtotal\n",
    "FROM orders o JOIN order_items oi\n",
    "    ON o.order_id = oi.order_item_order_id\n",
    "\"\"\").show()"
   ]
  },
  {
   "cell_type": "code",
   "execution_count": 44,
   "id": "73443dfc-45a7-4438-b63b-21e85a1ffa2f",
   "metadata": {
    "tags": []
   },
   "outputs": [
    {
     "name": "stderr",
     "output_type": "stream",
     "text": [
      "                                                                                \r"
     ]
    },
    {
     "name": "stdout",
     "output_type": "stream",
     "text": [
      "+--------+--------------------+------------+-------------------+\n",
      "|order_id|          order_date|order_status|order_item_subtotal|\n",
      "+--------+--------------------+------------+-------------------+\n",
      "|   25882|2014-01-01 00:00:...|    COMPLETE|             299.97|\n",
      "|   25882|2014-01-01 00:00:...|    COMPLETE|              100.0|\n",
      "|   25882|2014-01-01 00:00:...|    COMPLETE|              79.98|\n",
      "|   25882|2014-01-01 00:00:...|    COMPLETE|             399.98|\n",
      "|   25888|2014-01-01 00:00:...|    COMPLETE|             299.98|\n",
      "|   25889|2014-01-01 00:00:...|    COMPLETE|              99.96|\n",
      "|   25889|2014-01-01 00:00:...|    COMPLETE|              19.99|\n",
      "|   25891|2014-01-01 00:00:...|      CLOSED|              150.0|\n",
      "|   25891|2014-01-01 00:00:...|      CLOSED|               50.0|\n",
      "|   25891|2014-01-01 00:00:...|      CLOSED|             119.97|\n",
      "|   25895|2014-01-01 00:00:...|    COMPLETE|             399.98|\n",
      "|   25895|2014-01-01 00:00:...|    COMPLETE|             199.99|\n",
      "|   25897|2014-01-01 00:00:...|    COMPLETE|               66.0|\n",
      "|   25897|2014-01-01 00:00:...|    COMPLETE|              250.0|\n",
      "|   25897|2014-01-01 00:00:...|    COMPLETE|             299.98|\n",
      "|   25898|2014-01-01 00:00:...|    COMPLETE|             129.99|\n",
      "|   25900|2014-01-01 00:00:...|      CLOSED|             399.98|\n",
      "|   25900|2014-01-01 00:00:...|      CLOSED|             119.98|\n",
      "|   25900|2014-01-01 00:00:...|      CLOSED|             199.98|\n",
      "|   25901|2014-01-01 00:00:...|    COMPLETE|             299.97|\n",
      "+--------+--------------------+------------+-------------------+\n",
      "only showing top 20 rows\n",
      "\n"
     ]
    },
    {
     "name": "stderr",
     "output_type": "stream",
     "text": [
      "                                                                                \r"
     ]
    }
   ],
   "source": [
    "spark.sql(\"\"\"\n",
    "SELECT o.order_id,\n",
    "    o.order_date,\n",
    "    o.order_status,\n",
    "    oi.order_item_subtotal\n",
    "FROM orders o JOIN order_items oi\n",
    "    ON o.order_id = oi.order_item_order_id\n",
    "WHERE o.order_status IN ('COMPLETE', 'CLOSED')\n",
    "    AND date_format(order_date, 'yyyy-MM') = '2014-01'\n",
    "\"\"\").show()"
   ]
  },
  {
   "cell_type": "markdown",
   "id": "dabd0623-798d-4a66-9e1a-fe30e42f8414",
   "metadata": {},
   "source": [
    "## Joining Tables - Outer"
   ]
  },
  {
   "cell_type": "code",
   "execution_count": 21,
   "id": "dd42dc4e-18f1-4628-a9fd-c938c97837ff",
   "metadata": {
    "tags": []
   },
   "outputs": [
    {
     "name": "stderr",
     "output_type": "stream",
     "text": [
      "[Stage 36:>                                                         (0 + 1) / 1]\r"
     ]
    },
    {
     "name": "stdout",
     "output_type": "stream",
     "text": [
      "+--------+--------------------+---------------+-------------------+-------------------+\n",
      "|order_id|          order_date|   order_status|order_item_order_id|order_item_subtotal|\n",
      "+--------+--------------------+---------------+-------------------+-------------------+\n",
      "|       1|2013-07-25 00:00:...|         CLOSED|                  1|             299.98|\n",
      "|       1|2013-07-25 00:00:...|         CLOSED|                  1|             299.98|\n",
      "|       2|2013-07-25 00:00:...|PENDING_PAYMENT|                  2|             129.99|\n",
      "|       2|2013-07-25 00:00:...|PENDING_PAYMENT|                  2|              250.0|\n",
      "|       2|2013-07-25 00:00:...|PENDING_PAYMENT|                  2|             199.99|\n",
      "|       2|2013-07-25 00:00:...|PENDING_PAYMENT|                  2|             129.99|\n",
      "|       2|2013-07-25 00:00:...|PENDING_PAYMENT|                  2|              250.0|\n",
      "|       2|2013-07-25 00:00:...|PENDING_PAYMENT|                  2|             199.99|\n",
      "|       3|2013-07-25 00:00:...|       COMPLETE|               null|               null|\n",
      "|       4|2013-07-25 00:00:...|         CLOSED|                  4|             199.92|\n",
      "|       4|2013-07-25 00:00:...|         CLOSED|                  4|              150.0|\n",
      "|       4|2013-07-25 00:00:...|         CLOSED|                  4|             299.95|\n",
      "|       4|2013-07-25 00:00:...|         CLOSED|                  4|              49.98|\n",
      "|       4|2013-07-25 00:00:...|         CLOSED|                  4|             199.92|\n",
      "|       4|2013-07-25 00:00:...|         CLOSED|                  4|              150.0|\n",
      "|       4|2013-07-25 00:00:...|         CLOSED|                  4|             299.95|\n",
      "|       4|2013-07-25 00:00:...|         CLOSED|                  4|              49.98|\n",
      "|       5|2013-07-25 00:00:...|       COMPLETE|                  5|             129.99|\n",
      "|       5|2013-07-25 00:00:...|       COMPLETE|                  5|             299.98|\n",
      "|       5|2013-07-25 00:00:...|       COMPLETE|                  5|              99.96|\n",
      "+--------+--------------------+---------------+-------------------+-------------------+\n",
      "only showing top 20 rows\n",
      "\n"
     ]
    },
    {
     "name": "stderr",
     "output_type": "stream",
     "text": [
      "                                                                                \r"
     ]
    }
   ],
   "source": [
    "spark.sql(\"\"\"\n",
    "SELECT o.order_id,\n",
    "    o.order_date,\n",
    "    o.order_status,\n",
    "    oi.order_item_order_id,\n",
    "    oi.order_item_subtotal\n",
    "FROM orders o LEFT OUTER JOIN order_items oi\n",
    "    ON o.order_id = oi.order_item_order_id\n",
    "\"\"\").show()"
   ]
  },
  {
   "cell_type": "code",
   "execution_count": 22,
   "id": "14943d85-f419-40c9-a862-01dd2716591e",
   "metadata": {
    "tags": []
   },
   "outputs": [
    {
     "name": "stderr",
     "output_type": "stream",
     "text": [
      "[Stage 38:=============================>                            (1 + 1) / 2]\r"
     ]
    },
    {
     "name": "stdout",
     "output_type": "stream",
     "text": [
      "+--------+\n",
      "|count(1)|\n",
      "+--------+\n",
      "|  355848|\n",
      "+--------+\n",
      "\n"
     ]
    },
    {
     "name": "stderr",
     "output_type": "stream",
     "text": [
      "                                                                                \r"
     ]
    }
   ],
   "source": [
    "spark.sql(\"\"\"\n",
    "SELECT count(1)\n",
    "FROM orders o LEFT OUTER JOIN order_items oi\n",
    "    ON o.order_id = oi.order_item_order_id\n",
    "\"\"\").show()"
   ]
  },
  {
   "cell_type": "code",
   "execution_count": 23,
   "id": "4879e612-7813-40e4-a555-1bf1b3e4237e",
   "metadata": {
    "tags": []
   },
   "outputs": [
    {
     "name": "stderr",
     "output_type": "stream",
     "text": [
      "[Stage 42:>                                                         (0 + 1) / 1]\r"
     ]
    },
    {
     "name": "stdout",
     "output_type": "stream",
     "text": [
      "+--------+--------------------+---------------+-------------------+-------------------+\n",
      "|order_id|          order_date|   order_status|order_item_order_id|order_item_subtotal|\n",
      "+--------+--------------------+---------------+-------------------+-------------------+\n",
      "|       3|2013-07-25 00:00:...|       COMPLETE|               null|               null|\n",
      "|       6|2013-07-25 00:00:...|       COMPLETE|               null|               null|\n",
      "|      22|2013-07-25 00:00:...|       COMPLETE|               null|               null|\n",
      "|      26|2013-07-25 00:00:...|       COMPLETE|               null|               null|\n",
      "|      32|2013-07-25 00:00:...|       COMPLETE|               null|               null|\n",
      "|      40|2013-07-25 00:00:...|PENDING_PAYMENT|               null|               null|\n",
      "|      47|2013-07-25 00:00:...|PENDING_PAYMENT|               null|               null|\n",
      "|      53|2013-07-25 00:00:...|     PROCESSING|               null|               null|\n",
      "|      54|2013-07-25 00:00:...|PENDING_PAYMENT|               null|               null|\n",
      "|      55|2013-07-25 00:00:...|        PENDING|               null|               null|\n",
      "|      60|2013-07-25 00:00:...|PENDING_PAYMENT|               null|               null|\n",
      "|      76|2013-07-25 00:00:...|       COMPLETE|               null|               null|\n",
      "|      78|2013-07-25 00:00:...| PAYMENT_REVIEW|               null|               null|\n",
      "|      79|2013-07-25 00:00:...|PENDING_PAYMENT|               null|               null|\n",
      "|      80|2013-07-25 00:00:...|       COMPLETE|               null|               null|\n",
      "|      82|2013-07-25 00:00:...|PENDING_PAYMENT|               null|               null|\n",
      "|      85|2013-07-25 00:00:...|        PENDING|               null|               null|\n",
      "|      86|2013-07-25 00:00:...|PENDING_PAYMENT|               null|               null|\n",
      "|      89|2013-07-25 00:00:...|        ON_HOLD|               null|               null|\n",
      "|      90|2013-07-25 00:00:...|         CLOSED|               null|               null|\n",
      "+--------+--------------------+---------------+-------------------+-------------------+\n",
      "only showing top 20 rows\n",
      "\n"
     ]
    },
    {
     "name": "stderr",
     "output_type": "stream",
     "text": [
      "                                                                                \r"
     ]
    }
   ],
   "source": [
    "spark.sql(\"\"\"\n",
    "SELECT o.order_id,\n",
    "    o.order_date,\n",
    "    o.order_status,\n",
    "    oi.order_item_order_id,\n",
    "    oi.order_item_subtotal\n",
    "FROM orders o LEFT OUTER JOIN order_items oi\n",
    "    ON o.order_id = oi.order_item_order_id\n",
    "WHERE oi.order_item_order_id IS NULL\n",
    "\"\"\").show()"
   ]
  },
  {
   "cell_type": "markdown",
   "id": "5874c48b-be9e-4ac6-b687-70551e28f4e8",
   "metadata": {},
   "source": [
    "## Aggregating Data"
   ]
  },
  {
   "cell_type": "code",
   "execution_count": 24,
   "id": "08f042a3-bdcb-4027-80c3-77c2b1a2f4a6",
   "metadata": {
    "tags": []
   },
   "outputs": [
    {
     "name": "stdout",
     "output_type": "stream",
     "text": [
      "+---------------+\n",
      "|count(order_id)|\n",
      "+---------------+\n",
      "|          68883|\n",
      "+---------------+\n",
      "\n"
     ]
    }
   ],
   "source": [
    "spark.sql(\"SELECT count(order_id) FROM orders\").show()"
   ]
  },
  {
   "cell_type": "code",
   "execution_count": 25,
   "id": "bc90d733-9684-44db-87b6-1d49f604545d",
   "metadata": {
    "tags": []
   },
   "outputs": [
    {
     "name": "stderr",
     "output_type": "stream",
     "text": [
      "[Stage 51:>                                                         (0 + 1) / 1]\r"
     ]
    },
    {
     "name": "stdout",
     "output_type": "stream",
     "text": [
      "+--------------------------+\n",
      "|count(DISTINCT order_date)|\n",
      "+--------------------------+\n",
      "|                       364|\n",
      "+--------------------------+\n",
      "\n"
     ]
    },
    {
     "name": "stderr",
     "output_type": "stream",
     "text": [
      "                                                                                \r"
     ]
    }
   ],
   "source": [
    "spark.sql(\"SELECT count(DISTINCT order_date) FROM orders\").show()"
   ]
  },
  {
   "cell_type": "code",
   "execution_count": 26,
   "id": "d55fabe5-0822-42aa-9fcf-bbfe39e5a027",
   "metadata": {
    "tags": []
   },
   "outputs": [
    {
     "name": "stderr",
     "output_type": "stream",
     "text": [
      "[Stage 52:>                                                         (0 + 2) / 2]\r"
     ]
    },
    {
     "name": "stdout",
     "output_type": "stream",
     "text": [
      "+-------------+\n",
      "|order_revenue|\n",
      "+-------------+\n",
      "|      1159.96|\n",
      "+-------------+\n",
      "\n"
     ]
    },
    {
     "name": "stderr",
     "output_type": "stream",
     "text": [
      "                                                                                \r"
     ]
    }
   ],
   "source": [
    "spark.sql(\"\"\"\n",
    "SELECT round(sum(order_item_subtotal), 2) AS order_revenue\n",
    "FROM order_items \n",
    "WHERE order_item_order_id = 2\n",
    "\"\"\").show()"
   ]
  },
  {
   "cell_type": "code",
   "execution_count": 27,
   "id": "1e0f6d3b-2385-41b4-8207-eede210faf71",
   "metadata": {
    "tags": []
   },
   "outputs": [
    {
     "name": "stdout",
     "output_type": "stream",
     "text": [
      "+--------+\n",
      "|count(1)|\n",
      "+--------+\n",
      "|   30455|\n",
      "+--------+\n",
      "\n"
     ]
    }
   ],
   "source": [
    "spark.sql(\"\"\"\n",
    "SELECT count(1) \n",
    "FROM orders\n",
    "WHERE order_status IN ('COMPLETE', 'CLOSED')\n",
    "\"\"\").show()"
   ]
  },
  {
   "cell_type": "code",
   "execution_count": 36,
   "id": "e1b9253a-9aa5-4a07-9a47-2eed19d5a624",
   "metadata": {
    "tags": []
   },
   "outputs": [
    {
     "name": "stderr",
     "output_type": "stream",
     "text": [
      "[Stage 73:=============================>                            (1 + 1) / 2]\r"
     ]
    },
    {
     "name": "stdout",
     "output_type": "stream",
     "text": [
      "+-------+-----+\n",
      "|date   |count|\n",
      "+-------+-----+\n",
      "|2013-08|73   |\n",
      "|2013-10|162  |\n",
      "|2013-11|135  |\n",
      "|2013-09|121  |\n",
      "|2013-09|139  |\n",
      "|2013-12|266  |\n",
      "|2013-09|276  |\n",
      "|2013-12|170  |\n",
      "|2014-01|163  |\n",
      "|2013-10|139  |\n",
      "|2013-11|246  |\n",
      "|2014-01|163  |\n",
      "|2014-01|158  |\n",
      "|2014-02|174  |\n",
      "|2013-09|215  |\n",
      "|2013-09|109  |\n",
      "|2013-10|154  |\n",
      "|2014-01|207  |\n",
      "|2014-02|151  |\n",
      "|2014-02|221  |\n",
      "+-------+-----+\n",
      "only showing top 20 rows\n",
      "\n"
     ]
    },
    {
     "name": "stderr",
     "output_type": "stream",
     "text": [
      "                                                                                \r"
     ]
    }
   ],
   "source": [
    "spark.sql(\"\"\"\n",
    "SELECT date_format(order_date,'yyyy-MM') as date,\n",
    "    count(1) As count\n",
    "FROM orders\n",
    "GROUP BY order_date\n",
    "\"\"\").show(truncate=False)"
   ]
  },
  {
   "cell_type": "code",
   "execution_count": 38,
   "id": "5da3b589-3dff-4acb-8030-9c1f2ba0ed6d",
   "metadata": {
    "tags": []
   },
   "outputs": [
    {
     "name": "stderr",
     "output_type": "stream",
     "text": [
      "[Stage 76:=============================>                            (1 + 1) / 2]\r"
     ]
    },
    {
     "name": "stdout",
     "output_type": "stream",
     "text": [
      "+-------------------+-------------+\n",
      "|order_item_order_id|order_revenue|\n",
      "+-------------------+-------------+\n",
      "|                148|       959.98|\n",
      "|                463|      1659.84|\n",
      "|                471|       339.96|\n",
      "|                496|        883.9|\n",
      "|               1088|       499.94|\n",
      "|               1580|        599.9|\n",
      "|               1591|       879.72|\n",
      "|               1645|      3019.58|\n",
      "|               2366|       599.94|\n",
      "|               2659|      1449.82|\n",
      "|               2866|      1139.92|\n",
      "|               3175|       419.94|\n",
      "|               3749|       287.94|\n",
      "|               3794|        599.9|\n",
      "|               3918|      1659.86|\n",
      "|               3997|       1159.9|\n",
      "|               4101|       259.98|\n",
      "|               4519|       159.96|\n",
      "|               4818|       799.96|\n",
      "|               4900|       359.94|\n",
      "+-------------------+-------------+\n",
      "only showing top 20 rows\n",
      "\n"
     ]
    },
    {
     "name": "stderr",
     "output_type": "stream",
     "text": [
      "                                                                                \r"
     ]
    }
   ],
   "source": [
    "spark.sql(\"\"\"\n",
    "SELECT order_item_order_id,\n",
    "    round(sum(order_item_subtotal), 2) AS order_revenue\n",
    "FROM order_items\n",
    "GROUP BY order_item_order_id\n",
    "\"\"\").show()"
   ]
  },
  {
   "cell_type": "markdown",
   "id": "1cf07e6a-8db8-4dee-9400-cd47a9353202",
   "metadata": {},
   "source": [
    "## Sorting Data"
   ]
  },
  {
   "cell_type": "code",
   "execution_count": 41,
   "id": "d543cddf-d07d-47b0-93f6-e8e7ee32a08d",
   "metadata": {
    "tags": []
   },
   "outputs": [
    {
     "name": "stdout",
     "output_type": "stream",
     "text": [
      "+--------+--------------------+-----------------+---------------+\n",
      "|order_id|          order_date|order_customer_id|   order_status|\n",
      "+--------+--------------------+-----------------+---------------+\n",
      "|   22945|2013-12-13 00:00:...|                1|       COMPLETE|\n",
      "|   57963|2013-08-02 00:00:...|                2|        ON_HOLD|\n",
      "|   67863|2013-11-30 00:00:...|                2|       COMPLETE|\n",
      "|   33865|2014-02-18 00:00:...|                2|       COMPLETE|\n",
      "|   15192|2013-10-29 00:00:...|                2|PENDING_PAYMENT|\n",
      "|   22646|2013-12-11 00:00:...|                3|       COMPLETE|\n",
      "|   56178|2014-07-15 00:00:...|                3|        PENDING|\n",
      "|   57617|2014-07-24 00:00:...|                3|       COMPLETE|\n",
      "|   61453|2013-12-14 00:00:...|                3|       COMPLETE|\n",
      "|   23662|2013-12-19 00:00:...|                3|       COMPLETE|\n",
      "|   35158|2014-02-26 00:00:...|                3|       COMPLETE|\n",
      "|   46399|2014-05-09 00:00:...|                3|     PROCESSING|\n",
      "|   37878|2014-03-15 00:00:...|                4|       COMPLETE|\n",
      "|   49339|2014-05-28 00:00:...|                4|       COMPLETE|\n",
      "|    9023|2013-09-19 00:00:...|                4|       COMPLETE|\n",
      "|    9704|2013-09-24 00:00:...|                4|       COMPLETE|\n",
      "|   17253|2013-11-09 00:00:...|                4|PENDING_PAYMENT|\n",
      "|   51157|2014-06-10 00:00:...|                4|         CLOSED|\n",
      "|   45832|2014-05-05 00:00:...|                5|PENDING_PAYMENT|\n",
      "|   36472|2014-03-06 00:00:...|                5|     PROCESSING|\n",
      "+--------+--------------------+-----------------+---------------+\n",
      "only showing top 20 rows\n",
      "\n"
     ]
    }
   ],
   "source": [
    "spark.sql(\"\"\"\n",
    "SELECT * FROM orders\n",
    "ORDER BY order_customer_id\n",
    "\"\"\").show()"
   ]
  },
  {
   "cell_type": "code",
   "execution_count": 45,
   "id": "dd78ab3f-5a1b-4c5e-9520-8232b1ef9385",
   "metadata": {
    "tags": []
   },
   "outputs": [
    {
     "name": "stderr",
     "output_type": "stream",
     "text": [
      "[Stage 90:>                                                         (0 + 2) / 2]\r"
     ]
    },
    {
     "name": "stdout",
     "output_type": "stream",
     "text": [
      "+---------------------+---------------------+--------+\n",
      "|order_date           |order_item_product_id|revenue |\n",
      "+---------------------+---------------------+--------+\n",
      "|2013-07-25 00:00:00.0|1004                 |11199.44|\n",
      "|2013-07-25 00:00:00.0|191                  |10198.98|\n",
      "|2013-07-25 00:00:00.0|957                  |8999.4  |\n",
      "|2013-07-25 00:00:00.0|365                  |6718.88 |\n",
      "|2013-07-25 00:00:00.0|1073                 |5999.7  |\n",
      "|2013-07-25 00:00:00.0|1014                 |5597.76 |\n",
      "|2013-07-25 00:00:00.0|403                  |3899.7  |\n",
      "|2013-07-25 00:00:00.0|502                  |3300.0  |\n",
      "|2013-07-25 00:00:00.0|627                  |2159.46 |\n",
      "|2013-07-25 00:00:00.0|226                  |1199.98 |\n",
      "|2013-07-25 00:00:00.0|24                   |639.92  |\n",
      "|2013-07-25 00:00:00.0|821                  |415.92  |\n",
      "|2013-07-25 00:00:00.0|625                  |399.98  |\n",
      "|2013-07-25 00:00:00.0|705                  |239.98  |\n",
      "|2013-07-25 00:00:00.0|572                  |239.94  |\n",
      "|2013-07-25 00:00:00.0|666                  |219.98  |\n",
      "|2013-07-25 00:00:00.0|725                  |216.0   |\n",
      "|2013-07-25 00:00:00.0|134                  |200.0   |\n",
      "|2013-07-25 00:00:00.0|906                  |199.92  |\n",
      "|2013-07-25 00:00:00.0|828                  |191.94  |\n",
      "+---------------------+---------------------+--------+\n",
      "only showing top 20 rows\n",
      "\n"
     ]
    },
    {
     "name": "stderr",
     "output_type": "stream",
     "text": [
      "                                                                                \r"
     ]
    }
   ],
   "source": [
    "spark.sql(\"\"\"\n",
    "SELECT o.order_date,\n",
    "    oi.order_item_product_id,\n",
    "    round(sum(oi.order_item_subtotal), 2) AS revenue\n",
    "FROM orders o JOIN order_items oi\n",
    "    ON o.order_id = oi.order_item_order_id\n",
    "WHERE o.order_status IN ('COMPLETE', 'CLOSED')\n",
    "GROUP BY o.order_date,\n",
    "    oi.order_item_product_id\n",
    "ORDER BY o.order_date,\n",
    "    revenue DESC\n",
    "\"\"\").show(truncate=False)"
   ]
  },
  {
   "cell_type": "code",
   "execution_count": null,
   "id": "f44830d0-5f1c-4ae9-b213-53bdb9a12dd0",
   "metadata": {},
   "outputs": [],
   "source": []
  }
 ],
 "metadata": {
  "kernelspec": {
   "display_name": "Pyspark 3",
   "language": "python",
   "name": "pyspark3"
  },
  "language_info": {
   "codemirror_mode": {
    "name": "ipython",
    "version": 3
   },
   "file_extension": ".py",
   "mimetype": "text/x-python",
   "name": "python",
   "nbconvert_exporter": "python",
   "pygments_lexer": "ipython3",
   "version": "3.8.10"
  }
 },
 "nbformat": 4,
 "nbformat_minor": 5
}
