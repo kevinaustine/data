{
 "cells": [
  {
   "cell_type": "markdown",
   "metadata": {
    "slideshow": {
     "slide_type": "slide"
    }
   },
   "source": [
    "# Part II - Prosper Loan data Exploration Project\n",
    "## by Kevin Austine Otieno"
   ]
  },
  {
   "cell_type": "markdown",
   "metadata": {
    "slideshow": {
     "slide_type": "slide"
    }
   },
   "source": [
    "\n",
    "\n",
    "## Investigation Overview\n",
    "\n",
    "For this project I chose to work more with numerical data as they give clear insights than variable that make you do more of imaginations. I looked into factors affecting perfomance of loans with a director major on defaulted and completed loans and also some like  interet rates the borrowers with already mortage will go for, or with listing category, what amount do they go for and als the high income eraners what kind of interet rates entice the.\n",
    "\n",
    "## Dataset Overview\n",
    "\n",
    "> This data set contains 113,937 loans with 81 variables on each loan, including loan amount, borrower rate (or interest rate), current loan status, borrower income, and many others.\n",
    "For this project I only chose to work with 19 variable that I felt were directly aligned with the question i was looking to find answers for. Among them as below\n",
    "\n",
    ">- **Term**,  - The length of the loan expressed in months.\n",
    ">- **LoanStatus**  - The current status of the loan: Cancelled,  Chargedoff, Completed, Current, Defaulted, FinalPaymentInProgress, PastDue.\n",
    ">- **BorrowerRate** - The Borrower's interest rate for this loan. \n",
    ">- **IncomeRange** - The income range of the borrower at the time the listing was created.\n",
    ">- **IsBorrowerHomeowne**r -A Borrower will be classified as a homowner if they have a mortgage on their credit profile or provide  documentation confirming they are a homeowner.\n",
    ">- **ProsperRating (Alpha)** - The Prosper Rating assigned at the time the listing was created between AA - HR.  Applicable for loans originated after July 2009.\n",
    ">- **ListingCategory (numeric)** - The category of the listing that the borrower selected when posting their listing: 0 - Not Available, 1 - Debt Consolidation, 2 - Home Improvement, 3 - Business, 4 - Personal Loan, 5 - Student Use, 6 - Auto, 7- Other, 8 \n",
    ">- **Baby&Adoption,** 9 - Boat, 10 - Cosmetic Procedure, 11 - Engagement Ring, 12 - Green Loans, 13 - Household Expenses, 14 - Large Purchases, 15 - Medical/Dental, 16 - Motorcycle, 17 - RV, 18 - Taxes, 19 - Vacation, 20 - Wedding Loans\n",
    ">- **BorrowerState** - The two letter abbreviation of the state of the address of the borrower at the time the Listing was created.\n",
    ">- **EmploymentStatus** - The employment status of the borrower at the time they posted the listing.\n",
    ">- **EmploymentStatusDuration** - The length in months of the employment status at the time the listing was created.\n",
    ">- **DelinquenciesLast7Years** - Number of delinquencies in the past 7 years at the time the credit profile was pulled.\n",
    ">- **MonthlyLoanPayment** - The scheduled monthly loan payment.\n",
    ">- **StatedMonthlyIncome** - The monthly income the borrower stated at the time the listing was created.\n",
    ">- **TotalProsperLoans** - Number of Prosper loans the borrower at the time they created this listing. This value will be null if the borrower had no prior loans. \n",
    ">- **LoanOriginalAmount** - The origination amount of the loan.\n",
    ">- **LoanOriginationDate** - The date the loan was originated.\n",
    ">- **Recommendations** - Number of recommendations the borrower had at the time the listing was created.\n",
    "The data set can be found through the url 'https://s3.amazonaws.com/udacity-hosted-downloads/ud651/prosperLoanData.csv'"
   ]
  },
  {
   "cell_type": "code",
   "execution_count": 8,
   "metadata": {
    "slideshow": {
     "slide_type": "skip"
    }
   },
   "outputs": [],
   "source": [
    "# import all packages and set plots to be embedded inline\n",
    "import numpy as np\n",
    "import pandas as pd\n",
    "import matplotlib.pyplot as plt\n",
    "import seaborn as sb\n",
    "import requests\n",
    "import calendar, datetime as dt\n",
    "from pylab import rcParams\n",
    "%matplotlib inline\n",
    "\n",
    "# suppress warnings from final output\n",
    "import warnings\n",
    "warnings.simplefilter(\"ignore\")"
   ]
  },
  {
   "cell_type": "code",
   "execution_count": 9,
   "metadata": {
    "slideshow": {
     "slide_type": "skip"
    }
   },
   "outputs": [
    {
     "data": {
      "text/html": [
       "<div>\n",
       "<style scoped>\n",
       "    .dataframe tbody tr th:only-of-type {\n",
       "        vertical-align: middle;\n",
       "    }\n",
       "\n",
       "    .dataframe tbody tr th {\n",
       "        vertical-align: top;\n",
       "    }\n",
       "\n",
       "    .dataframe thead th {\n",
       "        text-align: right;\n",
       "    }\n",
       "</style>\n",
       "<table border=\"1\" class=\"dataframe\">\n",
       "  <thead>\n",
       "    <tr style=\"text-align: right;\">\n",
       "      <th></th>\n",
       "      <th>ListingKey</th>\n",
       "      <th>ListingNumber</th>\n",
       "      <th>ListingCreationDate</th>\n",
       "      <th>CreditGrade</th>\n",
       "      <th>Term</th>\n",
       "      <th>LoanStatus</th>\n",
       "      <th>ClosedDate</th>\n",
       "      <th>BorrowerAPR</th>\n",
       "      <th>BorrowerRate</th>\n",
       "      <th>LenderYield</th>\n",
       "      <th>...</th>\n",
       "      <th>LP_ServiceFees</th>\n",
       "      <th>LP_CollectionFees</th>\n",
       "      <th>LP_GrossPrincipalLoss</th>\n",
       "      <th>LP_NetPrincipalLoss</th>\n",
       "      <th>LP_NonPrincipalRecoverypayments</th>\n",
       "      <th>PercentFunded</th>\n",
       "      <th>Recommendations</th>\n",
       "      <th>InvestmentFromFriendsCount</th>\n",
       "      <th>InvestmentFromFriendsAmount</th>\n",
       "      <th>Investors</th>\n",
       "    </tr>\n",
       "  </thead>\n",
       "  <tbody>\n",
       "    <tr>\n",
       "      <th>0</th>\n",
       "      <td>1021339766868145413AB3B</td>\n",
       "      <td>193129</td>\n",
       "      <td>2007-08-26 19:09:29.263000000</td>\n",
       "      <td>C</td>\n",
       "      <td>36</td>\n",
       "      <td>Completed</td>\n",
       "      <td>2009-08-14 00:00:00</td>\n",
       "      <td>0.16516</td>\n",
       "      <td>0.158</td>\n",
       "      <td>0.138</td>\n",
       "      <td>...</td>\n",
       "      <td>-133.18</td>\n",
       "      <td>0.0</td>\n",
       "      <td>0.0</td>\n",
       "      <td>0.0</td>\n",
       "      <td>0.0</td>\n",
       "      <td>1.0</td>\n",
       "      <td>0</td>\n",
       "      <td>0</td>\n",
       "      <td>0.0</td>\n",
       "      <td>258</td>\n",
       "    </tr>\n",
       "    <tr>\n",
       "      <th>1</th>\n",
       "      <td>10273602499503308B223C1</td>\n",
       "      <td>1209647</td>\n",
       "      <td>2014-02-27 08:28:07.900000000</td>\n",
       "      <td>NaN</td>\n",
       "      <td>36</td>\n",
       "      <td>Current</td>\n",
       "      <td>NaN</td>\n",
       "      <td>0.12016</td>\n",
       "      <td>0.092</td>\n",
       "      <td>0.082</td>\n",
       "      <td>...</td>\n",
       "      <td>0.00</td>\n",
       "      <td>0.0</td>\n",
       "      <td>0.0</td>\n",
       "      <td>0.0</td>\n",
       "      <td>0.0</td>\n",
       "      <td>1.0</td>\n",
       "      <td>0</td>\n",
       "      <td>0</td>\n",
       "      <td>0.0</td>\n",
       "      <td>1</td>\n",
       "    </tr>\n",
       "  </tbody>\n",
       "</table>\n",
       "<p>2 rows × 81 columns</p>\n",
       "</div>"
      ],
      "text/plain": [
       "                ListingKey  ListingNumber            ListingCreationDate  \\\n",
       "0  1021339766868145413AB3B         193129  2007-08-26 19:09:29.263000000   \n",
       "1  10273602499503308B223C1        1209647  2014-02-27 08:28:07.900000000   \n",
       "\n",
       "  CreditGrade  Term LoanStatus           ClosedDate  BorrowerAPR  \\\n",
       "0           C    36  Completed  2009-08-14 00:00:00      0.16516   \n",
       "1         NaN    36    Current                  NaN      0.12016   \n",
       "\n",
       "   BorrowerRate  LenderYield    ...     LP_ServiceFees  LP_CollectionFees  \\\n",
       "0         0.158        0.138    ...            -133.18                0.0   \n",
       "1         0.092        0.082    ...               0.00                0.0   \n",
       "\n",
       "   LP_GrossPrincipalLoss  LP_NetPrincipalLoss LP_NonPrincipalRecoverypayments  \\\n",
       "0                    0.0                  0.0                             0.0   \n",
       "1                    0.0                  0.0                             0.0   \n",
       "\n",
       "   PercentFunded  Recommendations InvestmentFromFriendsCount  \\\n",
       "0            1.0                0                          0   \n",
       "1            1.0                0                          0   \n",
       "\n",
       "  InvestmentFromFriendsAmount Investors  \n",
       "0                         0.0       258  \n",
       "1                         0.0         1  \n",
       "\n",
       "[2 rows x 81 columns]"
      ]
     },
     "execution_count": 9,
     "metadata": {},
     "output_type": "execute_result"
    }
   ],
   "source": [
    "# load in the dataset into a pandas dataframe\n",
    "loan_data = pd.read_csv('prosperLoanData.csv')\n",
    "loan_data.head(2)"
   ]
  },
  {
   "cell_type": "code",
   "execution_count": 10,
   "metadata": {
    "slideshow": {
     "slide_type": "skip"
    }
   },
   "outputs": [
    {
     "data": {
      "text/html": [
       "<div>\n",
       "<style scoped>\n",
       "    .dataframe tbody tr th:only-of-type {\n",
       "        vertical-align: middle;\n",
       "    }\n",
       "\n",
       "    .dataframe tbody tr th {\n",
       "        vertical-align: top;\n",
       "    }\n",
       "\n",
       "    .dataframe thead th {\n",
       "        text-align: right;\n",
       "    }\n",
       "</style>\n",
       "<table border=\"1\" class=\"dataframe\">\n",
       "  <thead>\n",
       "    <tr style=\"text-align: right;\">\n",
       "      <th></th>\n",
       "      <th>MemberKey</th>\n",
       "      <th>Term</th>\n",
       "      <th>LoanStatus</th>\n",
       "      <th>BorrowerRate</th>\n",
       "      <th>IncomeRange</th>\n",
       "      <th>IsBorrowerHomeowner</th>\n",
       "      <th>ProsperRating (Alpha)</th>\n",
       "      <th>ListingCategory (numeric)</th>\n",
       "      <th>BorrowerState</th>\n",
       "      <th>EmploymentStatus</th>\n",
       "      <th>EmploymentStatusDuration</th>\n",
       "      <th>DelinquenciesLast7Years</th>\n",
       "      <th>MonthlyLoanPayment</th>\n",
       "      <th>StatedMonthlyIncome</th>\n",
       "      <th>TotalProsperLoans</th>\n",
       "      <th>LoanOriginalAmount</th>\n",
       "      <th>LoanOriginationDate</th>\n",
       "      <th>Recommendations</th>\n",
       "    </tr>\n",
       "  </thead>\n",
       "  <tbody>\n",
       "    <tr>\n",
       "      <th>0</th>\n",
       "      <td>1F3E3376408759268057EDA</td>\n",
       "      <td>36</td>\n",
       "      <td>Completed</td>\n",
       "      <td>0.158</td>\n",
       "      <td>$25,000-49,999</td>\n",
       "      <td>True</td>\n",
       "      <td>NaN</td>\n",
       "      <td>0</td>\n",
       "      <td>CO</td>\n",
       "      <td>Self-employed</td>\n",
       "      <td>2.0</td>\n",
       "      <td>4.0</td>\n",
       "      <td>330.43</td>\n",
       "      <td>3083.333333</td>\n",
       "      <td>NaN</td>\n",
       "      <td>9425</td>\n",
       "      <td>2007-09-12 00:00:00</td>\n",
       "      <td>0</td>\n",
       "    </tr>\n",
       "    <tr>\n",
       "      <th>1</th>\n",
       "      <td>1D13370546739025387B2F4</td>\n",
       "      <td>36</td>\n",
       "      <td>Current</td>\n",
       "      <td>0.092</td>\n",
       "      <td>$50,000-74,999</td>\n",
       "      <td>False</td>\n",
       "      <td>A</td>\n",
       "      <td>2</td>\n",
       "      <td>CO</td>\n",
       "      <td>Employed</td>\n",
       "      <td>44.0</td>\n",
       "      <td>0.0</td>\n",
       "      <td>318.93</td>\n",
       "      <td>6125.000000</td>\n",
       "      <td>NaN</td>\n",
       "      <td>10000</td>\n",
       "      <td>2014-03-03 00:00:00</td>\n",
       "      <td>0</td>\n",
       "    </tr>\n",
       "  </tbody>\n",
       "</table>\n",
       "</div>"
      ],
      "text/plain": [
       "                 MemberKey  Term LoanStatus  BorrowerRate     IncomeRange  \\\n",
       "0  1F3E3376408759268057EDA    36  Completed         0.158  $25,000-49,999   \n",
       "1  1D13370546739025387B2F4    36    Current         0.092  $50,000-74,999   \n",
       "\n",
       "   IsBorrowerHomeowner ProsperRating (Alpha)  ListingCategory (numeric)  \\\n",
       "0                 True                   NaN                          0   \n",
       "1                False                     A                          2   \n",
       "\n",
       "  BorrowerState EmploymentStatus  EmploymentStatusDuration  \\\n",
       "0            CO    Self-employed                       2.0   \n",
       "1            CO         Employed                      44.0   \n",
       "\n",
       "   DelinquenciesLast7Years  MonthlyLoanPayment  StatedMonthlyIncome  \\\n",
       "0                      4.0              330.43          3083.333333   \n",
       "1                      0.0              318.93          6125.000000   \n",
       "\n",
       "   TotalProsperLoans  LoanOriginalAmount  LoanOriginationDate  Recommendations  \n",
       "0                NaN                9425  2007-09-12 00:00:00                0  \n",
       "1                NaN               10000  2014-03-03 00:00:00                0  "
      ]
     },
     "execution_count": 10,
     "metadata": {},
     "output_type": "execute_result"
    }
   ],
   "source": [
    "columns = ['MemberKey','Term','LoanStatus','BorrowerRate','IncomeRange','IsBorrowerHomeowner','ProsperRating (Alpha)','ListingCategory (numeric)','BorrowerState','EmploymentStatus',\n",
    "           'EmploymentStatusDuration','DelinquenciesLast7Years','MonthlyLoanPayment','StatedMonthlyIncome','TotalProsperLoans', 'LoanOriginalAmount',\n",
    "    'LoanOriginationDate','Recommendations']\n",
    "\n",
    "loans = loan_data[columns]\n",
    "loans.head(2)"
   ]
  },
  {
   "cell_type": "code",
   "execution_count": 11,
   "metadata": {
    "slideshow": {
     "slide_type": "skip"
    }
   },
   "outputs": [
    {
     "data": {
      "text/plain": [
       "Index(['MemberKey', 'Term', 'LoanStatus', 'BorrowerRate', 'IncomeRange',\n",
       "       'IsBorrowerHomeowner', 'ProsperRating (Alpha)',\n",
       "       'ListingCategory (Alpha)', 'BorrowerState', 'EmploymentStatus',\n",
       "       'EmploymentStatusDuration', 'DelinquenciesLast7Years',\n",
       "       'MonthlyLoanPayment', 'StatedMonthlyIncome', 'TotalProsperLoans',\n",
       "       'LoanOriginalAmount', 'LoanOriginationDate', 'Recommendations'],\n",
       "      dtype='object')"
      ]
     },
     "execution_count": 11,
     "metadata": {},
     "output_type": "execute_result"
    }
   ],
   "source": [
    "#Change LoanOriginationDate to datetime\n",
    "loans['LoanOriginationDate'] = pd.to_datetime(loans['LoanOriginationDate'])\n",
    "\n",
    "#From the information given, the prosperrating only uses data from listing in 2009, we will have to discard rows prior to 2009\n",
    "loans = loans.dropna(subset=['ProsperRating (Alpha)'])\n",
    "\n",
    "#Convert listing category from numeric to alpha\n",
    "loans['ListingCategory (numeric)'] = loans['ListingCategory (numeric)'].replace([0,1,2,3,4,5,6 ,7, 8, 9, 10, 11 , 12, 13, 14, 15, 16, 17, 18, 19, 20],['Not Available','Debt Consolidation','Home Improvement','Business','Personal Loan','Student Use','Auto','Other','Baby&Adoption','Boat','Cosmetic Procedure','Engagement Ring','Green Loans','Household Expenses','Large Purchases','Medical/Dental','Motorcycle','RV','Taxes','Vacation','Wedding Loans'])\n",
    "#Rename ListingCategory (numeric) to ListingCatogory (Alpha)\n",
    "loans.rename(columns={'ListingCategory (numeric)':'ListingCategory (Alpha)'}, inplace=True)\n",
    "loans.columns"
   ]
  },
  {
   "cell_type": "markdown",
   "metadata": {
    "slideshow": {
     "slide_type": "notes"
    }
   },
   "source": [
    "> Note that the above cells have been set as \"Skip\"-type slides. That means\n",
    "that when the notebook is rendered as http slides, those cells won't show up."
   ]
  },
  {
   "cell_type": "markdown",
   "metadata": {
    "slideshow": {
     "slide_type": "slide"
    }
   },
   "source": [
    "## Distribution of loan statuses among the borrowers\n",
    "\n",
    "As we can see the majority are currently servicing their loans folllowed by those who have completed The past due are classified by days duration range and the one with 120 days due hs the smallest population"
   ]
  },
  {
   "cell_type": "code",
   "execution_count": 12,
   "metadata": {
    "slideshow": {
     "slide_type": "subslide"
    }
   },
   "outputs": [
    {
     "data": {
      "image/png": "[encoded data removed]",
      "text/plain": [
       "<matplotlib.figure.Figure at 0x7f68e42ee3c8>"
      ]
     },
     "metadata": {
      "needs_background": "light"
     },
     "output_type": "display_data"
    }
   ],
   "source": [
    "def loanStatus():\n",
    "    color = sb.color_palette()[0]\n",
    "    rcParams['figure.figsize'] = 10,5.5\n",
    "    status_counts = loans['LoanStatus'].value_counts()\n",
    "    status_sum = loans['LoanStatus'].value_counts().sum()\n",
    "    plt.title('Distribution of loan statuses')\n",
    "    freq = status_counts.index\n",
    "    plt.xticks(rotation=90)\n",
    "    sb.countplot(data=loans, x='LoanStatus', color=color,order=freq);\n",
    "loanStatus()"
   ]
  },
  {
   "cell_type": "markdown",
   "metadata": {
    "collapsed": true,
    "slideshow": {
     "slide_type": "slide"
    }
   },
   "source": [
    "## The distibution of defaulted and completed against Emplyement status\n",
    "The goal was to get statistics with respect to status of emplyment around dafalted and completed loans.\n",
    "\n",
    "There are 19664 completed loans while those defalted is 6341\n",
    "\n",
    "it was considental that most who defalted and completed their loans were the employed"
   ]
  },
  {
   "cell_type": "code",
   "execution_count": 13,
   "metadata": {
    "slideshow": {
     "slide_type": "subslide"
    }
   },
   "outputs": [
    {
     "data": {
      "image/png": "[encoded data removed]",
      "text/plain": [
       "<matplotlib.figure.Figure at 0x7f691a00d278>"
      ]
     },
     "metadata": {
      "needs_background": "light"
     },
     "output_type": "display_data"
    }
   ],
   "source": [
    "#fucntion to calculate the number of completed and defalated borrowers\n",
    "completed_defalted = (loans['LoanStatus'] == 'Completed') | (loans['LoanStatus'] == 'Defaulted') | (loans['LoanStatus'] == 'Chargedoff')\n",
    "loans = loans[completed_defalted]\n",
    "\n",
    "def confirm_defaulted(row):\n",
    "    if row['LoanStatus'] == 'Chargedoff':\n",
    "        return 'Defaulted'\n",
    "    else:\n",
    "        return row['LoanStatus']\n",
    "    \n",
    "loans['LoanStatus'] = loans.apply(confirm_defaulted, axis=1)\n",
    "loans['LoanStatus'].value_counts()\n",
    "\n",
    "def loan_status_on_employ():\n",
    "    sb.countplot(data = loans, x = 'LoanStatus', hue = 'EmploymentStatus',orient='v');\n",
    "    plt.title('Defaulted and Completed Loan statuses against Employment status')\n",
    "    plt.xticks(rotation=90)\n",
    "loan_status_on_employ()"
   ]
  },
  {
   "cell_type": "markdown",
   "metadata": {
    "slideshow": {
     "slide_type": "slide"
    }
   },
   "source": [
    "## The distribution of completed and defaulted loans agaiinst prosperity rating Alpha\n",
    "\n",
    "As it can be seen that its clear that the most rating of the dfaulted loans is D while the mosting ratingamong the Completed loasn is D as well\n"
   ]
  },
  {
   "cell_type": "code",
   "execution_count": 14,
   "metadata": {
    "slideshow": {
     "slide_type": "subslide"
    }
   },
   "outputs": [
    {
     "data": {
      "image/png": "[encoded data removed]",
      "text/plain": [
       "<matplotlib.figure.Figure at 0x7f68e42e92b0>"
      ]
     },
     "metadata": {
      "needs_background": "light"
     },
     "output_type": "display_data"
    }
   ],
   "source": [
    "sb.countplot(data = loans, x = 'LoanStatus', hue = 'ProsperRating (Alpha)', palette = 'Blues');\n",
    "plt.title('The distibution of defaulted and completed loans againt the respective proserity rating');"
   ]
  },
  {
   "cell_type": "markdown",
   "metadata": {
    "slideshow": {
     "slide_type": "slide"
    }
   },
   "source": [
    "## The distribution of interest rates for defaulted and completed loans\n",
    "\n",
    "It is also clear that those who defaulted on their loans had high intreret rates on their loans while those who complated has low rates on their loans\n"
   ]
  },
  {
   "cell_type": "code",
   "execution_count": 15,
   "metadata": {
    "slideshow": {
     "slide_type": "subslide"
    }
   },
   "outputs": [
    {
     "data": {
      "image/png": "[encoded data removed]",
      "text/plain": [
       "<matplotlib.figure.Figure at 0x7f68e314c828>"
      ]
     },
     "metadata": {
      "needs_background": "light"
     },
     "output_type": "display_data"
    }
   ],
   "source": [
    "# plots the lineplot to analyze defaulted and completed loan status  rate over years\n",
    "loans['Year'] = loans['LoanOriginationDate'].dt.year\n",
    "loans['Month'] = loans['LoanOriginationDate'].dt.month\n",
    "loans.head(2)\n",
    "plt.figure(figsize=(10,10))\n",
    "plt.title('Distribution of Borrowing rate across 2009 to 2014 with respect to Income range')\n",
    "g=sb.pointplot(data=loans, x='Year', y='BorrowerRate', hue='LoanStatus',ci=None);"
   ]
  },
  {
   "cell_type": "markdown",
   "metadata": {
    "slideshow": {
     "slide_type": "skip"
    }
   },
   "source": [
    "### Generate Slideshow\n",
    " "
   ]
  },
  {
   "cell_type": "code",
   "execution_count": null,
   "metadata": {
    "slideshow": {
     "slide_type": "skip"
    }
   },
   "outputs": [
    {
     "name": "stdout",
     "output_type": "stream",
     "text": [
      "[NbConvertApp] Converting notebook Part_II_Prosper_Loan_slide_deck.ipynb to slides\n",
      "[NbConvertApp] Writing 397385 bytes to Part_II_Prosper_Loan_slide_deck.slides.html\n",
      "[NbConvertApp] Redirecting reveal.js requests to https://cdnjs.cloudflare.com/ajax/libs/reveal.js/3.5.0\n",
      "Serving your slides at http://127.0.0.1:8000/Part_II_Prosper_Loan_slide_deck.slides.html\n",
      "Use Control-C to stop this server\n",
      "/usr/bin/xdg-open: 778: /usr/bin/xdg-open: x-www-browser: not found\n",
      "/usr/bin/xdg-open: 778: /usr/bin/xdg-open: firefox: not found\n",
      "/usr/bin/xdg-open: 778: /usr/bin/xdg-open: iceweasel: not found\n",
      "/usr/bin/xdg-open: 778: /usr/bin/xdg-open: seamonkey: not found\n",
      "/usr/bin/xdg-open: 778: /usr/bin/xdg-open: mozilla: not found\n",
      "/usr/bin/xdg-open: 778: /usr/bin/xdg-open: epiphany: not found\n",
      "/usr/bin/xdg-open: 778: /usr/bin/xdg-open: konqueror: not found\n",
      "/usr/bin/xdg-open: 778: /usr/bin/xdg-open: chromium-browser: not found\n",
      "/usr/bin/xdg-open: 778: /usr/bin/xdg-open: google-chrome: not found\n",
      "/usr/bin/xdg-open: 778: /usr/bin/xdg-open: www-browser: not found\n",
      "/usr/bin/xdg-open: 778: /usr/bin/xdg-open: links2: not found\n",
      "/usr/bin/xdg-open: 778: /usr/bin/xdg-open: elinks: not found\n",
      "/usr/bin/xdg-open: 778: /usr/bin/xdg-open: links: not found\n",
      "/usr/bin/xdg-open: 778: /usr/bin/xdg-open: lynx: not found\n",
      "/usr/bin/xdg-open: 778: /usr/bin/xdg-open: w3m: not found\n",
      "xdg-open: no method available for opening 'http://127.0.0.1:8000/Part_II_Prosper_Loan_slide_deck.slides.html'\n"
     ]
    }
   ],
   "source": [
    "# Use this command if you are running this file in local\n",
    "!jupyter nbconvert Part_II_Prosper_Loan_slide_deck.ipynb --to slides --post serve --no-input --no-prompt"
   ]
  },
  {
   "cell_type": "code",
   "execution_count": null,
   "metadata": {},
   "outputs": [],
   "source": []
  }
 ],
 "metadata": {
  "celltoolbar": "Slideshow",
  "kernelspec": {
   "display_name": "Python 3",
   "language": "python",
   "name": "python3"
  },
  "language_info": {
   "codemirror_mode": {
    "name": "ipython",
    "version": 3
   },
   "file_extension": ".py",
   "mimetype": "text/x-python",
   "name": "python",
   "nbconvert_exporter": "python",
   "pygments_lexer": "ipython3",
   "version": "3.6.3"
  }
 },
 "nbformat": 4,
 "nbformat_minor": 2
}
